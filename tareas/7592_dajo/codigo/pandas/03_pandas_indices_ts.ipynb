{
  "cells": [
    {
      "cell_type": "markdown",
      "metadata": {
        "colab_type": "text",
        "id": "view-in-github"
      },
      "source": [
        "<a href=\"https://colab.research.google.com/github/sonder-art/fdd_prim_2023/blob/main/codigo/pandas/pandas_4_indices_ts.ipynb\" target=\"_parent\"><img src=\"https://colab.research.google.com/assets/colab-badge.svg\" alt=\"Open In Colab\"/></a>"
      ]
    },
    {
      "cell_type": "code",
      "execution_count": 2,
      "metadata": {
        "id": "_Q-cPP-K5eko"
      },
      "outputs": [],
      "source": [
        "import pandas as pd\n",
        "import numpy as np"
      ]
    },
    {
      "cell_type": "markdown",
      "metadata": {
        "id": "yAPT4sta5lGu"
      },
      "source": [
        "# Index"
      ]
    },
    {
      "cell_type": "markdown",
      "metadata": {
        "id": "ltVaeGQp53vP"
      },
      "source": [
        "## Creacion y manipulacion"
      ]
    },
    {
      "cell_type": "markdown",
      "metadata": {
        "id": "txsGSxBD6BiU"
      },
      "source": [
        "### Creacion de un índice"
      ]
    },
    {
      "cell_type": "code",
      "execution_count": 2,
      "metadata": {
        "colab": {
          "base_uri": "https://localhost:8080/"
        },
        "id": "BbJ6AlP95rE4",
        "outputId": "26580fcd-ebc4-47ea-a35d-52abaa9c019a"
      },
      "outputs": [
        {
          "data": {
            "text/plain": [
              "RangeIndex(start=0, stop=5, step=1)"
            ]
          },
          "execution_count": 2,
          "metadata": {},
          "output_type": "execute_result"
        }
      ],
      "source": [
        "# Crear un índice a partir de una lista\n",
        "indices = pd.Index(['A', 'B', 'C', 'D', 'E'])\n",
        "\n",
        "# Crear un índice a partir de un rango\n",
        "indices = pd.RangeIndex(start=0, stop=5, step=1)\n",
        "\n",
        "indices"
      ]
    },
    {
      "cell_type": "code",
      "execution_count": 3,
      "metadata": {
        "colab": {
          "base_uri": "https://localhost:8080/"
        },
        "id": "BrLSL7NO50Cx",
        "outputId": "a7b7e6ac-8e02-4de7-995f-19afd2f9e259"
      },
      "outputs": [
        {
          "data": {
            "text/plain": [
              "Int64Index([10, 20, 30, 40, 50], dtype='int64')"
            ]
          },
          "execution_count": 3,
          "metadata": {},
          "output_type": "execute_result"
        }
      ],
      "source": [
        "# Crear un índice a partir de un array NumPy\n",
        "array = np.array([10, 20, 30, 40, 50])\n",
        "indices = pd.Index(array)\n",
        "indices"
      ]
    },
    {
      "cell_type": "markdown",
      "metadata": {
        "id": "Bro5Qr8Y6EXA"
      },
      "source": [
        "### Acceder a elementos de un indice"
      ]
    },
    {
      "cell_type": "code",
      "execution_count": 4,
      "metadata": {
        "colab": {
          "base_uri": "https://localhost:8080/"
        },
        "id": "PikrRg675xoN",
        "outputId": "0d8eca9b-71b2-4283-dc88-c8060b8ba547"
      },
      "outputs": [
        {
          "name": "stdout",
          "output_type": "stream",
          "text": [
            "A\n",
            "Index(['B', 'C', 'D'], dtype='object')\n"
          ]
        }
      ],
      "source": [
        "# Crear un índice\n",
        "indices = pd.Index(['A', 'B', 'C', 'D', 'E'])\n",
        "\n",
        "# Acceder al primer elemento\n",
        "print(indices[0])\n",
        "\n",
        "# Acceder a un rango de elementos\n",
        "print(indices[1:4])"
      ]
    },
    {
      "cell_type": "markdown",
      "metadata": {
        "id": "ToQW-on-6LbO"
      },
      "source": [
        "### Combinar índices"
      ]
    },
    {
      "cell_type": "code",
      "execution_count": 5,
      "metadata": {
        "colab": {
          "base_uri": "https://localhost:8080/"
        },
        "id": "sAFv_Seu5_Jv",
        "outputId": "f5d16ba6-367a-4a67-8f6b-d13527914727"
      },
      "outputs": [
        {
          "data": {
            "text/plain": [
              "Index(['A', 'B', 'C', 'D', 'E', 'F'], dtype='object')"
            ]
          },
          "execution_count": 5,
          "metadata": {},
          "output_type": "execute_result"
        }
      ],
      "source": [
        "# Crear dos índices\n",
        "indices1 = pd.Index(['A', 'B', 'C'])\n",
        "indices2 = pd.Index(['D', 'E', 'F'])\n",
        "\n",
        "# Combinar los dos índices\n",
        "indices = indices1.append(indices2)\n",
        "\n",
        "# Otra forma de combinar los dos índices\n",
        "indices = pd.Index(['A', 'B', 'C', 'D', 'E', 'F'])\n",
        "indices"
      ]
    },
    {
      "cell_type": "markdown",
      "metadata": {
        "id": "8ATB31s86Q6F"
      },
      "source": [
        "## Funcionalidades Avanzadas"
      ]
    },
    {
      "cell_type": "markdown",
      "metadata": {
        "id": "dsoekA0X7bAr"
      },
      "source": [
        "### Union e interseccion"
      ]
    },
    {
      "cell_type": "code",
      "execution_count": 6,
      "metadata": {
        "colab": {
          "base_uri": "https://localhost:8080/"
        },
        "id": "3BG8pU3o7Voq",
        "outputId": "859a4dc5-0365-4120-be34-8175e5cbc519"
      },
      "outputs": [
        {
          "name": "stdout",
          "output_type": "stream",
          "text": [
            "Index(['C', 'D', 'E'], dtype='object')\n",
            "Index(['A', 'B', 'C', 'D', 'E', 'F', 'G'], dtype='object')\n",
            "Index(['A', 'B', 'F', 'G'], dtype='object')\n"
          ]
        }
      ],
      "source": [
        "# Crear dos índices\n",
        "indices1 = pd.Index(['A', 'B', 'C', 'D', 'E'])\n",
        "indices2 = pd.Index(['C', 'D', 'E', 'F', 'G'])\n",
        "\n",
        "# Intersección de los dos índices\n",
        "print(indices1.intersection(indices2))\n",
        "\n",
        "# Unión de los dos índices\n",
        "print(indices1.union(indices2))\n",
        "\n",
        "# Diferencia simétrica de los dos índices\n",
        "print(indices1.symmetric_difference(indices2))"
      ]
    },
    {
      "cell_type": "markdown",
      "metadata": {
        "id": "NQbPs0za7fdv"
      },
      "source": [
        "## Silice booleano"
      ]
    },
    {
      "cell_type": "code",
      "execution_count": 8,
      "metadata": {
        "colab": {
          "base_uri": "https://localhost:8080/"
        },
        "id": "TXkwt2bO7eE2",
        "outputId": "421f43df-60a3-4c7a-9fef-f4a299456fbc"
      },
      "outputs": [
        {
          "name": "stdout",
          "output_type": "stream",
          "text": [
            "[False  True False  True False]\n",
            "[ True  True]\n"
          ]
        }
      ],
      "source": [
        "# Crear un índice\n",
        "indices = pd.Index(['A', 'B', 'C', 'D', 'E'])\n",
        "\n",
        "# Crear una serie booleana a partir del índice\n",
        "serie_booleana = indices.isin(['B', 'D', 'F'])\n",
        "print(serie_booleana)\n",
        "# Seleccionar los elementos de la serie que son verdaderos\n",
        "print(serie_booleana[serie_booleana == True])"
      ]
    },
    {
      "cell_type": "markdown",
      "metadata": {
        "id": "kM5bmxWr7k2j"
      },
      "source": [
        "### Ordenacion"
      ]
    },
    {
      "cell_type": "code",
      "execution_count": 9,
      "metadata": {
        "colab": {
          "base_uri": "https://localhost:8080/"
        },
        "id": "HfE3fMBO7nzp",
        "outputId": "92713822-17b4-4105-d282-6056ec0d7b69"
      },
      "outputs": [
        {
          "data": {
            "text/plain": [
              "Index(['A', 'B', 'C', 'D', 'E'], dtype='object')"
            ]
          },
          "execution_count": 9,
          "metadata": {},
          "output_type": "execute_result"
        }
      ],
      "source": [
        "# Crear un índice\n",
        "indices = pd.Index(['B', 'A', 'C', 'E', 'D'])\n",
        "\n",
        "# Ordenar el índice de forma ascendente\n",
        "indices_ordenados = indices.sort_values()\n",
        "indices_ordenados\n"
      ]
    },
    {
      "cell_type": "code",
      "execution_count": 10,
      "metadata": {
        "colab": {
          "base_uri": "https://localhost:8080/"
        },
        "id": "tJjfD_xb7qcR",
        "outputId": "5455575b-6562-48c7-e3c5-eca1265e486f"
      },
      "outputs": [
        {
          "data": {
            "text/plain": [
              "Index(['E', 'D', 'C', 'B', 'A'], dtype='object')"
            ]
          },
          "execution_count": 10,
          "metadata": {},
          "output_type": "execute_result"
        }
      ],
      "source": [
        "# Ordenar el índice de forma descendente\n",
        "indices_ordenados = indices.sort_values(ascending=False)\n",
        "indices_ordenados"
      ]
    },
    {
      "cell_type": "markdown",
      "metadata": {
        "id": "gwlqrMNk7FAw"
      },
      "source": [
        "## Funciones avanzadas en DataFrame"
      ]
    },
    {
      "cell_type": "markdown",
      "metadata": {
        "id": "YiTtKyFO7xHM"
      },
      "source": [
        "### Idexiacion booleana"
      ]
    },
    {
      "cell_type": "markdown",
      "metadata": {
        "id": "EYdo5ImB6zK2"
      },
      "source": [
        "### Reindexacion"
      ]
    },
    {
      "cell_type": "code",
      "execution_count": 15,
      "metadata": {
        "colab": {
          "base_uri": "https://localhost:8080/",
          "height": 206
        },
        "id": "3LXw0Iml62rt",
        "outputId": "de31b125-f722-4beb-b658-44cebc34f20f"
      },
      "outputs": [
        {
          "data": {
            "text/html": [
              "<div>\n",
              "<style scoped>\n",
              "    .dataframe tbody tr th:only-of-type {\n",
              "        vertical-align: middle;\n",
              "    }\n",
              "\n",
              "    .dataframe tbody tr th {\n",
              "        vertical-align: top;\n",
              "    }\n",
              "\n",
              "    .dataframe thead th {\n",
              "        text-align: right;\n",
              "    }\n",
              "</style>\n",
              "<table border=\"1\" class=\"dataframe\">\n",
              "  <thead>\n",
              "    <tr style=\"text-align: right;\">\n",
              "      <th></th>\n",
              "      <th>Columna1</th>\n",
              "    </tr>\n",
              "  </thead>\n",
              "  <tbody>\n",
              "    <tr>\n",
              "      <th>A</th>\n",
              "      <td>1</td>\n",
              "    </tr>\n",
              "    <tr>\n",
              "      <th>B</th>\n",
              "      <td>2</td>\n",
              "    </tr>\n",
              "    <tr>\n",
              "      <th>C</th>\n",
              "      <td>3</td>\n",
              "    </tr>\n",
              "    <tr>\n",
              "      <th>D</th>\n",
              "      <td>4</td>\n",
              "    </tr>\n",
              "    <tr>\n",
              "      <th>E</th>\n",
              "      <td>5</td>\n",
              "    </tr>\n",
              "  </tbody>\n",
              "</table>\n",
              "</div>"
            ],
            "text/plain": [
              "   Columna1\n",
              "A         1\n",
              "B         2\n",
              "C         3\n",
              "D         4\n",
              "E         5"
            ]
          },
          "execution_count": 15,
          "metadata": {},
          "output_type": "execute_result"
        }
      ],
      "source": [
        "# Crear un índice\n",
        "indices = pd.Index(['A', 'B', 'C', 'D', 'E'])\n",
        "\n",
        "# Crear un DataFrame con el índice\n",
        "datos = {'Columna1': [1, 2, 3, 4, 5]}\n",
        "df = pd.DataFrame(data=datos, index=indices)\n",
        "df\n"
      ]
    },
    {
      "cell_type": "code",
      "execution_count": 16,
      "metadata": {
        "colab": {
          "base_uri": "https://localhost:8080/",
          "height": 237
        },
        "id": "4rPMjTBI65Ut",
        "outputId": "23c59570-fb15-44e2-a2c0-fac8ab75a8cf"
      },
      "outputs": [
        {
          "name": "stdout",
          "output_type": "stream",
          "text": [
            "   Columna1\n",
            "A         1\n",
            "B         2\n",
            "C         3\n",
            "D         4\n",
            "E         5\n"
          ]
        },
        {
          "data": {
            "text/html": [
              "<div>\n",
              "<style scoped>\n",
              "    .dataframe tbody tr th:only-of-type {\n",
              "        vertical-align: middle;\n",
              "    }\n",
              "\n",
              "    .dataframe tbody tr th {\n",
              "        vertical-align: top;\n",
              "    }\n",
              "\n",
              "    .dataframe thead th {\n",
              "        text-align: right;\n",
              "    }\n",
              "</style>\n",
              "<table border=\"1\" class=\"dataframe\">\n",
              "  <thead>\n",
              "    <tr style=\"text-align: right;\">\n",
              "      <th></th>\n",
              "      <th>Columna1</th>\n",
              "    </tr>\n",
              "  </thead>\n",
              "  <tbody>\n",
              "    <tr>\n",
              "      <th>A</th>\n",
              "      <td>1</td>\n",
              "    </tr>\n",
              "    <tr>\n",
              "      <th>BB</th>\n",
              "      <td>0</td>\n",
              "    </tr>\n",
              "    <tr>\n",
              "      <th>CC</th>\n",
              "      <td>0</td>\n",
              "    </tr>\n",
              "    <tr>\n",
              "      <th>D</th>\n",
              "      <td>4</td>\n",
              "    </tr>\n",
              "    <tr>\n",
              "      <th>E</th>\n",
              "      <td>5</td>\n",
              "    </tr>\n",
              "    <tr>\n",
              "      <th>F</th>\n",
              "      <td>0</td>\n",
              "    </tr>\n",
              "  </tbody>\n",
              "</table>\n",
              "</div>"
            ],
            "text/plain": [
              "    Columna1\n",
              "A          1\n",
              "BB         0\n",
              "CC         0\n",
              "D          4\n",
              "E          5\n",
              "F          0"
            ]
          },
          "execution_count": 16,
          "metadata": {},
          "output_type": "execute_result"
        }
      ],
      "source": [
        "# Reindexar el DataFrame con un nuevo índice\n",
        "print(df)\n",
        "nuevo_indices = pd.Index(['A', 'BB', 'CC', 'D', 'E', 'F'])\n",
        "df = df.reindex(index=nuevo_indices, fill_value=0)\n",
        "df"
      ]
    },
    {
      "cell_type": "markdown",
      "metadata": {
        "id": "yi4IVTbT8BYQ"
      },
      "source": [
        "### Creacion con indice"
      ]
    },
    {
      "cell_type": "code",
      "execution_count": 18,
      "metadata": {
        "colab": {
          "base_uri": "https://localhost:8080/"
        },
        "id": "PcJNeZhW8E1k",
        "outputId": "aebb876c-a400-4eea-f1b1-a42bcfb05ce0"
      },
      "outputs": [
        {
          "name": "stdout",
          "output_type": "stream",
          "text": [
            "   Columna1 Columna2\n",
            "A         1        a\n",
            "B         2        b\n",
            "C         3        c\n",
            "D         4        d\n",
            "E         5        e\n"
          ]
        }
      ],
      "source": [
        "# Crear un índice personalizado\n",
        "indices = pd.Index(['A', 'B', 'C', 'D', 'E'])\n",
        "\n",
        "# Crear un DataFrame con el índice personalizado\n",
        "datos = {'Columna1': [1, 2, 3, 4, 5], 'Columna2': ['a', 'b', 'c', 'd', 'e']}\n",
        "df = pd.DataFrame(data=datos, index=indices)\n",
        "\n",
        "print(df)"
      ]
    },
    {
      "cell_type": "markdown",
      "metadata": {
        "id": "MXF7v7cH8Ixp"
      },
      "source": [
        "### Seleccion con indices"
      ]
    },
    {
      "cell_type": "code",
      "execution_count": 19,
      "metadata": {
        "colab": {
          "base_uri": "https://localhost:8080/",
          "height": 206
        },
        "id": "NvHpx3N98MXV",
        "outputId": "d19bd88a-55b0-4a16-c685-3dd3ae9f334e"
      },
      "outputs": [
        {
          "data": {
            "text/html": [
              "<div>\n",
              "<style scoped>\n",
              "    .dataframe tbody tr th:only-of-type {\n",
              "        vertical-align: middle;\n",
              "    }\n",
              "\n",
              "    .dataframe tbody tr th {\n",
              "        vertical-align: top;\n",
              "    }\n",
              "\n",
              "    .dataframe thead th {\n",
              "        text-align: right;\n",
              "    }\n",
              "</style>\n",
              "<table border=\"1\" class=\"dataframe\">\n",
              "  <thead>\n",
              "    <tr style=\"text-align: right;\">\n",
              "      <th></th>\n",
              "      <th>Columna1</th>\n",
              "      <th>Columna2</th>\n",
              "    </tr>\n",
              "  </thead>\n",
              "  <tbody>\n",
              "    <tr>\n",
              "      <th>0</th>\n",
              "      <td>1</td>\n",
              "      <td>a</td>\n",
              "    </tr>\n",
              "    <tr>\n",
              "      <th>1</th>\n",
              "      <td>2</td>\n",
              "      <td>b</td>\n",
              "    </tr>\n",
              "    <tr>\n",
              "      <th>2</th>\n",
              "      <td>3</td>\n",
              "      <td>c</td>\n",
              "    </tr>\n",
              "    <tr>\n",
              "      <th>3</th>\n",
              "      <td>4</td>\n",
              "      <td>d</td>\n",
              "    </tr>\n",
              "    <tr>\n",
              "      <th>4</th>\n",
              "      <td>5</td>\n",
              "      <td>e</td>\n",
              "    </tr>\n",
              "  </tbody>\n",
              "</table>\n",
              "</div>"
            ],
            "text/plain": [
              "   Columna1 Columna2\n",
              "0         1        a\n",
              "1         2        b\n",
              "2         3        c\n",
              "3         4        d\n",
              "4         5        e"
            ]
          },
          "execution_count": 19,
          "metadata": {},
          "output_type": "execute_result"
        }
      ],
      "source": [
        "# Crear un DataFrame\n",
        "datos = {'Columna1': [1, 2, 3, 4, 5], 'Columna2': ['a', 'b', 'c', 'd', 'e']}\n",
        "df = pd.DataFrame(data=datos)\n",
        "df"
      ]
    },
    {
      "cell_type": "code",
      "execution_count": 20,
      "metadata": {
        "colab": {
          "base_uri": "https://localhost:8080/",
          "height": 195
        },
        "id": "ibkihjQB8rQX",
        "outputId": "63c11207-5ab3-4612-d0e9-cb6c21e0e275"
      },
      "outputs": [
        {
          "name": "stdout",
          "output_type": "stream",
          "text": [
            "Columna1    3\n",
            "Columna2    c\n",
            "Name: 2, dtype: object\n"
          ]
        },
        {
          "data": {
            "text/html": [
              "<div>\n",
              "<style scoped>\n",
              "    .dataframe tbody tr th:only-of-type {\n",
              "        vertical-align: middle;\n",
              "    }\n",
              "\n",
              "    .dataframe tbody tr th {\n",
              "        vertical-align: top;\n",
              "    }\n",
              "\n",
              "    .dataframe thead th {\n",
              "        text-align: right;\n",
              "    }\n",
              "</style>\n",
              "<table border=\"1\" class=\"dataframe\">\n",
              "  <thead>\n",
              "    <tr style=\"text-align: right;\">\n",
              "      <th></th>\n",
              "      <th>Columna1</th>\n",
              "      <th>Columna2</th>\n",
              "    </tr>\n",
              "  </thead>\n",
              "  <tbody>\n",
              "    <tr>\n",
              "      <th>2</th>\n",
              "      <td>3</td>\n",
              "      <td>c</td>\n",
              "    </tr>\n",
              "    <tr>\n",
              "      <th>3</th>\n",
              "      <td>4</td>\n",
              "      <td>d</td>\n",
              "    </tr>\n",
              "    <tr>\n",
              "      <th>4</th>\n",
              "      <td>5</td>\n",
              "      <td>e</td>\n",
              "    </tr>\n",
              "  </tbody>\n",
              "</table>\n",
              "</div>"
            ],
            "text/plain": [
              "   Columna1 Columna2\n",
              "2         3        c\n",
              "3         4        d\n",
              "4         5        e"
            ]
          },
          "execution_count": 20,
          "metadata": {},
          "output_type": "execute_result"
        }
      ],
      "source": [
        "# Seleccionar la fila con índice 2\n",
        "print(df.loc[2])\n",
        "\n",
        "# Seleccionar las filas con índices del 2 al 4\n",
        "df.loc[2:4]"
      ]
    },
    {
      "cell_type": "code",
      "execution_count": 21,
      "metadata": {
        "colab": {
          "base_uri": "https://localhost:8080/"
        },
        "id": "QOk6Rx848yCt",
        "outputId": "250b3a52-776c-4db1-edde-aa4ec05d2896"
      },
      "outputs": [
        {
          "name": "stdout",
          "output_type": "stream",
          "text": [
            "0    1\n",
            "1    2\n",
            "2    3\n",
            "3    4\n",
            "4    5\n",
            "Name: Columna1, dtype: int64\n"
          ]
        }
      ],
      "source": [
        "# Seleccionar la columna con etiqueta 'Columna1'\n",
        "print(df['Columna1'])"
      ]
    },
    {
      "cell_type": "code",
      "execution_count": 22,
      "metadata": {
        "colab": {
          "base_uri": "https://localhost:8080/",
          "height": 206
        },
        "id": "e4v5pWON82xK",
        "outputId": "1a172700-56de-426c-d590-d645732030a7"
      },
      "outputs": [
        {
          "data": {
            "text/html": [
              "<div>\n",
              "<style scoped>\n",
              "    .dataframe tbody tr th:only-of-type {\n",
              "        vertical-align: middle;\n",
              "    }\n",
              "\n",
              "    .dataframe tbody tr th {\n",
              "        vertical-align: top;\n",
              "    }\n",
              "\n",
              "    .dataframe thead th {\n",
              "        text-align: right;\n",
              "    }\n",
              "</style>\n",
              "<table border=\"1\" class=\"dataframe\">\n",
              "  <thead>\n",
              "    <tr style=\"text-align: right;\">\n",
              "      <th></th>\n",
              "      <th>Columna1</th>\n",
              "      <th>Columna2</th>\n",
              "    </tr>\n",
              "  </thead>\n",
              "  <tbody>\n",
              "    <tr>\n",
              "      <th>0</th>\n",
              "      <td>1</td>\n",
              "      <td>a</td>\n",
              "    </tr>\n",
              "    <tr>\n",
              "      <th>1</th>\n",
              "      <td>2</td>\n",
              "      <td>b</td>\n",
              "    </tr>\n",
              "    <tr>\n",
              "      <th>2</th>\n",
              "      <td>3</td>\n",
              "      <td>c</td>\n",
              "    </tr>\n",
              "    <tr>\n",
              "      <th>3</th>\n",
              "      <td>4</td>\n",
              "      <td>d</td>\n",
              "    </tr>\n",
              "    <tr>\n",
              "      <th>4</th>\n",
              "      <td>5</td>\n",
              "      <td>e</td>\n",
              "    </tr>\n",
              "  </tbody>\n",
              "</table>\n",
              "</div>"
            ],
            "text/plain": [
              "   Columna1 Columna2\n",
              "0         1        a\n",
              "1         2        b\n",
              "2         3        c\n",
              "3         4        d\n",
              "4         5        e"
            ]
          },
          "execution_count": 22,
          "metadata": {},
          "output_type": "execute_result"
        }
      ],
      "source": [
        "# Seleccionar las columnas con etiquetas 'Columna1' y 'Columna2'\n",
        "df[['Columna1', 'Columna2']]"
      ]
    },
    {
      "cell_type": "code",
      "execution_count": 23,
      "metadata": {
        "colab": {
          "base_uri": "https://localhost:8080/",
          "height": 206
        },
        "id": "zHeKm7-u8ZnU",
        "outputId": "9a51b2be-75a6-46b3-93fb-9cc6ffa1f8d4"
      },
      "outputs": [
        {
          "data": {
            "text/html": [
              "<div>\n",
              "<style scoped>\n",
              "    .dataframe tbody tr th:only-of-type {\n",
              "        vertical-align: middle;\n",
              "    }\n",
              "\n",
              "    .dataframe tbody tr th {\n",
              "        vertical-align: top;\n",
              "    }\n",
              "\n",
              "    .dataframe thead th {\n",
              "        text-align: right;\n",
              "    }\n",
              "</style>\n",
              "<table border=\"1\" class=\"dataframe\">\n",
              "  <thead>\n",
              "    <tr style=\"text-align: right;\">\n",
              "      <th></th>\n",
              "      <th>Columna1</th>\n",
              "      <th>Columna2</th>\n",
              "    </tr>\n",
              "  </thead>\n",
              "  <tbody>\n",
              "    <tr>\n",
              "      <th>A</th>\n",
              "      <td>1</td>\n",
              "      <td>a</td>\n",
              "    </tr>\n",
              "    <tr>\n",
              "      <th>B</th>\n",
              "      <td>2</td>\n",
              "      <td>b</td>\n",
              "    </tr>\n",
              "    <tr>\n",
              "      <th>C</th>\n",
              "      <td>3</td>\n",
              "      <td>c</td>\n",
              "    </tr>\n",
              "    <tr>\n",
              "      <th>D</th>\n",
              "      <td>4</td>\n",
              "      <td>d</td>\n",
              "    </tr>\n",
              "    <tr>\n",
              "      <th>E</th>\n",
              "      <td>5</td>\n",
              "      <td>e</td>\n",
              "    </tr>\n",
              "  </tbody>\n",
              "</table>\n",
              "</div>"
            ],
            "text/plain": [
              "   Columna1 Columna2\n",
              "A         1        a\n",
              "B         2        b\n",
              "C         3        c\n",
              "D         4        d\n",
              "E         5        e"
            ]
          },
          "execution_count": 23,
          "metadata": {},
          "output_type": "execute_result"
        }
      ],
      "source": [
        "# Crear un índice personalizado\n",
        "indices = pd.Index(['A', 'B', 'C', 'D', 'E'])\n",
        "\n",
        "# Crear un DataFrame con el índice personalizado\n",
        "datos = {'Columna1': [1, 2, 3, 4, 5], 'Columna2': ['a', 'b', 'c', 'd', 'e']}\n",
        "df = pd.DataFrame(data=datos, index=indices)\n",
        "df"
      ]
    },
    {
      "cell_type": "code",
      "execution_count": 25,
      "metadata": {
        "colab": {
          "base_uri": "https://localhost:8080/"
        },
        "id": "iaggpQAG86tu",
        "outputId": "454e3b47-5c05-4bba-a7c1-a4dda44b1234"
      },
      "outputs": [
        {
          "data": {
            "text/html": [
              "<div>\n",
              "<style scoped>\n",
              "    .dataframe tbody tr th:only-of-type {\n",
              "        vertical-align: middle;\n",
              "    }\n",
              "\n",
              "    .dataframe tbody tr th {\n",
              "        vertical-align: top;\n",
              "    }\n",
              "\n",
              "    .dataframe thead th {\n",
              "        text-align: right;\n",
              "    }\n",
              "</style>\n",
              "<table border=\"1\" class=\"dataframe\">\n",
              "  <thead>\n",
              "    <tr style=\"text-align: right;\">\n",
              "      <th></th>\n",
              "      <th>Columna1</th>\n",
              "      <th>Columna2</th>\n",
              "    </tr>\n",
              "  </thead>\n",
              "  <tbody>\n",
              "    <tr>\n",
              "      <th>A</th>\n",
              "      <td>1</td>\n",
              "      <td>a</td>\n",
              "    </tr>\n",
              "  </tbody>\n",
              "</table>\n",
              "</div>"
            ],
            "text/plain": [
              "   Columna1 Columna2\n",
              "A         1        a"
            ]
          },
          "execution_count": 25,
          "metadata": {},
          "output_type": "execute_result"
        }
      ],
      "source": [
        "# Seleccionar la fila con índice 2\n",
        "df.loc[['A']]"
      ]
    },
    {
      "cell_type": "code",
      "execution_count": null,
      "metadata": {
        "colab": {
          "base_uri": "https://localhost:8080/",
          "height": 112
        },
        "id": "SK-TiwW189xf",
        "outputId": "da00a964-3f72-49c4-9efd-6cb311af9a5e"
      },
      "outputs": [
        {
          "data": {
            "text/html": [
              "\n",
              "  <div id=\"df-82ba4853-ae63-49fd-bb21-476426ef8f52\">\n",
              "    <div class=\"colab-df-container\">\n",
              "      <div>\n",
              "<style scoped>\n",
              "    .dataframe tbody tr th:only-of-type {\n",
              "        vertical-align: middle;\n",
              "    }\n",
              "\n",
              "    .dataframe tbody tr th {\n",
              "        vertical-align: top;\n",
              "    }\n",
              "\n",
              "    .dataframe thead th {\n",
              "        text-align: right;\n",
              "    }\n",
              "</style>\n",
              "<table border=\"1\" class=\"dataframe\">\n",
              "  <thead>\n",
              "    <tr style=\"text-align: right;\">\n",
              "      <th></th>\n",
              "      <th>Columna1</th>\n",
              "      <th>Columna2</th>\n",
              "    </tr>\n",
              "  </thead>\n",
              "  <tbody>\n",
              "    <tr>\n",
              "      <th>A</th>\n",
              "      <td>1</td>\n",
              "      <td>a</td>\n",
              "    </tr>\n",
              "    <tr>\n",
              "      <th>D</th>\n",
              "      <td>4</td>\n",
              "      <td>d</td>\n",
              "    </tr>\n",
              "  </tbody>\n",
              "</table>\n",
              "</div>\n",
              "      <button class=\"colab-df-convert\" onclick=\"convertToInteractive('df-82ba4853-ae63-49fd-bb21-476426ef8f52')\"\n",
              "              title=\"Convert this dataframe to an interactive table.\"\n",
              "              style=\"display:none;\">\n",
              "        \n",
              "  <svg xmlns=\"http://www.w3.org/2000/svg\" height=\"24px\"viewBox=\"0 0 24 24\"\n",
              "       width=\"24px\">\n",
              "    <path d=\"M0 0h24v24H0V0z\" fill=\"none\"/>\n",
              "    <path d=\"M18.56 5.44l.94 2.06.94-2.06 2.06-.94-2.06-.94-.94-2.06-.94 2.06-2.06.94zm-11 1L8.5 8.5l.94-2.06 2.06-.94-2.06-.94L8.5 2.5l-.94 2.06-2.06.94zm10 10l.94 2.06.94-2.06 2.06-.94-2.06-.94-.94-2.06-.94 2.06-2.06.94z\"/><path d=\"M17.41 7.96l-1.37-1.37c-.4-.4-.92-.59-1.43-.59-.52 0-1.04.2-1.43.59L10.3 9.45l-7.72 7.72c-.78.78-.78 2.05 0 2.83L4 21.41c.39.39.9.59 1.41.59.51 0 1.02-.2 1.41-.59l7.78-7.78 2.81-2.81c.8-.78.8-2.07 0-2.86zM5.41 20L4 18.59l7.72-7.72 1.47 1.35L5.41 20z\"/>\n",
              "  </svg>\n",
              "      </button>\n",
              "      \n",
              "  <style>\n",
              "    .colab-df-container {\n",
              "      display:flex;\n",
              "      flex-wrap:wrap;\n",
              "      gap: 12px;\n",
              "    }\n",
              "\n",
              "    .colab-df-convert {\n",
              "      background-color: #E8F0FE;\n",
              "      border: none;\n",
              "      border-radius: 50%;\n",
              "      cursor: pointer;\n",
              "      display: none;\n",
              "      fill: #1967D2;\n",
              "      height: 32px;\n",
              "      padding: 0 0 0 0;\n",
              "      width: 32px;\n",
              "    }\n",
              "\n",
              "    .colab-df-convert:hover {\n",
              "      background-color: #E2EBFA;\n",
              "      box-shadow: 0px 1px 2px rgba(60, 64, 67, 0.3), 0px 1px 3px 1px rgba(60, 64, 67, 0.15);\n",
              "      fill: #174EA6;\n",
              "    }\n",
              "\n",
              "    [theme=dark] .colab-df-convert {\n",
              "      background-color: #3B4455;\n",
              "      fill: #D2E3FC;\n",
              "    }\n",
              "\n",
              "    [theme=dark] .colab-df-convert:hover {\n",
              "      background-color: #434B5C;\n",
              "      box-shadow: 0px 1px 3px 1px rgba(0, 0, 0, 0.15);\n",
              "      filter: drop-shadow(0px 1px 2px rgba(0, 0, 0, 0.3));\n",
              "      fill: #FFFFFF;\n",
              "    }\n",
              "  </style>\n",
              "\n",
              "      <script>\n",
              "        const buttonEl =\n",
              "          document.querySelector('#df-82ba4853-ae63-49fd-bb21-476426ef8f52 button.colab-df-convert');\n",
              "        buttonEl.style.display =\n",
              "          google.colab.kernel.accessAllowed ? 'block' : 'none';\n",
              "\n",
              "        async function convertToInteractive(key) {\n",
              "          const element = document.querySelector('#df-82ba4853-ae63-49fd-bb21-476426ef8f52');\n",
              "          const dataTable =\n",
              "            await google.colab.kernel.invokeFunction('convertToInteractive',\n",
              "                                                     [key], {});\n",
              "          if (!dataTable) return;\n",
              "\n",
              "          const docLinkHtml = 'Like what you see? Visit the ' +\n",
              "            '<a target=\"_blank\" href=https://colab.research.google.com/notebooks/data_table.ipynb>data table notebook</a>'\n",
              "            + ' to learn more about interactive tables.';\n",
              "          element.innerHTML = '';\n",
              "          dataTable['output_type'] = 'display_data';\n",
              "          await google.colab.output.renderOutput(dataTable, element);\n",
              "          const docLink = document.createElement('div');\n",
              "          docLink.innerHTML = docLinkHtml;\n",
              "          element.appendChild(docLink);\n",
              "        }\n",
              "      </script>\n",
              "    </div>\n",
              "  </div>\n",
              "  "
            ],
            "text/plain": [
              "   Columna1 Columna2\n",
              "A         1        a\n",
              "D         4        d"
            ]
          },
          "execution_count": 36,
          "metadata": {},
          "output_type": "execute_result"
        }
      ],
      "source": [
        "# Seleccionar las filas con índices del 2 al 4\n",
        "df.loc[['A', 'D']]"
      ]
    },
    {
      "cell_type": "code",
      "execution_count": 26,
      "metadata": {
        "colab": {
          "base_uri": "https://localhost:8080/"
        },
        "id": "lDrap9219AHq",
        "outputId": "25d0dd73-3168-4abe-f3a4-b71696e332b3"
      },
      "outputs": [
        {
          "data": {
            "text/plain": [
              "1"
            ]
          },
          "execution_count": 26,
          "metadata": {},
          "output_type": "execute_result"
        }
      ],
      "source": [
        "# Seleccionar la columna con etiqueta 'Columna1'\n",
        "df.loc['A','Columna1']"
      ]
    },
    {
      "cell_type": "code",
      "execution_count": 27,
      "metadata": {
        "colab": {
          "base_uri": "https://localhost:8080/",
          "height": 331
        },
        "id": "9I5C90Nu9COO",
        "outputId": "0910094a-088b-4ab6-d9b2-0c947cd17ada"
      },
      "outputs": [
        {
          "ename": "KeyError",
          "evalue": "\"None of [Index(['Columna1', 'Columna2'], dtype='object')] are in the [index]\"",
          "output_type": "error",
          "traceback": [
            "\u001b[0;31m---------------------------------------------------------------------------\u001b[0m",
            "\u001b[0;31mKeyError\u001b[0m                                  Traceback (most recent call last)",
            "Cell \u001b[0;32mIn[27], line 2\u001b[0m\n\u001b[1;32m      1\u001b[0m \u001b[39m# Seleccionar las columnas con etiquetas 'Columna1' y 'Columna2'\u001b[39;00m\n\u001b[0;32m----> 2\u001b[0m df\u001b[39m.\u001b[39;49mloc[[\u001b[39m'\u001b[39;49m\u001b[39mColumna1\u001b[39;49m\u001b[39m'\u001b[39;49m, \u001b[39m'\u001b[39;49m\u001b[39mColumna2\u001b[39;49m\u001b[39m'\u001b[39;49m]]\n",
            "File \u001b[0;32m~/.local/lib/python3.10/site-packages/pandas/core/indexing.py:967\u001b[0m, in \u001b[0;36m_LocationIndexer.__getitem__\u001b[0;34m(self, key)\u001b[0m\n\u001b[1;32m    964\u001b[0m axis \u001b[39m=\u001b[39m \u001b[39mself\u001b[39m\u001b[39m.\u001b[39maxis \u001b[39mor\u001b[39;00m \u001b[39m0\u001b[39m\n\u001b[1;32m    966\u001b[0m maybe_callable \u001b[39m=\u001b[39m com\u001b[39m.\u001b[39mapply_if_callable(key, \u001b[39mself\u001b[39m\u001b[39m.\u001b[39mobj)\n\u001b[0;32m--> 967\u001b[0m \u001b[39mreturn\u001b[39;00m \u001b[39mself\u001b[39;49m\u001b[39m.\u001b[39;49m_getitem_axis(maybe_callable, axis\u001b[39m=\u001b[39;49maxis)\n",
            "File \u001b[0;32m~/.local/lib/python3.10/site-packages/pandas/core/indexing.py:1191\u001b[0m, in \u001b[0;36m_LocIndexer._getitem_axis\u001b[0;34m(self, key, axis)\u001b[0m\n\u001b[1;32m   1188\u001b[0m     \u001b[39mif\u001b[39;00m \u001b[39mhasattr\u001b[39m(key, \u001b[39m\"\u001b[39m\u001b[39mndim\u001b[39m\u001b[39m\"\u001b[39m) \u001b[39mand\u001b[39;00m key\u001b[39m.\u001b[39mndim \u001b[39m>\u001b[39m \u001b[39m1\u001b[39m:\n\u001b[1;32m   1189\u001b[0m         \u001b[39mraise\u001b[39;00m \u001b[39mValueError\u001b[39;00m(\u001b[39m\"\u001b[39m\u001b[39mCannot index with multidimensional key\u001b[39m\u001b[39m\"\u001b[39m)\n\u001b[0;32m-> 1191\u001b[0m     \u001b[39mreturn\u001b[39;00m \u001b[39mself\u001b[39;49m\u001b[39m.\u001b[39;49m_getitem_iterable(key, axis\u001b[39m=\u001b[39;49maxis)\n\u001b[1;32m   1193\u001b[0m \u001b[39m# nested tuple slicing\u001b[39;00m\n\u001b[1;32m   1194\u001b[0m \u001b[39mif\u001b[39;00m is_nested_tuple(key, labels):\n",
            "File \u001b[0;32m~/.local/lib/python3.10/site-packages/pandas/core/indexing.py:1132\u001b[0m, in \u001b[0;36m_LocIndexer._getitem_iterable\u001b[0;34m(self, key, axis)\u001b[0m\n\u001b[1;32m   1129\u001b[0m \u001b[39mself\u001b[39m\u001b[39m.\u001b[39m_validate_key(key, axis)\n\u001b[1;32m   1131\u001b[0m \u001b[39m# A collection of keys\u001b[39;00m\n\u001b[0;32m-> 1132\u001b[0m keyarr, indexer \u001b[39m=\u001b[39m \u001b[39mself\u001b[39;49m\u001b[39m.\u001b[39;49m_get_listlike_indexer(key, axis)\n\u001b[1;32m   1133\u001b[0m \u001b[39mreturn\u001b[39;00m \u001b[39mself\u001b[39m\u001b[39m.\u001b[39mobj\u001b[39m.\u001b[39m_reindex_with_indexers(\n\u001b[1;32m   1134\u001b[0m     {axis: [keyarr, indexer]}, copy\u001b[39m=\u001b[39m\u001b[39mTrue\u001b[39;00m, allow_dups\u001b[39m=\u001b[39m\u001b[39mTrue\u001b[39;00m\n\u001b[1;32m   1135\u001b[0m )\n",
            "File \u001b[0;32m~/.local/lib/python3.10/site-packages/pandas/core/indexing.py:1327\u001b[0m, in \u001b[0;36m_LocIndexer._get_listlike_indexer\u001b[0;34m(self, key, axis)\u001b[0m\n\u001b[1;32m   1324\u001b[0m ax \u001b[39m=\u001b[39m \u001b[39mself\u001b[39m\u001b[39m.\u001b[39mobj\u001b[39m.\u001b[39m_get_axis(axis)\n\u001b[1;32m   1325\u001b[0m axis_name \u001b[39m=\u001b[39m \u001b[39mself\u001b[39m\u001b[39m.\u001b[39mobj\u001b[39m.\u001b[39m_get_axis_name(axis)\n\u001b[0;32m-> 1327\u001b[0m keyarr, indexer \u001b[39m=\u001b[39m ax\u001b[39m.\u001b[39;49m_get_indexer_strict(key, axis_name)\n\u001b[1;32m   1329\u001b[0m \u001b[39mreturn\u001b[39;00m keyarr, indexer\n",
            "File \u001b[0;32m~/.local/lib/python3.10/site-packages/pandas/core/indexes/base.py:5782\u001b[0m, in \u001b[0;36mIndex._get_indexer_strict\u001b[0;34m(self, key, axis_name)\u001b[0m\n\u001b[1;32m   5779\u001b[0m \u001b[39melse\u001b[39;00m:\n\u001b[1;32m   5780\u001b[0m     keyarr, indexer, new_indexer \u001b[39m=\u001b[39m \u001b[39mself\u001b[39m\u001b[39m.\u001b[39m_reindex_non_unique(keyarr)\n\u001b[0;32m-> 5782\u001b[0m \u001b[39mself\u001b[39;49m\u001b[39m.\u001b[39;49m_raise_if_missing(keyarr, indexer, axis_name)\n\u001b[1;32m   5784\u001b[0m keyarr \u001b[39m=\u001b[39m \u001b[39mself\u001b[39m\u001b[39m.\u001b[39mtake(indexer)\n\u001b[1;32m   5785\u001b[0m \u001b[39mif\u001b[39;00m \u001b[39misinstance\u001b[39m(key, Index):\n\u001b[1;32m   5786\u001b[0m     \u001b[39m# GH 42790 - Preserve name from an Index\u001b[39;00m\n",
            "File \u001b[0;32m~/.local/lib/python3.10/site-packages/pandas/core/indexes/base.py:5842\u001b[0m, in \u001b[0;36mIndex._raise_if_missing\u001b[0;34m(self, key, indexer, axis_name)\u001b[0m\n\u001b[1;32m   5840\u001b[0m     \u001b[39mif\u001b[39;00m use_interval_msg:\n\u001b[1;32m   5841\u001b[0m         key \u001b[39m=\u001b[39m \u001b[39mlist\u001b[39m(key)\n\u001b[0;32m-> 5842\u001b[0m     \u001b[39mraise\u001b[39;00m \u001b[39mKeyError\u001b[39;00m(\u001b[39mf\u001b[39m\u001b[39m\"\u001b[39m\u001b[39mNone of [\u001b[39m\u001b[39m{\u001b[39;00mkey\u001b[39m}\u001b[39;00m\u001b[39m] are in the [\u001b[39m\u001b[39m{\u001b[39;00maxis_name\u001b[39m}\u001b[39;00m\u001b[39m]\u001b[39m\u001b[39m\"\u001b[39m)\n\u001b[1;32m   5844\u001b[0m not_found \u001b[39m=\u001b[39m \u001b[39mlist\u001b[39m(ensure_index(key)[missing_mask\u001b[39m.\u001b[39mnonzero()[\u001b[39m0\u001b[39m]]\u001b[39m.\u001b[39munique())\n\u001b[1;32m   5845\u001b[0m \u001b[39mraise\u001b[39;00m \u001b[39mKeyError\u001b[39;00m(\u001b[39mf\u001b[39m\u001b[39m\"\u001b[39m\u001b[39m{\u001b[39;00mnot_found\u001b[39m}\u001b[39;00m\u001b[39m not in index\u001b[39m\u001b[39m\"\u001b[39m)\n",
            "\u001b[0;31mKeyError\u001b[0m: \"None of [Index(['Columna1', 'Columna2'], dtype='object')] are in the [index]\""
          ]
        }
      ],
      "source": [
        "# Seleccionar las columnas con etiquetas 'Columna1' y 'Columna2'\n",
        "df.loc[['Columna1', 'Columna2']]"
      ]
    },
    {
      "cell_type": "code",
      "execution_count": 28,
      "metadata": {
        "colab": {
          "base_uri": "https://localhost:8080/",
          "height": 206
        },
        "id": "4ZoOhY2F9PvJ",
        "outputId": "c3ffafb2-257b-4436-8cc3-cf1abca45918"
      },
      "outputs": [
        {
          "data": {
            "text/html": [
              "<div>\n",
              "<style scoped>\n",
              "    .dataframe tbody tr th:only-of-type {\n",
              "        vertical-align: middle;\n",
              "    }\n",
              "\n",
              "    .dataframe tbody tr th {\n",
              "        vertical-align: top;\n",
              "    }\n",
              "\n",
              "    .dataframe thead th {\n",
              "        text-align: right;\n",
              "    }\n",
              "</style>\n",
              "<table border=\"1\" class=\"dataframe\">\n",
              "  <thead>\n",
              "    <tr style=\"text-align: right;\">\n",
              "      <th></th>\n",
              "      <th>Columna1</th>\n",
              "      <th>Columna2</th>\n",
              "    </tr>\n",
              "  </thead>\n",
              "  <tbody>\n",
              "    <tr>\n",
              "      <th>A</th>\n",
              "      <td>1</td>\n",
              "      <td>a</td>\n",
              "    </tr>\n",
              "    <tr>\n",
              "      <th>B</th>\n",
              "      <td>2</td>\n",
              "      <td>b</td>\n",
              "    </tr>\n",
              "    <tr>\n",
              "      <th>C</th>\n",
              "      <td>3</td>\n",
              "      <td>c</td>\n",
              "    </tr>\n",
              "    <tr>\n",
              "      <th>D</th>\n",
              "      <td>4</td>\n",
              "      <td>d</td>\n",
              "    </tr>\n",
              "    <tr>\n",
              "      <th>E</th>\n",
              "      <td>5</td>\n",
              "      <td>e</td>\n",
              "    </tr>\n",
              "  </tbody>\n",
              "</table>\n",
              "</div>"
            ],
            "text/plain": [
              "   Columna1 Columna2\n",
              "A         1        a\n",
              "B         2        b\n",
              "C         3        c\n",
              "D         4        d\n",
              "E         5        e"
            ]
          },
          "execution_count": 28,
          "metadata": {},
          "output_type": "execute_result"
        }
      ],
      "source": [
        "# Seleccionar las columnas con etiquetas 'Columna1' y 'Columna2'\n",
        "df.loc[:,['Columna1', 'Columna2']]"
      ]
    },
    {
      "cell_type": "markdown",
      "metadata": {
        "id": "pUCFcU_I9Ykb"
      },
      "source": [
        "### Asignacion de Valores con Indices"
      ]
    },
    {
      "cell_type": "code",
      "execution_count": 29,
      "metadata": {
        "colab": {
          "base_uri": "https://localhost:8080/",
          "height": 310
        },
        "id": "EjJ1XOHV9bbI",
        "outputId": "4620b9f9-33ef-40c4-e536-fd53948497ee"
      },
      "outputs": [
        {
          "name": "stdout",
          "output_type": "stream",
          "text": [
            "   Columna1 Columna2\n",
            "0         1        a\n",
            "1         2        b\n",
            "2         3        c\n",
            "3         4        d\n",
            "4         5        e\n"
          ]
        },
        {
          "data": {
            "text/html": [
              "<div>\n",
              "<style scoped>\n",
              "    .dataframe tbody tr th:only-of-type {\n",
              "        vertical-align: middle;\n",
              "    }\n",
              "\n",
              "    .dataframe tbody tr th {\n",
              "        vertical-align: top;\n",
              "    }\n",
              "\n",
              "    .dataframe thead th {\n",
              "        text-align: right;\n",
              "    }\n",
              "</style>\n",
              "<table border=\"1\" class=\"dataframe\">\n",
              "  <thead>\n",
              "    <tr style=\"text-align: right;\">\n",
              "      <th></th>\n",
              "      <th>Columna1</th>\n",
              "      <th>Columna2</th>\n",
              "    </tr>\n",
              "  </thead>\n",
              "  <tbody>\n",
              "    <tr>\n",
              "      <th>0</th>\n",
              "      <td>1</td>\n",
              "      <td>a</td>\n",
              "    </tr>\n",
              "    <tr>\n",
              "      <th>1</th>\n",
              "      <td>2</td>\n",
              "      <td>b</td>\n",
              "    </tr>\n",
              "    <tr>\n",
              "      <th>2</th>\n",
              "      <td>10</td>\n",
              "      <td>c</td>\n",
              "    </tr>\n",
              "    <tr>\n",
              "      <th>3</th>\n",
              "      <td>4</td>\n",
              "      <td>d</td>\n",
              "    </tr>\n",
              "    <tr>\n",
              "      <th>4</th>\n",
              "      <td>5</td>\n",
              "      <td>f</td>\n",
              "    </tr>\n",
              "  </tbody>\n",
              "</table>\n",
              "</div>"
            ],
            "text/plain": [
              "   Columna1 Columna2\n",
              "0         1        a\n",
              "1         2        b\n",
              "2        10        c\n",
              "3         4        d\n",
              "4         5        f"
            ]
          },
          "execution_count": 29,
          "metadata": {},
          "output_type": "execute_result"
        }
      ],
      "source": [
        "# Crear un DataFrame\n",
        "datos = {'Columna1': [1, 2, 3, 4, 5], 'Columna2': ['a', 'b', 'c', 'd', 'e']}\n",
        "df = pd.DataFrame(data=datos)\n",
        "print(df)\n",
        "# Asignar el valor 10 a la celda (2, 'Columna1')\n",
        "df.loc[2, 'Columna1'] = 10\n",
        "\n",
        "# Asignar el valor 'f' a la celda (4, 'Columna2')\n",
        "df.loc[4, 'Columna2'] = 'f'\n",
        "df"
      ]
    },
    {
      "cell_type": "markdown",
      "metadata": {
        "id": "dd4h26vw9j4M"
      },
      "source": [
        "### Eliminacion de filas y columnas"
      ]
    },
    {
      "cell_type": "code",
      "execution_count": 30,
      "metadata": {
        "colab": {
          "base_uri": "https://localhost:8080/",
          "height": 206
        },
        "id": "uCKwDhlH9pfq",
        "outputId": "11a55376-25f3-4c6c-c236-c99d0e905491"
      },
      "outputs": [
        {
          "data": {
            "text/html": [
              "<div>\n",
              "<style scoped>\n",
              "    .dataframe tbody tr th:only-of-type {\n",
              "        vertical-align: middle;\n",
              "    }\n",
              "\n",
              "    .dataframe tbody tr th {\n",
              "        vertical-align: top;\n",
              "    }\n",
              "\n",
              "    .dataframe thead th {\n",
              "        text-align: right;\n",
              "    }\n",
              "</style>\n",
              "<table border=\"1\" class=\"dataframe\">\n",
              "  <thead>\n",
              "    <tr style=\"text-align: right;\">\n",
              "      <th></th>\n",
              "      <th>Columna1</th>\n",
              "      <th>Columna2</th>\n",
              "    </tr>\n",
              "  </thead>\n",
              "  <tbody>\n",
              "    <tr>\n",
              "      <th>0</th>\n",
              "      <td>1</td>\n",
              "      <td>a</td>\n",
              "    </tr>\n",
              "    <tr>\n",
              "      <th>1</th>\n",
              "      <td>2</td>\n",
              "      <td>b</td>\n",
              "    </tr>\n",
              "    <tr>\n",
              "      <th>2</th>\n",
              "      <td>3</td>\n",
              "      <td>c</td>\n",
              "    </tr>\n",
              "    <tr>\n",
              "      <th>3</th>\n",
              "      <td>4</td>\n",
              "      <td>d</td>\n",
              "    </tr>\n",
              "    <tr>\n",
              "      <th>4</th>\n",
              "      <td>5</td>\n",
              "      <td>e</td>\n",
              "    </tr>\n",
              "  </tbody>\n",
              "</table>\n",
              "</div>"
            ],
            "text/plain": [
              "   Columna1 Columna2\n",
              "0         1        a\n",
              "1         2        b\n",
              "2         3        c\n",
              "3         4        d\n",
              "4         5        e"
            ]
          },
          "execution_count": 30,
          "metadata": {},
          "output_type": "execute_result"
        }
      ],
      "source": [
        "# Crear un DataFrame\n",
        "datos = {'Columna1': [1, 2, 3, 4, 5], 'Columna2': ['a', 'b', 'c', 'd', 'e']}\n",
        "df = pd.DataFrame(data=datos)\n",
        "df"
      ]
    },
    {
      "cell_type": "code",
      "execution_count": 32,
      "metadata": {
        "colab": {
          "base_uri": "https://localhost:8080/",
          "height": 174
        },
        "id": "aGocucKz9wbZ",
        "outputId": "f2e17e19-9925-483b-e491-a85b865fd5e7"
      },
      "outputs": [
        {
          "data": {
            "text/html": [
              "<div>\n",
              "<style scoped>\n",
              "    .dataframe tbody tr th:only-of-type {\n",
              "        vertical-align: middle;\n",
              "    }\n",
              "\n",
              "    .dataframe tbody tr th {\n",
              "        vertical-align: top;\n",
              "    }\n",
              "\n",
              "    .dataframe thead th {\n",
              "        text-align: right;\n",
              "    }\n",
              "</style>\n",
              "<table border=\"1\" class=\"dataframe\">\n",
              "  <thead>\n",
              "    <tr style=\"text-align: right;\">\n",
              "      <th></th>\n",
              "      <th>index</th>\n",
              "      <th>Columna1</th>\n",
              "      <th>Columna2</th>\n",
              "    </tr>\n",
              "  </thead>\n",
              "  <tbody>\n",
              "    <tr>\n",
              "      <th>0</th>\n",
              "      <td>0</td>\n",
              "      <td>1</td>\n",
              "      <td>a</td>\n",
              "    </tr>\n",
              "    <tr>\n",
              "      <th>1</th>\n",
              "      <td>1</td>\n",
              "      <td>2</td>\n",
              "      <td>b</td>\n",
              "    </tr>\n",
              "    <tr>\n",
              "      <th>2</th>\n",
              "      <td>3</td>\n",
              "      <td>4</td>\n",
              "      <td>d</td>\n",
              "    </tr>\n",
              "    <tr>\n",
              "      <th>3</th>\n",
              "      <td>4</td>\n",
              "      <td>5</td>\n",
              "      <td>e</td>\n",
              "    </tr>\n",
              "  </tbody>\n",
              "</table>\n",
              "</div>"
            ],
            "text/plain": [
              "   index  Columna1 Columna2\n",
              "0      0         1        a\n",
              "1      1         2        b\n",
              "2      3         4        d\n",
              "3      4         5        e"
            ]
          },
          "execution_count": 32,
          "metadata": {},
          "output_type": "execute_result"
        }
      ],
      "source": [
        "# Eliminar la fila con índice 2\n",
        "# Pueden agregar inplace=True o df=df.drop(2)\n",
        "df.drop(2).reset_index()"
      ]
    },
    {
      "cell_type": "code",
      "execution_count": 33,
      "metadata": {
        "colab": {
          "base_uri": "https://localhost:8080/",
          "height": 206
        },
        "id": "w3ySvLFl9-iA",
        "outputId": "0255ed41-70c5-4c85-b871-85529e44f103"
      },
      "outputs": [
        {
          "data": {
            "text/html": [
              "<div>\n",
              "<style scoped>\n",
              "    .dataframe tbody tr th:only-of-type {\n",
              "        vertical-align: middle;\n",
              "    }\n",
              "\n",
              "    .dataframe tbody tr th {\n",
              "        vertical-align: top;\n",
              "    }\n",
              "\n",
              "    .dataframe thead th {\n",
              "        text-align: right;\n",
              "    }\n",
              "</style>\n",
              "<table border=\"1\" class=\"dataframe\">\n",
              "  <thead>\n",
              "    <tr style=\"text-align: right;\">\n",
              "      <th></th>\n",
              "      <th>Columna1</th>\n",
              "    </tr>\n",
              "  </thead>\n",
              "  <tbody>\n",
              "    <tr>\n",
              "      <th>0</th>\n",
              "      <td>1</td>\n",
              "    </tr>\n",
              "    <tr>\n",
              "      <th>1</th>\n",
              "      <td>2</td>\n",
              "    </tr>\n",
              "    <tr>\n",
              "      <th>2</th>\n",
              "      <td>3</td>\n",
              "    </tr>\n",
              "    <tr>\n",
              "      <th>3</th>\n",
              "      <td>4</td>\n",
              "    </tr>\n",
              "    <tr>\n",
              "      <th>4</th>\n",
              "      <td>5</td>\n",
              "    </tr>\n",
              "  </tbody>\n",
              "</table>\n",
              "</div>"
            ],
            "text/plain": [
              "   Columna1\n",
              "0         1\n",
              "1         2\n",
              "2         3\n",
              "3         4\n",
              "4         5"
            ]
          },
          "execution_count": 33,
          "metadata": {},
          "output_type": "execute_result"
        }
      ],
      "source": [
        "# Eliminar la columna con etiqueta 'Columna2'\n",
        "df.drop('Columna2', axis=1)"
      ]
    },
    {
      "cell_type": "markdown",
      "metadata": {
        "id": "XLh2FTCz-snc"
      },
      "source": [
        "### Ordenacion"
      ]
    },
    {
      "cell_type": "code",
      "execution_count": 34,
      "metadata": {
        "colab": {
          "base_uri": "https://localhost:8080/",
          "height": 206
        },
        "id": "brskffON-uwE",
        "outputId": "ef990a11-83a8-47d0-bc5b-89624fbcb820"
      },
      "outputs": [
        {
          "data": {
            "text/html": [
              "<div>\n",
              "<style scoped>\n",
              "    .dataframe tbody tr th:only-of-type {\n",
              "        vertical-align: middle;\n",
              "    }\n",
              "\n",
              "    .dataframe tbody tr th {\n",
              "        vertical-align: top;\n",
              "    }\n",
              "\n",
              "    .dataframe thead th {\n",
              "        text-align: right;\n",
              "    }\n",
              "</style>\n",
              "<table border=\"1\" class=\"dataframe\">\n",
              "  <thead>\n",
              "    <tr style=\"text-align: right;\">\n",
              "      <th></th>\n",
              "      <th>Columna1</th>\n",
              "      <th>Columna2</th>\n",
              "    </tr>\n",
              "  </thead>\n",
              "  <tbody>\n",
              "    <tr>\n",
              "      <th>3</th>\n",
              "      <td>1</td>\n",
              "      <td>a</td>\n",
              "    </tr>\n",
              "    <tr>\n",
              "      <th>5</th>\n",
              "      <td>2</td>\n",
              "      <td>b</td>\n",
              "    </tr>\n",
              "    <tr>\n",
              "      <th>1</th>\n",
              "      <td>3</td>\n",
              "      <td>c</td>\n",
              "    </tr>\n",
              "    <tr>\n",
              "      <th>2</th>\n",
              "      <td>4</td>\n",
              "      <td>d</td>\n",
              "    </tr>\n",
              "    <tr>\n",
              "      <th>4</th>\n",
              "      <td>5</td>\n",
              "      <td>e</td>\n",
              "    </tr>\n",
              "  </tbody>\n",
              "</table>\n",
              "</div>"
            ],
            "text/plain": [
              "   Columna1 Columna2\n",
              "3         1        a\n",
              "5         2        b\n",
              "1         3        c\n",
              "2         4        d\n",
              "4         5        e"
            ]
          },
          "execution_count": 34,
          "metadata": {},
          "output_type": "execute_result"
        }
      ],
      "source": [
        "# Crear un DataFrame con un índice desordenado\n",
        "datos = {'Columna1': [1, 2, 3, 4, 5], 'Columna2': ['a', 'b', 'c', 'd', 'e']}\n",
        "indices = pd.Index([3, 5, 1, 2, 4])\n",
        "df = pd.DataFrame(data=datos, index=indices)\n",
        "\n",
        "df"
      ]
    },
    {
      "cell_type": "code",
      "execution_count": 35,
      "metadata": {
        "colab": {
          "base_uri": "https://localhost:8080/",
          "height": 206
        },
        "id": "IAvnOGND-0GA",
        "outputId": "0d1786e6-9038-4097-b59a-a4410e851a0d"
      },
      "outputs": [
        {
          "data": {
            "text/html": [
              "<div>\n",
              "<style scoped>\n",
              "    .dataframe tbody tr th:only-of-type {\n",
              "        vertical-align: middle;\n",
              "    }\n",
              "\n",
              "    .dataframe tbody tr th {\n",
              "        vertical-align: top;\n",
              "    }\n",
              "\n",
              "    .dataframe thead th {\n",
              "        text-align: right;\n",
              "    }\n",
              "</style>\n",
              "<table border=\"1\" class=\"dataframe\">\n",
              "  <thead>\n",
              "    <tr style=\"text-align: right;\">\n",
              "      <th></th>\n",
              "      <th>Columna1</th>\n",
              "      <th>Columna2</th>\n",
              "    </tr>\n",
              "  </thead>\n",
              "  <tbody>\n",
              "    <tr>\n",
              "      <th>1</th>\n",
              "      <td>3</td>\n",
              "      <td>c</td>\n",
              "    </tr>\n",
              "    <tr>\n",
              "      <th>2</th>\n",
              "      <td>4</td>\n",
              "      <td>d</td>\n",
              "    </tr>\n",
              "    <tr>\n",
              "      <th>3</th>\n",
              "      <td>1</td>\n",
              "      <td>a</td>\n",
              "    </tr>\n",
              "    <tr>\n",
              "      <th>4</th>\n",
              "      <td>5</td>\n",
              "      <td>e</td>\n",
              "    </tr>\n",
              "    <tr>\n",
              "      <th>5</th>\n",
              "      <td>2</td>\n",
              "      <td>b</td>\n",
              "    </tr>\n",
              "  </tbody>\n",
              "</table>\n",
              "</div>"
            ],
            "text/plain": [
              "   Columna1 Columna2\n",
              "1         3        c\n",
              "2         4        d\n",
              "3         1        a\n",
              "4         5        e\n",
              "5         2        b"
            ]
          },
          "execution_count": 35,
          "metadata": {},
          "output_type": "execute_result"
        }
      ],
      "source": [
        "# Ordenar el índice en orden ascendente\n",
        "df = df.sort_index()\n",
        "df"
      ]
    },
    {
      "cell_type": "code",
      "execution_count": 36,
      "metadata": {
        "colab": {
          "base_uri": "https://localhost:8080/",
          "height": 206
        },
        "id": "MpvV1d83-w64",
        "outputId": "e67cd429-0fe4-436e-d207-92a16bef7d20"
      },
      "outputs": [
        {
          "data": {
            "text/html": [
              "<div>\n",
              "<style scoped>\n",
              "    .dataframe tbody tr th:only-of-type {\n",
              "        vertical-align: middle;\n",
              "    }\n",
              "\n",
              "    .dataframe tbody tr th {\n",
              "        vertical-align: top;\n",
              "    }\n",
              "\n",
              "    .dataframe thead th {\n",
              "        text-align: right;\n",
              "    }\n",
              "</style>\n",
              "<table border=\"1\" class=\"dataframe\">\n",
              "  <thead>\n",
              "    <tr style=\"text-align: right;\">\n",
              "      <th></th>\n",
              "      <th>Columna1</th>\n",
              "      <th>Columna2</th>\n",
              "    </tr>\n",
              "  </thead>\n",
              "  <tbody>\n",
              "    <tr>\n",
              "      <th>5</th>\n",
              "      <td>2</td>\n",
              "      <td>b</td>\n",
              "    </tr>\n",
              "    <tr>\n",
              "      <th>4</th>\n",
              "      <td>5</td>\n",
              "      <td>e</td>\n",
              "    </tr>\n",
              "    <tr>\n",
              "      <th>3</th>\n",
              "      <td>1</td>\n",
              "      <td>a</td>\n",
              "    </tr>\n",
              "    <tr>\n",
              "      <th>2</th>\n",
              "      <td>4</td>\n",
              "      <td>d</td>\n",
              "    </tr>\n",
              "    <tr>\n",
              "      <th>1</th>\n",
              "      <td>3</td>\n",
              "      <td>c</td>\n",
              "    </tr>\n",
              "  </tbody>\n",
              "</table>\n",
              "</div>"
            ],
            "text/plain": [
              "   Columna1 Columna2\n",
              "5         2        b\n",
              "4         5        e\n",
              "3         1        a\n",
              "2         4        d\n",
              "1         3        c"
            ]
          },
          "execution_count": 36,
          "metadata": {},
          "output_type": "execute_result"
        }
      ],
      "source": [
        "# Ordenar el índice en orden descendente\n",
        "df = df.sort_index(ascending=False)\n",
        "df"
      ]
    },
    {
      "cell_type": "markdown",
      "metadata": {
        "id": "kCKWSob06fu4"
      },
      "source": [
        "## Indices Jerarquicos"
      ]
    },
    {
      "cell_type": "markdown",
      "metadata": {
        "id": "nbAHDIPXfNZh"
      },
      "source": [
        "Los indices tambien pueden ser tuplas, o contener varios niveles. Estos suelen aparecer cuando usamos funciones como `groupby`"
      ]
    },
    {
      "cell_type": "code",
      "execution_count": 37,
      "metadata": {
        "colab": {
          "base_uri": "https://localhost:8080/"
        },
        "id": "snZ9_1vL6or5",
        "outputId": "90295ddf-49eb-4bf1-e2cd-e7e8e409b562"
      },
      "outputs": [
        {
          "name": "stdout",
          "output_type": "stream",
          "text": [
            "     Columna1  Columna2\n",
            "A X         1         5\n",
            "  Y         2         6\n",
            "B X         3         7\n",
            "  Y         4         8\n",
            "MultiIndex([('A', 'X'),\n",
            "            ('A', 'Y'),\n",
            "            ('B', 'X'),\n",
            "            ('B', 'Y')],\n",
            "           )\n"
          ]
        },
        {
          "data": {
            "text/plain": [
              "1"
            ]
          },
          "execution_count": 37,
          "metadata": {},
          "output_type": "execute_result"
        }
      ],
      "source": [
        "# Crear un índice jerárquico con dos niveles\n",
        "indice = pd.MultiIndex.from_product([['A', 'B'], ['X', 'Y']])\n",
        "\n",
        "# Crear un DataFrame con el índice jerárquico\n",
        "datos = {'Columna1': [1, 2, 3, 4], 'Columna2': [5, 6, 7, 8]}\n",
        "df = pd.DataFrame(data=datos, index=indice)\n",
        "print(df)\n",
        "print(df.index)\n",
        "# Seleccionar un elemento con el índice jerárquico\n",
        "df.loc[('A', 'X'), 'Columna1']"
      ]
    },
    {
      "cell_type": "markdown",
      "metadata": {
        "id": "5c6wxo4j-FgS"
      },
      "source": [
        "### Indexacion y Seleccion con multindex"
      ]
    },
    {
      "cell_type": "code",
      "execution_count": 38,
      "metadata": {
        "colab": {
          "base_uri": "https://localhost:8080/",
          "height": 206
        },
        "id": "MmFJATSk-Ng7",
        "outputId": "4b14aa0b-711d-42c5-94e8-7d3ed5eefbff"
      },
      "outputs": [
        {
          "data": {
            "text/html": [
              "<div>\n",
              "<style scoped>\n",
              "    .dataframe tbody tr th:only-of-type {\n",
              "        vertical-align: middle;\n",
              "    }\n",
              "\n",
              "    .dataframe tbody tr th {\n",
              "        vertical-align: top;\n",
              "    }\n",
              "\n",
              "    .dataframe thead th {\n",
              "        text-align: right;\n",
              "    }\n",
              "</style>\n",
              "<table border=\"1\" class=\"dataframe\">\n",
              "  <thead>\n",
              "    <tr style=\"text-align: right;\">\n",
              "      <th></th>\n",
              "      <th></th>\n",
              "      <th>Columna1</th>\n",
              "      <th>Columna2</th>\n",
              "      <th>Columna3</th>\n",
              "    </tr>\n",
              "  </thead>\n",
              "  <tbody>\n",
              "    <tr>\n",
              "      <th rowspan=\"2\" valign=\"top\">A</th>\n",
              "      <th>1</th>\n",
              "      <td>1</td>\n",
              "      <td>a</td>\n",
              "      <td>0.1</td>\n",
              "    </tr>\n",
              "    <tr>\n",
              "      <th>2</th>\n",
              "      <td>2</td>\n",
              "      <td>b</td>\n",
              "      <td>0.2</td>\n",
              "    </tr>\n",
              "    <tr>\n",
              "      <th rowspan=\"2\" valign=\"top\">B</th>\n",
              "      <th>1</th>\n",
              "      <td>3</td>\n",
              "      <td>c</td>\n",
              "      <td>0.3</td>\n",
              "    </tr>\n",
              "    <tr>\n",
              "      <th>2</th>\n",
              "      <td>4</td>\n",
              "      <td>d</td>\n",
              "      <td>0.4</td>\n",
              "    </tr>\n",
              "    <tr>\n",
              "      <th>C</th>\n",
              "      <th>1</th>\n",
              "      <td>5</td>\n",
              "      <td>e</td>\n",
              "      <td>0.5</td>\n",
              "    </tr>\n",
              "  </tbody>\n",
              "</table>\n",
              "</div>"
            ],
            "text/plain": [
              "     Columna1 Columna2  Columna3\n",
              "A 1         1        a       0.1\n",
              "  2         2        b       0.2\n",
              "B 1         3        c       0.3\n",
              "  2         4        d       0.4\n",
              "C 1         5        e       0.5"
            ]
          },
          "execution_count": 38,
          "metadata": {},
          "output_type": "execute_result"
        }
      ],
      "source": [
        "# Crear un DataFrame con MultiIndex\n",
        "datos = {'Columna1': [1, 2, 3, 4, 5],\n",
        "         'Columna2': ['a', 'b', 'c', 'd', 'e'],\n",
        "         'Columna3': [0.1, 0.2, 0.3, 0.4, 0.5]}\n",
        "multi_indices = pd.MultiIndex.from_tuples([('A', 1), ('A', 2), ('B', 1), ('B', 2), ('C', 1)])\n",
        "df = pd.DataFrame(data=datos, index=multi_indices)\n",
        "\n",
        "df"
      ]
    },
    {
      "cell_type": "code",
      "execution_count": 44,
      "metadata": {
        "colab": {
          "base_uri": "https://localhost:8080/"
        },
        "id": "R97QB7sd-QMk",
        "outputId": "53a4ba86-b491-49c1-a312-6c46c6b1a1bc"
      },
      "outputs": [
        {
          "data": {
            "text/html": [
              "<div>\n",
              "<style scoped>\n",
              "    .dataframe tbody tr th:only-of-type {\n",
              "        vertical-align: middle;\n",
              "    }\n",
              "\n",
              "    .dataframe tbody tr th {\n",
              "        vertical-align: top;\n",
              "    }\n",
              "\n",
              "    .dataframe thead th {\n",
              "        text-align: right;\n",
              "    }\n",
              "</style>\n",
              "<table border=\"1\" class=\"dataframe\">\n",
              "  <thead>\n",
              "    <tr style=\"text-align: right;\">\n",
              "      <th></th>\n",
              "      <th></th>\n",
              "      <th>Columna1</th>\n",
              "      <th>Columna2</th>\n",
              "      <th>Columna3</th>\n",
              "    </tr>\n",
              "  </thead>\n",
              "  <tbody>\n",
              "    <tr>\n",
              "      <th>A</th>\n",
              "      <th>2</th>\n",
              "      <td>2</td>\n",
              "      <td>b</td>\n",
              "      <td>0.2</td>\n",
              "    </tr>\n",
              "    <tr>\n",
              "      <th>C</th>\n",
              "      <th>1</th>\n",
              "      <td>5</td>\n",
              "      <td>e</td>\n",
              "      <td>0.5</td>\n",
              "    </tr>\n",
              "  </tbody>\n",
              "</table>\n",
              "</div>"
            ],
            "text/plain": [
              "     Columna1 Columna2  Columna3\n",
              "A 2         2        b       0.2\n",
              "C 1         5        e       0.5"
            ]
          },
          "execution_count": 44,
          "metadata": {},
          "output_type": "execute_result"
        }
      ],
      "source": [
        "# Seleccionar la fila con índices ('A', 2)\n",
        "df.loc[[('A', 2),('C',1)]]"
      ]
    },
    {
      "cell_type": "code",
      "execution_count": 40,
      "metadata": {
        "colab": {
          "base_uri": "https://localhost:8080/",
          "height": 112
        },
        "id": "2tZoFYQ6-SJq",
        "outputId": "d107b6a8-2b19-427b-b0eb-32fb1eb9da24"
      },
      "outputs": [
        {
          "data": {
            "text/html": [
              "<div>\n",
              "<style scoped>\n",
              "    .dataframe tbody tr th:only-of-type {\n",
              "        vertical-align: middle;\n",
              "    }\n",
              "\n",
              "    .dataframe tbody tr th {\n",
              "        vertical-align: top;\n",
              "    }\n",
              "\n",
              "    .dataframe thead th {\n",
              "        text-align: right;\n",
              "    }\n",
              "</style>\n",
              "<table border=\"1\" class=\"dataframe\">\n",
              "  <thead>\n",
              "    <tr style=\"text-align: right;\">\n",
              "      <th></th>\n",
              "      <th>Columna1</th>\n",
              "      <th>Columna2</th>\n",
              "      <th>Columna3</th>\n",
              "    </tr>\n",
              "  </thead>\n",
              "  <tbody>\n",
              "    <tr>\n",
              "      <th>1</th>\n",
              "      <td>3</td>\n",
              "      <td>c</td>\n",
              "      <td>0.3</td>\n",
              "    </tr>\n",
              "    <tr>\n",
              "      <th>2</th>\n",
              "      <td>4</td>\n",
              "      <td>d</td>\n",
              "      <td>0.4</td>\n",
              "    </tr>\n",
              "  </tbody>\n",
              "</table>\n",
              "</div>"
            ],
            "text/plain": [
              "   Columna1 Columna2  Columna3\n",
              "1         3        c       0.3\n",
              "2         4        d       0.4"
            ]
          },
          "execution_count": 40,
          "metadata": {},
          "output_type": "execute_result"
        }
      ],
      "source": [
        "# Seleccionar las filas con el primer nivel de índices igual a 'B'\n",
        "df.loc['B']"
      ]
    },
    {
      "cell_type": "code",
      "execution_count": 41,
      "metadata": {
        "colab": {
          "base_uri": "https://localhost:8080/",
          "height": 112
        },
        "id": "xLj-wqxP-XSx",
        "outputId": "f216ff23-fceb-4467-bf95-555b0ed50579"
      },
      "outputs": [
        {
          "data": {
            "text/html": [
              "<div>\n",
              "<style scoped>\n",
              "    .dataframe tbody tr th:only-of-type {\n",
              "        vertical-align: middle;\n",
              "    }\n",
              "\n",
              "    .dataframe tbody tr th {\n",
              "        vertical-align: top;\n",
              "    }\n",
              "\n",
              "    .dataframe thead th {\n",
              "        text-align: right;\n",
              "    }\n",
              "</style>\n",
              "<table border=\"1\" class=\"dataframe\">\n",
              "  <thead>\n",
              "    <tr style=\"text-align: right;\">\n",
              "      <th></th>\n",
              "      <th>Columna1</th>\n",
              "      <th>Columna2</th>\n",
              "      <th>Columna3</th>\n",
              "    </tr>\n",
              "  </thead>\n",
              "  <tbody>\n",
              "    <tr>\n",
              "      <th>1</th>\n",
              "      <td>3</td>\n",
              "      <td>c</td>\n",
              "      <td>0.3</td>\n",
              "    </tr>\n",
              "    <tr>\n",
              "      <th>2</th>\n",
              "      <td>4</td>\n",
              "      <td>d</td>\n",
              "      <td>0.4</td>\n",
              "    </tr>\n",
              "  </tbody>\n",
              "</table>\n",
              "</div>"
            ],
            "text/plain": [
              "   Columna1 Columna2  Columna3\n",
              "1         3        c       0.3\n",
              "2         4        d       0.4"
            ]
          },
          "execution_count": 41,
          "metadata": {},
          "output_type": "execute_result"
        }
      ],
      "source": [
        "# Seleccionar las filas con el primer nivel de índices igual a 'A' y el segundo nivel de índices igual a 1 o 2\n",
        "df.loc[('B', slice(None))]"
      ]
    },
    {
      "cell_type": "code",
      "execution_count": 42,
      "metadata": {
        "colab": {
          "base_uri": "https://localhost:8080/",
          "height": 143
        },
        "id": "ky0nai-2-Z0Y",
        "outputId": "988a473b-c823-4587-b8a0-611d57e42cea"
      },
      "outputs": [
        {
          "data": {
            "text/html": [
              "<div>\n",
              "<style scoped>\n",
              "    .dataframe tbody tr th:only-of-type {\n",
              "        vertical-align: middle;\n",
              "    }\n",
              "\n",
              "    .dataframe tbody tr th {\n",
              "        vertical-align: top;\n",
              "    }\n",
              "\n",
              "    .dataframe thead th {\n",
              "        text-align: right;\n",
              "    }\n",
              "</style>\n",
              "<table border=\"1\" class=\"dataframe\">\n",
              "  <thead>\n",
              "    <tr style=\"text-align: right;\">\n",
              "      <th></th>\n",
              "      <th></th>\n",
              "      <th>Columna1</th>\n",
              "      <th>Columna2</th>\n",
              "      <th>Columna3</th>\n",
              "    </tr>\n",
              "  </thead>\n",
              "  <tbody>\n",
              "    <tr>\n",
              "      <th rowspan=\"2\" valign=\"top\">A</th>\n",
              "      <th>1</th>\n",
              "      <td>1</td>\n",
              "      <td>a</td>\n",
              "      <td>0.1</td>\n",
              "    </tr>\n",
              "    <tr>\n",
              "      <th>2</th>\n",
              "      <td>2</td>\n",
              "      <td>b</td>\n",
              "      <td>0.2</td>\n",
              "    </tr>\n",
              "    <tr>\n",
              "      <th>C</th>\n",
              "      <th>1</th>\n",
              "      <td>5</td>\n",
              "      <td>e</td>\n",
              "      <td>0.5</td>\n",
              "    </tr>\n",
              "  </tbody>\n",
              "</table>\n",
              "</div>"
            ],
            "text/plain": [
              "     Columna1 Columna2  Columna3\n",
              "A 1         1        a       0.1\n",
              "  2         2        b       0.2\n",
              "C 1         5        e       0.5"
            ]
          },
          "execution_count": 42,
          "metadata": {},
          "output_type": "execute_result"
        }
      ],
      "source": [
        "# Seleccionar las filas con el primer nivel de índices igual a 'A' o 'C'\n",
        "df.loc[['A', 'C']]"
      ]
    },
    {
      "cell_type": "code",
      "execution_count": 46,
      "metadata": {
        "colab": {
          "base_uri": "https://localhost:8080/"
        },
        "id": "VTs-rpeO-b7X",
        "outputId": "6ecd93df-e0fb-46ce-abc2-cb9c0e2e0b14"
      },
      "outputs": [
        {
          "data": {
            "text/html": [
              "<div>\n",
              "<style scoped>\n",
              "    .dataframe tbody tr th:only-of-type {\n",
              "        vertical-align: middle;\n",
              "    }\n",
              "\n",
              "    .dataframe tbody tr th {\n",
              "        vertical-align: top;\n",
              "    }\n",
              "\n",
              "    .dataframe thead th {\n",
              "        text-align: right;\n",
              "    }\n",
              "</style>\n",
              "<table border=\"1\" class=\"dataframe\">\n",
              "  <thead>\n",
              "    <tr style=\"text-align: right;\">\n",
              "      <th></th>\n",
              "      <th></th>\n",
              "      <th>Columna3</th>\n",
              "    </tr>\n",
              "  </thead>\n",
              "  <tbody>\n",
              "    <tr>\n",
              "      <th rowspan=\"2\" valign=\"top\">B</th>\n",
              "      <th>1</th>\n",
              "      <td>0.3</td>\n",
              "    </tr>\n",
              "    <tr>\n",
              "      <th>2</th>\n",
              "      <td>0.4</td>\n",
              "    </tr>\n",
              "  </tbody>\n",
              "</table>\n",
              "</div>"
            ],
            "text/plain": [
              "     Columna3\n",
              "B 1       0.3\n",
              "  2       0.4"
            ]
          },
          "execution_count": 46,
          "metadata": {},
          "output_type": "execute_result"
        }
      ],
      "source": [
        "# Seleccionar la columna con etiqueta 'Columna3' para las filas con el primer nivel de índices igual a 'B'\n",
        "df.loc[('B', slice(None)), ['Columna3']]"
      ]
    },
    {
      "cell_type": "markdown",
      "metadata": {
        "id": "AEyyhZnU-6UN"
      },
      "source": [
        "# Serie de Tiempo con Indices"
      ]
    },
    {
      "cell_type": "markdown",
      "metadata": {
        "id": "cg2hjeHC_JZf"
      },
      "source": [
        "## Creacion"
      ]
    },
    {
      "cell_type": "code",
      "execution_count": 3,
      "metadata": {
        "colab": {
          "base_uri": "https://localhost:8080/"
        },
        "id": "i_ywAElJ_AXl",
        "outputId": "69f90891-b907-4d15-e20b-c0a1a58646f1"
      },
      "outputs": [
        {
          "data": {
            "text/plain": [
              "DatetimeIndex(['2022-01-01 00:00:00', '2022-01-01 01:00:00',\n",
              "               '2022-01-01 02:00:00', '2022-01-01 03:00:00',\n",
              "               '2022-01-01 04:00:00', '2022-01-01 05:00:00',\n",
              "               '2022-01-01 06:00:00', '2022-01-01 07:00:00',\n",
              "               '2022-01-01 08:00:00', '2022-01-01 09:00:00',\n",
              "               '2022-01-01 10:00:00', '2022-01-01 11:00:00',\n",
              "               '2022-01-01 12:00:00', '2022-01-01 13:00:00',\n",
              "               '2022-01-01 14:00:00', '2022-01-01 15:00:00',\n",
              "               '2022-01-01 16:00:00', '2022-01-01 17:00:00',\n",
              "               '2022-01-01 18:00:00', '2022-01-01 19:00:00',\n",
              "               '2022-01-01 20:00:00', '2022-01-01 21:00:00',\n",
              "               '2022-01-01 22:00:00', '2022-01-01 23:00:00',\n",
              "               '2022-01-02 00:00:00'],\n",
              "              dtype='datetime64[ns]', freq='H')"
            ]
          },
          "execution_count": 3,
          "metadata": {},
          "output_type": "execute_result"
        }
      ],
      "source": [
        "# Crear un índice de fecha y hora para una serie de tiempo con una frecuencia horaria\n",
        "dti = pd.date_range(start='2022-01-01', end='2022-01-02', freq='H')\n",
        "dti\n"
      ]
    },
    {
      "cell_type": "code",
      "execution_count": 4,
      "metadata": {
        "colab": {
          "base_uri": "https://localhost:8080/"
        },
        "id": "MtJb1QDP_DhF",
        "outputId": "b67286a6-8f0b-40df-dd8e-0a7c55ee9665"
      },
      "outputs": [
        {
          "data": {
            "text/plain": [
              "2022-01-01 00:00:00   -0.311775\n",
              "2022-01-01 01:00:00   -0.288501\n",
              "2022-01-01 02:00:00    1.023706\n",
              "2022-01-01 03:00:00   -0.423673\n",
              "2022-01-01 04:00:00    0.269440\n",
              "2022-01-01 05:00:00   -0.205878\n",
              "2022-01-01 06:00:00   -0.186279\n",
              "2022-01-01 07:00:00    1.417302\n",
              "2022-01-01 08:00:00   -0.452404\n",
              "2022-01-01 09:00:00   -0.630867\n",
              "2022-01-01 10:00:00    0.731374\n",
              "2022-01-01 11:00:00    1.507768\n",
              "2022-01-01 12:00:00    0.951185\n",
              "2022-01-01 13:00:00   -0.124815\n",
              "2022-01-01 14:00:00   -0.460918\n",
              "2022-01-01 15:00:00   -0.032748\n",
              "2022-01-01 16:00:00   -0.632710\n",
              "2022-01-01 17:00:00    0.137893\n",
              "2022-01-01 18:00:00   -2.182615\n",
              "2022-01-01 19:00:00   -0.351639\n",
              "2022-01-01 20:00:00   -1.603097\n",
              "2022-01-01 21:00:00   -0.333668\n",
              "2022-01-01 22:00:00   -1.775902\n",
              "2022-01-01 23:00:00   -0.535965\n",
              "2022-01-02 00:00:00    0.368682\n",
              "Freq: H, dtype: float64"
            ]
          },
          "execution_count": 4,
          "metadata": {},
          "output_type": "execute_result"
        }
      ],
      "source": [
        "# Crear una serie de tiempo con valores aleatorios y el índice de fecha y hora\n",
        "serie_tiempo = pd.Series(data=np.random.randn(len(dti)), index=dti)\n",
        "serie_tiempo"
      ]
    },
    {
      "cell_type": "markdown",
      "metadata": {
        "id": "NZVyRNwg_Mzd"
      },
      "source": [
        "## Indexacion"
      ]
    },
    {
      "cell_type": "code",
      "execution_count": null,
      "metadata": {
        "colab": {
          "base_uri": "https://localhost:8080/"
        },
        "id": "_YTmR8WV_PhW",
        "outputId": "fd00eab2-e97f-4ec8-f7ba-4b050753ea7b"
      },
      "outputs": [
        {
          "data": {
            "text/plain": [
              "2022-01-01 00:00:00    0.379645\n",
              "2022-01-01 01:00:00    0.831812\n",
              "2022-01-01 02:00:00   -0.193350\n",
              "2022-01-01 03:00:00   -0.127881\n",
              "2022-01-01 04:00:00   -0.435696\n",
              "Freq: H, dtype: float64"
            ]
          },
          "execution_count": 66,
          "metadata": {},
          "output_type": "execute_result"
        }
      ],
      "source": [
        "# Crear una serie de tiempo\n",
        "dti = pd.date_range(start='2022-01-01', end='2022-01-02', freq='H')\n",
        "serie_tiempo = pd.Series(data=np.random.randn(len(dti)), index=dti)\n",
        "\n",
        "serie_tiempo.head()"
      ]
    },
    {
      "cell_type": "code",
      "execution_count": 5,
      "metadata": {
        "colab": {
          "base_uri": "https://localhost:8080/"
        },
        "id": "8mRpmLCo_VpQ",
        "outputId": "f6602eb5-0a5b-4ee5-f62a-7772347bec3c"
      },
      "outputs": [
        {
          "data": {
            "text/plain": [
              "1.023705756567276"
            ]
          },
          "execution_count": 5,
          "metadata": {},
          "output_type": "execute_result"
        }
      ],
      "source": [
        "# Seleccionar el valor correspondiente al 2022-01-01 02:00:00\n",
        "serie_tiempo.loc['2022-01-01 02:00:00']"
      ]
    },
    {
      "cell_type": "code",
      "execution_count": 6,
      "metadata": {
        "colab": {
          "base_uri": "https://localhost:8080/"
        },
        "id": "NLpXbdeA_S-E",
        "outputId": "3110aaac-a985-4d01-dfd2-2936fb9d2682"
      },
      "outputs": [
        {
          "data": {
            "text/plain": [
              "2022-01-01 00:00:00   -0.311775\n",
              "2022-01-01 01:00:00   -0.288501\n",
              "2022-01-01 02:00:00    1.023706\n",
              "2022-01-01 03:00:00   -0.423673\n",
              "2022-01-01 04:00:00    0.269440\n",
              "2022-01-01 05:00:00   -0.205878\n",
              "2022-01-01 06:00:00   -0.186279\n",
              "2022-01-01 07:00:00    1.417302\n",
              "2022-01-01 08:00:00   -0.452404\n",
              "2022-01-01 09:00:00   -0.630867\n",
              "2022-01-01 10:00:00    0.731374\n",
              "2022-01-01 11:00:00    1.507768\n",
              "2022-01-01 12:00:00    0.951185\n",
              "2022-01-01 13:00:00   -0.124815\n",
              "2022-01-01 14:00:00   -0.460918\n",
              "2022-01-01 15:00:00   -0.032748\n",
              "2022-01-01 16:00:00   -0.632710\n",
              "2022-01-01 17:00:00    0.137893\n",
              "2022-01-01 18:00:00   -2.182615\n",
              "2022-01-01 19:00:00   -0.351639\n",
              "2022-01-01 20:00:00   -1.603097\n",
              "2022-01-01 21:00:00   -0.333668\n",
              "2022-01-01 22:00:00   -1.775902\n",
              "2022-01-01 23:00:00   -0.535965\n",
              "Freq: H, dtype: float64"
            ]
          },
          "execution_count": 6,
          "metadata": {},
          "output_type": "execute_result"
        }
      ],
      "source": [
        "# Seleccionar los valores correspondientes al 2022-01-01\n",
        "serie_tiempo.loc['2022-01-01']"
      ]
    },
    {
      "cell_type": "code",
      "execution_count": 7,
      "metadata": {
        "colab": {
          "base_uri": "https://localhost:8080/"
        },
        "id": "pmXzcIPr_anh",
        "outputId": "458406c9-e07a-4514-bd4d-05ebc78cba3c"
      },
      "outputs": [
        {
          "data": {
            "text/plain": [
              "2022-01-01 00:00:00   -0.311775\n",
              "2022-01-01 01:00:00   -0.288501\n",
              "2022-01-01 02:00:00    1.023706\n",
              "2022-01-01 03:00:00   -0.423673\n",
              "2022-01-01 04:00:00    0.269440\n",
              "2022-01-01 05:00:00   -0.205878\n",
              "2022-01-01 06:00:00   -0.186279\n",
              "2022-01-01 07:00:00    1.417302\n",
              "2022-01-01 08:00:00   -0.452404\n",
              "2022-01-01 09:00:00   -0.630867\n",
              "2022-01-01 10:00:00    0.731374\n",
              "2022-01-01 11:00:00    1.507768\n",
              "2022-01-01 12:00:00    0.951185\n",
              "2022-01-01 13:00:00   -0.124815\n",
              "2022-01-01 14:00:00   -0.460918\n",
              "2022-01-01 15:00:00   -0.032748\n",
              "2022-01-01 16:00:00   -0.632710\n",
              "2022-01-01 17:00:00    0.137893\n",
              "2022-01-01 18:00:00   -2.182615\n",
              "2022-01-01 19:00:00   -0.351639\n",
              "2022-01-01 20:00:00   -1.603097\n",
              "2022-01-01 21:00:00   -0.333668\n",
              "2022-01-01 22:00:00   -1.775902\n",
              "2022-01-01 23:00:00   -0.535965\n",
              "Freq: H, dtype: float64"
            ]
          },
          "execution_count": 7,
          "metadata": {},
          "output_type": "execute_result"
        }
      ],
      "source": [
        "# Seleccionar los valores correspondientes al primer día de cada mes\n",
        "serie_tiempo.loc[serie_tiempo.index.is_month_start]"
      ]
    },
    {
      "cell_type": "markdown",
      "metadata": {
        "id": "5mhHKLzk_gdI"
      },
      "source": [
        "## Resampling y Downsampling"
      ]
    },
    {
      "cell_type": "code",
      "execution_count": 8,
      "metadata": {
        "colab": {
          "base_uri": "https://localhost:8080/"
        },
        "id": "9jgpOGpm_kWC",
        "outputId": "fd61f06a-251f-40cc-85df-603e7b7faa8b"
      },
      "outputs": [
        {
          "data": {
            "text/plain": [
              "2022-01-01 00:00:00    0.340190\n",
              "2022-01-01 01:00:00    2.111537\n",
              "2022-01-01 02:00:00   -1.871371\n",
              "2022-01-01 03:00:00    1.834145\n",
              "2022-01-01 04:00:00    1.234348\n",
              "Freq: H, dtype: float64"
            ]
          },
          "execution_count": 8,
          "metadata": {},
          "output_type": "execute_result"
        }
      ],
      "source": [
        "# Crear una serie de tiempo con una frecuencia horaria\n",
        "dti = pd.date_range(start='2022-01-01', end='2022-01-31', freq='H')\n",
        "serie_tiempo = pd.Series(data=np.random.randn(len(dti)), index=dti)\n",
        "serie_tiempo.head()"
      ]
    },
    {
      "cell_type": "code",
      "execution_count": 9,
      "metadata": {
        "colab": {
          "base_uri": "https://localhost:8080/"
        },
        "id": "gDFrq9CM_pKq",
        "outputId": "1baf9c99-1a7c-48dc-e7fb-d8e3773edcd2"
      },
      "outputs": [
        {
          "data": {
            "text/plain": [
              "2022-01-01    0.178676\n",
              "2022-01-02   -0.102253\n",
              "2022-01-03   -0.217324\n",
              "2022-01-04   -0.300002\n",
              "2022-01-05    0.386802\n",
              "2022-01-06   -0.052539\n",
              "2022-01-07    0.224505\n",
              "2022-01-08    0.093337\n",
              "2022-01-09   -0.285293\n",
              "2022-01-10    0.343094\n",
              "2022-01-11    0.312868\n",
              "2022-01-12    0.056747\n",
              "2022-01-13   -0.189649\n",
              "2022-01-14    0.021406\n",
              "2022-01-15   -0.209978\n",
              "2022-01-16    0.363152\n",
              "2022-01-17    0.282877\n",
              "2022-01-18   -0.113377\n",
              "2022-01-19   -0.119671\n",
              "2022-01-20    0.236504\n",
              "2022-01-21    0.068350\n",
              "2022-01-22   -0.099212\n",
              "2022-01-23    0.190126\n",
              "2022-01-24   -0.126879\n",
              "2022-01-25    0.042634\n",
              "2022-01-26   -0.048836\n",
              "2022-01-27   -0.216172\n",
              "2022-01-28   -0.064485\n",
              "2022-01-29   -0.229032\n",
              "2022-01-30   -0.240466\n",
              "2022-01-31    0.593918\n",
              "Freq: D, dtype: float64"
            ]
          },
          "execution_count": 9,
          "metadata": {},
          "output_type": "execute_result"
        }
      ],
      "source": [
        "# Resample a una frecuencia diaria utilizando la media\n",
        "serie_diaria = serie_tiempo.resample('D').mean()\n",
        "serie_diaria"
      ]
    },
    {
      "cell_type": "code",
      "execution_count": 10,
      "metadata": {
        "colab": {
          "base_uri": "https://localhost:8080/"
        },
        "id": "9jWYzD4t_uV1",
        "outputId": "e520af76-8c97-4c4b-c03b-82037981e2d8"
      },
      "outputs": [
        {
          "data": {
            "text/plain": [
              "2022-01-01 00:00:00    1.901679\n",
              "2022-01-01 06:00:00    1.569190\n",
              "2022-01-01 12:00:00    0.829645\n",
              "2022-01-01 18:00:00   -0.012299\n",
              "2022-01-02 00:00:00   -0.453409\n",
              "                         ...   \n",
              "2022-01-30 00:00:00    2.861728\n",
              "2022-01-30 06:00:00   -2.229414\n",
              "2022-01-30 12:00:00   -4.320113\n",
              "2022-01-30 18:00:00   -2.083385\n",
              "2022-01-31 00:00:00    0.593918\n",
              "Freq: 6H, Length: 121, dtype: float64"
            ]
          },
          "execution_count": 10,
          "metadata": {},
          "output_type": "execute_result"
        }
      ],
      "source": [
        "\n",
        "# Downsampling a una frecuencia de 6 horas utilizando la suma\n",
        "serie_6horas = serie_tiempo.resample('6H').sum()\n",
        "serie_6horas"
      ]
    },
    {
      "cell_type": "markdown",
      "metadata": {
        "id": "nVHLLPbJcU5H"
      },
      "source": [
        "# Multiindex in columns: multi-levels"
      ]
    },
    {
      "cell_type": "markdown",
      "metadata": {
        "id": "pZkNm_W6eqqK"
      },
      "source": [
        "Tambien pueden existir multiindex en las columnas. Pueden aparecer cuando usamos la funcion `agg` con el `groupby`"
      ]
    },
    {
      "cell_type": "markdown",
      "metadata": {
        "id": "dx2trOFketoi"
      },
      "source": [
        "## Creacion"
      ]
    },
    {
      "cell_type": "code",
      "execution_count": 14,
      "metadata": {
        "colab": {
          "base_uri": "https://localhost:8080/",
          "height": 174
        },
        "id": "UckFBDefcscf",
        "outputId": "96eb99cd-55e0-4ed3-a9f4-24585896eeb7"
      },
      "outputs": [
        {
          "data": {
            "text/html": [
              "<div>\n",
              "<style scoped>\n",
              "    .dataframe tbody tr th:only-of-type {\n",
              "        vertical-align: middle;\n",
              "    }\n",
              "\n",
              "    .dataframe tbody tr th {\n",
              "        vertical-align: top;\n",
              "    }\n",
              "\n",
              "    .dataframe thead tr th {\n",
              "        text-align: left;\n",
              "    }\n",
              "</style>\n",
              "<table border=\"1\" class=\"dataframe\">\n",
              "  <thead>\n",
              "    <tr>\n",
              "      <th></th>\n",
              "      <th colspan=\"2\" halign=\"left\">Grupo 1</th>\n",
              "      <th colspan=\"2\" halign=\"left\">Grupo 2</th>\n",
              "    </tr>\n",
              "    <tr>\n",
              "      <th></th>\n",
              "      <th>A</th>\n",
              "      <th>B</th>\n",
              "      <th>C</th>\n",
              "      <th>D</th>\n",
              "    </tr>\n",
              "  </thead>\n",
              "  <tbody>\n",
              "    <tr>\n",
              "      <th>0</th>\n",
              "      <td>1</td>\n",
              "      <td>4</td>\n",
              "      <td>7</td>\n",
              "      <td>10</td>\n",
              "    </tr>\n",
              "    <tr>\n",
              "      <th>1</th>\n",
              "      <td>2</td>\n",
              "      <td>5</td>\n",
              "      <td>8</td>\n",
              "      <td>11</td>\n",
              "    </tr>\n",
              "    <tr>\n",
              "      <th>2</th>\n",
              "      <td>3</td>\n",
              "      <td>6</td>\n",
              "      <td>9</td>\n",
              "      <td>12</td>\n",
              "    </tr>\n",
              "  </tbody>\n",
              "</table>\n",
              "</div>"
            ],
            "text/plain": [
              "  Grupo 1    Grupo 2    \n",
              "        A  B       C   D\n",
              "0       1  4       7  10\n",
              "1       2  5       8  11\n",
              "2       3  6       9  12"
            ]
          },
          "execution_count": 14,
          "metadata": {},
          "output_type": "execute_result"
        }
      ],
      "source": [
        "df = pd.DataFrame({\n",
        "    ('Grupo 1', 'A'): [1, 2, 3],\n",
        "    ('Grupo 1', 'B'): [4, 5, 6],\n",
        "    ('Grupo 2', 'C'): [7, 8, 9],\n",
        "    ('Grupo 2', 'D'): [10, 11, 12]\n",
        "})\n",
        "df"
      ]
    },
    {
      "cell_type": "code",
      "execution_count": 17,
      "metadata": {},
      "outputs": [
        {
          "data": {
            "text/plain": [
              "Index(['A', 'B', 'C', 'D'], dtype='object')"
            ]
          },
          "execution_count": 17,
          "metadata": {},
          "output_type": "execute_result"
        }
      ],
      "source": [
        "df.columns.droplevel(0)"
      ]
    },
    {
      "cell_type": "code",
      "execution_count": 12,
      "metadata": {
        "colab": {
          "base_uri": "https://localhost:8080/",
          "height": 143
        },
        "id": "MHBUPeE3dpU_",
        "outputId": "676c0225-e702-4873-ae66-1ac1586209fd"
      },
      "outputs": [
        {
          "data": {
            "text/html": [
              "<div>\n",
              "<style scoped>\n",
              "    .dataframe tbody tr th:only-of-type {\n",
              "        vertical-align: middle;\n",
              "    }\n",
              "\n",
              "    .dataframe tbody tr th {\n",
              "        vertical-align: top;\n",
              "    }\n",
              "\n",
              "    .dataframe thead th {\n",
              "        text-align: right;\n",
              "    }\n",
              "</style>\n",
              "<table border=\"1\" class=\"dataframe\">\n",
              "  <thead>\n",
              "    <tr style=\"text-align: right;\">\n",
              "      <th></th>\n",
              "      <th>A</th>\n",
              "      <th>B</th>\n",
              "      <th>C</th>\n",
              "      <th>D</th>\n",
              "    </tr>\n",
              "  </thead>\n",
              "  <tbody>\n",
              "    <tr>\n",
              "      <th>0</th>\n",
              "      <td>1</td>\n",
              "      <td>4</td>\n",
              "      <td>7</td>\n",
              "      <td>10</td>\n",
              "    </tr>\n",
              "    <tr>\n",
              "      <th>1</th>\n",
              "      <td>2</td>\n",
              "      <td>5</td>\n",
              "      <td>8</td>\n",
              "      <td>11</td>\n",
              "    </tr>\n",
              "    <tr>\n",
              "      <th>2</th>\n",
              "      <td>3</td>\n",
              "      <td>6</td>\n",
              "      <td>9</td>\n",
              "      <td>12</td>\n",
              "    </tr>\n",
              "  </tbody>\n",
              "</table>\n",
              "</div>"
            ],
            "text/plain": [
              "   A  B  C   D\n",
              "0  1  4  7  10\n",
              "1  2  5  8  11\n",
              "2  3  6  9  12"
            ]
          },
          "execution_count": 12,
          "metadata": {},
          "output_type": "execute_result"
        }
      ],
      "source": [
        "# Removemos un nivel del índice de columnas\n",
        "df.columns = df.columns.droplevel(0)\n",
        "df"
      ]
    },
    {
      "cell_type": "markdown",
      "metadata": {
        "id": "VW0MrDuoew8K"
      },
      "source": [
        "## Slicing"
      ]
    },
    {
      "cell_type": "code",
      "execution_count": 22,
      "metadata": {
        "colab": {
          "base_uri": "https://localhost:8080/",
          "height": 206
        },
        "id": "lROGFn6beWsK",
        "outputId": "f0efab09-d634-4da1-f419-2fc8b59c46c4"
      },
      "outputs": [
        {
          "data": {
            "text/html": [
              "<div>\n",
              "<style scoped>\n",
              "    .dataframe tbody tr th:only-of-type {\n",
              "        vertical-align: middle;\n",
              "    }\n",
              "\n",
              "    .dataframe tbody tr th {\n",
              "        vertical-align: top;\n",
              "    }\n",
              "\n",
              "    .dataframe thead tr th {\n",
              "        text-align: left;\n",
              "    }\n",
              "</style>\n",
              "<table border=\"1\" class=\"dataframe\">\n",
              "  <thead>\n",
              "    <tr>\n",
              "      <th></th>\n",
              "      <th colspan=\"2\" halign=\"left\">bar</th>\n",
              "      <th colspan=\"2\" halign=\"left\">baz</th>\n",
              "      <th colspan=\"2\" halign=\"left\">foo</th>\n",
              "      <th colspan=\"2\" halign=\"left\">qux</th>\n",
              "    </tr>\n",
              "    <tr>\n",
              "      <th></th>\n",
              "      <th>one</th>\n",
              "      <th>two</th>\n",
              "      <th>one</th>\n",
              "      <th>two</th>\n",
              "      <th>one</th>\n",
              "      <th>two</th>\n",
              "      <th>one</th>\n",
              "      <th>two</th>\n",
              "    </tr>\n",
              "  </thead>\n",
              "  <tbody>\n",
              "    <tr>\n",
              "      <th>A</th>\n",
              "      <td>1.434396</td>\n",
              "      <td>-0.595647</td>\n",
              "      <td>0.212708</td>\n",
              "      <td>-0.746904</td>\n",
              "      <td>0.799812</td>\n",
              "      <td>1.281941</td>\n",
              "      <td>1.390865</td>\n",
              "      <td>-1.382106</td>\n",
              "    </tr>\n",
              "    <tr>\n",
              "      <th>B</th>\n",
              "      <td>0.742789</td>\n",
              "      <td>0.710915</td>\n",
              "      <td>-0.160912</td>\n",
              "      <td>0.640262</td>\n",
              "      <td>0.276052</td>\n",
              "      <td>1.573416</td>\n",
              "      <td>0.197950</td>\n",
              "      <td>1.261113</td>\n",
              "    </tr>\n",
              "    <tr>\n",
              "      <th>C</th>\n",
              "      <td>-0.380378</td>\n",
              "      <td>-0.751510</td>\n",
              "      <td>-0.719340</td>\n",
              "      <td>0.001074</td>\n",
              "      <td>-0.432397</td>\n",
              "      <td>3.134887</td>\n",
              "      <td>-0.118844</td>\n",
              "      <td>2.235047</td>\n",
              "    </tr>\n",
              "    <tr>\n",
              "      <th>D</th>\n",
              "      <td>0.828916</td>\n",
              "      <td>1.111485</td>\n",
              "      <td>-1.949256</td>\n",
              "      <td>1.064450</td>\n",
              "      <td>0.816672</td>\n",
              "      <td>-0.196231</td>\n",
              "      <td>-0.672583</td>\n",
              "      <td>-0.796942</td>\n",
              "    </tr>\n",
              "  </tbody>\n",
              "</table>\n",
              "</div>"
            ],
            "text/plain": [
              "        bar                 baz                 foo                 qux  \\\n",
              "        one       two       one       two       one       two       one   \n",
              "A  1.434396 -0.595647  0.212708 -0.746904  0.799812  1.281941  1.390865   \n",
              "B  0.742789  0.710915 -0.160912  0.640262  0.276052  1.573416  0.197950   \n",
              "C -0.380378 -0.751510 -0.719340  0.001074 -0.432397  3.134887 -0.118844   \n",
              "D  0.828916  1.111485 -1.949256  1.064450  0.816672 -0.196231 -0.672583   \n",
              "\n",
              "             \n",
              "        two  \n",
              "A -1.382106  \n",
              "B  1.261113  \n",
              "C  2.235047  \n",
              "D -0.796942  "
            ]
          },
          "execution_count": 22,
          "metadata": {},
          "output_type": "execute_result"
        }
      ],
      "source": [
        "arrays = [np.array(['bar', 'bar', 'baz', 'baz', 'foo', 'foo', 'qux', 'qux']),\n",
        "          np.array(['one', 'two', 'one', 'two', 'one', 'two', 'one', 'two'])]\n",
        "\n",
        "df = pd.DataFrame(np.random.randn(4, 8), index=['A', 'B', 'C', 'D'], columns=arrays)\n",
        "df"
      ]
    },
    {
      "cell_type": "code",
      "execution_count": 23,
      "metadata": {
        "colab": {
          "base_uri": "https://localhost:8080/",
          "height": 143
        },
        "id": "sbgFUld4ecj3",
        "outputId": "d49c901c-1dff-43de-df0b-15c9b9f65eb9"
      },
      "outputs": [
        {
          "data": {
            "text/html": [
              "<div>\n",
              "<style scoped>\n",
              "    .dataframe tbody tr th:only-of-type {\n",
              "        vertical-align: middle;\n",
              "    }\n",
              "\n",
              "    .dataframe tbody tr th {\n",
              "        vertical-align: top;\n",
              "    }\n",
              "\n",
              "    .dataframe thead tr th {\n",
              "        text-align: left;\n",
              "    }\n",
              "</style>\n",
              "<table border=\"1\" class=\"dataframe\">\n",
              "  <thead>\n",
              "    <tr>\n",
              "      <th></th>\n",
              "      <th colspan=\"2\" halign=\"left\">bar</th>\n",
              "      <th colspan=\"2\" halign=\"left\">baz</th>\n",
              "      <th colspan=\"2\" halign=\"left\">foo</th>\n",
              "      <th colspan=\"2\" halign=\"left\">qux</th>\n",
              "    </tr>\n",
              "    <tr>\n",
              "      <th></th>\n",
              "      <th>one</th>\n",
              "      <th>two</th>\n",
              "      <th>one</th>\n",
              "      <th>two</th>\n",
              "      <th>one</th>\n",
              "      <th>two</th>\n",
              "      <th>one</th>\n",
              "      <th>two</th>\n",
              "    </tr>\n",
              "  </thead>\n",
              "  <tbody>\n",
              "  </tbody>\n",
              "</table>\n",
              "</div>"
            ],
            "text/plain": [
              "Empty DataFrame\n",
              "Columns: [(bar, one), (bar, two), (baz, one), (baz, two), (foo, one), (foo, two), (qux, one), (qux, two)]\n",
              "Index: []"
            ]
          },
          "execution_count": 23,
          "metadata": {},
          "output_type": "execute_result"
        }
      ],
      "source": [
        "df.loc[df['baz', 'one'] >= 0.5, :]"
      ]
    },
    {
      "cell_type": "code",
      "execution_count": 24,
      "metadata": {
        "colab": {
          "base_uri": "https://localhost:8080/"
        },
        "id": "QBvpdgRSeiBo",
        "outputId": "ed6b9ab5-4946-4946-f05d-5c1132e94341"
      },
      "outputs": [
        {
          "data": {
            "text/plain": [
              "A    1.434396\n",
              "B    0.742789\n",
              "C   -0.380378\n",
              "D    0.828916\n",
              "Name: (bar, one), dtype: float64"
            ]
          },
          "execution_count": 24,
          "metadata": {},
          "output_type": "execute_result"
        }
      ],
      "source": [
        "df.loc[:, ('bar', 'one')]"
      ]
    },
    {
      "cell_type": "code",
      "execution_count": 25,
      "metadata": {
        "colab": {
          "base_uri": "https://localhost:8080/",
          "height": 174
        },
        "id": "rZWpzHulengx",
        "outputId": "0f4a0095-f4ee-4173-ccfa-ea5798fbdde3"
      },
      "outputs": [
        {
          "data": {
            "text/html": [
              "<div>\n",
              "<style scoped>\n",
              "    .dataframe tbody tr th:only-of-type {\n",
              "        vertical-align: middle;\n",
              "    }\n",
              "\n",
              "    .dataframe tbody tr th {\n",
              "        vertical-align: top;\n",
              "    }\n",
              "\n",
              "    .dataframe thead th {\n",
              "        text-align: right;\n",
              "    }\n",
              "</style>\n",
              "<table border=\"1\" class=\"dataframe\">\n",
              "  <thead>\n",
              "    <tr style=\"text-align: right;\">\n",
              "      <th></th>\n",
              "      <th>one</th>\n",
              "      <th>two</th>\n",
              "    </tr>\n",
              "  </thead>\n",
              "  <tbody>\n",
              "    <tr>\n",
              "      <th>A</th>\n",
              "      <td>1.434396</td>\n",
              "      <td>-0.595647</td>\n",
              "    </tr>\n",
              "    <tr>\n",
              "      <th>B</th>\n",
              "      <td>0.742789</td>\n",
              "      <td>0.710915</td>\n",
              "    </tr>\n",
              "    <tr>\n",
              "      <th>C</th>\n",
              "      <td>-0.380378</td>\n",
              "      <td>-0.751510</td>\n",
              "    </tr>\n",
              "    <tr>\n",
              "      <th>D</th>\n",
              "      <td>0.828916</td>\n",
              "      <td>1.111485</td>\n",
              "    </tr>\n",
              "  </tbody>\n",
              "</table>\n",
              "</div>"
            ],
            "text/plain": [
              "        one       two\n",
              "A  1.434396 -0.595647\n",
              "B  0.742789  0.710915\n",
              "C -0.380378 -0.751510\n",
              "D  0.828916  1.111485"
            ]
          },
          "execution_count": 25,
          "metadata": {},
          "output_type": "execute_result"
        }
      ],
      "source": [
        "df.loc[:, ('bar', )]"
      ]
    }
  ],
  "metadata": {
    "colab": {
      "include_colab_link": true,
      "provenance": [],
      "toc_visible": true
    },
    "kernelspec": {
      "display_name": "Python 3",
      "name": "python3"
    },
    "language_info": {
      "codemirror_mode": {
        "name": "ipython",
        "version": 3
      },
      "file_extension": ".py",
      "mimetype": "text/x-python",
      "name": "python",
      "nbconvert_exporter": "python",
      "pygments_lexer": "ipython3",
      "version": "3.10.9"
    }
  },
  "nbformat": 4,
  "nbformat_minor": 0
}
