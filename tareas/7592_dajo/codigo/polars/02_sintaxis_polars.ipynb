{
 "cells": [
  {
   "cell_type": "markdown",
   "metadata": {},
   "source": [
    "<a target=\"_blank\" href=\"https://colab.research.google.com/github/sonder-art/fdd_o23/blob/main/codigo/polars/02_sintaxis_polars.ipynb\">\n",
    "  <img src=\"https://colab.research.google.com/assets/colab-badge.svg\" alt=\"Open In Colab\"/>\n",
    "</a>"
   ]
  },
  {
   "cell_type": "code",
   "execution_count": null,
   "metadata": {},
   "outputs": [],
   "source": [
    "#!pip isntall polars"
   ]
  },
  {
   "cell_type": "code",
   "execution_count": 2,
   "metadata": {},
   "outputs": [],
   "source": [
    "import polars as pl"
   ]
  },
  {
   "cell_type": "code",
   "execution_count": 3,
   "metadata": {},
   "outputs": [],
   "source": [
    "# Crear un DataFrame simple\n",
    "df = pl.DataFrame({\n",
    "    \"nombre\": [\"Ana\", \"Luis\", \"Marta\"],\n",
    "    \"edad\": [25, 32, 18]\n",
    "})"
   ]
  },
  {
   "cell_type": "markdown",
   "metadata": {},
   "source": [
    "# pl.col"
   ]
  },
  {
   "cell_type": "code",
   "execution_count": 4,
   "metadata": {},
   "outputs": [
    {
     "name": "stdout",
     "output_type": "stream",
     "text": [
      "shape: (3, 1)\n",
      "┌──────┐\n",
      "│ edad │\n",
      "│ ---  │\n",
      "│ i64  │\n",
      "╞══════╡\n",
      "│ 35   │\n",
      "│ 42   │\n",
      "│ 28   │\n",
      "└──────┘\n"
     ]
    }
   ],
   "source": [
    "# Seleccionar la columna 'edad' y realizar una operación\n",
    "edad_mas_diez = df.select(\n",
    "    pl.col(\"edad\") + 10\n",
    ")\n",
    "\n",
    "print(edad_mas_diez)\n"
   ]
  },
  {
   "cell_type": "markdown",
   "metadata": {},
   "source": [
    "Ahora crea una nueva columna que aparezca en el mismo `df` que se llame `super_edad` y sea la edad al cuadrado. Tienes que usar `with_columns`, `pl.col` y solo usar una linea de codigo"
   ]
  },
  {
   "cell_type": "code",
   "execution_count": null,
   "metadata": {},
   "outputs": [],
   "source": [
    "# TU codigo aqui"
   ]
  },
  {
   "cell_type": "markdown",
   "metadata": {},
   "source": [
    "# Varias Operaciones"
   ]
  },
  {
   "cell_type": "code",
   "execution_count": 5,
   "metadata": {},
   "outputs": [
    {
     "name": "stdout",
     "output_type": "stream",
     "text": [
      "shape: (3, 4)\n",
      "┌────────┬──────┬────────────┬─────────────┐\n",
      "│ nombre ┆ edad ┆ edad_doble ┆ mayor_de_30 │\n",
      "│ ---    ┆ ---  ┆ ---        ┆ ---         │\n",
      "│ str    ┆ i64  ┆ i64        ┆ bool        │\n",
      "╞════════╪══════╪════════════╪═════════════╡\n",
      "│ Ana    ┆ 25   ┆ 50         ┆ false       │\n",
      "│ Luis   ┆ 32   ┆ 64         ┆ true        │\n",
      "│ Marta  ┆ 18   ┆ 36         ┆ false       │\n",
      "└────────┴──────┴────────────┴─────────────┘\n"
     ]
    }
   ],
   "source": [
    "# Añadir dos nuevas columnas utilizando operaciones con 'pl.col'\n",
    "df = df.with_columns([\n",
    "    (pl.col(\"edad\") * 2).alias(\"edad_doble\"),\n",
    "    (pl.col(\"edad\") > 30).alias(\"mayor_de_30\")\n",
    "])\n",
    "\n",
    "print(df)\n"
   ]
  },
  {
   "cell_type": "markdown",
   "metadata": {},
   "source": [
    "# Groupby Complejo"
   ]
  },
  {
   "cell_type": "code",
   "execution_count": 6,
   "metadata": {},
   "outputs": [],
   "source": [
    "# Crear un DataFrame de ejemplo\n",
    "df = pl.DataFrame({\n",
    "    \"departamento\": [\"ventas\", \"ventas\", \"IT\", \"IT\", \"HR\", \"HR\"],\n",
    "    \"empleado\": [\"Ana\", \"Luis\", \"Marta\", \"Juan\", \"Elena\", \"Carlos\"],\n",
    "    \"salario\": [30000, 35000, 42000, 40000, 38000, 32000]\n",
    "})\n"
   ]
  },
  {
   "cell_type": "code",
   "execution_count": 7,
   "metadata": {},
   "outputs": [
    {
     "name": "stdout",
     "output_type": "stream",
     "text": [
      "shape: (3, 5)\n",
      "┌──────────────┬──────────────────┬────────────────┬────────────────┬─────────────────────────────┐\n",
      "│ departamento ┆ salario_promedio ┆ salario_minimo ┆ salario_maximo ┆ desviacion_estandar_salario │\n",
      "│ ---          ┆ ---              ┆ ---            ┆ ---            ┆ ---                         │\n",
      "│ str          ┆ f64              ┆ i64            ┆ i64            ┆ f64                         │\n",
      "╞══════════════╪══════════════════╪════════════════╪════════════════╪═════════════════════════════╡\n",
      "│ IT           ┆ 41000.0          ┆ 40000          ┆ 42000          ┆ 1414.213562                 │\n",
      "│ ventas       ┆ 32500.0          ┆ 30000          ┆ 35000          ┆ 3535.533906                 │\n",
      "│ HR           ┆ 35000.0          ┆ 32000          ┆ 38000          ┆ 4242.640687                 │\n",
      "└──────────────┴──────────────────┴────────────────┴────────────────┴─────────────────────────────┘\n"
     ]
    },
    {
     "name": "stderr",
     "output_type": "stream",
     "text": [
      "/tmp/ipykernel_12144/491167400.py:2: DeprecationWarning: `groupby` is deprecated. It has been renamed to `group_by`.\n",
      "  resultado = df.groupby(\"departamento\").agg([\n"
     ]
    }
   ],
   "source": [
    "\n",
    "# Realizar un groupby y múltiples agregaciones\n",
    "resultado = df.groupby(\"departamento\").agg([\n",
    "    pl.col(\"salario\").mean().alias(\"salario_promedio\"),\n",
    "    pl.col(\"salario\").min().alias(\"salario_minimo\"),\n",
    "    pl.col(\"salario\").max().alias(\"salario_maximo\"),\n",
    "    pl.col(\"salario\").std().alias(\"desviacion_estandar_salario\")\n",
    "])\n",
    "\n",
    "print(resultado)\n"
   ]
  },
  {
   "cell_type": "code",
   "execution_count": 8,
   "metadata": {},
   "outputs": [
    {
     "name": "stdout",
     "output_type": "stream",
     "text": [
      "shape: (1, 2)\n",
      "┌──────────────┬──────────────────┐\n",
      "│ departamento ┆ salario_promedio │\n",
      "│ ---          ┆ ---              │\n",
      "│ str          ┆ f64              │\n",
      "╞══════════════╪══════════════════╡\n",
      "│ IT           ┆ 41000.0          │\n",
      "└──────────────┴──────────────────┘\n"
     ]
    },
    {
     "name": "stderr",
     "output_type": "stream",
     "text": [
      "/tmp/ipykernel_12144/3630847870.py:2: DeprecationWarning: `groupby` is deprecated. It has been renamed to `group_by`.\n",
      "  deptos_alto_salario = df.groupby(\"departamento\").agg([\n"
     ]
    }
   ],
   "source": [
    "# Filtrar los departamentos donde el salario promedio es mayor a 35000\n",
    "deptos_alto_salario = df.groupby(\"departamento\").agg([\n",
    "    pl.col(\"salario\").mean().alias(\"salario_promedio\")\n",
    "]).filter(pl.col(\"salario_promedio\") > 35000)\n",
    "\n",
    "print(deptos_alto_salario)\n"
   ]
  }
 ],
 "metadata": {
  "kernelspec": {
   "display_name": ".venv",
   "language": "python",
   "name": "python3"
  },
  "language_info": {
   "codemirror_mode": {
    "name": "ipython",
    "version": 3
   },
   "file_extension": ".py",
   "mimetype": "text/x-python",
   "name": "python",
   "nbconvert_exporter": "python",
   "pygments_lexer": "ipython3",
   "version": "3.11.5"
  }
 },
 "nbformat": 4,
 "nbformat_minor": 2
}
