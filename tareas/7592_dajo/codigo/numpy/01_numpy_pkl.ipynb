{
  "cells": [
    {
      "cell_type": "markdown",
      "metadata": {},
      "source": [
        "<a target=\"_blank\" href=\"https://colab.research.google.com/github/sonder-art/fdd_o23/blob/main/codigo/numpy/01_numpy_pkl.ipynb\">\n",
        "  <img src=\"https://colab.research.google.com/assets/colab-badge.svg\" alt=\"Open In Colab\"/>\n",
        "</a>"
      ]
    },
    {
      "cell_type": "code",
      "execution_count": 1,
      "metadata": {
        "id": "958WOQ7z3cre"
      },
      "outputs": [],
      "source": [
        "import numpy as np\n",
        "import sys"
      ]
    },
    {
      "cell_type": "markdown",
      "metadata": {
        "id": "LuZaQ4Jh4x3g"
      },
      "source": [
        "# Pickle"
      ]
    },
    {
      "cell_type": "code",
      "execution_count": 2,
      "metadata": {
        "id": "zmWALOkmAiIR"
      },
      "outputs": [],
      "source": [
        "import pickle"
      ]
    },
    {
      "cell_type": "markdown",
      "metadata": {
        "id": "EEkWgugw41kw"
      },
      "source": [
        "## Numpy"
      ]
    },
    {
      "cell_type": "markdown",
      "metadata": {
        "id": "NCm5AOe_3kDU"
      },
      "source": [
        "Salvar objeto con pickle"
      ]
    },
    {
      "cell_type": "code",
      "execution_count": null,
      "metadata": {
        "id": "sh-qkORZ3mWK"
      },
      "outputs": [],
      "source": [
        "a = np.array([1, 2, 3, 4, 5])\n",
        "with open(\"array.pkl\", \"wb\") as f:\n",
        "    pickle.dump(a, f)"
      ]
    },
    {
      "cell_type": "code",
      "execution_count": null,
      "metadata": {
        "colab": {
          "base_uri": "https://localhost:8080/"
        },
        "id": "3jlLeigH3xRw",
        "outputId": "432eba93-6d84-4520-db45-1ccb66219c5c"
      },
      "outputs": [
        {
          "name": "stdout",
          "output_type": "stream",
          "text": [
            "[-1  2  3  4  5]\n"
          ]
        }
      ],
      "source": [
        "a[0] = -1\n",
        "print(a)"
      ]
    },
    {
      "cell_type": "code",
      "execution_count": null,
      "metadata": {
        "colab": {
          "base_uri": "https://localhost:8080/"
        },
        "id": "v6K5wpSF3o_h",
        "outputId": "f23d31c8-82b5-4f96-9d4f-6619f6be4c90"
      },
      "outputs": [
        {
          "name": "stdout",
          "output_type": "stream",
          "text": [
            "array.pkl  sample_data\n"
          ]
        }
      ],
      "source": [
        "!ls"
      ]
    },
    {
      "cell_type": "markdown",
      "metadata": {
        "id": "u8NbpVPm3qFV"
      },
      "source": [
        "Cargar objeto con Pickle"
      ]
    },
    {
      "cell_type": "code",
      "execution_count": null,
      "metadata": {
        "colab": {
          "base_uri": "https://localhost:8080/"
        },
        "id": "cjSt_82f3tKK",
        "outputId": "ec0fc65f-19ef-429c-9910-9a0369d7abe0"
      },
      "outputs": [
        {
          "name": "stdout",
          "output_type": "stream",
          "text": [
            "[1 2 3 4 5]\n"
          ]
        }
      ],
      "source": [
        "with open(\"array.pkl\", \"rb\") as f:\n",
        "    b = pickle.load(f)\n",
        "print(b)"
      ]
    },
    {
      "cell_type": "markdown",
      "metadata": {
        "id": "E4Jo7uIn44ER"
      },
      "source": [
        "## Dicts"
      ]
    },
    {
      "cell_type": "code",
      "execution_count": null,
      "metadata": {
        "colab": {
          "base_uri": "https://localhost:8080/"
        },
        "id": "8rGES97v452D",
        "outputId": "a277b5b9-1b56-4465-c6d3-30df95b0a44d"
      },
      "outputs": [
        {
          "name": "stdout",
          "output_type": "stream",
          "text": [
            "{'name': 'John Doe', 'age': 32, 'email': 'johndoe@example.com'}\n"
          ]
        }
      ],
      "source": [
        "# Crear un objeto Python\n",
        "data = {\"name\": \"John Doe\", \"age\": 32, \"email\": \"johndoe@example.com\"}\n",
        "\n",
        "# Serializar el objeto y guardarlo en un archivo\n",
        "with open(\"data.pkl\", \"wb\") as f:\n",
        "    pickle.dump(data, f)\n",
        "\n",
        "# Cargar el objeto desde el archivo\n",
        "with open(\"data.pkl\", \"rb\") as f:\n",
        "    loaded_data = pickle.load(f)\n",
        "\n",
        "print(loaded_data)"
      ]
    },
    {
      "cell_type": "code",
      "execution_count": null,
      "metadata": {
        "colab": {
          "base_uri": "https://localhost:8080/"
        },
        "id": "CpJPVwqx47Lv",
        "outputId": "e888aef1-5c88-4b6e-90d7-b9d4d4b6e04e"
      },
      "outputs": [
        {
          "name": "stdout",
          "output_type": "stream",
          "text": [
            "array.pkl  data.pkl  sample_data\n"
          ]
        }
      ],
      "source": [
        "!ls"
      ]
    },
    {
      "cell_type": "markdown",
      "metadata": {
        "id": "3Ua19RL76I9G"
      },
      "source": [
        "Estos archivos pickle no son human readable"
      ]
    },
    {
      "cell_type": "code",
      "execution_count": null,
      "metadata": {
        "colab": {
          "base_uri": "https://localhost:8080/"
        },
        "id": "DmNbuoPK482e",
        "outputId": "40443f9b-c1a0-4a9e-8ec4-6d7b1331781a"
      },
      "outputs": [
        {
          "name": "stdout",
          "output_type": "stream",
          "text": [
            "�\u0004��\u0000\u0000\u0000\u0000\u0000\u0000\u0000�\u0015numpy.core.multiarray��\f_reconstruct����\u0005numpy��\u0007ndarray���K\u0000��C\u0001b���R�(K\u0001K\u0005��h\u0003�\u0005dtype����\u0002i8�����R�(K\u0003�\u0001<�NNNJ����J����K\u0000t�b�C(\u0001\u0000\u0000\u0000\u0000\u0000\u0000\u0000\u0002\u0000\u0000\u0000\u0000\u0000\u0000\u0000\u0003\u0000\u0000\u0000\u0000\u0000\u0000\u0000\u0004\u0000\u0000\u0000\u0000\u0000\u0000\u0000\u0005\u0000\u0000\u0000\u0000\u0000\u0000\u0000�t�b."
          ]
        }
      ],
      "source": [
        "! cat array.pkl"
      ]
    },
    {
      "cell_type": "markdown",
      "metadata": {
        "id": "X0u2U2q15zjx"
      },
      "source": [
        "# Json"
      ]
    },
    {
      "cell_type": "code",
      "execution_count": 3,
      "metadata": {
        "id": "SYvZeh6d50o4"
      },
      "outputs": [],
      "source": [
        "import json"
      ]
    },
    {
      "cell_type": "code",
      "execution_count": null,
      "metadata": {
        "colab": {
          "base_uri": "https://localhost:8080/"
        },
        "id": "VaTo0mux52K3",
        "outputId": "717102ea-690b-4351-f232-c6f12c9517e4"
      },
      "outputs": [
        {
          "name": "stdout",
          "output_type": "stream",
          "text": [
            "{'name': 'John Doe', 'age': 32, 'email': 'johndoe@example.com'}\n"
          ]
        }
      ],
      "source": [
        "\n",
        "# Crear un objeto Python, nota que es igual que en el ejemplo anterior\n",
        "data = {\"name\": \"John Doe\", \"age\": 32, \"email\": \"johndoe@example.com\"}\n"
      ]
    },
    {
      "cell_type": "code",
      "execution_count": null,
      "metadata": {
        "id": "n_WOQXUF5-vj"
      },
      "outputs": [],
      "source": [
        "# Serializar el objeto en formato JSON y guardarlo en un archivo\n",
        "with open(\"data.json\", \"w\") as f:\n",
        "    json.dump(data, f)\n"
      ]
    },
    {
      "cell_type": "code",
      "execution_count": null,
      "metadata": {
        "colab": {
          "base_uri": "https://localhost:8080/"
        },
        "id": "C06i6bXn6CYf",
        "outputId": "71e8dc97-4b07-40f6-d193-c48c36eea43d"
      },
      "outputs": [
        {
          "data": {
            "text/plain": [
              "{'name': 'John Doe', 'age': 32, 'email': 'johndoe@example.com'}"
            ]
          },
          "execution_count": 15,
          "metadata": {},
          "output_type": "execute_result"
        }
      ],
      "source": [
        "data"
      ]
    },
    {
      "cell_type": "code",
      "execution_count": null,
      "metadata": {
        "colab": {
          "base_uri": "https://localhost:8080/"
        },
        "id": "K-1cHbAK6DQ3",
        "outputId": "837a77f1-3adb-462e-f729-6ba0e50ce823"
      },
      "outputs": [
        {
          "name": "stdout",
          "output_type": "stream",
          "text": [
            "{'name': 'John Doe', 'age': 32, 'email': 'johndoe@example.com'}\n"
          ]
        }
      ],
      "source": [
        "# Cargar el objeto desde el archivo de JSON\n",
        "with open(\"data.json\", \"r\") as f:\n",
        "    loaded_data = json.load(f)\n",
        "\n",
        "print(loaded_data)"
      ]
    },
    {
      "cell_type": "markdown",
      "metadata": {
        "id": "pQZG0zbE6Myr"
      },
      "source": [
        "Los archivos json son human readable"
      ]
    },
    {
      "cell_type": "code",
      "execution_count": null,
      "metadata": {
        "colab": {
          "base_uri": "https://localhost:8080/"
        },
        "id": "yx7NQ4TY6Ewh",
        "outputId": "4423e3a6-0f7e-4162-e2ce-c5a645671322"
      },
      "outputs": [
        {
          "name": "stdout",
          "output_type": "stream",
          "text": [
            "{\"name\": \"John Doe\", \"age\": 32, \"email\": \"johndoe@example.com\"}"
          ]
        }
      ],
      "source": [
        "! cat data.json"
      ]
    },
    {
      "cell_type": "markdown",
      "metadata": {
        "id": "VYn14rn96bLO"
      },
      "source": [
        "# Comparemos su tamanyo"
      ]
    },
    {
      "cell_type": "code",
      "execution_count": null,
      "metadata": {
        "colab": {
          "base_uri": "https://localhost:8080/"
        },
        "id": "SGi1ujkw6WEv",
        "outputId": "ad1fcdc4-9cdb-4cce-aa16-538b6c5b7d44"
      },
      "outputs": [
        {
          "name": "stdout",
          "output_type": "stream",
          "text": [
            "total 16K\n",
            "-rw-r--r-- 1 root root  187 Feb 13 17:42 array.pkl\n",
            "-rw-r--r-- 1 root root   63 Feb 13 17:51 data.json\n",
            "-rw-r--r-- 1 root root   72 Feb 13 17:47 data.pkl\n",
            "drwxr-xr-x 1 root root 4.0K Feb 10 14:33 sample_data\n"
          ]
        }
      ],
      "source": [
        "!ls -lh"
      ]
    },
    {
      "cell_type": "markdown",
      "metadata": {
        "id": "3IanO2aO8FYc"
      },
      "source": [
        "# JSON vs. Pickle"
      ]
    },
    {
      "cell_type": "code",
      "execution_count": null,
      "metadata": {
        "id": "57t8qLi-8IAN"
      },
      "outputs": [],
      "source": [
        "ar = np.array([1, 2, 3, 4, 5])\n",
        "ar_dict = {'np_array':ar}"
      ]
    },
    {
      "cell_type": "code",
      "execution_count": null,
      "metadata": {
        "id": "-KQk1MQN8QMd"
      },
      "outputs": [],
      "source": [
        "with open(\"dict_array.pkl\", \"wb\") as f:\n",
        "    pickle.dump(ar_dict, f)"
      ]
    },
    {
      "cell_type": "code",
      "execution_count": null,
      "metadata": {
        "colab": {
          "base_uri": "https://localhost:8080/",
          "height": 332
        },
        "id": "6RNPWiBI8WIr",
        "outputId": "4c3b01dc-d5fe-4264-84f7-2c60fb9f6b19"
      },
      "outputs": [
        {
          "ename": "TypeError",
          "evalue": "ignored",
          "output_type": "error",
          "traceback": [
            "\u001b[0;31m---------------------------------------------------------------------------\u001b[0m",
            "\u001b[0;31mTypeError\u001b[0m                                 Traceback (most recent call last)",
            "\u001b[0;32m<ipython-input-47-032e56443578>\u001b[0m in \u001b[0;36m<module>\u001b[0;34m\u001b[0m\n\u001b[1;32m      1\u001b[0m \u001b[0;32mwith\u001b[0m \u001b[0mopen\u001b[0m\u001b[0;34m(\u001b[0m\u001b[0;34m\"dict_list.json\"\u001b[0m\u001b[0;34m,\u001b[0m \u001b[0;34m\"w\"\u001b[0m\u001b[0;34m)\u001b[0m \u001b[0;32mas\u001b[0m \u001b[0mf\u001b[0m\u001b[0;34m:\u001b[0m\u001b[0;34m\u001b[0m\u001b[0;34m\u001b[0m\u001b[0m\n\u001b[0;32m----> 2\u001b[0;31m     \u001b[0mjson\u001b[0m\u001b[0;34m.\u001b[0m\u001b[0mdump\u001b[0m\u001b[0;34m(\u001b[0m\u001b[0mar_dict\u001b[0m\u001b[0;34m,\u001b[0m \u001b[0mf\u001b[0m\u001b[0;34m)\u001b[0m\u001b[0;34m\u001b[0m\u001b[0;34m\u001b[0m\u001b[0m\n\u001b[0m",
            "\u001b[0;32m/usr/lib/python3.8/json/__init__.py\u001b[0m in \u001b[0;36mdump\u001b[0;34m(obj, fp, skipkeys, ensure_ascii, check_circular, allow_nan, cls, indent, separators, default, sort_keys, **kw)\u001b[0m\n\u001b[1;32m    177\u001b[0m     \u001b[0;31m# could accelerate with writelines in some versions of Python, at\u001b[0m\u001b[0;34m\u001b[0m\u001b[0;34m\u001b[0m\u001b[0;34m\u001b[0m\u001b[0m\n\u001b[1;32m    178\u001b[0m     \u001b[0;31m# a debuggability cost\u001b[0m\u001b[0;34m\u001b[0m\u001b[0;34m\u001b[0m\u001b[0;34m\u001b[0m\u001b[0m\n\u001b[0;32m--> 179\u001b[0;31m     \u001b[0;32mfor\u001b[0m \u001b[0mchunk\u001b[0m \u001b[0;32min\u001b[0m \u001b[0miterable\u001b[0m\u001b[0;34m:\u001b[0m\u001b[0;34m\u001b[0m\u001b[0;34m\u001b[0m\u001b[0m\n\u001b[0m\u001b[1;32m    180\u001b[0m         \u001b[0mfp\u001b[0m\u001b[0;34m.\u001b[0m\u001b[0mwrite\u001b[0m\u001b[0;34m(\u001b[0m\u001b[0mchunk\u001b[0m\u001b[0;34m)\u001b[0m\u001b[0;34m\u001b[0m\u001b[0;34m\u001b[0m\u001b[0m\n\u001b[1;32m    181\u001b[0m \u001b[0;34m\u001b[0m\u001b[0m\n",
            "\u001b[0;32m/usr/lib/python3.8/json/encoder.py\u001b[0m in \u001b[0;36m_iterencode\u001b[0;34m(o, _current_indent_level)\u001b[0m\n\u001b[1;32m    429\u001b[0m             \u001b[0;32myield\u001b[0m \u001b[0;32mfrom\u001b[0m \u001b[0m_iterencode_list\u001b[0m\u001b[0;34m(\u001b[0m\u001b[0mo\u001b[0m\u001b[0;34m,\u001b[0m \u001b[0m_current_indent_level\u001b[0m\u001b[0;34m)\u001b[0m\u001b[0;34m\u001b[0m\u001b[0;34m\u001b[0m\u001b[0m\n\u001b[1;32m    430\u001b[0m         \u001b[0;32melif\u001b[0m \u001b[0misinstance\u001b[0m\u001b[0;34m(\u001b[0m\u001b[0mo\u001b[0m\u001b[0;34m,\u001b[0m \u001b[0mdict\u001b[0m\u001b[0;34m)\u001b[0m\u001b[0;34m:\u001b[0m\u001b[0;34m\u001b[0m\u001b[0;34m\u001b[0m\u001b[0m\n\u001b[0;32m--> 431\u001b[0;31m             \u001b[0;32myield\u001b[0m \u001b[0;32mfrom\u001b[0m \u001b[0m_iterencode_dict\u001b[0m\u001b[0;34m(\u001b[0m\u001b[0mo\u001b[0m\u001b[0;34m,\u001b[0m \u001b[0m_current_indent_level\u001b[0m\u001b[0;34m)\u001b[0m\u001b[0;34m\u001b[0m\u001b[0;34m\u001b[0m\u001b[0m\n\u001b[0m\u001b[1;32m    432\u001b[0m         \u001b[0;32melse\u001b[0m\u001b[0;34m:\u001b[0m\u001b[0;34m\u001b[0m\u001b[0;34m\u001b[0m\u001b[0m\n\u001b[1;32m    433\u001b[0m             \u001b[0;32mif\u001b[0m \u001b[0mmarkers\u001b[0m \u001b[0;32mis\u001b[0m \u001b[0;32mnot\u001b[0m \u001b[0;32mNone\u001b[0m\u001b[0;34m:\u001b[0m\u001b[0;34m\u001b[0m\u001b[0;34m\u001b[0m\u001b[0m\n",
            "\u001b[0;32m/usr/lib/python3.8/json/encoder.py\u001b[0m in \u001b[0;36m_iterencode_dict\u001b[0;34m(dct, _current_indent_level)\u001b[0m\n\u001b[1;32m    403\u001b[0m                 \u001b[0;32melse\u001b[0m\u001b[0;34m:\u001b[0m\u001b[0;34m\u001b[0m\u001b[0;34m\u001b[0m\u001b[0m\n\u001b[1;32m    404\u001b[0m                     \u001b[0mchunks\u001b[0m \u001b[0;34m=\u001b[0m \u001b[0m_iterencode\u001b[0m\u001b[0;34m(\u001b[0m\u001b[0mvalue\u001b[0m\u001b[0;34m,\u001b[0m \u001b[0m_current_indent_level\u001b[0m\u001b[0;34m)\u001b[0m\u001b[0;34m\u001b[0m\u001b[0;34m\u001b[0m\u001b[0m\n\u001b[0;32m--> 405\u001b[0;31m                 \u001b[0;32myield\u001b[0m \u001b[0;32mfrom\u001b[0m \u001b[0mchunks\u001b[0m\u001b[0;34m\u001b[0m\u001b[0;34m\u001b[0m\u001b[0m\n\u001b[0m\u001b[1;32m    406\u001b[0m         \u001b[0;32mif\u001b[0m \u001b[0mnewline_indent\u001b[0m \u001b[0;32mis\u001b[0m \u001b[0;32mnot\u001b[0m \u001b[0;32mNone\u001b[0m\u001b[0;34m:\u001b[0m\u001b[0;34m\u001b[0m\u001b[0;34m\u001b[0m\u001b[0m\n\u001b[1;32m    407\u001b[0m             \u001b[0m_current_indent_level\u001b[0m \u001b[0;34m-=\u001b[0m \u001b[0;36m1\u001b[0m\u001b[0;34m\u001b[0m\u001b[0;34m\u001b[0m\u001b[0m\n",
            "\u001b[0;32m/usr/lib/python3.8/json/encoder.py\u001b[0m in \u001b[0;36m_iterencode\u001b[0;34m(o, _current_indent_level)\u001b[0m\n\u001b[1;32m    436\u001b[0m                     \u001b[0;32mraise\u001b[0m \u001b[0mValueError\u001b[0m\u001b[0;34m(\u001b[0m\u001b[0;34m\"Circular reference detected\"\u001b[0m\u001b[0;34m)\u001b[0m\u001b[0;34m\u001b[0m\u001b[0;34m\u001b[0m\u001b[0m\n\u001b[1;32m    437\u001b[0m                 \u001b[0mmarkers\u001b[0m\u001b[0;34m[\u001b[0m\u001b[0mmarkerid\u001b[0m\u001b[0;34m]\u001b[0m \u001b[0;34m=\u001b[0m \u001b[0mo\u001b[0m\u001b[0;34m\u001b[0m\u001b[0;34m\u001b[0m\u001b[0m\n\u001b[0;32m--> 438\u001b[0;31m             \u001b[0mo\u001b[0m \u001b[0;34m=\u001b[0m \u001b[0m_default\u001b[0m\u001b[0;34m(\u001b[0m\u001b[0mo\u001b[0m\u001b[0;34m)\u001b[0m\u001b[0;34m\u001b[0m\u001b[0;34m\u001b[0m\u001b[0m\n\u001b[0m\u001b[1;32m    439\u001b[0m             \u001b[0;32myield\u001b[0m \u001b[0;32mfrom\u001b[0m \u001b[0m_iterencode\u001b[0m\u001b[0;34m(\u001b[0m\u001b[0mo\u001b[0m\u001b[0;34m,\u001b[0m \u001b[0m_current_indent_level\u001b[0m\u001b[0;34m)\u001b[0m\u001b[0;34m\u001b[0m\u001b[0;34m\u001b[0m\u001b[0m\n\u001b[1;32m    440\u001b[0m             \u001b[0;32mif\u001b[0m \u001b[0mmarkers\u001b[0m \u001b[0;32mis\u001b[0m \u001b[0;32mnot\u001b[0m \u001b[0;32mNone\u001b[0m\u001b[0;34m:\u001b[0m\u001b[0;34m\u001b[0m\u001b[0;34m\u001b[0m\u001b[0m\n",
            "\u001b[0;32m/usr/lib/python3.8/json/encoder.py\u001b[0m in \u001b[0;36mdefault\u001b[0;34m(self, o)\u001b[0m\n\u001b[1;32m    177\u001b[0m \u001b[0;34m\u001b[0m\u001b[0m\n\u001b[1;32m    178\u001b[0m         \"\"\"\n\u001b[0;32m--> 179\u001b[0;31m         raise TypeError(f'Object of type {o.__class__.__name__} '\n\u001b[0m\u001b[1;32m    180\u001b[0m                         f'is not JSON serializable')\n\u001b[1;32m    181\u001b[0m \u001b[0;34m\u001b[0m\u001b[0m\n",
            "\u001b[0;31mTypeError\u001b[0m: Object of type ndarray is not JSON serializable"
          ]
        }
      ],
      "source": [
        "with open(\"dict_list.json\", \"w\") as f:\n",
        "    json.dump(ar_dict, f)\n"
      ]
    },
    {
      "cell_type": "markdown",
      "metadata": {
        "id": "fXT8jxiH9p2T"
      },
      "source": [
        "# Diccionarios"
      ]
    },
    {
      "cell_type": "code",
      "execution_count": null,
      "metadata": {
        "colab": {
          "base_uri": "https://localhost:8080/"
        },
        "id": "__KyXRR_9HF5",
        "outputId": "238dc58c-0ddc-4e8a-adbd-d854cb099aae"
      },
      "outputs": [
        {
          "name": "stdout",
          "output_type": "stream",
          "text": [
            "{'np_array': array([1, 2, 3, 4, 5])}\n"
          ]
        }
      ],
      "source": [
        "ar = np.array([1, 2, 3, 4, 5])\n",
        "ar_dict = {'np_array':ar}\n",
        "\n",
        "# Los diccionarios tambien se pasan por referencia, asi que hay que\n",
        "# hacer una compia para no modificar el original\n",
        "ar_dict2 = ar_dict.copy()\n",
        "print(ar_dict2)\n",
        "ar_dict2['np_array'][0] = -1\n",
        "ar_dict2['np_array'] = list(ar_dict2['np_array'])"
      ]
    },
    {
      "cell_type": "code",
      "execution_count": null,
      "metadata": {
        "colab": {
          "base_uri": "https://localhost:8080/"
        },
        "id": "tnW3IQ-r9TUf",
        "outputId": "32e33160-8442-4523-cd64-9254909891b3"
      },
      "outputs": [
        {
          "data": {
            "text/plain": [
              "{'np_array': array([-1,  2,  3,  4,  5])}"
            ]
          },
          "execution_count": 41,
          "metadata": {},
          "output_type": "execute_result"
        }
      ],
      "source": [
        "ar_dict"
      ]
    },
    {
      "cell_type": "code",
      "execution_count": null,
      "metadata": {
        "colab": {
          "base_uri": "https://localhost:8080/"
        },
        "id": "Fg8pKKjI9Yrl",
        "outputId": "b60d0ee5-43dc-4562-a00e-0e6593dece83"
      },
      "outputs": [
        {
          "data": {
            "text/plain": [
              "{'np_array': [-1, 2, 3, 4, 5]}"
            ]
          },
          "execution_count": 42,
          "metadata": {},
          "output_type": "execute_result"
        }
      ],
      "source": [
        "ar_dict2"
      ]
    },
    {
      "cell_type": "markdown",
      "metadata": {
        "id": "3Fn0SYSH94yi"
      },
      "source": [
        "Nota que incluso al `copiar` el diccionario, este sigue apuntando a los objetos originales. Por lo tanto hay que tener cuidado con que modificamos"
      ]
    },
    {
      "cell_type": "code",
      "execution_count": null,
      "metadata": {
        "colab": {
          "base_uri": "https://localhost:8080/"
        },
        "id": "DfUrDZve-Cla",
        "outputId": "7ddc05dd-486f-42b0-8bbf-d35a57af61e5"
      },
      "outputs": [
        {
          "name": "stdout",
          "output_type": "stream",
          "text": [
            "{'np_array': array([1, 2, 3, 4, 5])}\n"
          ]
        }
      ],
      "source": [
        "ar = np.array([1, 2, 3, 4, 5])\n",
        "ar_dict = {'np_array':ar}\n",
        "\n",
        "ar_dict2 = ar_dict.copy()\n",
        "print(ar_dict2)\n",
        "# Cambiamos el objeto al que referencia el diccionario 2\n",
        "ar_dict2['np_array'] = list(ar_dict2['np_array'])\n",
        "ar_dict2['np_array'][0] = -1\n"
      ]
    },
    {
      "cell_type": "code",
      "execution_count": null,
      "metadata": {
        "colab": {
          "base_uri": "https://localhost:8080/"
        },
        "id": "7h6s0TvP-Lk1",
        "outputId": "203caa28-2f41-4ae6-e69b-1b7ecebdd348"
      },
      "outputs": [
        {
          "data": {
            "text/plain": [
              "{'np_array': array([1, 2, 3, 4, 5])}"
            ]
          },
          "execution_count": 44,
          "metadata": {},
          "output_type": "execute_result"
        }
      ],
      "source": [
        "ar_dict"
      ]
    },
    {
      "cell_type": "code",
      "execution_count": null,
      "metadata": {
        "colab": {
          "base_uri": "https://localhost:8080/"
        },
        "id": "Qfn2B0lQ-RZ_",
        "outputId": "ae3f10a3-7074-4ed3-d132-cd023d7df153"
      },
      "outputs": [
        {
          "data": {
            "text/plain": [
              "{'np_array': [-1, 2, 3, 4, 5]}"
            ]
          },
          "execution_count": 48,
          "metadata": {},
          "output_type": "execute_result"
        }
      ],
      "source": [
        "ar_dict2"
      ]
    },
    {
      "cell_type": "markdown",
      "metadata": {
        "id": "_Ont2RxY-iri"
      },
      "source": [
        "## Dicts, Json y Numpy"
      ]
    },
    {
      "cell_type": "markdown",
      "metadata": {
        "id": "_n8s9YzW_MkV"
      },
      "source": [
        "El error TypeError: Object of type int64 is not JSON serializable ocurre cuando intentas serializar un objeto que contiene un tipo de datos que no se puede serializar en formato JSON. En este caso, el tipo de datos que causa el error es int64, que es un tipo de numpy para representar enteros de 64 bits."
      ]
    },
    {
      "cell_type": "code",
      "execution_count": null,
      "metadata": {
        "colab": {
          "base_uri": "https://localhost:8080/",
          "height": 332
        },
        "id": "lMSsjpaJ-VID",
        "outputId": "949af0c6-bb07-4d53-81ac-ff23d344d028"
      },
      "outputs": [
        {
          "ename": "TypeError",
          "evalue": "ignored",
          "output_type": "error",
          "traceback": [
            "\u001b[0;31m---------------------------------------------------------------------------\u001b[0m",
            "\u001b[0;31mTypeError\u001b[0m                                 Traceback (most recent call last)",
            "\u001b[0;32m<ipython-input-49-649ac25b42f2>\u001b[0m in \u001b[0;36m<module>\u001b[0;34m\u001b[0m\n\u001b[1;32m      1\u001b[0m \u001b[0;32mwith\u001b[0m \u001b[0mopen\u001b[0m\u001b[0;34m(\u001b[0m\u001b[0;34m\"dict_list.json\"\u001b[0m\u001b[0;34m,\u001b[0m \u001b[0;34m\"w\"\u001b[0m\u001b[0;34m)\u001b[0m \u001b[0;32mas\u001b[0m \u001b[0mf\u001b[0m\u001b[0;34m:\u001b[0m\u001b[0;34m\u001b[0m\u001b[0;34m\u001b[0m\u001b[0m\n\u001b[0;32m----> 2\u001b[0;31m     \u001b[0mjson\u001b[0m\u001b[0;34m.\u001b[0m\u001b[0mdump\u001b[0m\u001b[0;34m(\u001b[0m\u001b[0mar_dict2\u001b[0m\u001b[0;34m,\u001b[0m \u001b[0mf\u001b[0m\u001b[0;34m)\u001b[0m\u001b[0;34m\u001b[0m\u001b[0;34m\u001b[0m\u001b[0m\n\u001b[0m",
            "\u001b[0;32m/usr/lib/python3.8/json/__init__.py\u001b[0m in \u001b[0;36mdump\u001b[0;34m(obj, fp, skipkeys, ensure_ascii, check_circular, allow_nan, cls, indent, separators, default, sort_keys, **kw)\u001b[0m\n\u001b[1;32m    177\u001b[0m     \u001b[0;31m# could accelerate with writelines in some versions of Python, at\u001b[0m\u001b[0;34m\u001b[0m\u001b[0;34m\u001b[0m\u001b[0;34m\u001b[0m\u001b[0m\n\u001b[1;32m    178\u001b[0m     \u001b[0;31m# a debuggability cost\u001b[0m\u001b[0;34m\u001b[0m\u001b[0;34m\u001b[0m\u001b[0;34m\u001b[0m\u001b[0m\n\u001b[0;32m--> 179\u001b[0;31m     \u001b[0;32mfor\u001b[0m \u001b[0mchunk\u001b[0m \u001b[0;32min\u001b[0m \u001b[0miterable\u001b[0m\u001b[0;34m:\u001b[0m\u001b[0;34m\u001b[0m\u001b[0;34m\u001b[0m\u001b[0m\n\u001b[0m\u001b[1;32m    180\u001b[0m         \u001b[0mfp\u001b[0m\u001b[0;34m.\u001b[0m\u001b[0mwrite\u001b[0m\u001b[0;34m(\u001b[0m\u001b[0mchunk\u001b[0m\u001b[0;34m)\u001b[0m\u001b[0;34m\u001b[0m\u001b[0;34m\u001b[0m\u001b[0m\n\u001b[1;32m    181\u001b[0m \u001b[0;34m\u001b[0m\u001b[0m\n",
            "\u001b[0;32m/usr/lib/python3.8/json/encoder.py\u001b[0m in \u001b[0;36m_iterencode\u001b[0;34m(o, _current_indent_level)\u001b[0m\n\u001b[1;32m    429\u001b[0m             \u001b[0;32myield\u001b[0m \u001b[0;32mfrom\u001b[0m \u001b[0m_iterencode_list\u001b[0m\u001b[0;34m(\u001b[0m\u001b[0mo\u001b[0m\u001b[0;34m,\u001b[0m \u001b[0m_current_indent_level\u001b[0m\u001b[0;34m)\u001b[0m\u001b[0;34m\u001b[0m\u001b[0;34m\u001b[0m\u001b[0m\n\u001b[1;32m    430\u001b[0m         \u001b[0;32melif\u001b[0m \u001b[0misinstance\u001b[0m\u001b[0;34m(\u001b[0m\u001b[0mo\u001b[0m\u001b[0;34m,\u001b[0m \u001b[0mdict\u001b[0m\u001b[0;34m)\u001b[0m\u001b[0;34m:\u001b[0m\u001b[0;34m\u001b[0m\u001b[0;34m\u001b[0m\u001b[0m\n\u001b[0;32m--> 431\u001b[0;31m             \u001b[0;32myield\u001b[0m \u001b[0;32mfrom\u001b[0m \u001b[0m_iterencode_dict\u001b[0m\u001b[0;34m(\u001b[0m\u001b[0mo\u001b[0m\u001b[0;34m,\u001b[0m \u001b[0m_current_indent_level\u001b[0m\u001b[0;34m)\u001b[0m\u001b[0;34m\u001b[0m\u001b[0;34m\u001b[0m\u001b[0m\n\u001b[0m\u001b[1;32m    432\u001b[0m         \u001b[0;32melse\u001b[0m\u001b[0;34m:\u001b[0m\u001b[0;34m\u001b[0m\u001b[0;34m\u001b[0m\u001b[0m\n\u001b[1;32m    433\u001b[0m             \u001b[0;32mif\u001b[0m \u001b[0mmarkers\u001b[0m \u001b[0;32mis\u001b[0m \u001b[0;32mnot\u001b[0m \u001b[0;32mNone\u001b[0m\u001b[0;34m:\u001b[0m\u001b[0;34m\u001b[0m\u001b[0;34m\u001b[0m\u001b[0m\n",
            "\u001b[0;32m/usr/lib/python3.8/json/encoder.py\u001b[0m in \u001b[0;36m_iterencode_dict\u001b[0;34m(dct, _current_indent_level)\u001b[0m\n\u001b[1;32m    403\u001b[0m                 \u001b[0;32melse\u001b[0m\u001b[0;34m:\u001b[0m\u001b[0;34m\u001b[0m\u001b[0;34m\u001b[0m\u001b[0m\n\u001b[1;32m    404\u001b[0m                     \u001b[0mchunks\u001b[0m \u001b[0;34m=\u001b[0m \u001b[0m_iterencode\u001b[0m\u001b[0;34m(\u001b[0m\u001b[0mvalue\u001b[0m\u001b[0;34m,\u001b[0m \u001b[0m_current_indent_level\u001b[0m\u001b[0;34m)\u001b[0m\u001b[0;34m\u001b[0m\u001b[0;34m\u001b[0m\u001b[0m\n\u001b[0;32m--> 405\u001b[0;31m                 \u001b[0;32myield\u001b[0m \u001b[0;32mfrom\u001b[0m \u001b[0mchunks\u001b[0m\u001b[0;34m\u001b[0m\u001b[0;34m\u001b[0m\u001b[0m\n\u001b[0m\u001b[1;32m    406\u001b[0m         \u001b[0;32mif\u001b[0m \u001b[0mnewline_indent\u001b[0m \u001b[0;32mis\u001b[0m \u001b[0;32mnot\u001b[0m \u001b[0;32mNone\u001b[0m\u001b[0;34m:\u001b[0m\u001b[0;34m\u001b[0m\u001b[0;34m\u001b[0m\u001b[0m\n\u001b[1;32m    407\u001b[0m             \u001b[0m_current_indent_level\u001b[0m \u001b[0;34m-=\u001b[0m \u001b[0;36m1\u001b[0m\u001b[0;34m\u001b[0m\u001b[0;34m\u001b[0m\u001b[0m\n",
            "\u001b[0;32m/usr/lib/python3.8/json/encoder.py\u001b[0m in \u001b[0;36m_iterencode_list\u001b[0;34m(lst, _current_indent_level)\u001b[0m\n\u001b[1;32m    323\u001b[0m                 \u001b[0;32melse\u001b[0m\u001b[0;34m:\u001b[0m\u001b[0;34m\u001b[0m\u001b[0;34m\u001b[0m\u001b[0m\n\u001b[1;32m    324\u001b[0m                     \u001b[0mchunks\u001b[0m \u001b[0;34m=\u001b[0m \u001b[0m_iterencode\u001b[0m\u001b[0;34m(\u001b[0m\u001b[0mvalue\u001b[0m\u001b[0;34m,\u001b[0m \u001b[0m_current_indent_level\u001b[0m\u001b[0;34m)\u001b[0m\u001b[0;34m\u001b[0m\u001b[0;34m\u001b[0m\u001b[0m\n\u001b[0;32m--> 325\u001b[0;31m                 \u001b[0;32myield\u001b[0m \u001b[0;32mfrom\u001b[0m \u001b[0mchunks\u001b[0m\u001b[0;34m\u001b[0m\u001b[0;34m\u001b[0m\u001b[0m\n\u001b[0m\u001b[1;32m    326\u001b[0m         \u001b[0;32mif\u001b[0m \u001b[0mnewline_indent\u001b[0m \u001b[0;32mis\u001b[0m \u001b[0;32mnot\u001b[0m \u001b[0;32mNone\u001b[0m\u001b[0;34m:\u001b[0m\u001b[0;34m\u001b[0m\u001b[0;34m\u001b[0m\u001b[0m\n\u001b[1;32m    327\u001b[0m             \u001b[0m_current_indent_level\u001b[0m \u001b[0;34m-=\u001b[0m \u001b[0;36m1\u001b[0m\u001b[0;34m\u001b[0m\u001b[0;34m\u001b[0m\u001b[0m\n",
            "\u001b[0;32m/usr/lib/python3.8/json/encoder.py\u001b[0m in \u001b[0;36m_iterencode\u001b[0;34m(o, _current_indent_level)\u001b[0m\n\u001b[1;32m    436\u001b[0m                     \u001b[0;32mraise\u001b[0m \u001b[0mValueError\u001b[0m\u001b[0;34m(\u001b[0m\u001b[0;34m\"Circular reference detected\"\u001b[0m\u001b[0;34m)\u001b[0m\u001b[0;34m\u001b[0m\u001b[0;34m\u001b[0m\u001b[0m\n\u001b[1;32m    437\u001b[0m                 \u001b[0mmarkers\u001b[0m\u001b[0;34m[\u001b[0m\u001b[0mmarkerid\u001b[0m\u001b[0;34m]\u001b[0m \u001b[0;34m=\u001b[0m \u001b[0mo\u001b[0m\u001b[0;34m\u001b[0m\u001b[0;34m\u001b[0m\u001b[0m\n\u001b[0;32m--> 438\u001b[0;31m             \u001b[0mo\u001b[0m \u001b[0;34m=\u001b[0m \u001b[0m_default\u001b[0m\u001b[0;34m(\u001b[0m\u001b[0mo\u001b[0m\u001b[0;34m)\u001b[0m\u001b[0;34m\u001b[0m\u001b[0;34m\u001b[0m\u001b[0m\n\u001b[0m\u001b[1;32m    439\u001b[0m             \u001b[0;32myield\u001b[0m \u001b[0;32mfrom\u001b[0m \u001b[0m_iterencode\u001b[0m\u001b[0;34m(\u001b[0m\u001b[0mo\u001b[0m\u001b[0;34m,\u001b[0m \u001b[0m_current_indent_level\u001b[0m\u001b[0;34m)\u001b[0m\u001b[0;34m\u001b[0m\u001b[0;34m\u001b[0m\u001b[0m\n\u001b[1;32m    440\u001b[0m             \u001b[0;32mif\u001b[0m \u001b[0mmarkers\u001b[0m \u001b[0;32mis\u001b[0m \u001b[0;32mnot\u001b[0m \u001b[0;32mNone\u001b[0m\u001b[0;34m:\u001b[0m\u001b[0;34m\u001b[0m\u001b[0;34m\u001b[0m\u001b[0m\n",
            "\u001b[0;32m/usr/lib/python3.8/json/encoder.py\u001b[0m in \u001b[0;36mdefault\u001b[0;34m(self, o)\u001b[0m\n\u001b[1;32m    177\u001b[0m \u001b[0;34m\u001b[0m\u001b[0m\n\u001b[1;32m    178\u001b[0m         \"\"\"\n\u001b[0;32m--> 179\u001b[0;31m         raise TypeError(f'Object of type {o.__class__.__name__} '\n\u001b[0m\u001b[1;32m    180\u001b[0m                         f'is not JSON serializable')\n\u001b[1;32m    181\u001b[0m \u001b[0;34m\u001b[0m\u001b[0m\n",
            "\u001b[0;31mTypeError\u001b[0m: Object of type int64 is not JSON serializable"
          ]
        }
      ],
      "source": [
        "with open(\"dict_list.json\", \"w\") as f:\n",
        "    json.dump(ar_dict2, f)\n"
      ]
    },
    {
      "cell_type": "markdown",
      "metadata": {
        "id": "MlGx0bnRCI3O"
      },
      "source": [
        "Que pasa si revisamos los tipos de datos"
      ]
    },
    {
      "cell_type": "code",
      "execution_count": null,
      "metadata": {
        "colab": {
          "base_uri": "https://localhost:8080/"
        },
        "id": "6bEYcwqEAt-y",
        "outputId": "010d9942-354b-4b0b-ea17-4be57c402351"
      },
      "outputs": [
        {
          "data": {
            "text/plain": [
              "False"
            ]
          },
          "execution_count": 67,
          "metadata": {},
          "output_type": "execute_result"
        }
      ],
      "source": [
        "isinstance(1,np.int64)"
      ]
    },
    {
      "cell_type": "code",
      "execution_count": null,
      "metadata": {
        "colab": {
          "base_uri": "https://localhost:8080/"
        },
        "id": "hidnrXGzBXJz",
        "outputId": "4fb218f3-6ab8-4ffe-8f76-c87f7906bc7d"
      },
      "outputs": [
        {
          "data": {
            "text/plain": [
              "True"
            ]
          },
          "execution_count": 68,
          "metadata": {},
          "output_type": "execute_result"
        }
      ],
      "source": [
        "isinstance(1,int)"
      ]
    },
    {
      "cell_type": "code",
      "execution_count": null,
      "metadata": {
        "colab": {
          "base_uri": "https://localhost:8080/"
        },
        "id": "v0z5d2oYBi5t",
        "outputId": "022a1434-8bbb-4ee7-d5a1-154b17b5558c"
      },
      "outputs": [
        {
          "name": "stderr",
          "output_type": "stream",
          "text": [
            "<ipython-input-69-9376b4d7ba1b>:1: DeprecationWarning: `np.int` is a deprecated alias for the builtin `int`. To silence this warning, use `int` by itself. Doing this will not modify any behavior and is safe. When replacing `np.int`, you may wish to use e.g. `np.int64` or `np.int32` to specify the precision. If you wish to review your current use, check the release note link for additional information.\n",
            "Deprecated in NumPy 1.20; for more details and guidance: https://numpy.org/devdocs/release/1.20.0-notes.html#deprecations\n",
            "  isinstance(1,np.int)\n"
          ]
        },
        {
          "data": {
            "text/plain": [
              "True"
            ]
          },
          "execution_count": 69,
          "metadata": {},
          "output_type": "execute_result"
        }
      ],
      "source": [
        "isinstance(1,np.int)"
      ]
    },
    {
      "cell_type": "code",
      "execution_count": null,
      "metadata": {
        "colab": {
          "base_uri": "https://localhost:8080/"
        },
        "id": "KOx_mHV6Bnma",
        "outputId": "1ccd3e77-e0c4-4221-da2c-9a753a57d6db"
      },
      "outputs": [
        {
          "data": {
            "text/plain": [
              "False"
            ]
          },
          "execution_count": 71,
          "metadata": {},
          "output_type": "execute_result"
        }
      ],
      "source": [
        "isinstance(1,np.int32)"
      ]
    },
    {
      "cell_type": "code",
      "execution_count": null,
      "metadata": {
        "colab": {
          "base_uri": "https://localhost:8080/"
        },
        "id": "gvoicf0W_LN1",
        "outputId": "91e2d5cf-7cdf-45ff-bd35-2629c41ed5d1"
      },
      "outputs": [
        {
          "name": "stdout",
          "output_type": "stream",
          "text": [
            "Llave/Key del diccionario np_array\n"
          ]
        }
      ],
      "source": [
        "for key in ar_dict2:\n",
        "    print(f'Llave/Key del diccionario {key}')\n",
        "    print\n",
        "    # Convertir los numeros a formato int para poder crear JSON files\n",
        "    ar_dict2[key] = [int(number) for number in ar_dict2[key]] "
      ]
    },
    {
      "cell_type": "code",
      "execution_count": null,
      "metadata": {
        "id": "Z4l714CE_uvh"
      },
      "outputs": [],
      "source": [
        "with open(\"dict_list.json\", \"w\") as f:\n",
        "    json.dump(ar_dict2, f)"
      ]
    },
    {
      "cell_type": "markdown",
      "metadata": {
        "id": "g3EbJ2OgCSik"
      },
      "source": [
        "### Funciones para revisar"
      ]
    },
    {
      "cell_type": "markdown",
      "metadata": {
        "id": "bGetdjT2IGwT"
      },
      "source": [
        "La diferencia entre `json.dump` y `json.dumps` en Python es que json.dump escribe un objeto en un archivo, mientras que json.dumps devuelve una representación en formato cadena del objeto JSON."
      ]
    },
    {
      "cell_type": "markdown",
      "metadata": {
        "id": "5bP6xyOMDDWW"
      },
      "source": [
        "El argumento `default` en la función `json.dumps` se usa para especificar una función que se usará para convertir objetos que no se pueden serializar automáticamente en formato JSON a una forma que se pueda serializar. Esta función se llama cada vez que se encuentra un objeto que no se puede serializar y se le pasa el objeto como argumento.  \n",
        "La función debe devolver un objeto que se pueda serializar en formato JSON."
      ]
    },
    {
      "cell_type": "code",
      "execution_count": null,
      "metadata": {
        "id": "BlkHdywDCUxv"
      },
      "outputs": [],
      "source": [
        "def json_serializable(o):\n",
        "    if isinstance(o, np.int64):\n",
        "        return int(o)\n",
        "    raise TypeError(\"No puedo serializar objetos de tipo {}\".format(o.__class__.__name__))\n"
      ]
    },
    {
      "cell_type": "code",
      "execution_count": null,
      "metadata": {
        "colab": {
          "base_uri": "https://localhost:8080/"
        },
        "id": "6YaHaql0DJo8",
        "outputId": "ffad1b55-5b63-45a0-9b8a-c231c7016267"
      },
      "outputs": [
        {
          "name": "stdout",
          "output_type": "stream",
          "text": [
            "No puedo serializar objetos de tipo ndarray\n"
          ]
        }
      ],
      "source": [
        "try:\n",
        "    arr = np.array([1, 2, 3], dtype=np.int64)\n",
        "    # Serializar el objeto a JSON\n",
        "    serialized = json.dumps(arr, default=json_serializable)\n",
        "except Exception as e:\n",
        "    print(e)"
      ]
    },
    {
      "cell_type": "markdown",
      "metadata": {
        "id": "TuAhu6eJGH6-"
      },
      "source": [
        "Tratamos de inferir si era `np.int64`, pero nos dio error, pues se pasa un `array`."
      ]
    },
    {
      "cell_type": "code",
      "execution_count": null,
      "metadata": {
        "id": "OBui43-jDRxQ"
      },
      "outputs": [],
      "source": [
        "def json_serializable(o):\n",
        "    print(o)\n",
        "    if isinstance(o, np.ndarray) :\n",
        "        return int(o)\n",
        "    raise TypeError(\"No puedo serializar objetos de tipo {}\".format(o.__class__.__name__))\n"
      ]
    },
    {
      "cell_type": "code",
      "execution_count": null,
      "metadata": {
        "colab": {
          "base_uri": "https://localhost:8080/"
        },
        "id": "r5eOJeQeDjlG",
        "outputId": "80c749cd-da75-4e6b-ccfa-bf4de95c61e6"
      },
      "outputs": [
        {
          "name": "stdout",
          "output_type": "stream",
          "text": [
            "[1 2 3]\n",
            "only size-1 arrays can be converted to Python scalars\n"
          ]
        }
      ],
      "source": [
        "try:\n",
        "    arr = np.array([1, 2, 3], dtype=np.int64)\n",
        "    # Serializar el objeto a JSON\n",
        "    serialized = json.dumps(arr, default=json_serializable)\n",
        "except Exception as e:\n",
        "    print(e)"
      ]
    },
    {
      "cell_type": "markdown",
      "metadata": {
        "id": "9VkH17GdGToU"
      },
      "source": [
        "No podemos aplicar la funcion `int` a un array"
      ]
    },
    {
      "cell_type": "code",
      "execution_count": null,
      "metadata": {
        "id": "ci5ZHCrQEN_T"
      },
      "outputs": [],
      "source": [
        "def json_serializable(o):\n",
        "    print(o)\n",
        "    if isinstance(o, np.ndarray):\n",
        "        return [np.asscalar(n) for n in o]\n",
        "    raise TypeError(\"No puedo serializar objetos de tipo {}\".format(o.__class__.__name__))\n"
      ]
    },
    {
      "cell_type": "code",
      "execution_count": null,
      "metadata": {
        "colab": {
          "base_uri": "https://localhost:8080/"
        },
        "id": "SQAn6SlVEfuJ",
        "outputId": "f6753817-4638-4b1b-d77c-9ff0b58d1565"
      },
      "outputs": [
        {
          "name": "stdout",
          "output_type": "stream",
          "text": [
            "[1 2 3]\n"
          ]
        },
        {
          "name": "stderr",
          "output_type": "stream",
          "text": [
            "<ipython-input-101-a2aedd3d6fa0>:4: DeprecationWarning: np.asscalar(a) is deprecated since NumPy v1.16, use a.item() instead\n",
            "  return [np.asscalar(n) for n in o]\n"
          ]
        }
      ],
      "source": [
        "try:\n",
        "    arr = np.array([1, 2, 3], dtype=np.int64)\n",
        "    # Serializar el objeto a JSON\n",
        "    serialized = json.dumps(arr, default=json_serializable)\n",
        "except Exception as e:\n",
        "    print(e)"
      ]
    },
    {
      "cell_type": "markdown",
      "metadata": {
        "id": "G64-YcefGa_9"
      },
      "source": [
        "la funcion `np.asscalar` sera deprecada, usemos lo que nos sugieren"
      ]
    },
    {
      "cell_type": "code",
      "execution_count": null,
      "metadata": {
        "colab": {
          "base_uri": "https://localhost:8080/"
        },
        "id": "nt7hA2jkFZ-T",
        "outputId": "c20be91e-a770-412e-be17-33dd161781bc"
      },
      "outputs": [
        {
          "data": {
            "text/plain": [
              "1"
            ]
          },
          "execution_count": 111,
          "metadata": {},
          "output_type": "execute_result"
        }
      ],
      "source": [
        "arr = np.array([1, 2, 3], dtype=np.int64)\n",
        "arr[0].item()"
      ]
    },
    {
      "cell_type": "code",
      "execution_count": null,
      "metadata": {
        "id": "SroRbZr2FGY0"
      },
      "outputs": [],
      "source": [
        "def json_serializable(o):\n",
        "    print(o)\n",
        "    if isinstance(o, np.ndarray):\n",
        "        return [n.item() for n in o]\n",
        "    raise TypeError(\"No puedo serializar objetos de tipo {}\".format(o.__class__.__name__))"
      ]
    },
    {
      "cell_type": "code",
      "execution_count": null,
      "metadata": {
        "colab": {
          "base_uri": "https://localhost:8080/"
        },
        "id": "AwtYARXKFL6W",
        "outputId": "0152a884-a3c2-4b06-cd85-6f248b1d9d1b"
      },
      "outputs": [
        {
          "name": "stdout",
          "output_type": "stream",
          "text": [
            "[1 2 3]\n"
          ]
        }
      ],
      "source": [
        "try:\n",
        "    arr = np.array([1, 2, 3], dtype=np.int64)\n",
        "    # Serializar el objeto a JSON\n",
        "    serialized = json.dumps(arr, default=json_serializable)\n",
        "except Exception as e:\n",
        "    print(e)"
      ]
    },
    {
      "cell_type": "markdown",
      "metadata": {
        "id": "_vod8hp4Gg8d"
      },
      "source": [
        "Se logro ejecutar la funcion para numeros. Funciona para arrays multidimensionales?"
      ]
    },
    {
      "cell_type": "code",
      "execution_count": null,
      "metadata": {
        "colab": {
          "base_uri": "https://localhost:8080/"
        },
        "id": "JLpCNUe-Gxmz",
        "outputId": "c2417573-5a61-4d62-add3-bf76311ccc2d"
      },
      "outputs": [
        {
          "name": "stdout",
          "output_type": "stream",
          "text": [
            "[[ 1  2  3]\n",
            " [-1 -2 -3]]\n",
            "can only convert an array of size 1 to a Python scalar\n"
          ]
        }
      ],
      "source": [
        "try:\n",
        "    arr = np.array([[1, 2, 3], [-1,-2,-3]], dtype=np.int64)\n",
        "    # Serializar el objeto a JSON\n",
        "    serialized = json.dumps(arr, default=json_serializable)\n",
        "except Exception as e:\n",
        "    print(e)"
      ]
    },
    {
      "cell_type": "code",
      "execution_count": 11,
      "metadata": {
        "id": "ACdO5-hcHv7E"
      },
      "outputs": [],
      "source": [
        "def json_serializable(o):\n",
        "    if isinstance(o, np.ndarray):\n",
        "        return o.tolist()\n",
        "    if isinstance(o, np.number): \n",
        "        # todo a float, no enteros\n",
        "        return float(o)\n",
        "    raise TypeError(\"No puedo serializar objetos de tipo {}\".format(o.__class__.__name__))\n"
      ]
    },
    {
      "cell_type": "code",
      "execution_count": null,
      "metadata": {
        "colab": {
          "base_uri": "https://localhost:8080/",
          "height": 36
        },
        "id": "0q5Ki6ZEHyDj",
        "outputId": "dd1ca110-e592-49bf-a19f-d77497cb479c"
      },
      "outputs": [
        {
          "data": {
            "application/vnd.google.colaboratory.intrinsic+json": {
              "type": "string"
            },
            "text/plain": [
              "'[[1, 2, 3], [4, 5, 6]]'"
            ]
          },
          "execution_count": 120,
          "metadata": {},
          "output_type": "execute_result"
        }
      ],
      "source": [
        "arr = np.array([[1, 2, 3], [4, 5, 6]], dtype=np.int64)\n",
        "# Serializar el objeto a JSON\n",
        "serialized = json.dumps(arr, default=json_serializable)\n",
        "serialized"
      ]
    },
    {
      "cell_type": "code",
      "execution_count": 12,
      "metadata": {
        "id": "Tv0fN49YIc3H"
      },
      "outputs": [],
      "source": [
        "arr = np.array([[1, 2, 3], [4, 5, 6]], dtype=np.int64)\n",
        "with open(\"ndarray_json.json\", \"w\") as f:\n",
        "    json.dump(arr, f, default=json_serializable)"
      ]
    },
    {
      "cell_type": "code",
      "execution_count": 14,
      "metadata": {
        "colab": {
          "base_uri": "https://localhost:8080/"
        },
        "id": "DOs9Xhx0Iqlc",
        "outputId": "c105367d-ed50-40bc-91e9-327c0c7990cd"
      },
      "outputs": [
        {
          "name": "stdout",
          "output_type": "stream",
          "text": [
            "[[1, 2, 3], [4, 5, 6]]"
          ]
        }
      ],
      "source": [
        "!cat ndarray_json.json"
      ]
    },
    {
      "cell_type": "code",
      "execution_count": 15,
      "metadata": {
        "colab": {
          "base_uri": "https://localhost:8080/"
        },
        "id": "SH6dDz2RN0rk",
        "outputId": "526122b0-7fa8-428c-89c0-a57dfdea1eda"
      },
      "outputs": [
        {
          "data": {
            "text/plain": [
              "[[1, 2, 3], [4, 5, 6]]"
            ]
          },
          "execution_count": 15,
          "metadata": {},
          "output_type": "execute_result"
        }
      ],
      "source": [
        "# Cargar el objeto desde el archivo de JSON\n",
        "with open(\"ndarray_json.json\", \"r\") as f:\n",
        "    loaded_data = json.load(f)\n",
        "\n",
        "loaded_data"
      ]
    },
    {
      "cell_type": "markdown",
      "metadata": {
        "id": "-Ztq98eOIzN3"
      },
      "source": [
        "Nota como pudimos guardarlo en formato `JSON` si necesidad de anidarlo en un diccionario"
      ]
    },
    {
      "cell_type": "markdown",
      "metadata": {
        "id": "Zed18r8dNO3n"
      },
      "source": [
        "# Encodings"
      ]
    },
    {
      "cell_type": "code",
      "execution_count": 4,
      "metadata": {
        "id": "sLdqJU6vNQBU"
      },
      "outputs": [],
      "source": [
        "arr_str = \"asdfg\"\n",
        "with open(\"string.json\", \"w\") as f:\n",
        "    json.dump(arr_str, f)"
      ]
    },
    {
      "cell_type": "code",
      "execution_count": 6,
      "metadata": {
        "colab": {
          "base_uri": "https://localhost:8080/"
        },
        "id": "_rM4kot2NbLA",
        "outputId": "6e69a34b-dabf-45a9-900f-86f2a29c20d1"
      },
      "outputs": [
        {
          "name": "stdout",
          "output_type": "stream",
          "text": [
            "\"asdfg\""
          ]
        }
      ],
      "source": [
        "!cat string.json"
      ]
    },
    {
      "cell_type": "code",
      "execution_count": 17,
      "metadata": {
        "id": "-bqOqrTBNdrK"
      },
      "outputs": [],
      "source": [
        "arr_str = \"Ñ\"\n",
        "with open(\"string.json\", \"w\") as f:\n",
        "    json.dump(arr_str, f)"
      ]
    },
    {
      "cell_type": "code",
      "execution_count": 18,
      "metadata": {
        "colab": {
          "base_uri": "https://localhost:8080/"
        },
        "id": "vNcsI09aNk7K",
        "outputId": "0fdccd87-bcee-4c17-a8ff-9124216b2338"
      },
      "outputs": [
        {
          "name": "stdout",
          "output_type": "stream",
          "text": [
            "\"\\u00d1\""
          ]
        }
      ],
      "source": [
        "!cat string.json"
      ]
    },
    {
      "cell_type": "markdown",
      "metadata": {
        "id": "3C6ul7SfOda4"
      },
      "source": [
        "Si quieren usar la terminal para cargar el archivo correctamente, les recomiendo buscar sobre el comando `iconv` y los encodings como `latin1`"
      ]
    },
    {
      "cell_type": "code",
      "execution_count": 19,
      "metadata": {
        "colab": {
          "base_uri": "https://localhost:8080/",
          "height": 36
        },
        "id": "_milHPMCOC6p",
        "outputId": "ddfbf3d2-9cde-47ef-c5ea-8f635ac4b522"
      },
      "outputs": [
        {
          "data": {
            "application/vnd.google.colaboratory.intrinsic+json": {
              "type": "string"
            },
            "text/plain": [
              "'Ñ'"
            ]
          },
          "execution_count": 19,
          "metadata": {},
          "output_type": "execute_result"
        }
      ],
      "source": [
        "# Cargar el objeto desde el archivo de JSON\n",
        "with open(\"string.json\", \"r\") as f:\n",
        "    loaded_data = json.load(f)\n",
        "\n",
        "loaded_data"
      ]
    }
  ],
  "metadata": {
    "colab": {
      "include_colab_link": true,
      "provenance": []
    },
    "kernelspec": {
      "display_name": "Python 3",
      "name": "python3"
    },
    "language_info": {
      "name": "python"
    }
  },
  "nbformat": 4,
  "nbformat_minor": 0
}
