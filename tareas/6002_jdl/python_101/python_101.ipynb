{
 "cells": [
  {
   "cell_type": "code",
   "execution_count": 2,
   "metadata": {},
   "outputs": [
    {
     "name": "stdout",
     "output_type": "stream",
     "text": [
      "[[15.58845727 20.78460969 25.98076211]\n",
      " [10.39230485 15.58845727 20.78460969]\n",
      " [ 5.19615242 10.39230485 15.58845727]]\n"
     ]
    }
   ],
   "source": [
    "import numpy as np\n",
    "\n",
    "# Puntos en espacio tridimensional\n",
    "puntos1 = np.array([[1, 2, 3],\n",
    "                    [4, 5, 6],\n",
    "                    [7, 8, 9]])\n",
    "\n",
    "puntos2 = np.array([[10, 11, 12],\n",
    "                    [13, 14, 15],\n",
    "                    [16, 17, 18]])\n",
    "\n",
    "distancias = np.zeros((len(puntos1), len(puntos2)))\n",
    "\n",
    "for i in range(len(puntos1)):\n",
    "    for j in range(len(puntos2)):\n",
    "        diff = puntos1[i] - puntos2[j]\n",
    "        distancia = np.sqrt(np.sum(diff**2))\n",
    "        distancias[i, j] = distancia\n",
    "\n",
    "print(distancias)\n"
   ]
  },
  {
   "cell_type": "code",
   "execution_count": 3,
   "metadata": {},
   "outputs": [
    {
     "name": "stdout",
     "output_type": "stream",
     "text": [
      "[[15.58845727 20.78460969 25.98076211]\n",
      " [10.39230485 15.58845727 20.78460969]\n",
      " [ 5.19615242 10.39230485 15.58845727]]\n"
     ]
    }
   ],
   "source": [
    "import numpy as np\n",
    "\n",
    "# Puntos en espacio tridimensional\n",
    "puntos1 = np.array([[1, 2, 3],\n",
    "                    [4, 5, 6],\n",
    "                    [7, 8, 9]])\n",
    "\n",
    "puntos2 = np.array([[10, 11, 12],\n",
    "                    [13, 14, 15],\n",
    "                    [16, 17, 18]])\n",
    "\n",
    "# Calculando las diferencias\n",
    "diffs = puntos1[:, np.newaxis, :] - puntos2[np.newaxis, :, :]\n",
    "\n",
    "# Calculando la distancia euclidiana\n",
    "distancias = np.sqrt(np.sum(diffs**2, axis=-1))\n",
    "\n",
    "print(distancias)\n"
   ]
  },
  {
   "cell_type": "code",
   "execution_count": 4,
   "metadata": {},
   "outputs": [
    {
     "name": "stdout",
     "output_type": "stream",
     "text": [
      "Tiempo con bucles for: 0.1951289176940918\n",
      "Tiempo vectorizado con NumPy: 0.0007700920104980469\n"
     ]
    }
   ],
   "source": [
    "import numpy as np\n",
    "import time\n",
    "\n",
    "# Enfoque con bucles for\n",
    "def calcular_distancias_for(puntos1, puntos2):\n",
    "    distancias = np.zeros((len(puntos1), len(puntos2)))\n",
    "    for i in range(len(puntos1)):\n",
    "        for j in range(len(puntos2)):\n",
    "            diff = puntos1[i] - puntos2[j]\n",
    "            distancia = np.sqrt(np.sum(diff**2))\n",
    "            distancias[i, j] = distancia\n",
    "    return distancias\n",
    "\n",
    "# Enfoque vectorizado con NumPy\n",
    "def calcular_distancias_vectorizado(puntos1, puntos2):\n",
    "    diffs = puntos1[:, np.newaxis, :] - puntos2[np.newaxis, :, :]\n",
    "    distancias = np.sqrt(np.sum(diffs**2, axis=-1))\n",
    "    return distancias\n",
    "\n",
    "# Generar puntos de ejemplo\n",
    "puntos1 = np.random.rand(100, 3)  # 100 puntos en espacio tridimensional\n",
    "puntos2 = np.random.rand(100, 3)\n",
    "\n",
    "# Medir tiempo de ejecución para enfoque con bucles for\n",
    "start_time = time.time()\n",
    "calcular_distancias_for(puntos1, puntos2)\n",
    "for_time = time.time() - start_time\n",
    "\n",
    "# Medir tiempo de ejecución para enfoque vectorizado con NumPy\n",
    "start_time = time.time()\n",
    "calcular_distancias_vectorizado(puntos1, puntos2)\n",
    "vectorized_time = time.time() - start_time\n",
    "\n",
    "print(\"Tiempo con bucles for:\", for_time)\n",
    "print(\"Tiempo vectorizado con NumPy:\", vectorized_time)\n"
   ]
  }
 ],
 "metadata": {
  "kernelspec": {
   "display_name": "Python 3",
   "language": "python",
   "name": "python3"
  },
  "language_info": {
   "codemirror_mode": {
    "name": "ipython",
    "version": 3
   },
   "file_extension": ".py",
   "mimetype": "text/x-python",
   "name": "python",
   "nbconvert_exporter": "python",
   "pygments_lexer": "ipython3",
   "version": "3.11.7"
  }
 },
 "nbformat": 4,
 "nbformat_minor": 2
}
