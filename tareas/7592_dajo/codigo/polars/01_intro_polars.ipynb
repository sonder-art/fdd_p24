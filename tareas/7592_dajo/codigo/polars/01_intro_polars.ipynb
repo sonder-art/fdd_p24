{
 "cells": [
  {
   "cell_type": "markdown",
   "metadata": {},
   "source": [
    "<a target=\"_blank\" href=\"https://colab.research.google.com/github/sonder-art/fdd_o23/blob/main/codigo/polars/02_sintaxis_polars.ipynb\">\n",
    "  <img src=\"https://colab.research.google.com/assets/colab-badge.svg\" alt=\"Open In Colab\"/>\n",
    "</a>"
   ]
  },
  {
   "cell_type": "code",
   "execution_count": 9,
   "metadata": {},
   "outputs": [
    {
     "name": "stdout",
     "output_type": "stream",
     "text": [
      "Requirement already satisfied: polars in /home/uumami/itam/fdd_o23/.venv/lib/python3.11/site-packages (0.19.13)\n"
     ]
    }
   ],
   "source": [
    "! pip install polars -U"
   ]
  },
  {
   "cell_type": "markdown",
   "metadata": {},
   "source": [
    "# Lazy & Collect"
   ]
  },
  {
   "cell_type": "code",
   "execution_count": 2,
   "metadata": {},
   "outputs": [],
   "source": [
    "import polars as pl"
   ]
  },
  {
   "cell_type": "markdown",
   "metadata": {},
   "source": [
    "Creemos un dataframe que se conporte a nivel `sintaxis` como `lazy` aunque realmente las operaciones de creacion ya han sido ejecutadas.  \n",
    "En estricto sentido peudes leer los datos como `lazy` desde el disco, pero para entender como funciona haremos un mock."
   ]
  },
  {
   "cell_type": "code",
   "execution_count": 3,
   "metadata": {},
   "outputs": [],
   "source": [
    "# Crear un DataFrame con evaluación perezosa\n",
    "lazy_df = pl.DataFrame({\n",
    "    \"nombre\": [\"Ana\", \"Luis\", \"Marta\"],\n",
    "    \"edad\": [25, 32, 18],\n",
    "    \"ciudad\": [\"Madrid\", \"Barcelona\", \"Sevilla\"]\n",
    "}).lazy()\n"
   ]
  },
  {
   "cell_type": "code",
   "execution_count": 4,
   "metadata": {},
   "outputs": [
    {
     "name": "stdout",
     "output_type": "stream",
     "text": [
      "shape: (3, 1)\n",
      "┌────────┐\n",
      "│ nombre │\n",
      "│ ---    │\n",
      "│ str    │\n",
      "╞════════╡\n",
      "│ Ana    │\n",
      "│ Luis   │\n",
      "│ Marta  │\n",
      "└────────┘\n"
     ]
    }
   ],
   "source": [
    "# Seleccionar solo la columna 'nombre'\n",
    "seleccion = lazy_df.select(\"nombre\")\n"
   ]
  },
  {
   "cell_type": "markdown",
   "metadata": {},
   "source": [
    "Que esta haciendo el `select`?"
   ]
  },
  {
   "cell_type": "markdown",
   "metadata": {},
   "source": [
    "`collect` ejectuta todas las operaciones lazy que no han sido ejecutadas hasta es momento. Digamos que es un comando que indica a `polars` que es momento de ejecutar."
   ]
  },
  {
   "cell_type": "code",
   "execution_count": 5,
   "metadata": {},
   "outputs": [
    {
     "name": "stdout",
     "output_type": "stream",
     "text": [
      "shape: (3, 1)\n",
      "┌────────┐\n",
      "│ nombre │\n",
      "│ ---    │\n",
      "│ str    │\n",
      "╞════════╡\n",
      "│ Ana    │\n",
      "│ Luis   │\n",
      "│ Marta  │\n",
      "└────────┘\n"
     ]
    }
   ],
   "source": [
    "# Ejecutar y mostrar los resultados\n",
    "print(seleccion.collect())"
   ]
  },
  {
   "cell_type": "markdown",
   "metadata": {},
   "source": [
    "# Filtrado y Operaciones Columna"
   ]
  },
  {
   "cell_type": "code",
   "execution_count": 8,
   "metadata": {},
   "outputs": [],
   "source": [
    "# Filtrar el DataFrame donde la edad es mayor a 20\n",
    "filtrado = lazy_df.filter(pl.col(\"edad\") > 20)"
   ]
  },
  {
   "cell_type": "markdown",
   "metadata": {},
   "source": [
    "Que esta haciendo `filter`?  \n",
    "Que esta haciendo `pl.col`?"
   ]
  },
  {
   "cell_type": "code",
   "execution_count": null,
   "metadata": {},
   "outputs": [],
   "source": [
    "# Crear una nueva columna que sea la longitud del nombre\n",
    "nueva_columna = filtrado.with_columns(pl.col(\"nombre\").str.lengths().alias(\"longitud_nombre\"))"
   ]
  },
  {
   "cell_type": "markdown",
   "metadata": {},
   "source": [
    "Que esta haciendo `with_columns`?  \n",
    "Por que aparece un `pl.col`?"
   ]
  },
  {
   "cell_type": "code",
   "execution_count": null,
   "metadata": {},
   "outputs": [],
   "source": [
    "# Ejecutar y mostrar los resultados\n",
    "print(nueva_columna.collect())"
   ]
  },
  {
   "cell_type": "markdown",
   "metadata": {},
   "source": [
    "$$\n",
    "\n",
    "$$"
   ]
  },
  {
   "cell_type": "markdown",
   "metadata": {},
   "source": [
    "# Operaciones de agregacion"
   ]
  },
  {
   "cell_type": "code",
   "execution_count": 12,
   "metadata": {},
   "outputs": [],
   "source": [
    "# Agrupar por 'ciudad' y calcular la edad promedio\n",
    "agregacion = lazy_df.group_by(\"ciudad\").agg([\n",
    "    pl.col(\"edad\").mean().alias(\"edad_promedio\")\n",
    "])\n"
   ]
  },
  {
   "cell_type": "markdown",
   "metadata": {},
   "source": [
    "Que esta haciendo el `agg` en el `groupby`?  \n",
    "Que esta haciendo el `alias`?"
   ]
  },
  {
   "cell_type": "code",
   "execution_count": 13,
   "metadata": {},
   "outputs": [
    {
     "name": "stdout",
     "output_type": "stream",
     "text": [
      "shape: (3, 2)\n",
      "┌───────────┬───────────────┐\n",
      "│ ciudad    ┆ edad_promedio │\n",
      "│ ---       ┆ ---           │\n",
      "│ str       ┆ f64           │\n",
      "╞═══════════╪═══════════════╡\n",
      "│ Madrid    ┆ 25.0          │\n",
      "│ Barcelona ┆ 32.0          │\n",
      "│ Sevilla   ┆ 18.0          │\n",
      "└───────────┴───────────────┘\n"
     ]
    }
   ],
   "source": [
    "# Ejecutar y mostrar los resultados\n",
    "print(agregacion.collect())"
   ]
  },
  {
   "cell_type": "markdown",
   "metadata": {},
   "source": [
    "# Combinar Operaciones"
   ]
  },
  {
   "cell_type": "code",
   "execution_count": null,
   "metadata": {},
   "outputs": [],
   "source": [
    "# Combinar filtrado, agregación y selección de columnas\n",
    "combinado = lazy_df.filter(pl.col(\"edad\") > 20).groupby(\"ciudad\").agg([\n",
    "    pl.col(\"edad\").mean().alias(\"edad_promedio\")\n",
    "]).select([\"ciudad\", \"edad_promedio\"])\n"
   ]
  },
  {
   "cell_type": "code",
   "execution_count": null,
   "metadata": {},
   "outputs": [],
   "source": [
    "# Ejecutar y mostrar los resultados\n",
    "print(combinado.collect())\n"
   ]
  }
 ],
 "metadata": {
  "kernelspec": {
   "display_name": "Python 3",
   "language": "python",
   "name": "python3"
  },
  "language_info": {
   "codemirror_mode": {
    "name": "ipython",
    "version": 3
   },
   "file_extension": ".py",
   "mimetype": "text/x-python",
   "name": "python",
   "nbconvert_exporter": "python",
   "pygments_lexer": "ipython3",
   "version": "3.11.5"
  }
 },
 "nbformat": 4,
 "nbformat_minor": 2
}
