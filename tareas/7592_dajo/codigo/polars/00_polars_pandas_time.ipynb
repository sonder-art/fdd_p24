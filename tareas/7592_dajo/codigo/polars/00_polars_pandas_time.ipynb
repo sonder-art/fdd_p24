{
 "cells": [
  {
   "cell_type": "markdown",
   "metadata": {},
   "source": [
    "<a target=\"_blank\" href=\"https://colab.research.google.com/github/sonder-art/fdd_o23/blob/main/codigo/polars/00_polars_pandas_time.ipynb\">\n",
    "  <img src=\"https://colab.research.google.com/assets/colab-badge.svg\" alt=\"Open In Colab\"/>\n",
    "</a>"
   ]
  },
  {
   "cell_type": "code",
   "execution_count": 1,
   "metadata": {},
   "outputs": [],
   "source": [
    "#!pip install polars\n",
    "#! pip install pyarrow"
   ]
  },
  {
   "cell_type": "code",
   "execution_count": 2,
   "metadata": {},
   "outputs": [],
   "source": [
    "import pandas as pd\n",
    "import polars as pl\n",
    "import numpy as np\n"
   ]
  },
  {
   "cell_type": "code",
   "execution_count": 3,
   "metadata": {},
   "outputs": [],
   "source": [
    "# Configuramos el número de filas\n",
    "num_rows = 10_000_000\n",
    "\n",
    "# Creamos un DataFrame de pandas\n",
    "df_pandas = pd.DataFrame({\n",
    "    \"A\": np.random.rand(num_rows),\n",
    "    \"B\": np.random.randint(0, 100, num_rows)\n",
    "})\n",
    "\n",
    "# Convertimos el DataFrame de pandas a un DataFrame de Polars\n",
    "df_polars = pl.from_pandas(df_pandas)\n"
   ]
  },
  {
   "cell_type": "markdown",
   "metadata": {},
   "source": [
    "# Operaciones a comparar"
   ]
  },
  {
   "cell_type": "code",
   "execution_count": null,
   "metadata": {},
   "outputs": [],
   "source": [
    "import timeit\n"
   ]
  },
  {
   "cell_type": "markdown",
   "metadata": {},
   "source": [
    "## Filtrado"
   ]
  },
  {
   "cell_type": "code",
   "execution_count": 4,
   "metadata": {},
   "outputs": [
    {
     "name": "stdout",
     "output_type": "stream",
     "text": [
      "Pandas Filtrado: 0.08235713099929853 segundos\n",
      "Polars Filtrado: 0.028726435997668887 segundos\n"
     ]
    }
   ],
   "source": [
    "\n",
    "# Filtrado en pandas\n",
    "def filter_pandas():\n",
    "    return df_pandas[df_pandas[\"A\"] < 0.5]\n",
    "\n",
    "# Filtrado en Polars\n",
    "def filter_polars():\n",
    "    return df_polars.filter(pl.col(\"A\") < 0.5)\n",
    "\n",
    "time_pandas_filter = timeit.timeit(filter_pandas, number=1)\n",
    "time_polars_filter = timeit.timeit(filter_polars, number=1)\n",
    "\n",
    "print(f\"Pandas Filtrado: {time_pandas_filter} segundos\")\n",
    "print(f\"Polars Filtrado: {time_polars_filter} segundos\")\n"
   ]
  },
  {
   "cell_type": "markdown",
   "metadata": {},
   "source": [
    "## Agregacion"
   ]
  },
  {
   "cell_type": "code",
   "execution_count": 5,
   "metadata": {},
   "outputs": [
    {
     "name": "stdout",
     "output_type": "stream",
     "text": [
      "Pandas Agregación: 0.07634523399974569 segundos\n",
      "Polars Agregación: 0.01512382299915771 segundos\n"
     ]
    },
    {
     "name": "stderr",
     "output_type": "stream",
     "text": [
      "/tmp/ipykernel_13271/870000003.py:7: DeprecationWarning: `groupby` is deprecated. It has been renamed to `group_by`.\n",
      "  return df_polars.groupby(\"B\").agg(pl.col(\"A\").mean())\n"
     ]
    }
   ],
   "source": [
    "# Agregación en pandas\n",
    "def aggregate_pandas():\n",
    "    return df_pandas.groupby(\"B\").agg({\"A\": \"mean\"})\n",
    "\n",
    "# Agregación en Polars\n",
    "def aggregate_polars():\n",
    "    return df_polars.groupby(\"B\").agg(pl.col(\"A\").mean())\n",
    "\n",
    "time_pandas_agg = timeit.timeit(aggregate_pandas, number=1)\n",
    "time_polars_agg = timeit.timeit(aggregate_polars, number=1)\n",
    "\n",
    "print(f\"Pandas Agregación: {time_pandas_agg} segundos\")\n",
    "print(f\"Polars Agregación: {time_polars_agg} segundos\")\n"
   ]
  },
  {
   "cell_type": "markdown",
   "metadata": {},
   "source": [
    "## Operaciones Columna"
   ]
  },
  {
   "cell_type": "code",
   "execution_count": 7,
   "metadata": {},
   "outputs": [
    {
     "name": "stdout",
     "output_type": "stream",
     "text": [
      "Pandas Operaciones de Columna: 0.03819572800057358 segundos\n",
      "Polars Operaciones de Columna: 0.037904685999819776 segundos\n"
     ]
    }
   ],
   "source": [
    "# Operaciones de columna en pandas\n",
    "def column_ops_pandas():\n",
    "    df_pandas[\"C\"] = df_pandas[\"A\"] + df_pandas[\"B\"]\n",
    "\n",
    "# Operaciones de columna en Polars\n",
    "def column_ops_polars():\n",
    "    df_polars.with_columns((pl.col(\"A\") + pl.col(\"B\")).alias(\"C\"))\n",
    "\n",
    "time_pandas_col_ops = timeit.timeit(column_ops_pandas, number=1)\n",
    "time_polars_col_ops = timeit.timeit(column_ops_polars, number=1)\n",
    "\n",
    "print(f\"Pandas Operaciones de Columna: {time_pandas_col_ops} segundos\")\n",
    "print(f\"Polars Operaciones de Columna: {time_polars_col_ops} segundos\")\n"
   ]
  },
  {
   "cell_type": "markdown",
   "metadata": {},
   "source": [
    "# Guardar Datos"
   ]
  },
  {
   "cell_type": "code",
   "execution_count": 8,
   "metadata": {},
   "outputs": [],
   "source": [
    "import os"
   ]
  },
  {
   "cell_type": "code",
   "execution_count": 9,
   "metadata": {},
   "outputs": [
    {
     "name": "stdout",
     "output_type": "stream",
     "text": [
      "Tiempo de escritura en CSV (pandas): 14.441410905001248 segundos\n",
      "Tamaño del archivo CSV: 403526253 bytes\n"
     ]
    }
   ],
   "source": [
    "def write_csv_pandas():\n",
    "    df_pandas.to_csv(\"data_pandas.csv\", index=False)\n",
    "\n",
    "time_write_csv_pandas = timeit.timeit(write_csv_pandas, number=1)\n",
    "print(f\"Tiempo de escritura en CSV (pandas): {time_write_csv_pandas} segundos\")\n",
    "\n",
    "# Tamaño del archivo CSV\n",
    "size_csv = os.path.getsize(\"data_pandas.csv\")\n",
    "print(f\"Tamaño del archivo CSV: {size_csv} bytes\")\n"
   ]
  },
  {
   "cell_type": "code",
   "execution_count": 10,
   "metadata": {},
   "outputs": [
    {
     "name": "stdout",
     "output_type": "stream",
     "text": [
      "Tiempo de escritura en Parquet (Polars): 0.2970542149996618 segundos\n",
      "Tamaño del archivo Parquet: 86475968 bytes\n"
     ]
    }
   ],
   "source": [
    "def write_parquet_polars():\n",
    "    df_polars.write_parquet(\"data_polars.parquet\")\n",
    "\n",
    "time_write_parquet_polars = timeit.timeit(write_parquet_polars, number=1)\n",
    "print(f\"Tiempo de escritura en Parquet (Polars): {time_write_parquet_polars} segundos\")\n",
    "\n",
    "# Tamaño del archivo Parquet\n",
    "size_parquet = os.path.getsize(\"data_polars.parquet\")\n",
    "print(f\"Tamaño del archivo Parquet: {size_parquet} bytes\")\n"
   ]
  },
  {
   "cell_type": "markdown",
   "metadata": {},
   "source": [
    "## Leer Datos"
   ]
  },
  {
   "cell_type": "code",
   "execution_count": 12,
   "metadata": {},
   "outputs": [
    {
     "name": "stdout",
     "output_type": "stream",
     "text": [
      "Tiempo de lectura desde CSV (pandas): 3.0806981419991644 segundos\n"
     ]
    }
   ],
   "source": [
    "def read_csv_pandas():\n",
    "    pd.read_csv(\"data_pandas.csv\")\n",
    "\n",
    "time_read_csv_pandas = timeit.timeit(read_csv_pandas, number=1)\n",
    "print(f\"Tiempo de lectura desde CSV (pandas): {time_read_csv_pandas} segundos\")\n"
   ]
  },
  {
   "cell_type": "code",
   "execution_count": 13,
   "metadata": {},
   "outputs": [
    {
     "name": "stdout",
     "output_type": "stream",
     "text": [
      "Tiempo de lectura desde Parquet (Polars): 0.08447328300098889 segundos\n"
     ]
    }
   ],
   "source": [
    "def read_parquet_polars():\n",
    "    pl.read_parquet(\"data_polars.parquet\")\n",
    "\n",
    "time_read_parquet_polars = timeit.timeit(read_parquet_polars, number=1)\n",
    "print(f\"Tiempo de lectura desde Parquet (Polars): {time_read_parquet_polars} segundos\")\n"
   ]
  }
 ],
 "metadata": {
  "kernelspec": {
   "display_name": ".venv",
   "language": "python",
   "name": "python3"
  },
  "language_info": {
   "codemirror_mode": {
    "name": "ipython",
    "version": 3
   },
   "file_extension": ".py",
   "mimetype": "text/x-python",
   "name": "python",
   "nbconvert_exporter": "python",
   "pygments_lexer": "ipython3",
   "version": "3.11.5"
  }
 },
 "nbformat": 4,
 "nbformat_minor": 2
}
