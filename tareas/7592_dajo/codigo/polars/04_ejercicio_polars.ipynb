{
 "cells": [
  {
   "cell_type": "markdown",
   "metadata": {},
   "source": [
    "<a target=\"_blank\" href=\"https://colab.research.google.com/github/sonder-art/fdd_o23/blob/main/codigo/polars/04_ejercicio_polars.ipynb\">\n",
    "  <img src=\"https://colab.research.google.com/assets/colab-badge.svg\" alt=\"Open In Colab\"/>\n",
    "</a>"
   ]
  },
  {
   "cell_type": "code",
   "execution_count": null,
   "metadata": {},
   "outputs": [],
   "source": [
    "#!pip install polars"
   ]
  },
  {
   "cell_type": "code",
   "execution_count": 1,
   "metadata": {},
   "outputs": [],
   "source": [
    "import polars as pl\n",
    "import random\n",
    "import string\n"
   ]
  },
  {
   "cell_type": "markdown",
   "metadata": {},
   "source": [
    "# Generacion de Datos"
   ]
  },
  {
   "cell_type": "code",
   "execution_count": 3,
   "metadata": {},
   "outputs": [
    {
     "data": {
      "text/html": [
       "<div><style>\n",
       ".dataframe > thead > tr > th,\n",
       ".dataframe > tbody > tr > td {\n",
       "  text-align: right;\n",
       "  white-space: pre-wrap;\n",
       "}\n",
       "</style>\n",
       "<small>shape: (5, 6)</small><table border=\"1\" class=\"dataframe\"><thead><tr><th>id_venta</th><th>producto</th><th>cantidad</th><th>precio_unitario</th><th>fecha_venta</th><th>cliente_id</th></tr><tr><td>i64</td><td>str</td><td>i64</td><td>f64</td><td>object</td><td>i64</td></tr></thead><tbody><tr><td>1</td><td>&quot;seasa&quot;</td><td>1</td><td>14.459799</td><td>&lt;polars.datatypes.classes.Date object at 0x7fcccd6a2ad0&gt;</td><td>2702</td></tr><tr><td>2</td><td>&quot;uvqxh&quot;</td><td>15</td><td>49.698774</td><td>&lt;polars.datatypes.classes.Date object at 0x7fcccd6c60d0&gt;</td><td>2741</td></tr><tr><td>3</td><td>&quot;ycqtb&quot;</td><td>7</td><td>14.778441</td><td>&lt;polars.datatypes.classes.Date object at 0x7fcccd69e4d0&gt;</td><td>1727</td></tr><tr><td>4</td><td>&quot;rmpbd&quot;</td><td>18</td><td>76.550863</td><td>&lt;polars.datatypes.classes.Date object at 0x7fcccd69e510&gt;</td><td>1486</td></tr><tr><td>5</td><td>&quot;xujyv&quot;</td><td>13</td><td>40.862633</td><td>&lt;polars.datatypes.classes.Date object at 0x7fcccd69e550&gt;</td><td>3344</td></tr></tbody></table></div>"
      ],
      "text/plain": [
       "shape: (5, 6)\n",
       "┌──────────┬──────────┬──────────┬─────────────────┬──────────────────────────────────┬────────────┐\n",
       "│ id_venta ┆ producto ┆ cantidad ┆ precio_unitario ┆ fecha_venta                      ┆ cliente_id │\n",
       "│ ---      ┆ ---      ┆ ---      ┆ ---             ┆ ---                              ┆ ---        │\n",
       "│ i64      ┆ str      ┆ i64      ┆ f64             ┆ object                           ┆ i64        │\n",
       "╞══════════╪══════════╪══════════╪═════════════════╪══════════════════════════════════╪════════════╡\n",
       "│ 1        ┆ seasa    ┆ 1        ┆ 14.459799       ┆ <polars.datatypes.classes.Date   ┆ 2702       │\n",
       "│          ┆          ┆          ┆                 ┆ o…                               ┆            │\n",
       "│ 2        ┆ uvqxh    ┆ 15       ┆ 49.698774       ┆ <polars.datatypes.classes.Date   ┆ 2741       │\n",
       "│          ┆          ┆          ┆                 ┆ o…                               ┆            │\n",
       "│ 3        ┆ ycqtb    ┆ 7        ┆ 14.778441       ┆ <polars.datatypes.classes.Date   ┆ 1727       │\n",
       "│          ┆          ┆          ┆                 ┆ o…                               ┆            │\n",
       "│ 4        ┆ rmpbd    ┆ 18       ┆ 76.550863       ┆ <polars.datatypes.classes.Date   ┆ 1486       │\n",
       "│          ┆          ┆          ┆                 ┆ o…                               ┆            │\n",
       "│ 5        ┆ xujyv    ┆ 13       ┆ 40.862633       ┆ <polars.datatypes.classes.Date   ┆ 3344       │\n",
       "│          ┆          ┆          ┆                 ┆ o…                               ┆            │\n",
       "└──────────┴──────────┴──────────┴─────────────────┴──────────────────────────────────┴────────────┘"
      ]
     },
     "execution_count": 3,
     "metadata": {},
     "output_type": "execute_result"
    }
   ],
   "source": [
    "# Funciones auxiliares para generar datos\n",
    "def random_string(length=5):\n",
    "    letters = string.ascii_lowercase\n",
    "    return ''.join(random.choice(letters) for i in range(length))\n",
    "\n",
    "def generate_data(n=1000):\n",
    "    data = {\n",
    "        \"id_venta\": list(range(1, n + 1)),\n",
    "        \"producto\": [random_string() for _ in range(n)],\n",
    "        \"cantidad\": [random.randint(1, 20) for _ in range(n)],\n",
    "        \"precio_unitario\": [random.uniform(10, 100) for _ in range(n)],\n",
    "        \"fecha_venta\": [pl.Date(random.randint(2010, 2022), random.randint(1, 12), random.randint(1, 28)) for _ in range(n)],\n",
    "        \"cliente_id\": [random.randint(1000, 5000) for _ in range(n)]\n",
    "    }\n",
    "    return pl.DataFrame(data)\n",
    "\n",
    "# Generar el DataFrame\n",
    "df = generate_data()\n",
    "df.head()"
   ]
  },
  {
   "cell_type": "code",
   "execution_count": 5,
   "metadata": {},
   "outputs": [
    {
     "data": {
      "text/html": [
       "<i>naive plan: (run <b>LazyFrame.explain(optimized=True)</b> to see the optimized plan)</i>\n",
       "    <p></p>\n",
       "    <div>DF [\"id_venta\", \"producto\", \"cantidad\", \"precio_unitario\"]; PROJECT */6 COLUMNS; SELECTION: \"None\"</div>"
      ],
      "text/plain": [
       "<LazyFrame [6 cols, {\"id_venta\": Int64 … \"cliente_id\": Int64}] at 0x7FCCDC3B6690>"
      ]
     },
     "execution_count": 5,
     "metadata": {},
     "output_type": "execute_result"
    }
   ],
   "source": [
    "df = df.lazy()\n",
    "df"
   ]
  },
  {
   "cell_type": "markdown",
   "metadata": {},
   "source": [
    "# Limpieza de Datos"
   ]
  },
  {
   "cell_type": "markdown",
   "metadata": {},
   "source": [
    "Utilizando Polars en modo Lazy, realice las siguientes operaciones de limpieza y manipulación de datos:\n",
    "\n",
    "    1. `Filtrar` las ventas con cantidades menores a 5.\n",
    "    2. `Agregar` una nueva columna llamada total_venta, que sea el resultado de multiplicar cantidad por precio_unitario.\n",
    "    3. `Eliminar` la columna precio_unitario después de crear total_venta.\n",
    "    4. `Agrupar` los datos por producto y calcular el total vendido y la cantidad total vendida por producto.\n",
    "    5. `Ordenar` los resultados por el total vendido en orden descendente."
   ]
  },
  {
   "cell_type": "markdown",
   "metadata": {},
   "source": [
    "Todo esto lo debes de realizar en una sola linea de codigo"
   ]
  },
  {
   "cell_type": "code",
   "execution_count": null,
   "metadata": {},
   "outputs": [],
   "source": [
    "\n",
    "lazy_df = df.lazy()\n",
    "\n",
    "# Realizar las operaciones de limpieza y manipulación\n",
    "\n",
    "resultado = (\n",
    "    # Tu codigo aqui\n",
    "    lazy_df\n",
    "    \n",
    ")\n",
    "\n",
    "# Ejecutar y mostrar los resultados\n",
    "resultado_df = resultado.collect()\n",
    "print(resultado_df)\n"
   ]
  },
  {
   "cell_type": "markdown",
   "metadata": {},
   "source": [
    "# Guarda el resultado en un archivo `parquet`"
   ]
  },
  {
   "cell_type": "markdown",
   "metadata": {},
   "source": [
    "Guarda el resultado en un archivo parquet que se llame `resultados.parquet`"
   ]
  },
  {
   "cell_type": "code",
   "execution_count": null,
   "metadata": {},
   "outputs": [],
   "source": [
    "# Tu codigo aqui"
   ]
  },
  {
   "cell_type": "markdown",
   "metadata": {},
   "source": [
    "# Lee Parquet"
   ]
  },
  {
   "cell_type": "markdown",
   "metadata": {},
   "source": [
    "Crea codigo para leer en polars el archivo parquet"
   ]
  },
  {
   "cell_type": "code",
   "execution_count": null,
   "metadata": {},
   "outputs": [],
   "source": [
    "# Tu codigo aqui"
   ]
  }
 ],
 "metadata": {
  "kernelspec": {
   "display_name": ".venv",
   "language": "python",
   "name": "python3"
  },
  "language_info": {
   "codemirror_mode": {
    "name": "ipython",
    "version": 3
   },
   "file_extension": ".py",
   "mimetype": "text/x-python",
   "name": "python",
   "nbconvert_exporter": "python",
   "pygments_lexer": "ipython3",
   "version": "3.11.5"
  }
 },
 "nbformat": 4,
 "nbformat_minor": 2
}
