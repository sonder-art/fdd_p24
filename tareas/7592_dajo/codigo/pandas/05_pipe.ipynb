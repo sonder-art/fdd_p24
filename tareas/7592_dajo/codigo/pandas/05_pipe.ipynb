{
 "cells": [
  {
   "cell_type": "code",
   "execution_count": 1,
   "metadata": {},
   "outputs": [],
   "source": [
    "import pandas as pd"
   ]
  },
  {
   "attachments": {},
   "cell_type": "markdown",
   "metadata": {},
   "source": [
    "El método `.pipe()` en pandas es muy útil para realizar una serie de operaciones en un DataFrame de manera más compacta y legible"
   ]
  },
  {
   "attachments": {},
   "cell_type": "markdown",
   "metadata": {},
   "source": [
    "En este ejemplo, queremos normalizar los valores de una columna de un DataFrame. En lugar de hacerlo en varias líneas, podemos usar el método `.pipe()` para encadenar varias operaciones de manera más compacta:"
   ]
  },
  {
   "cell_type": "code",
   "execution_count": 2,
   "metadata": {},
   "outputs": [
    {
     "data": {
      "text/html": [
       "<div>\n",
       "<style scoped>\n",
       "    .dataframe tbody tr th:only-of-type {\n",
       "        vertical-align: middle;\n",
       "    }\n",
       "\n",
       "    .dataframe tbody tr th {\n",
       "        vertical-align: top;\n",
       "    }\n",
       "\n",
       "    .dataframe thead th {\n",
       "        text-align: right;\n",
       "    }\n",
       "</style>\n",
       "<table border=\"1\" class=\"dataframe\">\n",
       "  <thead>\n",
       "    <tr style=\"text-align: right;\">\n",
       "      <th></th>\n",
       "      <th>valor</th>\n",
       "      <th>valor_normalizado</th>\n",
       "    </tr>\n",
       "  </thead>\n",
       "  <tbody>\n",
       "    <tr>\n",
       "      <th>0</th>\n",
       "      <td>1</td>\n",
       "      <td>-1.264911</td>\n",
       "    </tr>\n",
       "    <tr>\n",
       "      <th>1</th>\n",
       "      <td>2</td>\n",
       "      <td>-0.632456</td>\n",
       "    </tr>\n",
       "    <tr>\n",
       "      <th>2</th>\n",
       "      <td>3</td>\n",
       "      <td>0.000000</td>\n",
       "    </tr>\n",
       "    <tr>\n",
       "      <th>3</th>\n",
       "      <td>4</td>\n",
       "      <td>0.632456</td>\n",
       "    </tr>\n",
       "    <tr>\n",
       "      <th>4</th>\n",
       "      <td>5</td>\n",
       "      <td>1.264911</td>\n",
       "    </tr>\n",
       "  </tbody>\n",
       "</table>\n",
       "</div>"
      ],
      "text/plain": [
       "   valor  valor_normalizado\n",
       "0      1          -1.264911\n",
       "1      2          -0.632456\n",
       "2      3           0.000000\n",
       "3      4           0.632456\n",
       "4      5           1.264911"
      ]
     },
     "execution_count": 2,
     "metadata": {},
     "output_type": "execute_result"
    }
   ],
   "source": [
    "# Crear un DataFrame con valores aleatorios\n",
    "df = pd.DataFrame({'valor': [1, 2, 3, 4, 5]})\n",
    "#asd\n",
    "# Definir una función para estandarizar los valores\n",
    "def estandarizar(valores):\n",
    "    media = valores.mean()\n",
    "    desviacion = valores.std()\n",
    "    return (valores - media) / desviacion\n",
    "\n",
    "# Normalizar los valores de la columna \"valor\"\n",
    "df['valor_normalizado'] = (\n",
    "    df['valor']\n",
    "    .pipe(estandarizar)\n",
    ")\n",
    "\n",
    "df\n"
   ]
  },
  {
   "attachments": {},
   "cell_type": "markdown",
   "metadata": {},
   "source": [
    "En este ejemplo, queremos eliminar las filas de un DataFrame que cumplen cierta condición. En lugar de hacerlo en varias líneas, podemos usar el método `.pipe()` para encadenar varias operaciones de manera más compacta."
   ]
  },
  {
   "cell_type": "code",
   "execution_count": 3,
   "metadata": {},
   "outputs": [
    {
     "name": "stdout",
     "output_type": "stream",
     "text": [
      "   valor  condicion\n",
      "0      1       True\n",
      "1      2      False\n",
      "2      3       True\n",
      "3      4      False\n",
      "4      5       True\n"
     ]
    },
    {
     "data": {
      "text/html": [
       "<div>\n",
       "<style scoped>\n",
       "    .dataframe tbody tr th:only-of-type {\n",
       "        vertical-align: middle;\n",
       "    }\n",
       "\n",
       "    .dataframe tbody tr th {\n",
       "        vertical-align: top;\n",
       "    }\n",
       "\n",
       "    .dataframe thead th {\n",
       "        text-align: right;\n",
       "    }\n",
       "</style>\n",
       "<table border=\"1\" class=\"dataframe\">\n",
       "  <thead>\n",
       "    <tr style=\"text-align: right;\">\n",
       "      <th></th>\n",
       "      <th>valor</th>\n",
       "      <th>condicion</th>\n",
       "    </tr>\n",
       "  </thead>\n",
       "  <tbody>\n",
       "    <tr>\n",
       "      <th>1</th>\n",
       "      <td>2</td>\n",
       "      <td>False</td>\n",
       "    </tr>\n",
       "    <tr>\n",
       "      <th>3</th>\n",
       "      <td>4</td>\n",
       "      <td>False</td>\n",
       "    </tr>\n",
       "  </tbody>\n",
       "</table>\n",
       "</div>"
      ],
      "text/plain": [
       "   valor  condicion\n",
       "1      2      False\n",
       "3      4      False"
      ]
     },
     "execution_count": 3,
     "metadata": {},
     "output_type": "execute_result"
    }
   ],
   "source": [
    "# Crear un DataFrame con valores aleatorios\n",
    "df = pd.DataFrame({\n",
    "    'valor': [1, 2, 3, 4, 5],\n",
    "    'condicion': [True, False, True, False, True]\n",
    "})\n",
    "print(df)\n",
    "# Definir una función para eliminar las filas que cumplen la condición\n",
    "def eliminar_filas_condicion(df, columna_condicion):\n",
    "    return df.loc[~df[columna_condicion]]\n",
    "\n",
    "# Eliminar las filas que cumplen la condición\n",
    "df_sin_condicion = (\n",
    "    df\n",
    "    .pipe(eliminar_filas_condicion, columna_condicion='condicion')\n",
    ")\n",
    "\n",
    "df_sin_condicion\n"
   ]
  },
  {
   "attachments": {},
   "cell_type": "markdown",
   "metadata": {},
   "source": [
    "En este ejemplo, queremos aplicar múltiples funciones a un DataFrame. En lugar de hacerlo en varias líneas, podemos usar el método `.pipe()` para encadenar varias operaciones de manera más compacta:"
   ]
  },
  {
   "cell_type": "code",
   "execution_count": 9,
   "metadata": {},
   "outputs": [
    {
     "name": "stdout",
     "output_type": "stream",
     "text": [
      "   valor  otro_valor\n",
      "0      1          10\n",
      "1      2          20\n",
      "2      3          30\n",
      "3      4          40\n",
      "4      5          50\n"
     ]
    },
    {
     "data": {
      "text/html": [
       "<div>\n",
       "<style scoped>\n",
       "    .dataframe tbody tr th:only-of-type {\n",
       "        vertical-align: middle;\n",
       "    }\n",
       "\n",
       "    .dataframe tbody tr th {\n",
       "        vertical-align: top;\n",
       "    }\n",
       "\n",
       "    .dataframe thead th {\n",
       "        text-align: right;\n",
       "    }\n",
       "</style>\n",
       "<table border=\"1\" class=\"dataframe\">\n",
       "  <thead>\n",
       "    <tr style=\"text-align: right;\">\n",
       "      <th></th>\n",
       "      <th>valor</th>\n",
       "      <th>otro_valor</th>\n",
       "    </tr>\n",
       "  </thead>\n",
       "  <tbody>\n",
       "    <tr>\n",
       "      <th>0</th>\n",
       "      <td>NaN</td>\n",
       "      <td>NaN</td>\n",
       "    </tr>\n",
       "    <tr>\n",
       "      <th>1</th>\n",
       "      <td>-0.948683</td>\n",
       "      <td>-0.948683</td>\n",
       "    </tr>\n",
       "    <tr>\n",
       "      <th>2</th>\n",
       "      <td>-0.316228</td>\n",
       "      <td>-0.316228</td>\n",
       "    </tr>\n",
       "    <tr>\n",
       "      <th>3</th>\n",
       "      <td>0.316228</td>\n",
       "      <td>0.316228</td>\n",
       "    </tr>\n",
       "    <tr>\n",
       "      <th>4</th>\n",
       "      <td>0.948683</td>\n",
       "      <td>0.948683</td>\n",
       "    </tr>\n",
       "  </tbody>\n",
       "</table>\n",
       "</div>"
      ],
      "text/plain": [
       "      valor  otro_valor\n",
       "0       NaN         NaN\n",
       "1 -0.948683   -0.948683\n",
       "2 -0.316228   -0.316228\n",
       "3  0.316228    0.316228\n",
       "4  0.948683    0.948683"
      ]
     },
     "execution_count": 9,
     "metadata": {},
     "output_type": "execute_result"
    }
   ],
   "source": [
    "# Crear un DataFrame con valores aleatorios\n",
    "df = pd.DataFrame({\n",
    "    'valor': [1, 2, 3, 4, 5],\n",
    "    'otro_valor': [10, 20, 30, 40, 50],\n",
    "    #'string': ['a', 'b', 'c', 'd', 'e']\n",
    "})\n",
    "print(df)\n",
    "# Definir una función para normalizar los valores\n",
    "def normalizar(valores):\n",
    "    media = valores.mean()\n",
    "    desviacion = valores.std()\n",
    "    return (valores - media) / desviacion\n",
    "\n",
    "# Definir una función para calcular la media móvil de los valores\n",
    "def media_movil(valores, ventana=2):\n",
    "    return valores.rolling(ventana).mean()\n",
    "\n",
    "# Aplicar múltiples funciones al DataFrame\n",
    "df_transformado = (\n",
    "    df\n",
    "    .pipe(normalizar)\n",
    "   .pipe(media_movil, ventana=2)\n",
    ")\n",
    "\n",
    "df_transformado\n"
   ]
  },
  {
   "cell_type": "markdown",
   "metadata": {},
   "source": [
    " cómo calcular percentiles específicos para una columna de un DataFrame y convertirlos en nuevas columnas utilizando el método .pipe() de pandas"
   ]
  },
  {
   "cell_type": "code",
   "execution_count": 14,
   "metadata": {},
   "outputs": [
    {
     "data": {
      "text/plain": [
       "0.250    75.00\n",
       "0.500    80.00\n",
       "0.744    84.88\n",
       "Name: Puntaje, dtype: float64"
      ]
     },
     "execution_count": 14,
     "metadata": {},
     "output_type": "execute_result"
    }
   ],
   "source": [
    "df['Puntaje'].quantile([.25,.5,.744])"
   ]
  },
  {
   "cell_type": "code",
   "execution_count": 16,
   "metadata": {},
   "outputs": [
    {
     "data": {
      "text/html": [
       "<div>\n",
       "<style scoped>\n",
       "    .dataframe tbody tr th:only-of-type {\n",
       "        vertical-align: middle;\n",
       "    }\n",
       "\n",
       "    .dataframe tbody tr th {\n",
       "        vertical-align: top;\n",
       "    }\n",
       "\n",
       "    .dataframe thead th {\n",
       "        text-align: right;\n",
       "    }\n",
       "</style>\n",
       "<table border=\"1\" class=\"dataframe\">\n",
       "  <thead>\n",
       "    <tr style=\"text-align: right;\">\n",
       "      <th></th>\n",
       "      <th>Nombre</th>\n",
       "      <th>Edad</th>\n",
       "      <th>Puntaje</th>\n",
       "      <th>Puntaje_percentil_0.25</th>\n",
       "      <th>Puntaje_percentil_0.5</th>\n",
       "      <th>Puntaje_percentil_0.75</th>\n",
       "    </tr>\n",
       "  </thead>\n",
       "  <tbody>\n",
       "    <tr>\n",
       "      <th>0</th>\n",
       "      <td>Juan</td>\n",
       "      <td>25</td>\n",
       "      <td>75</td>\n",
       "      <td>75.0</td>\n",
       "      <td>80.0</td>\n",
       "      <td>85.0</td>\n",
       "    </tr>\n",
       "    <tr>\n",
       "      <th>1</th>\n",
       "      <td>Pedro</td>\n",
       "      <td>28</td>\n",
       "      <td>80</td>\n",
       "      <td>75.0</td>\n",
       "      <td>80.0</td>\n",
       "      <td>85.0</td>\n",
       "    </tr>\n",
       "    <tr>\n",
       "      <th>2</th>\n",
       "      <td>María</td>\n",
       "      <td>32</td>\n",
       "      <td>85</td>\n",
       "      <td>75.0</td>\n",
       "      <td>80.0</td>\n",
       "      <td>85.0</td>\n",
       "    </tr>\n",
       "    <tr>\n",
       "      <th>3</th>\n",
       "      <td>Sofía</td>\n",
       "      <td>24</td>\n",
       "      <td>70</td>\n",
       "      <td>75.0</td>\n",
       "      <td>80.0</td>\n",
       "      <td>85.0</td>\n",
       "    </tr>\n",
       "    <tr>\n",
       "      <th>4</th>\n",
       "      <td>Lucas</td>\n",
       "      <td>29</td>\n",
       "      <td>90</td>\n",
       "      <td>75.0</td>\n",
       "      <td>80.0</td>\n",
       "      <td>85.0</td>\n",
       "    </tr>\n",
       "  </tbody>\n",
       "</table>\n",
       "</div>"
      ],
      "text/plain": [
       "  Nombre  Edad  Puntaje  Puntaje_percentil_0.25  Puntaje_percentil_0.5  \\\n",
       "0   Juan    25       75                    75.0                   80.0   \n",
       "1  Pedro    28       80                    75.0                   80.0   \n",
       "2  María    32       85                    75.0                   80.0   \n",
       "3  Sofía    24       70                    75.0                   80.0   \n",
       "4  Lucas    29       90                    75.0                   80.0   \n",
       "\n",
       "   Puntaje_percentil_0.75  \n",
       "0                    85.0  \n",
       "1                    85.0  \n",
       "2                    85.0  \n",
       "3                    85.0  \n",
       "4                    85.0  "
      ]
     },
     "execution_count": 16,
     "metadata": {},
     "output_type": "execute_result"
    }
   ],
   "source": [
    "import pandas as pd\n",
    "\n",
    "# Crear un DataFrame con valores aleatorios\n",
    "df = pd.DataFrame({\n",
    "    'Nombre': ['Juan', 'Pedro', 'María', 'Sofía', 'Lucas'],\n",
    "    'Edad': [25, 28, 32, 24, 29],\n",
    "    'Puntaje': [75, 80, 85, 70, 90]\n",
    "})\n",
    "\n",
    "# Definir una función para calcular los percentiles y convertirlos en nuevas columnas\n",
    "def calcular_percentiles(df, columna, percentiles):\n",
    "    nuevas_columnas = [f'{columna}_percentil_{p}' for p in percentiles]\n",
    "    valores_percentiles = df[columna].quantile(percentiles)\n",
    "    return df.assign(**dict(zip(nuevas_columnas, valores_percentiles)))\n",
    "\n",
    "# Calcular percentiles específicos para la columna 'Puntaje'\n",
    "df_con_percentiles = (\n",
    "    df\n",
    "    .pipe(calcular_percentiles, columna='Puntaje', percentiles=[0.25, 0.5, 0.75])\n",
    ")\n",
    "\n",
    "df_con_percentiles\n"
   ]
  },
  {
   "cell_type": "markdown",
   "metadata": {},
   "source": [
    "un ejemplo de cómo calcular percentiles específicos para una columna de un DataFrame y convertirlos en nuevas columnas sin utilizar el método .pipe() de pandas"
   ]
  },
  {
   "cell_type": "code",
   "execution_count": 15,
   "metadata": {},
   "outputs": [
    {
     "data": {
      "text/html": [
       "<div>\n",
       "<style scoped>\n",
       "    .dataframe tbody tr th:only-of-type {\n",
       "        vertical-align: middle;\n",
       "    }\n",
       "\n",
       "    .dataframe tbody tr th {\n",
       "        vertical-align: top;\n",
       "    }\n",
       "\n",
       "    .dataframe thead th {\n",
       "        text-align: right;\n",
       "    }\n",
       "</style>\n",
       "<table border=\"1\" class=\"dataframe\">\n",
       "  <thead>\n",
       "    <tr style=\"text-align: right;\">\n",
       "      <th></th>\n",
       "      <th>Nombre</th>\n",
       "      <th>Edad</th>\n",
       "      <th>Puntaje</th>\n",
       "      <th>Puntaje_percentil_0.25</th>\n",
       "      <th>Puntaje_percentil_0.5</th>\n",
       "      <th>Puntaje_percentil_0.75</th>\n",
       "    </tr>\n",
       "  </thead>\n",
       "  <tbody>\n",
       "    <tr>\n",
       "      <th>0</th>\n",
       "      <td>Juan</td>\n",
       "      <td>25</td>\n",
       "      <td>75</td>\n",
       "      <td>75.0</td>\n",
       "      <td>80.0</td>\n",
       "      <td>85.0</td>\n",
       "    </tr>\n",
       "    <tr>\n",
       "      <th>1</th>\n",
       "      <td>Pedro</td>\n",
       "      <td>28</td>\n",
       "      <td>80</td>\n",
       "      <td>75.0</td>\n",
       "      <td>80.0</td>\n",
       "      <td>85.0</td>\n",
       "    </tr>\n",
       "    <tr>\n",
       "      <th>2</th>\n",
       "      <td>María</td>\n",
       "      <td>32</td>\n",
       "      <td>85</td>\n",
       "      <td>75.0</td>\n",
       "      <td>80.0</td>\n",
       "      <td>85.0</td>\n",
       "    </tr>\n",
       "    <tr>\n",
       "      <th>3</th>\n",
       "      <td>Sofía</td>\n",
       "      <td>24</td>\n",
       "      <td>70</td>\n",
       "      <td>75.0</td>\n",
       "      <td>80.0</td>\n",
       "      <td>85.0</td>\n",
       "    </tr>\n",
       "    <tr>\n",
       "      <th>4</th>\n",
       "      <td>Lucas</td>\n",
       "      <td>29</td>\n",
       "      <td>90</td>\n",
       "      <td>75.0</td>\n",
       "      <td>80.0</td>\n",
       "      <td>85.0</td>\n",
       "    </tr>\n",
       "  </tbody>\n",
       "</table>\n",
       "</div>"
      ],
      "text/plain": [
       "  Nombre  Edad  Puntaje  Puntaje_percentil_0.25  Puntaje_percentil_0.5  \\\n",
       "0   Juan    25       75                    75.0                   80.0   \n",
       "1  Pedro    28       80                    75.0                   80.0   \n",
       "2  María    32       85                    75.0                   80.0   \n",
       "3  Sofía    24       70                    75.0                   80.0   \n",
       "4  Lucas    29       90                    75.0                   80.0   \n",
       "\n",
       "   Puntaje_percentil_0.75  \n",
       "0                    85.0  \n",
       "1                    85.0  \n",
       "2                    85.0  \n",
       "3                    85.0  \n",
       "4                    85.0  "
      ]
     },
     "execution_count": 15,
     "metadata": {},
     "output_type": "execute_result"
    }
   ],
   "source": [
    "# Crear un DataFrame con valores aleatorios\n",
    "df = pd.DataFrame({\n",
    "    'Nombre': ['Juan', 'Pedro', 'María', 'Sofía', 'Lucas'],\n",
    "    'Edad': [25, 28, 32, 24, 29],\n",
    "    'Puntaje': [75, 80, 85, 70, 90]\n",
    "})\n",
    "\n",
    "# Calcular percentiles específicos para la columna 'Puntaje'\n",
    "percentiles = [0.25, 0.5, 0.75]\n",
    "nuevas_columnas = [f'Puntaje_percentil_{p}' for p in percentiles]\n",
    "valores_percentiles = df['Puntaje'].quantile(percentiles)\n",
    "df_con_percentiles = df.assign(**dict(zip(nuevas_columnas, valores_percentiles)))\n",
    "\n",
    "df_con_percentiles"
   ]
  }
 ],
 "metadata": {
  "kernelspec": {
   "display_name": "itam",
   "language": "python",
   "name": "python3"
  },
  "language_info": {
   "codemirror_mode": {
    "name": "ipython",
    "version": 3
   },
   "file_extension": ".py",
   "mimetype": "text/x-python",
   "name": "python",
   "nbconvert_exporter": "python",
   "pygments_lexer": "ipython3",
   "version": "3.10.9"
  },
  "orig_nbformat": 4
 },
 "nbformat": 4,
 "nbformat_minor": 2
}
