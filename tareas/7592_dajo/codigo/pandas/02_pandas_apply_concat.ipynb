{
  "cells": [
    {
      "cell_type": "markdown",
      "metadata": {
        "colab_type": "text",
        "id": "view-in-github"
      },
      "source": [
        "<a href=\"https://colab.research.google.com/github/sonder-art/fdd_prim_2023/blob/main/codigo/pandas/pandas_3_apply_concat.ipynb\" target=\"_parent\"><img src=\"https://colab.research.google.com/assets/colab-badge.svg\" alt=\"Open In Colab\"/></a>"
      ]
    },
    {
      "cell_type": "code",
      "execution_count": 2,
      "metadata": {
        "id": "Rrv5q73yq-sf"
      },
      "outputs": [],
      "source": [
        "import pandas as pd\n",
        "import numpy as np"
      ]
    },
    {
      "cell_type": "markdown",
      "metadata": {
        "id": "-dMKNEP0pMu8"
      },
      "source": [
        "# Apply"
      ]
    },
    {
      "cell_type": "markdown",
      "metadata": {
        "id": "K1iGU7YurJRA"
      },
      "source": [
        "El método `.apply()` de pandas es muy útil para aplicar una función a un DataFrame o a una Serie de forma rápida y sencilla. A continuación te muestro algunos ejemplos sencillos y avanzados de cómo utilizar este método:"
      ]
    },
    {
      "cell_type": "markdown",
      "metadata": {
        "id": "YMQ-6Gw_rQB4"
      },
      "source": [
        "## Aplicar una función a una Serie"
      ]
    },
    {
      "cell_type": "code",
      "execution_count": 3,
      "metadata": {
        "colab": {
          "base_uri": "https://localhost:8080/"
        },
        "id": "rSJxdmaDq8E0",
        "outputId": "1580a972-a7fe-4c38-da86-91a852140a83"
      },
      "outputs": [
        {
          "name": "stdout",
          "output_type": "stream",
          "text": [
            "0     1\n",
            "1     4\n",
            "2     9\n",
            "3    16\n",
            "4    25\n",
            "dtype: int64\n"
          ]
        }
      ],
      "source": [
        "# Crear una Serie\n",
        "s = pd.Series([1, 2, 3, 4, 5])\n",
        "\n",
        "# Aplicar una función a la Serie\n",
        "s_cuadrado = s.apply(lambda x: x**2)\n",
        "print(s_cuadrado)"
      ]
    },
    {
      "cell_type": "markdown",
      "metadata": {
        "id": "6wGM7SddrGeK"
      },
      "source": [
        "## Aplicar una función a una columna de un DataFrame"
      ]
    },
    {
      "cell_type": "code",
      "execution_count": 4,
      "metadata": {
        "colab": {
          "base_uri": "https://localhost:8080/"
        },
        "id": "fmVzr1TQrc7m",
        "outputId": "308d4b22-86ab-4ec8-9c08-a2b7058778da"
      },
      "outputs": [
        {
          "name": "stdout",
          "output_type": "stream",
          "text": [
            "   A   B  A_cuadrado\n",
            "0  1  10           1\n",
            "1  2  20           4\n",
            "2  3  30           9\n",
            "3  4  40          16\n",
            "4  5  50          25\n"
          ]
        }
      ],
      "source": [
        "# Crear un DataFrame\n",
        "df = pd.DataFrame({\n",
        "    'A': [1, 2, 3, 4, 5],\n",
        "    'B': [10, 20, 30, 40, 50]\n",
        "})\n",
        "\n",
        "# Aplicar una función a una columna del DataFrame\n",
        "df['A_cuadrado'] = df['A'].apply(lambda x: x**2)\n",
        "\n",
        "print(df)"
      ]
    },
    {
      "cell_type": "code",
      "execution_count": 6,
      "metadata": {},
      "outputs": [
        {
          "data": {
            "text/html": [
              "<div>\n",
              "<style scoped>\n",
              "    .dataframe tbody tr th:only-of-type {\n",
              "        vertical-align: middle;\n",
              "    }\n",
              "\n",
              "    .dataframe tbody tr th {\n",
              "        vertical-align: top;\n",
              "    }\n",
              "\n",
              "    .dataframe thead th {\n",
              "        text-align: right;\n",
              "    }\n",
              "</style>\n",
              "<table border=\"1\" class=\"dataframe\">\n",
              "  <thead>\n",
              "    <tr style=\"text-align: right;\">\n",
              "      <th></th>\n",
              "      <th>A</th>\n",
              "      <th>B</th>\n",
              "      <th>C</th>\n",
              "    </tr>\n",
              "  </thead>\n",
              "  <tbody>\n",
              "    <tr>\n",
              "      <th>0</th>\n",
              "      <td>1</td>\n",
              "      <td>100</td>\n",
              "      <td>10000</td>\n",
              "    </tr>\n",
              "    <tr>\n",
              "      <th>1</th>\n",
              "      <td>4</td>\n",
              "      <td>400</td>\n",
              "      <td>40000</td>\n",
              "    </tr>\n",
              "    <tr>\n",
              "      <th>2</th>\n",
              "      <td>9</td>\n",
              "      <td>900</td>\n",
              "      <td>90000</td>\n",
              "    </tr>\n",
              "    <tr>\n",
              "      <th>3</th>\n",
              "      <td>16</td>\n",
              "      <td>1600</td>\n",
              "      <td>160000</td>\n",
              "    </tr>\n",
              "    <tr>\n",
              "      <th>4</th>\n",
              "      <td>25</td>\n",
              "      <td>2500</td>\n",
              "      <td>250000</td>\n",
              "    </tr>\n",
              "  </tbody>\n",
              "</table>\n",
              "</div>"
            ],
            "text/plain": [
              "    A     B       C\n",
              "0   1   100   10000\n",
              "1   4   400   40000\n",
              "2   9   900   90000\n",
              "3  16  1600  160000\n",
              "4  25  2500  250000"
            ]
          },
          "execution_count": 6,
          "metadata": {},
          "output_type": "execute_result"
        }
      ],
      "source": [
        "df[['A', 'B', 'C']].apply(lambda x: x**2)"
      ]
    },
    {
      "cell_type": "code",
      "execution_count": 5,
      "metadata": {
        "colab": {
          "base_uri": "https://localhost:8080/"
        },
        "id": "-bh4jKIlriq8",
        "outputId": "7e46a263-dae9-4607-e138-2cbe3e1502c8"
      },
      "outputs": [
        {
          "name": "stdout",
          "output_type": "stream",
          "text": [
            "   A   B    C  A_cuadrado  B_cuadrado  C_cuadrado\n",
            "0  1  10  100           1         100       10000\n",
            "1  2  20  200           4         400       40000\n",
            "2  3  30  300           9         900       90000\n",
            "3  4  40  400          16        1600      160000\n",
            "4  5  50  500          25        2500      250000\n"
          ]
        }
      ],
      "source": [
        "# Crear un DataFrame\n",
        "df = pd.DataFrame({\n",
        "    'A': [1, 2, 3, 4, 5],\n",
        "    'B': [10, 20, 30, 40, 50],\n",
        "    'C': [100, 200, 300, 400, 500]\n",
        "})\n",
        "\n",
        "# Aplicar una función a varias columnas del DataFrame\n",
        "df[['A_cuadrado', 'B_cuadrado', 'C_cuadrado']] = df[['A', 'B', 'C']].apply(lambda x: x**2)\n",
        "\n",
        "print(df)"
      ]
    },
    {
      "cell_type": "markdown",
      "metadata": {
        "id": "0G4VM0-JsCJs"
      },
      "source": [
        "## Aplicar una función que utiliza varios argumentos a un DataFrame"
      ]
    },
    {
      "cell_type": "markdown",
      "metadata": {
        "id": "NeN1a2BvsMco"
      },
      "source": [
        "En este ejemplo, creamos un DataFrame con dos columnas A y B y luego definimos una función llamada `suma_producto()` que toma tres argumentos: `x`, `a `y `b`. Luego, aplicamo. El primer argumento es la columna"
      ]
    },
    {
      "cell_type": "code",
      "execution_count": 7,
      "metadata": {
        "colab": {
          "base_uri": "https://localhost:8080/"
        },
        "id": "jCjXvfx_sEAt",
        "outputId": "77af1e63-a3a2-4df9-de74-e23418a68c55"
      },
      "outputs": [
        {
          "name": "stdout",
          "output_type": "stream",
          "text": [
            "   A   B   C\n",
            "0  1  10   7\n",
            "1  2  20   8\n",
            "2  3  30   9\n",
            "3  4  40  10\n",
            "4  5  50  11\n"
          ]
        }
      ],
      "source": [
        "# Crear un DataFrame\n",
        "df = pd.DataFrame({\n",
        "    'A': [1, 2, 3, 4, 5],\n",
        "    'B': [10, 20, 30, 40, 50]\n",
        "})\n",
        "\n",
        "# Definir una función que utiliza varios argumentos\n",
        "def suma_producto(x, a, b):\n",
        "    return x + a * b\n",
        "\n",
        "# Aplicar la función a una columna del DataFrame\n",
        "df['C'] = df['A'].apply(suma_producto, args=(2, 3))\n",
        "\n",
        "print(df)"
      ]
    },
    {
      "cell_type": "markdown",
      "metadata": {
        "id": "IbOn_KKjsoXL"
      },
      "source": [
        "Que pasa si se lo aplicamos a dos columnas?"
      ]
    },
    {
      "cell_type": "code",
      "execution_count": 10,
      "metadata": {
        "colab": {
          "base_uri": "https://localhost:8080/"
        },
        "id": "DUvK-V6usX5f",
        "outputId": "61f8f950-30ce-46fe-ada9-9f5ea5dccfff"
      },
      "outputs": [
        {
          "name": "stdout",
          "output_type": "stream",
          "text": [
            "Expected a 1D array, got an array with shape (5, 2)\n"
          ]
        }
      ],
      "source": [
        "# Crear un DataFrame\n",
        "df = pd.DataFrame({\n",
        "    'A': [1, 2, 3, 4, 5],\n",
        "    'B': [10, 20, 30, 40, 50]\n",
        "})\n",
        "\n",
        "# Definir una función que utiliza varios argumentos\n",
        "def suma_producto(x, a, b):\n",
        "    return x + a * b\n",
        "\n",
        "# Aplicar la función a una columna del DataFrame\n",
        "try:\n",
        "  df['C'] = df[['A', 'B']].apply(suma_producto, args=(2, 3))\n",
        "  print(df)\n",
        "except Exception as e:\n",
        "  print(e)"
      ]
    },
    {
      "cell_type": "code",
      "execution_count": 14,
      "metadata": {
        "colab": {
          "base_uri": "https://localhost:8080/"
        },
        "id": "58TK8-XWsuF6",
        "outputId": "9a11d7ef-49d2-489a-b6e4-6c17b9134353"
      },
      "outputs": [
        {
          "name": "stdout",
          "output_type": "stream",
          "text": [
            "suma_producto() argument after * must be an iterable, not int\n"
          ]
        }
      ],
      "source": [
        "df = pd.DataFrame({\n",
        "    'A': [1, 2, 3, 4, 5],\n",
        "    'B': [10, 20, 30, 40, 50]\n",
        "})\n",
        "\n",
        "# Definir una función que utiliza varios argumentos\n",
        "def suma_producto(x, a, b):\n",
        "    return x + a * b\n",
        "\n",
        "# Aplicar la función a una columna del DataFrame\n",
        "try:\n",
        "  df['C'] = df[['A', 'B']].apply(suma_producto, args=(3))\n",
        "  print(df)\n",
        "except Exception as e:\n",
        "  print(e)"
      ]
    },
    {
      "cell_type": "code",
      "execution_count": 13,
      "metadata": {
        "colab": {
          "base_uri": "https://localhost:8080/"
        },
        "id": "BQ47QjYCtS_o",
        "outputId": "305ca971-e1c0-4536-d8cc-f24c702a17a6"
      },
      "outputs": [
        {
          "name": "stdout",
          "output_type": "stream",
          "text": [
            "   A   B   H    C\n",
            "0  1  10 -10   31\n",
            "1  2  20  20   62\n",
            "2  3  30  30   93\n",
            "3  4  40  40  124\n",
            "4  5  50 -50  155\n"
          ]
        }
      ],
      "source": [
        "df = pd.DataFrame({\n",
        "    'A': [1, 2, 3, 4, 5],\n",
        "    'B': [10, 20, 30, 40, 50],\n",
        "    'H': [-10, 20, 30, 40, -50]\n",
        "})\n",
        "\n",
        "# Definir una función que utiliza varios argumentos\n",
        "def suma_producto(x, a, b):\n",
        "    return x + a * b\n",
        "\n",
        "# Aplicar la función a una columna del DataFrame\n",
        "try:\n",
        "  df['C'] = df[['A', 'B']].apply(lambda x: suma_producto(x['A'],x['B'], 3), axis=1)\n",
        "  print(df)\n",
        "except Exception as e:\n",
        "  print(e)"
      ]
    },
    {
      "cell_type": "markdown",
      "metadata": {
        "id": "lbrXLLpo0P0z"
      },
      "source": [
        "## Apply a columnas"
      ]
    },
    {
      "cell_type": "code",
      "execution_count": 24,
      "metadata": {
        "colab": {
          "base_uri": "https://localhost:8080/"
        },
        "id": "BXTCog3u0VLH",
        "outputId": "fee0725d-4358-497e-c286-e825d5dbafb8"
      },
      "outputs": [
        {
          "name": "stdout",
          "output_type": "stream",
          "text": [
            "   A  B  C\n",
            "0  1  4  7\n",
            "1  2  5  8\n",
            "2  3  6  9\n"
          ]
        },
        {
          "data": {
            "text/plain": [
              "0    12\n",
              "1    15\n",
              "2    18\n",
              "dtype: int64"
            ]
          },
          "execution_count": 24,
          "metadata": {},
          "output_type": "execute_result"
        }
      ],
      "source": [
        "# Creamos un DataFrame de ejemplo\n",
        "data = {'A': [1, 2, 3], 'B': [4, 5, 6], 'C': [7, 8, 9]}\n",
        "df = pd.DataFrame(data)\n",
        "print(df)\n",
        "\n",
        "# Aplicamos la función a las columnas del DataFrame\n",
        "df_aplicado = df.apply(np.sum, axis=1)\n",
        "\n",
        "df_aplicado"
      ]
    },
    {
      "cell_type": "markdown",
      "metadata": {
        "id": "EgMNbiDF0iSK"
      },
      "source": [
        "# Applymap\n"
      ]
    },
    {
      "cell_type": "markdown",
      "metadata": {
        "id": "6MtG2IWj0uBH"
      },
      "source": [
        "También podemos utilizar la función apply para aplicar funciones a elementos individuales del DataFrame. En este caso, podemos utilizar la función `applymap`. "
      ]
    },
    {
      "cell_type": "code",
      "execution_count": 26,
      "metadata": {
        "colab": {
          "base_uri": "https://localhost:8080/"
        },
        "id": "ccMOpA4X04Ki",
        "outputId": "8e8ed368-392e-42ab-ca4d-7055876a2548"
      },
      "outputs": [
        {
          "name": "stdout",
          "output_type": "stream",
          "text": [
            "   A  B  C\n",
            "0  1  4  7\n",
            "1  2  5  8\n",
            "2  3  6  9\n",
            "   A   B   C\n",
            "0  2   8  14\n",
            "1  4  10  16\n",
            "2  6  12  18\n"
          ]
        }
      ],
      "source": [
        "# Creamos un DataFrame de ejemplo\n",
        "data = {'A': [1, 2, 3], 'B': [4, 5, 6], 'C': [7, 8, 9]}\n",
        "df = pd.DataFrame(data)\n",
        "print(df)\n",
        "# Definimos una función para aplicar a cada elemento del DataFrame\n",
        "def multiplicar_por_2(elemento):\n",
        "    return elemento * 2\n",
        "\n",
        "# Aplicamos la función a cada elemento del DataFrame\n",
        "df_aplicado = df.applymap(multiplicar_por_2)\n",
        "\n",
        "print(df_aplicado)"
      ]
    },
    {
      "cell_type": "markdown",
      "metadata": {
        "id": "E02iM_v61Cf0"
      },
      "source": [
        "Parece no haber diferencia, pero veamos que pasa si agregamos condiciones booleanas a nustras funciones"
      ]
    },
    {
      "cell_type": "code",
      "execution_count": 29,
      "metadata": {
        "colab": {
          "base_uri": "https://localhost:8080/",
          "height": 160
        },
        "id": "Kb9rosXH07kS",
        "outputId": "a48e03e4-80a8-4eeb-8782-732945b34cd9"
      },
      "outputs": [
        {
          "name": "stdout",
          "output_type": "stream",
          "text": [
            "The truth value of a Series is ambiguous. Use a.empty, a.bool(), a.item(), a.any() or a.all().\n"
          ]
        },
        {
          "data": {
            "text/html": [
              "<div>\n",
              "<style scoped>\n",
              "    .dataframe tbody tr th:only-of-type {\n",
              "        vertical-align: middle;\n",
              "    }\n",
              "\n",
              "    .dataframe tbody tr th {\n",
              "        vertical-align: top;\n",
              "    }\n",
              "\n",
              "    .dataframe thead th {\n",
              "        text-align: right;\n",
              "    }\n",
              "</style>\n",
              "<table border=\"1\" class=\"dataframe\">\n",
              "  <thead>\n",
              "    <tr style=\"text-align: right;\">\n",
              "      <th></th>\n",
              "      <th>A</th>\n",
              "      <th>B</th>\n",
              "    </tr>\n",
              "  </thead>\n",
              "  <tbody>\n",
              "    <tr>\n",
              "      <th>0</th>\n",
              "      <td>0</td>\n",
              "      <td>0</td>\n",
              "    </tr>\n",
              "    <tr>\n",
              "      <th>1</th>\n",
              "      <td>1</td>\n",
              "      <td>0</td>\n",
              "    </tr>\n",
              "    <tr>\n",
              "      <th>2</th>\n",
              "      <td>1</td>\n",
              "      <td>0</td>\n",
              "    </tr>\n",
              "  </tbody>\n",
              "</table>\n",
              "</div>"
            ],
            "text/plain": [
              "   A  B\n",
              "0  0  0\n",
              "1  1  0\n",
              "2  1  0"
            ]
          },
          "execution_count": 29,
          "metadata": {},
          "output_type": "execute_result"
        }
      ],
      "source": [
        "# Creamos un DataFrame\n",
        "df = pd.DataFrame({\n",
        "    'A': [0.3, 0.6, 0.8],\n",
        "    'B': [0.4, 0.2, 0.1]\n",
        "})\n",
        "\n",
        "# Definimos la función que queremos aplicar a cada valor del DataFrame\n",
        "def mayor_que_05(x):\n",
        "    if x > 0.5:\n",
        "        return 1\n",
        "    else:\n",
        "        return 0\n",
        "\n",
        "# Aplicamos la función a cada columna del DataFrame con apply\n",
        "try:\n",
        "  df.apply(mayor_que_05, axis=0)\n",
        "except Exception as e:\n",
        "  print(e)\n",
        "# Aplicamos la función a cada elemento del DataFrame con applymap\n",
        "df.applymap(mayor_que_05)\n"
      ]
    },
    {
      "cell_type": "markdown",
      "metadata": {
        "id": "aj4iY6Ld1avd"
      },
      "source": [
        "En general, el método applymap es útil para aplicar funciones a cada uno de los elementos de un DataFrame, mientras que el método apply se utiliza para aplicar una función a una columna o fila específica de un DataFrame. Es importante tener en cuenta que el método apply también puede aplicarse a un DataFrame completo, pero en ese caso, la función se aplicará a cada columna del DataFrame."
      ]
    },
    {
      "cell_type": "markdown",
      "metadata": {
        "id": "PCWkiMn_1eIX"
      },
      "source": [
        "# Concat"
      ]
    },
    {
      "cell_type": "code",
      "execution_count": 34,
      "metadata": {
        "colab": {
          "base_uri": "https://localhost:8080/",
          "height": 174
        },
        "id": "sLPsTstt1ggp",
        "outputId": "b38f2214-0f28-41be-bba1-9ba7df07d67a"
      },
      "outputs": [
        {
          "name": "stdout",
          "output_type": "stream",
          "text": [
            "   A  B\n",
            "0  1  3\n",
            "1  2  4\n",
            "   A  B\n",
            "0  5  7\n",
            "1  6  8\n"
          ]
        },
        {
          "data": {
            "text/html": [
              "<div>\n",
              "<style scoped>\n",
              "    .dataframe tbody tr th:only-of-type {\n",
              "        vertical-align: middle;\n",
              "    }\n",
              "\n",
              "    .dataframe tbody tr th {\n",
              "        vertical-align: top;\n",
              "    }\n",
              "\n",
              "    .dataframe thead th {\n",
              "        text-align: right;\n",
              "    }\n",
              "</style>\n",
              "<table border=\"1\" class=\"dataframe\">\n",
              "  <thead>\n",
              "    <tr style=\"text-align: right;\">\n",
              "      <th></th>\n",
              "      <th>A</th>\n",
              "      <th>B</th>\n",
              "    </tr>\n",
              "  </thead>\n",
              "  <tbody>\n",
              "    <tr>\n",
              "      <th>0</th>\n",
              "      <td>1</td>\n",
              "      <td>3</td>\n",
              "    </tr>\n",
              "    <tr>\n",
              "      <th>1</th>\n",
              "      <td>2</td>\n",
              "      <td>4</td>\n",
              "    </tr>\n",
              "    <tr>\n",
              "      <th>0</th>\n",
              "      <td>5</td>\n",
              "      <td>7</td>\n",
              "    </tr>\n",
              "    <tr>\n",
              "      <th>1</th>\n",
              "      <td>6</td>\n",
              "      <td>8</td>\n",
              "    </tr>\n",
              "  </tbody>\n",
              "</table>\n",
              "</div>"
            ],
            "text/plain": [
              "   A  B\n",
              "0  1  3\n",
              "1  2  4\n",
              "0  5  7\n",
              "1  6  8"
            ]
          },
          "execution_count": 34,
          "metadata": {},
          "output_type": "execute_result"
        }
      ],
      "source": [
        "# Creamos dos DataFrames\n",
        "df1 = pd.DataFrame({'A': [1, 2], 'B': [3, 4]})\n",
        "df2 = pd.DataFrame({'A': [5, 6], 'B': [7, 8]})\n",
        "print(df1)\n",
        "print(df2)\n",
        "\n",
        "# Concatenamos los DataFrames verticalmente\n",
        "df_concatenado = pd.concat([df1, df2])\n",
        "\n",
        "# Mostramos el DataFrame concatenado\n",
        "df_concatenado"
      ]
    },
    {
      "cell_type": "code",
      "execution_count": 35,
      "metadata": {},
      "outputs": [
        {
          "data": {
            "text/html": [
              "<div>\n",
              "<style scoped>\n",
              "    .dataframe tbody tr th:only-of-type {\n",
              "        vertical-align: middle;\n",
              "    }\n",
              "\n",
              "    .dataframe tbody tr th {\n",
              "        vertical-align: top;\n",
              "    }\n",
              "\n",
              "    .dataframe thead th {\n",
              "        text-align: right;\n",
              "    }\n",
              "</style>\n",
              "<table border=\"1\" class=\"dataframe\">\n",
              "  <thead>\n",
              "    <tr style=\"text-align: right;\">\n",
              "      <th></th>\n",
              "      <th>A</th>\n",
              "      <th>B</th>\n",
              "    </tr>\n",
              "  </thead>\n",
              "  <tbody>\n",
              "    <tr>\n",
              "      <th>0</th>\n",
              "      <td>1</td>\n",
              "      <td>3</td>\n",
              "    </tr>\n",
              "    <tr>\n",
              "      <th>0</th>\n",
              "      <td>5</td>\n",
              "      <td>7</td>\n",
              "    </tr>\n",
              "  </tbody>\n",
              "</table>\n",
              "</div>"
            ],
            "text/plain": [
              "   A  B\n",
              "0  1  3\n",
              "0  5  7"
            ]
          },
          "execution_count": 35,
          "metadata": {},
          "output_type": "execute_result"
        }
      ],
      "source": [
        "df_concatenado.loc[0]"
      ]
    },
    {
      "cell_type": "markdown",
      "metadata": {
        "id": "M4dS75CC1pex"
      },
      "source": [
        "Como se puede ver, `pd.concat()` ha unido los dos DataFrames verticalmente, creando un nuevo DataFrame con todas las filas de `df1` seguidas de todas las filas de `df2`.\n",
        "\n",
        "Ahora, un ejemplo más avanzado. Supongamos que tenemos varios DataFrames que queremos concatenar en una sola operación. Podemos hacer esto usando una lista por comprensión para crear una lista de DataFrames y luego pasar esa lista a `pd.concat()`. "
      ]
    },
    {
      "cell_type": "code",
      "execution_count": 36,
      "metadata": {
        "colab": {
          "base_uri": "https://localhost:8080/",
          "height": 425
        },
        "id": "1FjIxs0C1yav",
        "outputId": "8d04963f-ea81-4d2b-ed08-42e4cd2403bd"
      },
      "outputs": [
        {
          "data": {
            "text/html": [
              "<div>\n",
              "<style scoped>\n",
              "    .dataframe tbody tr th:only-of-type {\n",
              "        vertical-align: middle;\n",
              "    }\n",
              "\n",
              "    .dataframe tbody tr th {\n",
              "        vertical-align: top;\n",
              "    }\n",
              "\n",
              "    .dataframe thead th {\n",
              "        text-align: right;\n",
              "    }\n",
              "</style>\n",
              "<table border=\"1\" class=\"dataframe\">\n",
              "  <thead>\n",
              "    <tr style=\"text-align: right;\">\n",
              "      <th></th>\n",
              "      <th>A</th>\n",
              "      <th>B</th>\n",
              "    </tr>\n",
              "  </thead>\n",
              "  <tbody>\n",
              "    <tr>\n",
              "      <th>0</th>\n",
              "      <td>-1.011616</td>\n",
              "      <td>0.365782</td>\n",
              "    </tr>\n",
              "    <tr>\n",
              "      <th>1</th>\n",
              "      <td>-0.203195</td>\n",
              "      <td>0.041116</td>\n",
              "    </tr>\n",
              "    <tr>\n",
              "      <th>2</th>\n",
              "      <td>1.255136</td>\n",
              "      <td>-1.295255</td>\n",
              "    </tr>\n",
              "    <tr>\n",
              "      <th>3</th>\n",
              "      <td>0.061437</td>\n",
              "      <td>-1.174843</td>\n",
              "    </tr>\n",
              "    <tr>\n",
              "      <th>4</th>\n",
              "      <td>0.968162</td>\n",
              "      <td>0.481379</td>\n",
              "    </tr>\n",
              "    <tr>\n",
              "      <th>5</th>\n",
              "      <td>-0.423670</td>\n",
              "      <td>1.495781</td>\n",
              "    </tr>\n",
              "    <tr>\n",
              "      <th>6</th>\n",
              "      <td>0.570020</td>\n",
              "      <td>0.863901</td>\n",
              "    </tr>\n",
              "    <tr>\n",
              "      <th>7</th>\n",
              "      <td>-2.400404</td>\n",
              "      <td>-0.701182</td>\n",
              "    </tr>\n",
              "    <tr>\n",
              "      <th>8</th>\n",
              "      <td>-0.183635</td>\n",
              "      <td>0.624844</td>\n",
              "    </tr>\n",
              "    <tr>\n",
              "      <th>9</th>\n",
              "      <td>-1.648679</td>\n",
              "      <td>-1.216588</td>\n",
              "    </tr>\n",
              "    <tr>\n",
              "      <th>10</th>\n",
              "      <td>-1.890259</td>\n",
              "      <td>-0.670319</td>\n",
              "    </tr>\n",
              "    <tr>\n",
              "      <th>11</th>\n",
              "      <td>-1.012098</td>\n",
              "      <td>0.595374</td>\n",
              "    </tr>\n",
              "  </tbody>\n",
              "</table>\n",
              "</div>"
            ],
            "text/plain": [
              "           A         B\n",
              "0  -1.011616  0.365782\n",
              "1  -0.203195  0.041116\n",
              "2   1.255136 -1.295255\n",
              "3   0.061437 -1.174843\n",
              "4   0.968162  0.481379\n",
              "5  -0.423670  1.495781\n",
              "6   0.570020  0.863901\n",
              "7  -2.400404 -0.701182\n",
              "8  -0.183635  0.624844\n",
              "9  -1.648679 -1.216588\n",
              "10 -1.890259 -0.670319\n",
              "11 -1.012098  0.595374"
            ]
          },
          "execution_count": 36,
          "metadata": {},
          "output_type": "execute_result"
        }
      ],
      "source": [
        "# Creamos una lista de DataFrames aleatorios\n",
        "dataframes = [pd.DataFrame(np.random.randn(3, 2), \n",
        "                           columns=['A', 'B']) for i in range(4)]\n",
        "\n",
        "# Concatenamos los DataFrames en un solo DataFrame\n",
        "df_concatenado = pd.concat(dataframes, ignore_index=True)\n",
        "\n",
        "# Mostramos el DataFrame concatenado\n",
        "df_concatenado"
      ]
    },
    {
      "cell_type": "markdown",
      "metadata": {
        "id": "4j2aAVc22TEd"
      },
      "source": [
        "## Axis = 0"
      ]
    },
    {
      "cell_type": "code",
      "execution_count": 37,
      "metadata": {
        "id": "sDds6fTm2WpU"
      },
      "outputs": [],
      "source": [
        "df1 = pd.DataFrame({'A': [1, 2, 3], 'B': [4, 5, 6]})\n",
        "df2 = pd.DataFrame({'C': [7, 8, 9], 'D': [10, 11, 12]})"
      ]
    },
    {
      "cell_type": "markdown",
      "metadata": {
        "id": "CKjTXuYg2eQ7"
      },
      "source": [
        "`axis`. Este argumento indica si la concatenación se hace a lo largo de las filas (`axis=0`) o a lo largo de las columnas (`axis=1`). Consideremos dos dataframes `df1` y `df2`:"
      ]
    },
    {
      "cell_type": "code",
      "execution_count": 38,
      "metadata": {},
      "outputs": [
        {
          "data": {
            "text/html": [
              "<div>\n",
              "<style scoped>\n",
              "    .dataframe tbody tr th:only-of-type {\n",
              "        vertical-align: middle;\n",
              "    }\n",
              "\n",
              "    .dataframe tbody tr th {\n",
              "        vertical-align: top;\n",
              "    }\n",
              "\n",
              "    .dataframe thead th {\n",
              "        text-align: right;\n",
              "    }\n",
              "</style>\n",
              "<table border=\"1\" class=\"dataframe\">\n",
              "  <thead>\n",
              "    <tr style=\"text-align: right;\">\n",
              "      <th></th>\n",
              "      <th>A</th>\n",
              "      <th>B</th>\n",
              "    </tr>\n",
              "  </thead>\n",
              "  <tbody>\n",
              "    <tr>\n",
              "      <th>0</th>\n",
              "      <td>1</td>\n",
              "      <td>4</td>\n",
              "    </tr>\n",
              "    <tr>\n",
              "      <th>1</th>\n",
              "      <td>2</td>\n",
              "      <td>5</td>\n",
              "    </tr>\n",
              "    <tr>\n",
              "      <th>2</th>\n",
              "      <td>3</td>\n",
              "      <td>6</td>\n",
              "    </tr>\n",
              "  </tbody>\n",
              "</table>\n",
              "</div>"
            ],
            "text/plain": [
              "   A  B\n",
              "0  1  4\n",
              "1  2  5\n",
              "2  3  6"
            ]
          },
          "execution_count": 38,
          "metadata": {},
          "output_type": "execute_result"
        }
      ],
      "source": [
        "df1"
      ]
    },
    {
      "cell_type": "code",
      "execution_count": 39,
      "metadata": {},
      "outputs": [
        {
          "data": {
            "text/html": [
              "<div>\n",
              "<style scoped>\n",
              "    .dataframe tbody tr th:only-of-type {\n",
              "        vertical-align: middle;\n",
              "    }\n",
              "\n",
              "    .dataframe tbody tr th {\n",
              "        vertical-align: top;\n",
              "    }\n",
              "\n",
              "    .dataframe thead th {\n",
              "        text-align: right;\n",
              "    }\n",
              "</style>\n",
              "<table border=\"1\" class=\"dataframe\">\n",
              "  <thead>\n",
              "    <tr style=\"text-align: right;\">\n",
              "      <th></th>\n",
              "      <th>C</th>\n",
              "      <th>D</th>\n",
              "    </tr>\n",
              "  </thead>\n",
              "  <tbody>\n",
              "    <tr>\n",
              "      <th>0</th>\n",
              "      <td>7</td>\n",
              "      <td>10</td>\n",
              "    </tr>\n",
              "    <tr>\n",
              "      <th>1</th>\n",
              "      <td>8</td>\n",
              "      <td>11</td>\n",
              "    </tr>\n",
              "    <tr>\n",
              "      <th>2</th>\n",
              "      <td>9</td>\n",
              "      <td>12</td>\n",
              "    </tr>\n",
              "  </tbody>\n",
              "</table>\n",
              "</div>"
            ],
            "text/plain": [
              "   C   D\n",
              "0  7  10\n",
              "1  8  11\n",
              "2  9  12"
            ]
          },
          "execution_count": 39,
          "metadata": {},
          "output_type": "execute_result"
        }
      ],
      "source": [
        "df2"
      ]
    },
    {
      "cell_type": "code",
      "execution_count": 40,
      "metadata": {
        "colab": {
          "base_uri": "https://localhost:8080/",
          "height": 237
        },
        "id": "dIrMxuGH2lwp",
        "outputId": "8e00ecd3-c141-4e79-aa8b-775e1dd877c0"
      },
      "outputs": [
        {
          "data": {
            "text/html": [
              "<div>\n",
              "<style scoped>\n",
              "    .dataframe tbody tr th:only-of-type {\n",
              "        vertical-align: middle;\n",
              "    }\n",
              "\n",
              "    .dataframe tbody tr th {\n",
              "        vertical-align: top;\n",
              "    }\n",
              "\n",
              "    .dataframe thead th {\n",
              "        text-align: right;\n",
              "    }\n",
              "</style>\n",
              "<table border=\"1\" class=\"dataframe\">\n",
              "  <thead>\n",
              "    <tr style=\"text-align: right;\">\n",
              "      <th></th>\n",
              "      <th>A</th>\n",
              "      <th>B</th>\n",
              "      <th>C</th>\n",
              "      <th>D</th>\n",
              "    </tr>\n",
              "  </thead>\n",
              "  <tbody>\n",
              "    <tr>\n",
              "      <th>0</th>\n",
              "      <td>1.0</td>\n",
              "      <td>4.0</td>\n",
              "      <td>NaN</td>\n",
              "      <td>NaN</td>\n",
              "    </tr>\n",
              "    <tr>\n",
              "      <th>1</th>\n",
              "      <td>2.0</td>\n",
              "      <td>5.0</td>\n",
              "      <td>NaN</td>\n",
              "      <td>NaN</td>\n",
              "    </tr>\n",
              "    <tr>\n",
              "      <th>2</th>\n",
              "      <td>3.0</td>\n",
              "      <td>6.0</td>\n",
              "      <td>NaN</td>\n",
              "      <td>NaN</td>\n",
              "    </tr>\n",
              "    <tr>\n",
              "      <th>0</th>\n",
              "      <td>NaN</td>\n",
              "      <td>NaN</td>\n",
              "      <td>7.0</td>\n",
              "      <td>10.0</td>\n",
              "    </tr>\n",
              "    <tr>\n",
              "      <th>1</th>\n",
              "      <td>NaN</td>\n",
              "      <td>NaN</td>\n",
              "      <td>8.0</td>\n",
              "      <td>11.0</td>\n",
              "    </tr>\n",
              "    <tr>\n",
              "      <th>2</th>\n",
              "      <td>NaN</td>\n",
              "      <td>NaN</td>\n",
              "      <td>9.0</td>\n",
              "      <td>12.0</td>\n",
              "    </tr>\n",
              "  </tbody>\n",
              "</table>\n",
              "</div>"
            ],
            "text/plain": [
              "     A    B    C     D\n",
              "0  1.0  4.0  NaN   NaN\n",
              "1  2.0  5.0  NaN   NaN\n",
              "2  3.0  6.0  NaN   NaN\n",
              "0  NaN  NaN  7.0  10.0\n",
              "1  NaN  NaN  8.0  11.0\n",
              "2  NaN  NaN  9.0  12.0"
            ]
          },
          "execution_count": 40,
          "metadata": {},
          "output_type": "execute_result"
        }
      ],
      "source": [
        "df_concat_filas = pd.concat([df1, df2], axis=0)\n",
        "df_concat_filas"
      ]
    },
    {
      "cell_type": "code",
      "execution_count": 41,
      "metadata": {
        "colab": {
          "base_uri": "https://localhost:8080/",
          "height": 112
        },
        "id": "bx3UEsUG3Cnr",
        "outputId": "c3a360a3-c79f-4aba-8696-a009980f4567"
      },
      "outputs": [
        {
          "data": {
            "text/html": [
              "<div>\n",
              "<style scoped>\n",
              "    .dataframe tbody tr th:only-of-type {\n",
              "        vertical-align: middle;\n",
              "    }\n",
              "\n",
              "    .dataframe tbody tr th {\n",
              "        vertical-align: top;\n",
              "    }\n",
              "\n",
              "    .dataframe thead th {\n",
              "        text-align: right;\n",
              "    }\n",
              "</style>\n",
              "<table border=\"1\" class=\"dataframe\">\n",
              "  <thead>\n",
              "    <tr style=\"text-align: right;\">\n",
              "      <th></th>\n",
              "      <th>A</th>\n",
              "      <th>B</th>\n",
              "      <th>C</th>\n",
              "      <th>D</th>\n",
              "    </tr>\n",
              "  </thead>\n",
              "  <tbody>\n",
              "    <tr>\n",
              "      <th>0</th>\n",
              "      <td>1.0</td>\n",
              "      <td>4.0</td>\n",
              "      <td>NaN</td>\n",
              "      <td>NaN</td>\n",
              "    </tr>\n",
              "    <tr>\n",
              "      <th>0</th>\n",
              "      <td>NaN</td>\n",
              "      <td>NaN</td>\n",
              "      <td>7.0</td>\n",
              "      <td>10.0</td>\n",
              "    </tr>\n",
              "  </tbody>\n",
              "</table>\n",
              "</div>"
            ],
            "text/plain": [
              "     A    B    C     D\n",
              "0  1.0  4.0  NaN   NaN\n",
              "0  NaN  NaN  7.0  10.0"
            ]
          },
          "execution_count": 41,
          "metadata": {},
          "output_type": "execute_result"
        }
      ],
      "source": [
        "# Se repite el indice\n",
        "df_concat_filas.loc[0]"
      ]
    },
    {
      "cell_type": "markdown",
      "metadata": {
        "id": "Nj4t5nvC2w_P"
      },
      "source": [
        "Como puedes ver, la salida tiene `NaN` en las columnas que no estaban presentes en cada uno de los dataframes originales."
      ]
    },
    {
      "cell_type": "markdown",
      "metadata": {
        "id": "fZt8FwwG4l1b"
      },
      "source": [
        "### Ignore Index"
      ]
    },
    {
      "cell_type": "markdown",
      "metadata": {
        "id": "FQ4OfB2p3Obv"
      },
      "source": [
        "Ahora consideremos el argumento `ignore_index`. Si se establece en True, el índice del dataframe resultante será reiniciado de manera consecutiva:"
      ]
    },
    {
      "cell_type": "code",
      "execution_count": 42,
      "metadata": {
        "colab": {
          "base_uri": "https://localhost:8080/",
          "height": 237
        },
        "id": "rvJCiJG63YPG",
        "outputId": "b4650b1b-5df0-4ae6-f516-d3a387fe28e6"
      },
      "outputs": [
        {
          "data": {
            "text/html": [
              "<div>\n",
              "<style scoped>\n",
              "    .dataframe tbody tr th:only-of-type {\n",
              "        vertical-align: middle;\n",
              "    }\n",
              "\n",
              "    .dataframe tbody tr th {\n",
              "        vertical-align: top;\n",
              "    }\n",
              "\n",
              "    .dataframe thead th {\n",
              "        text-align: right;\n",
              "    }\n",
              "</style>\n",
              "<table border=\"1\" class=\"dataframe\">\n",
              "  <thead>\n",
              "    <tr style=\"text-align: right;\">\n",
              "      <th></th>\n",
              "      <th>A</th>\n",
              "      <th>B</th>\n",
              "      <th>C</th>\n",
              "      <th>D</th>\n",
              "    </tr>\n",
              "  </thead>\n",
              "  <tbody>\n",
              "    <tr>\n",
              "      <th>0</th>\n",
              "      <td>1.0</td>\n",
              "      <td>4.0</td>\n",
              "      <td>NaN</td>\n",
              "      <td>NaN</td>\n",
              "    </tr>\n",
              "    <tr>\n",
              "      <th>1</th>\n",
              "      <td>2.0</td>\n",
              "      <td>5.0</td>\n",
              "      <td>NaN</td>\n",
              "      <td>NaN</td>\n",
              "    </tr>\n",
              "    <tr>\n",
              "      <th>2</th>\n",
              "      <td>3.0</td>\n",
              "      <td>6.0</td>\n",
              "      <td>NaN</td>\n",
              "      <td>NaN</td>\n",
              "    </tr>\n",
              "    <tr>\n",
              "      <th>3</th>\n",
              "      <td>NaN</td>\n",
              "      <td>NaN</td>\n",
              "      <td>7.0</td>\n",
              "      <td>10.0</td>\n",
              "    </tr>\n",
              "    <tr>\n",
              "      <th>4</th>\n",
              "      <td>NaN</td>\n",
              "      <td>NaN</td>\n",
              "      <td>8.0</td>\n",
              "      <td>11.0</td>\n",
              "    </tr>\n",
              "    <tr>\n",
              "      <th>5</th>\n",
              "      <td>NaN</td>\n",
              "      <td>NaN</td>\n",
              "      <td>9.0</td>\n",
              "      <td>12.0</td>\n",
              "    </tr>\n",
              "  </tbody>\n",
              "</table>\n",
              "</div>"
            ],
            "text/plain": [
              "     A    B    C     D\n",
              "0  1.0  4.0  NaN   NaN\n",
              "1  2.0  5.0  NaN   NaN\n",
              "2  3.0  6.0  NaN   NaN\n",
              "3  NaN  NaN  7.0  10.0\n",
              "4  NaN  NaN  8.0  11.0\n",
              "5  NaN  NaN  9.0  12.0"
            ]
          },
          "execution_count": 42,
          "metadata": {},
          "output_type": "execute_result"
        }
      ],
      "source": [
        "df_concat_ignore_index = pd.concat([df1, df2], ignore_index=True)\n",
        "df_concat_ignore_index"
      ]
    },
    {
      "cell_type": "code",
      "execution_count": 43,
      "metadata": {
        "colab": {
          "base_uri": "https://localhost:8080/"
        },
        "id": "QptqmvTf3cLp",
        "outputId": "0e892815-b57d-484b-a3cd-f972e3019882"
      },
      "outputs": [
        {
          "data": {
            "text/plain": [
              "A    1.0\n",
              "B    4.0\n",
              "C    NaN\n",
              "D    NaN\n",
              "Name: 0, dtype: float64"
            ]
          },
          "execution_count": 43,
          "metadata": {},
          "output_type": "execute_result"
        }
      ],
      "source": [
        "df_concat_ignore_index.loc[0]"
      ]
    },
    {
      "cell_type": "markdown",
      "metadata": {
        "id": "Wwj7LIib4pxH"
      },
      "source": [
        "## Axis = 1"
      ]
    },
    {
      "cell_type": "markdown",
      "metadata": {
        "id": "AoT76mZu20vu"
      },
      "source": [
        "Si concatenamos `df1` y `df2` a lo largo de las columnas (`axis=1`), se obtiene un dataframe que tiene las columnas de `df1` seguidas de las columnas de `df2`:"
      ]
    },
    {
      "cell_type": "code",
      "execution_count": 44,
      "metadata": {},
      "outputs": [
        {
          "data": {
            "text/html": [
              "<div>\n",
              "<style scoped>\n",
              "    .dataframe tbody tr th:only-of-type {\n",
              "        vertical-align: middle;\n",
              "    }\n",
              "\n",
              "    .dataframe tbody tr th {\n",
              "        vertical-align: top;\n",
              "    }\n",
              "\n",
              "    .dataframe thead th {\n",
              "        text-align: right;\n",
              "    }\n",
              "</style>\n",
              "<table border=\"1\" class=\"dataframe\">\n",
              "  <thead>\n",
              "    <tr style=\"text-align: right;\">\n",
              "      <th></th>\n",
              "      <th>A</th>\n",
              "      <th>B</th>\n",
              "    </tr>\n",
              "  </thead>\n",
              "  <tbody>\n",
              "    <tr>\n",
              "      <th>0</th>\n",
              "      <td>1</td>\n",
              "      <td>4</td>\n",
              "    </tr>\n",
              "    <tr>\n",
              "      <th>1</th>\n",
              "      <td>2</td>\n",
              "      <td>5</td>\n",
              "    </tr>\n",
              "    <tr>\n",
              "      <th>2</th>\n",
              "      <td>3</td>\n",
              "      <td>6</td>\n",
              "    </tr>\n",
              "  </tbody>\n",
              "</table>\n",
              "</div>"
            ],
            "text/plain": [
              "   A  B\n",
              "0  1  4\n",
              "1  2  5\n",
              "2  3  6"
            ]
          },
          "execution_count": 44,
          "metadata": {},
          "output_type": "execute_result"
        }
      ],
      "source": [
        "df1"
      ]
    },
    {
      "cell_type": "code",
      "execution_count": 45,
      "metadata": {},
      "outputs": [
        {
          "data": {
            "text/html": [
              "<div>\n",
              "<style scoped>\n",
              "    .dataframe tbody tr th:only-of-type {\n",
              "        vertical-align: middle;\n",
              "    }\n",
              "\n",
              "    .dataframe tbody tr th {\n",
              "        vertical-align: top;\n",
              "    }\n",
              "\n",
              "    .dataframe thead th {\n",
              "        text-align: right;\n",
              "    }\n",
              "</style>\n",
              "<table border=\"1\" class=\"dataframe\">\n",
              "  <thead>\n",
              "    <tr style=\"text-align: right;\">\n",
              "      <th></th>\n",
              "      <th>C</th>\n",
              "      <th>D</th>\n",
              "    </tr>\n",
              "  </thead>\n",
              "  <tbody>\n",
              "    <tr>\n",
              "      <th>0</th>\n",
              "      <td>7</td>\n",
              "      <td>10</td>\n",
              "    </tr>\n",
              "    <tr>\n",
              "      <th>1</th>\n",
              "      <td>8</td>\n",
              "      <td>11</td>\n",
              "    </tr>\n",
              "    <tr>\n",
              "      <th>2</th>\n",
              "      <td>9</td>\n",
              "      <td>12</td>\n",
              "    </tr>\n",
              "  </tbody>\n",
              "</table>\n",
              "</div>"
            ],
            "text/plain": [
              "   C   D\n",
              "0  7  10\n",
              "1  8  11\n",
              "2  9  12"
            ]
          },
          "execution_count": 45,
          "metadata": {},
          "output_type": "execute_result"
        }
      ],
      "source": [
        "df2"
      ]
    },
    {
      "cell_type": "code",
      "execution_count": 46,
      "metadata": {
        "colab": {
          "base_uri": "https://localhost:8080/",
          "height": 143
        },
        "id": "LBhWieau29Km",
        "outputId": "b505b089-7c93-4d98-8273-fb2999f9e2a6"
      },
      "outputs": [
        {
          "data": {
            "text/html": [
              "<div>\n",
              "<style scoped>\n",
              "    .dataframe tbody tr th:only-of-type {\n",
              "        vertical-align: middle;\n",
              "    }\n",
              "\n",
              "    .dataframe tbody tr th {\n",
              "        vertical-align: top;\n",
              "    }\n",
              "\n",
              "    .dataframe thead th {\n",
              "        text-align: right;\n",
              "    }\n",
              "</style>\n",
              "<table border=\"1\" class=\"dataframe\">\n",
              "  <thead>\n",
              "    <tr style=\"text-align: right;\">\n",
              "      <th></th>\n",
              "      <th>A</th>\n",
              "      <th>B</th>\n",
              "      <th>C</th>\n",
              "      <th>D</th>\n",
              "    </tr>\n",
              "  </thead>\n",
              "  <tbody>\n",
              "    <tr>\n",
              "      <th>0</th>\n",
              "      <td>1</td>\n",
              "      <td>4</td>\n",
              "      <td>7</td>\n",
              "      <td>10</td>\n",
              "    </tr>\n",
              "    <tr>\n",
              "      <th>1</th>\n",
              "      <td>2</td>\n",
              "      <td>5</td>\n",
              "      <td>8</td>\n",
              "      <td>11</td>\n",
              "    </tr>\n",
              "    <tr>\n",
              "      <th>2</th>\n",
              "      <td>3</td>\n",
              "      <td>6</td>\n",
              "      <td>9</td>\n",
              "      <td>12</td>\n",
              "    </tr>\n",
              "  </tbody>\n",
              "</table>\n",
              "</div>"
            ],
            "text/plain": [
              "   A  B  C   D\n",
              "0  1  4  7  10\n",
              "1  2  5  8  11\n",
              "2  3  6  9  12"
            ]
          },
          "execution_count": 46,
          "metadata": {},
          "output_type": "execute_result"
        }
      ],
      "source": [
        "df_concat_columnas = pd.concat([df1, df2], axis=1)\n",
        "df_concat_columnas"
      ]
    },
    {
      "cell_type": "markdown",
      "metadata": {
        "id": "nAV09mJn4DVE"
      },
      "source": [
        "### Ignore index (axis = 1)\n"
      ]
    },
    {
      "cell_type": "markdown",
      "metadata": {
        "id": "UH6S5YcZ4Pzx"
      },
      "source": [
        "#### Mismos indices"
      ]
    },
    {
      "cell_type": "code",
      "execution_count": 48,
      "metadata": {
        "colab": {
          "base_uri": "https://localhost:8080/",
          "height": 143
        },
        "id": "e_YABXoj4Jrc",
        "outputId": "88c4ae4e-6495-4fcf-fce6-229277625d00"
      },
      "outputs": [
        {
          "data": {
            "text/html": [
              "<div>\n",
              "<style scoped>\n",
              "    .dataframe tbody tr th:only-of-type {\n",
              "        vertical-align: middle;\n",
              "    }\n",
              "\n",
              "    .dataframe tbody tr th {\n",
              "        vertical-align: top;\n",
              "    }\n",
              "\n",
              "    .dataframe thead th {\n",
              "        text-align: right;\n",
              "    }\n",
              "</style>\n",
              "<table border=\"1\" class=\"dataframe\">\n",
              "  <thead>\n",
              "    <tr style=\"text-align: right;\">\n",
              "      <th></th>\n",
              "      <th>0</th>\n",
              "      <th>1</th>\n",
              "      <th>2</th>\n",
              "      <th>3</th>\n",
              "    </tr>\n",
              "  </thead>\n",
              "  <tbody>\n",
              "    <tr>\n",
              "      <th>0</th>\n",
              "      <td>1</td>\n",
              "      <td>4</td>\n",
              "      <td>7</td>\n",
              "      <td>10</td>\n",
              "    </tr>\n",
              "    <tr>\n",
              "      <th>1</th>\n",
              "      <td>2</td>\n",
              "      <td>5</td>\n",
              "      <td>8</td>\n",
              "      <td>11</td>\n",
              "    </tr>\n",
              "    <tr>\n",
              "      <th>2</th>\n",
              "      <td>3</td>\n",
              "      <td>6</td>\n",
              "      <td>9</td>\n",
              "      <td>12</td>\n",
              "    </tr>\n",
              "  </tbody>\n",
              "</table>\n",
              "</div>"
            ],
            "text/plain": [
              "   0  1  2   3\n",
              "0  1  4  7  10\n",
              "1  2  5  8  11\n",
              "2  3  6  9  12"
            ]
          },
          "execution_count": 48,
          "metadata": {},
          "output_type": "execute_result"
        }
      ],
      "source": [
        "# Creamos dos DataFrames con índices iguales\n",
        "df1 = pd.DataFrame({'A': [1, 2, 3], 'B': [4, 5, 6]}, index=[0, 1, 2])\n",
        "df2 = pd.DataFrame({'C': [7, 8, 9], 'D': [10, 11, 12]}, index=[0, 1, 2])\n",
        "\n",
        "# Concatenamos los DataFrames a lo largo de las columnas (axis=1)\n",
        "df_concat = pd.concat([df1, df2], axis=1, ignore_index=True)\n",
        "\n",
        "df_concat"
      ]
    },
    {
      "cell_type": "markdown",
      "metadata": {
        "id": "ZS5rzKKH4OB9"
      },
      "source": [
        "En este caso, los índices son iguales en ambos DataFrames, por lo que la concatenación no tiene problemas y se genera un nuevo DataFrame con las columnas concatenadas."
      ]
    },
    {
      "cell_type": "markdown",
      "metadata": {
        "id": "cXe955Y14Spa"
      },
      "source": [
        "#### Algunos indices parecidos"
      ]
    },
    {
      "cell_type": "code",
      "execution_count": 51,
      "metadata": {
        "colab": {
          "base_uri": "https://localhost:8080/"
        },
        "id": "hIoMADh_4VRV",
        "outputId": "bd21d65e-9fab-490f-f198-2a81c7e66490"
      },
      "outputs": [
        {
          "data": {
            "text/html": [
              "<div>\n",
              "<style scoped>\n",
              "    .dataframe tbody tr th:only-of-type {\n",
              "        vertical-align: middle;\n",
              "    }\n",
              "\n",
              "    .dataframe tbody tr th {\n",
              "        vertical-align: top;\n",
              "    }\n",
              "\n",
              "    .dataframe thead th {\n",
              "        text-align: right;\n",
              "    }\n",
              "</style>\n",
              "<table border=\"1\" class=\"dataframe\">\n",
              "  <thead>\n",
              "    <tr style=\"text-align: right;\">\n",
              "      <th></th>\n",
              "      <th>0</th>\n",
              "      <th>1</th>\n",
              "      <th>2</th>\n",
              "      <th>3</th>\n",
              "    </tr>\n",
              "  </thead>\n",
              "  <tbody>\n",
              "    <tr>\n",
              "      <th>0</th>\n",
              "      <td>1.0</td>\n",
              "      <td>4.0</td>\n",
              "      <td>NaN</td>\n",
              "      <td>NaN</td>\n",
              "    </tr>\n",
              "    <tr>\n",
              "      <th>1</th>\n",
              "      <td>2.0</td>\n",
              "      <td>5.0</td>\n",
              "      <td>7.0</td>\n",
              "      <td>10.0</td>\n",
              "    </tr>\n",
              "    <tr>\n",
              "      <th>2</th>\n",
              "      <td>3.0</td>\n",
              "      <td>6.0</td>\n",
              "      <td>8.0</td>\n",
              "      <td>11.0</td>\n",
              "    </tr>\n",
              "    <tr>\n",
              "      <th>3</th>\n",
              "      <td>NaN</td>\n",
              "      <td>NaN</td>\n",
              "      <td>9.0</td>\n",
              "      <td>12.0</td>\n",
              "    </tr>\n",
              "  </tbody>\n",
              "</table>\n",
              "</div>"
            ],
            "text/plain": [
              "     0    1    2     3\n",
              "0  1.0  4.0  NaN   NaN\n",
              "1  2.0  5.0  7.0  10.0\n",
              "2  3.0  6.0  8.0  11.0\n",
              "3  NaN  NaN  9.0  12.0"
            ]
          },
          "execution_count": 51,
          "metadata": {},
          "output_type": "execute_result"
        }
      ],
      "source": [
        "# Creamos dos DataFrames con índices parecidos\n",
        "df1 = pd.DataFrame({'A': [1, 2, 3], 'B': [4, 5, 6]}, index=[0, 1, 2])\n",
        "df2 = pd.DataFrame({'C': [7, 8, 9], 'D': [10, 11, 12]}, index=[1, 2, 3])\n",
        "\n",
        "# Concatenamos los DataFrames a lo largo de las columnas (axis=1)\n",
        "df_concat = pd.concat([df1, df2], axis=1, ignore_index=True)\n",
        "\n",
        "df_concat"
      ]
    },
    {
      "cell_type": "markdown",
      "metadata": {
        "id": "Zv_JmJ2E4Z71"
      },
      "source": [
        "En este caso, los índices son parecidos pero no iguales, por lo que la concatenación genera un nuevo DataFrame con `NaNs` en las celdas donde no hay valores. Además, al utilizar `ignore_index=True`, los índices originales se ignoran y se crean nuevos índices secuenciales."
      ]
    },
    {
      "cell_type": "markdown",
      "metadata": {
        "id": "0xh4gT4843qT"
      },
      "source": [
        "### Indices Diferentes"
      ]
    },
    {
      "cell_type": "code",
      "execution_count": 52,
      "metadata": {
        "colab": {
          "base_uri": "https://localhost:8080/"
        },
        "id": "gD8shiFQ4_JE",
        "outputId": "f7a897a8-1d7c-439a-8f65-d19a8af209ad"
      },
      "outputs": [
        {
          "name": "stdout",
          "output_type": "stream",
          "text": [
            "      A    B    C     D\n",
            "0   1.0  4.0  NaN   NaN\n",
            "1   2.0  5.0  NaN   NaN\n",
            "2   3.0  6.0  NaN   NaN\n",
            "4   NaN  NaN  7.0  10.0\n",
            "5   NaN  NaN  8.0  11.0\n",
            "66  NaN  NaN  9.0  12.0\n"
          ]
        }
      ],
      "source": [
        "\n",
        "df1 = pd.DataFrame({'A': [1, 2, 3], 'B': [4, 5, 6]}, index=[0, 1, 2])\n",
        "df2 = pd.DataFrame({'C': [7, 8, 9], 'D': [10, 11, 12]}, index=[4, 5, 66])\n",
        "\n",
        "# Concatenamos a lo largo de las filas (axis=0) y no ignoramos los índices originales\n",
        "concatenado = pd.concat([df1, df2], axis=1, ignore_index=False)\n",
        "print(concatenado)"
      ]
    }
  ],
  "metadata": {
    "colab": {
      "authorship_tag": "ABX9TyOjFGrKrocWLuWbhN06y+qk",
      "include_colab_link": true,
      "provenance": [],
      "toc_visible": true
    },
    "kernelspec": {
      "display_name": "Python 3",
      "name": "python3"
    },
    "language_info": {
      "codemirror_mode": {
        "name": "ipython",
        "version": 3
      },
      "file_extension": ".py",
      "mimetype": "text/x-python",
      "name": "python",
      "nbconvert_exporter": "python",
      "pygments_lexer": "ipython3",
      "version": "3.10.9"
    }
  },
  "nbformat": 4,
  "nbformat_minor": 0
}
