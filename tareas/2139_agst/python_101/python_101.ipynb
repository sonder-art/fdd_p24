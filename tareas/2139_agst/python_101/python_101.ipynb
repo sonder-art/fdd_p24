{
 "cells": [
  {
   "cell_type": "markdown",
   "metadata": {},
   "source": [
    "### Preparacion comun"
   ]
  },
  {
   "cell_type": "code",
   "execution_count": 16,
   "metadata": {},
   "outputs": [],
   "source": [
    "import numpy as np\n",
    "\n",
    "A = np.random.rand(1000, 3)  # Usamos tamaños más pequeños para hacerlo manejable\n",
    "B = np.random.rand(1000, 3)"
   ]
  },
  {
   "cell_type": "markdown",
   "metadata": {},
   "source": [
    "### Bucle for tradicional"
   ]
  },
  {
   "cell_type": "code",
   "execution_count": 17,
   "metadata": {},
   "outputs": [
    {
     "name": "stdout",
     "output_type": "stream",
     "text": [
      "Bucle `for` original tardó: 3.8682610988616943 segundos\n"
     ]
    }
   ],
   "source": [
    "import time\n",
    "from scipy.spatial import distance\n",
    "\n",
    "start_time = time.time()\n",
    "\n",
    "distancias_for = []\n",
    "for a in A:\n",
    "    for b in B:\n",
    "        dist = np.sqrt(np.sum((a - b) ** 2))\n",
    "        distancias_for.append(dist)\n",
    "\n",
    "end_time = time.time()\n",
    "print(f\"Bucle `for` original tardó: {end_time - start_time} segundos\")"
   ]
  },
  {
   "cell_type": "markdown",
   "metadata": {},
   "source": [
    "### Versión vectorizada con NumPy"
   ]
  },
  {
   "cell_type": "code",
   "execution_count": 18,
   "metadata": {},
   "outputs": [
    {
     "name": "stdout",
     "output_type": "stream",
     "text": [
      "Vectorización con NumPy tardó: 0.07084441184997559 segundos\n"
     ]
    }
   ],
   "source": [
    "import numpy as np\n",
    "start_time = time.time()\n",
    "\n",
    "diff = A[:, np.newaxis, :] - B[np.newaxis, :, :]\n",
    "distancias_vectorizadas = np.sqrt(np.sum(diff**2, axis=2))\n",
    "\n",
    "end_time = time.time()\n",
    "print(f\"Vectorización con NumPy tardó: {end_time - start_time} segundos\")"
   ]
  },
  {
   "cell_type": "markdown",
   "metadata": {},
   "source": [
    "### Paralelización con joblib"
   ]
  },
  {
   "cell_type": "code",
   "execution_count": 19,
   "metadata": {},
   "outputs": [
    {
     "name": "stdout",
     "output_type": "stream",
     "text": [
      "Paralelización con `joblib` tardó: 0.9430487155914307 segundos\n"
     ]
    }
   ],
   "source": [
    "from joblib import Parallel, delayed\n",
    "\n",
    "def calcular_distancias_joblib(a, B):\n",
    "    return [np.sqrt(np.sum((a - b) ** 2)) for b in B]\n",
    "\n",
    "start_time = time.time()\n",
    "\n",
    "resultados_joblib = Parallel(n_jobs=-1)(delayed(calcular_distancias_joblib)(a, B) for a in A)\n",
    "\n",
    "end_time = time.time()\n",
    "print(f\"Paralelización con `joblib` tardó: {end_time - start_time} segundos\")\n"
   ]
  },
  {
   "cell_type": "markdown",
   "metadata": {},
   "source": [
    "### Paralelización con multiprocessing"
   ]
  },
  {
   "cell_type": "code",
   "execution_count": 20,
   "metadata": {},
   "outputs": [
    {
     "name": "stdout",
     "output_type": "stream",
     "text": [
      "Paralelización con `multiprocessing` tardó: 1.6318132877349854 segundos\n"
     ]
    }
   ],
   "source": [
    "from multiprocessing import Pool\n",
    "\n",
    "def calcular_distancias_multiprocessing(a, B):\n",
    "    return [np.sqrt(np.sum((a - b) ** 2)) for b in B]\n",
    "\n",
    "if __name__ == '__main__':\n",
    "    start_time = time.time()\n",
    "\n",
    "    with Pool(processes=4) as pool:\n",
    "        resultados_multiprocessing = pool.starmap(calcular_distancias_multiprocessing, [(a, B) for a in A])\n",
    "\n",
    "    end_time = time.time()\n",
    "    print(f\"Paralelización con `multiprocessing` tardó: {end_time - start_time} segundos\")"
   ]
  },
  {
   "cell_type": "markdown",
   "metadata": {},
   "source": [
    "### Simulaciones"
   ]
  },
  {
   "cell_type": "code",
   "execution_count": 24,
   "metadata": {},
   "outputs": [],
   "source": [
    "import numpy as np\n",
    "import time\n",
    "from joblib import Parallel, delayed\n",
    "import multiprocessing\n",
    "\n",
    "# Definiciones de las funciones de ejemplo\n",
    "\n",
    "def for_loop(A, B):\n",
    "    result = np.zeros_like(A)\n",
    "    for i in range(A.shape[0]):\n",
    "        for j in range(A.shape[1]):\n",
    "            result[i, j] = A[i, j] + B[i, j]  # Operación simple de ejemplo\n",
    "    return result\n",
    "\n",
    "def vectorization(A, B):\n",
    "    return A + B\n",
    "\n",
    "def add(a,b):\n",
    "    return a+b\n",
    "\n",
    "def joblib_parallel(A, B):\n",
    "    # Esta es una función de ejemplo para la operación paralela con Joblib\n",
    "    \n",
    "    result = Parallel(n_jobs=-1)(delayed(add)(A[i], B[i]) for i in range(len(A)))\n",
    "    return np.array(result)\n",
    "\n",
    "def multiprocessing_parallel(A, B):\n",
    "    # Definición similar a joblib pero usando multiprocessing\n",
    "    pool = multiprocessing.Pool(processes=multiprocessing.cpu_count())\n",
    "    result = pool.starmap(add, [(A[i], B[i]) for i in range(len(A))])\n",
    "    pool.close()\n",
    "    pool.join()\n",
    "    return np.array(result)\n",
    "\n",
    "# Asegúrate de definir A y B con el tamaño deseado\n",
    "A = np.random.rand(10000, 3)\n",
    "B = np.random.rand(10000, 3)\n",
    "\n",
    "# Número de simulaciones y listas para tiempos\n",
    "num_simulaciones = 5\n",
    "tiempos_for_loop = []\n",
    "tiempos_vectorizacion = []\n",
    "tiempos_joblib = []\n",
    "tiempos_multiprocessing = []\n",
    "\n",
    "for _ in range(num_simulaciones):\n",
    "    # Repetimos el bloque de código de medición de tiempos para cada método\n",
    "    start_time = time.time()\n",
    "    for_loop(A, B)\n",
    "    tiempos_for_loop.append(time.time() - start_time)\n",
    "    \n",
    "    start_time = time.time()\n",
    "    vectorization(A, B)\n",
    "    tiempos_vectorizacion.append(time.time() - start_time)\n",
    "    \n",
    "    start_time = time.time()\n",
    "    joblib_parallel(A, B)\n",
    "    tiempos_joblib.append(time.time() - start_time)\n",
    "    \n",
    "    start_time = time.time()\n",
    "    multiprocessing_parallel(A, B)\n",
    "    tiempos_multiprocessing.append(time.time() - start_time)"
   ]
  },
  {
   "cell_type": "code",
   "execution_count": 28,
   "metadata": {},
   "outputs": [
    {
     "ename": "ImportError",
     "evalue": "C extension: None not built. If you want to import pandas from the source directory, you may need to run 'python setup.py build_ext' to build the C extensions first.",
     "output_type": "error",
     "traceback": [
      "\u001b[0;31m---------------------------------------------------------------------------\u001b[0m",
      "\u001b[0;31mImportError\u001b[0m                               Traceback (most recent call last)",
      "File \u001b[0;32m~/.local/lib/python3.10/site-packages/pandas/__init__.py:26\u001b[0m\n\u001b[1;32m     24\u001b[0m \u001b[38;5;28;01mtry\u001b[39;00m:\n\u001b[1;32m     25\u001b[0m     \u001b[38;5;66;03m# numpy compat\u001b[39;00m\n\u001b[0;32m---> 26\u001b[0m     \u001b[38;5;28;01mfrom\u001b[39;00m \u001b[38;5;21;01mpandas\u001b[39;00m\u001b[38;5;21;01m.\u001b[39;00m\u001b[38;5;21;01mcompat\u001b[39;00m \u001b[38;5;28;01mimport\u001b[39;00m (\n\u001b[1;32m     27\u001b[0m         is_numpy_dev \u001b[38;5;28;01mas\u001b[39;00m _is_numpy_dev,  \u001b[38;5;66;03m# pyright: ignore[reportUnusedImport] # noqa: F401\u001b[39;00m\n\u001b[1;32m     28\u001b[0m     )\n\u001b[1;32m     29\u001b[0m \u001b[38;5;28;01mexcept\u001b[39;00m \u001b[38;5;167;01mImportError\u001b[39;00m \u001b[38;5;28;01mas\u001b[39;00m _err:  \u001b[38;5;66;03m# pragma: no cover\u001b[39;00m\n",
      "File \u001b[0;32m~/.local/lib/python3.10/site-packages/pandas/compat/__init__.py:26\u001b[0m\n\u001b[1;32m     25\u001b[0m \u001b[38;5;28;01mimport\u001b[39;00m \u001b[38;5;21;01mpandas\u001b[39;00m\u001b[38;5;21;01m.\u001b[39;00m\u001b[38;5;21;01mcompat\u001b[39;00m\u001b[38;5;21;01m.\u001b[39;00m\u001b[38;5;21;01mcompressors\u001b[39;00m\n\u001b[0;32m---> 26\u001b[0m \u001b[38;5;28;01mfrom\u001b[39;00m \u001b[38;5;21;01mpandas\u001b[39;00m\u001b[38;5;21;01m.\u001b[39;00m\u001b[38;5;21;01mcompat\u001b[39;00m\u001b[38;5;21;01m.\u001b[39;00m\u001b[38;5;21;01mnumpy\u001b[39;00m \u001b[38;5;28;01mimport\u001b[39;00m is_numpy_dev\n\u001b[1;32m     27\u001b[0m \u001b[38;5;28;01mfrom\u001b[39;00m \u001b[38;5;21;01mpandas\u001b[39;00m\u001b[38;5;21;01m.\u001b[39;00m\u001b[38;5;21;01mcompat\u001b[39;00m\u001b[38;5;21;01m.\u001b[39;00m\u001b[38;5;21;01mpyarrow\u001b[39;00m \u001b[38;5;28;01mimport\u001b[39;00m (\n\u001b[1;32m     28\u001b[0m     pa_version_under10p1,\n\u001b[1;32m     29\u001b[0m     pa_version_under11p0,\n\u001b[0;32m   (...)\u001b[0m\n\u001b[1;32m     32\u001b[0m     pa_version_under14p1,\n\u001b[1;32m     33\u001b[0m )\n",
      "File \u001b[0;32m~/.local/lib/python3.10/site-packages/pandas/compat/numpy/__init__.py:21\u001b[0m\n\u001b[1;32m     20\u001b[0m \u001b[38;5;28;01mif\u001b[39;00m _nlv \u001b[38;5;241m<\u001b[39m Version(_min_numpy_ver):\n\u001b[0;32m---> 21\u001b[0m     \u001b[38;5;28;01mraise\u001b[39;00m \u001b[38;5;167;01mImportError\u001b[39;00m(\n\u001b[1;32m     22\u001b[0m         \u001b[38;5;124mf\u001b[39m\u001b[38;5;124m\"\u001b[39m\u001b[38;5;124mthis version of pandas is incompatible with numpy < \u001b[39m\u001b[38;5;132;01m{\u001b[39;00m_min_numpy_ver\u001b[38;5;132;01m}\u001b[39;00m\u001b[38;5;130;01m\\n\u001b[39;00m\u001b[38;5;124m\"\u001b[39m\n\u001b[1;32m     23\u001b[0m         \u001b[38;5;124mf\u001b[39m\u001b[38;5;124m\"\u001b[39m\u001b[38;5;124myour numpy version is \u001b[39m\u001b[38;5;132;01m{\u001b[39;00m_np_version\u001b[38;5;132;01m}\u001b[39;00m\u001b[38;5;124m.\u001b[39m\u001b[38;5;130;01m\\n\u001b[39;00m\u001b[38;5;124m\"\u001b[39m\n\u001b[1;32m     24\u001b[0m         \u001b[38;5;124mf\u001b[39m\u001b[38;5;124m\"\u001b[39m\u001b[38;5;124mPlease upgrade numpy to >= \u001b[39m\u001b[38;5;132;01m{\u001b[39;00m_min_numpy_ver\u001b[38;5;132;01m}\u001b[39;00m\u001b[38;5;124m to use this pandas version\u001b[39m\u001b[38;5;124m\"\u001b[39m\n\u001b[1;32m     25\u001b[0m     )\n\u001b[1;32m     28\u001b[0m np_long: \u001b[38;5;28mtype\u001b[39m\n",
      "\u001b[0;31mImportError\u001b[0m: this version of pandas is incompatible with numpy < 1.22.4\nyour numpy version is 1.21.5.\nPlease upgrade numpy to >= 1.22.4 to use this pandas version",
      "\nThe above exception was the direct cause of the following exception:\n",
      "\u001b[0;31mImportError\u001b[0m                               Traceback (most recent call last)",
      "Cell \u001b[0;32mIn[28], line 2\u001b[0m\n\u001b[1;32m      1\u001b[0m \u001b[38;5;28;01mimport\u001b[39;00m \u001b[38;5;21;01mmatplotlib\u001b[39;00m\u001b[38;5;21;01m.\u001b[39;00m\u001b[38;5;21;01mpyplot\u001b[39;00m \u001b[38;5;28;01mas\u001b[39;00m \u001b[38;5;21;01mplt\u001b[39;00m\n\u001b[0;32m----> 2\u001b[0m \u001b[38;5;28;01mimport\u001b[39;00m \u001b[38;5;21;01mpandas\u001b[39;00m \u001b[38;5;28;01mas\u001b[39;00m \u001b[38;5;21;01mpd\u001b[39;00m\n\u001b[1;32m      4\u001b[0m \u001b[38;5;66;03m# Crear DataFrame para análisis\u001b[39;00m\n\u001b[1;32m      5\u001b[0m df_tiempos \u001b[38;5;241m=\u001b[39m pd\u001b[38;5;241m.\u001b[39mDataFrame({\n\u001b[1;32m      6\u001b[0m     \u001b[38;5;124m'\u001b[39m\u001b[38;5;124mFor Loop\u001b[39m\u001b[38;5;124m'\u001b[39m: tiempos_for_loop,\n\u001b[1;32m      7\u001b[0m     \u001b[38;5;124m'\u001b[39m\u001b[38;5;124mVectorización\u001b[39m\u001b[38;5;124m'\u001b[39m: tiempos_vectorizacion,\n\u001b[1;32m      8\u001b[0m     \u001b[38;5;124m'\u001b[39m\u001b[38;5;124mJoblib\u001b[39m\u001b[38;5;124m'\u001b[39m: tiempos_joblib,\n\u001b[1;32m      9\u001b[0m     \u001b[38;5;124m'\u001b[39m\u001b[38;5;124mMultiprocessing\u001b[39m\u001b[38;5;124m'\u001b[39m: tiempos_multiprocessing\n\u001b[1;32m     10\u001b[0m })\n",
      "File \u001b[0;32m~/.local/lib/python3.10/site-packages/pandas/__init__.py:31\u001b[0m\n\u001b[1;32m     29\u001b[0m \u001b[38;5;28;01mexcept\u001b[39;00m \u001b[38;5;167;01mImportError\u001b[39;00m \u001b[38;5;28;01mas\u001b[39;00m _err:  \u001b[38;5;66;03m# pragma: no cover\u001b[39;00m\n\u001b[1;32m     30\u001b[0m     _module \u001b[38;5;241m=\u001b[39m _err\u001b[38;5;241m.\u001b[39mname\n\u001b[0;32m---> 31\u001b[0m     \u001b[38;5;28;01mraise\u001b[39;00m \u001b[38;5;167;01mImportError\u001b[39;00m(\n\u001b[1;32m     32\u001b[0m         \u001b[38;5;124mf\u001b[39m\u001b[38;5;124m\"\u001b[39m\u001b[38;5;124mC extension: \u001b[39m\u001b[38;5;132;01m{\u001b[39;00m_module\u001b[38;5;132;01m}\u001b[39;00m\u001b[38;5;124m not built. If you want to import \u001b[39m\u001b[38;5;124m\"\u001b[39m\n\u001b[1;32m     33\u001b[0m         \u001b[38;5;124m\"\u001b[39m\u001b[38;5;124mpandas from the source directory, you may need to run \u001b[39m\u001b[38;5;124m\"\u001b[39m\n\u001b[1;32m     34\u001b[0m         \u001b[38;5;124m\"\u001b[39m\u001b[38;5;124m'\u001b[39m\u001b[38;5;124mpython setup.py build_ext\u001b[39m\u001b[38;5;124m'\u001b[39m\u001b[38;5;124m to build the C extensions first.\u001b[39m\u001b[38;5;124m\"\u001b[39m\n\u001b[1;32m     35\u001b[0m     ) \u001b[38;5;28;01mfrom\u001b[39;00m \u001b[38;5;21;01m_err\u001b[39;00m\n\u001b[1;32m     37\u001b[0m \u001b[38;5;28;01mfrom\u001b[39;00m \u001b[38;5;21;01mpandas\u001b[39;00m\u001b[38;5;21;01m.\u001b[39;00m\u001b[38;5;21;01m_config\u001b[39;00m \u001b[38;5;28;01mimport\u001b[39;00m (\n\u001b[1;32m     38\u001b[0m     get_option,\n\u001b[1;32m     39\u001b[0m     set_option,\n\u001b[0;32m   (...)\u001b[0m\n\u001b[1;32m     43\u001b[0m     options,\n\u001b[1;32m     44\u001b[0m )\n\u001b[1;32m     46\u001b[0m \u001b[38;5;66;03m# let init-time option registration happen\u001b[39;00m\n",
      "\u001b[0;31mImportError\u001b[0m: C extension: None not built. If you want to import pandas from the source directory, you may need to run 'python setup.py build_ext' to build the C extensions first."
     ]
    }
   ],
   "source": [
    "import matplotlib.pyplot as plt\n",
    "import pandas as pd\n",
    "\n",
    "# Crear DataFrame para análisis\n",
    "df_tiempos = pd.DataFrame({\n",
    "    'For Loop': tiempos_for_loop,\n",
    "    'Vectorización': tiempos_vectorizacion,\n",
    "    'Joblib': tiempos_joblib,\n",
    "    'Multiprocessing': tiempos_multiprocessing\n",
    "})\n",
    "\n",
    "# Estadísticos básicos\n",
    "estadisticos_basicos = df_tiempos.describe()\n",
    "\n",
    "# Gráfico de los tiempos de ejecución\n",
    "plt.figure(figsize=(10, 6))\n",
    "df_tiempos.boxplot()\n",
    "plt.title('Comparación de Tiempos de Ejecución')\n",
    "plt.ylabel('Tiempo (s)')\n",
    "plt.grid(True)\n",
    "plt.show(), estadisticos_basicos\n"
   ]
  },
  {
   "cell_type": "code",
   "execution_count": null,
   "metadata": {},
   "outputs": [],
   "source": []
  }
 ],
 "metadata": {
  "kernelspec": {
   "display_name": "Python 3",
   "language": "python",
   "name": "python3"
  },
  "language_info": {
   "codemirror_mode": {
    "name": "ipython",
    "version": 3
   },
   "file_extension": ".py",
   "mimetype": "text/x-python",
   "name": "python",
   "nbconvert_exporter": "python",
   "pygments_lexer": "ipython3",
   "version": "3.10.12"
  }
 },
 "nbformat": 4,
 "nbformat_minor": 2
}
