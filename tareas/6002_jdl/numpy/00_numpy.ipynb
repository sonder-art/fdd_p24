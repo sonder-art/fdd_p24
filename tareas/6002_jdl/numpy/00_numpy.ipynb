{
  "cells": [
    {
      "cell_type": "markdown",
      "metadata": {},
      "source": [
        "<a target=\"_blank\" href=\"https://colab.research.google.com/github/sonder-art/fdd_o23/blob/main/codigo/numpy/00_numpy.ipynb\">\n",
        "  <img src=\"https://colab.research.google.com/assets/colab-badge.svg\" alt=\"Open In Colab\"/>\n",
        "</a>"
      ]
    },
    {
      "cell_type": "code",
      "execution_count": null,
      "metadata": {},
      "outputs": [],
      "source": [
        "ejemplo"
      ]
    },
    {
      "cell_type": "code",
      "execution_count": 4,
      "metadata": {},
      "outputs": [],
      "source": [
        "import numpy as np"
      ]
    },
    {
      "cell_type": "markdown",
      "metadata": {
        "id": "Wj3j01Jg_ZKK"
      },
      "source": [
        "# np.array \n",
        "Crea un array de NumPy a partir de una lista de Python u otro objeto similar."
      ]
    },
    {
      "cell_type": "code",
      "execution_count": 2,
      "metadata": {
        "colab": {
          "base_uri": "https://localhost:8080/"
        },
        "id": "PzYr-dk3At-2",
        "outputId": "1680d7d1-4165-440a-efe8-9d7402c07489"
      },
      "outputs": [
        {
          "name": "stdout",
          "output_type": "stream",
          "text": [
            "[1 2 3 4 5]\n",
            "Shape:   (5,)\n"
          ]
        }
      ],
      "source": [
        "# Crear un array de NumPy a partir de una lista de Python\n",
        "array = np.array([1, 2, 3, 4, 5])\n",
        "print(array)\n",
        "# imprimir su dimension con metodo shape\n",
        "print('Shape:  ', array.shape)"
      ]
    },
    {
      "cell_type": "code",
      "execution_count": 3,
      "metadata": {
        "colab": {
          "base_uri": "https://localhost:8080/"
        },
        "id": "nDloWtc7L04r",
        "outputId": "7df1dd1a-c60c-4bad-8f75-ade6eb5e3efd"
      },
      "outputs": [
        {
          "data": {
            "text/plain": [
              "4"
            ]
          },
          "execution_count": 3,
          "metadata": {},
          "output_type": "execute_result"
        }
      ],
      "source": [
        "array = np.array([1, 2, 3, 4, 5])\n",
        "array[-2]"
      ]
    },
    {
      "cell_type": "code",
      "execution_count": 4,
      "metadata": {},
      "outputs": [
        {
          "name": "stdout",
          "output_type": "stream",
          "text": [
            "0\n"
          ]
        }
      ],
      "source": [
        "for i in [0,1,2][0:1]:\n",
        "    print(i)"
      ]
    },
    {
      "cell_type": "code",
      "execution_count": 5,
      "metadata": {
        "colab": {
          "base_uri": "https://localhost:8080/"
        },
        "id": "vJrsUYnSL51E",
        "outputId": "70099765-0faa-4f95-f724-a216e7580afa"
      },
      "outputs": [
        {
          "data": {
            "text/plain": [
              "array([1, 2, 3, 4, 5])"
            ]
          },
          "execution_count": 5,
          "metadata": {},
          "output_type": "execute_result"
        }
      ],
      "source": [
        "# Indexing\n",
        "array = np.array([1, 2, 3, 4, 5])\n",
        "array[0:]"
      ]
    },
    {
      "cell_type": "code",
      "execution_count": 6,
      "metadata": {
        "colab": {
          "base_uri": "https://localhost:8080/"
        },
        "id": "sjlhGm1VL-rc",
        "outputId": "7445db1c-59d5-4063-8dff-2d8ba8e55404"
      },
      "outputs": [
        {
          "data": {
            "text/plain": [
              "array([1])"
            ]
          },
          "execution_count": 6,
          "metadata": {},
          "output_type": "execute_result"
        }
      ],
      "source": [
        "# Indices con listas\n",
        "array = np.array([1, 2, 3, 4, 5])\n",
        "array[[0]]"
      ]
    },
    {
      "cell_type": "code",
      "execution_count": 7,
      "metadata": {
        "colab": {
          "base_uri": "https://localhost:8080/"
        },
        "id": "5c5Zbh8hMGlD",
        "outputId": "3e764d44-d896-4eb7-ca17-a7a0a729e1f7"
      },
      "outputs": [
        {
          "data": {
            "text/plain": [
              "array([1, 5])"
            ]
          },
          "execution_count": 7,
          "metadata": {},
          "output_type": "execute_result"
        }
      ],
      "source": [
        "# Indices con listas\n",
        "array = np.array([1, 2, 3, 4, 5])\n",
        "array[[True,False,False,False,True]]"
      ]
    },
    {
      "cell_type": "code",
      "execution_count": 8,
      "metadata": {
        "colab": {
          "base_uri": "https://localhost:8080/"
        },
        "id": "u0o9LDugD857",
        "outputId": "3248d77e-b43b-4599-d584-8b0f1c129dc4"
      },
      "outputs": [
        {
          "name": "stdout",
          "output_type": "stream",
          "text": [
            "[[1 2 3 4 5]]\n",
            "Shape:   (1, 5)\n"
          ]
        }
      ],
      "source": [
        "# Crear un array de NumPy a partir de una lista de Python\n",
        "array = np.array([[1, 2, 3, 4, 5]])\n",
        "print(array)\n",
        "# imprimir su dimension\n",
        "print('Shape:  ',array.shape)"
      ]
    },
    {
      "cell_type": "code",
      "execution_count": 9,
      "metadata": {
        "colab": {
          "base_uri": "https://localhost:8080/"
        },
        "id": "nRA816ZTEnEM",
        "outputId": "4cde9ea0-c025-445a-e73a-c222469abb24"
      },
      "outputs": [
        {
          "name": "stdout",
          "output_type": "stream",
          "text": [
            "[[1]\n",
            " [2]\n",
            " [3]\n",
            " [4]\n",
            " [5]]\n",
            "Shape:   (5, 1)\n"
          ]
        }
      ],
      "source": [
        "# Crear un array de NumPy a partir de una lista de Python\n",
        "array = np.array([[1], [2], [3], [4], [5]])\n",
        "print(array)\n",
        "# imprimir su dimension\n",
        "print('Shape:  ',array.shape)"
      ]
    },
    {
      "cell_type": "code",
      "execution_count": 10,
      "metadata": {
        "colab": {
          "base_uri": "https://localhost:8080/"
        },
        "id": "LrzLwEjMFTAA",
        "outputId": "053b37fd-fed8-4439-9c00-8502910e9a7b"
      },
      "outputs": [
        {
          "name": "stdout",
          "output_type": "stream",
          "text": [
            "[[ 1  6]\n",
            " [ 2  7]\n",
            " [ 3  8]\n",
            " [ 4  9]\n",
            " [ 5 10]]\n",
            "Shape:   (5, 2)\n"
          ]
        }
      ],
      "source": [
        "# Metodo Transpose\n",
        "array = np.array([[1, 2, 3, 4, 5], [6,7,8,9,10]]).T\n",
        "print(array)\n",
        "print('Shape:  ',array.shape)"
      ]
    },
    {
      "cell_type": "markdown",
      "metadata": {
        "id": "9zBTK4_rEKRW"
      },
      "source": [
        "Observen como cambia su diempsion respecto al anterior `(5,)` , `(1,5)` y `(5,1)`"
      ]
    },
    {
      "cell_type": "code",
      "execution_count": 11,
      "metadata": {
        "colab": {
          "base_uri": "https://localhost:8080/"
        },
        "id": "WypgUrz6DXpq",
        "outputId": "75930181-c5de-4906-b46f-4a42e4a6ccae"
      },
      "outputs": [
        {
          "name": "stdout",
          "output_type": "stream",
          "text": [
            "[[1 2 3]\n",
            " [4 5 6]]\n",
            "Shape:   (2, 3)\n"
          ]
        }
      ],
      "source": [
        "array = np.array([[1, 2, 3], [4, 5, 6]])\n",
        "print(array)\n",
        "print('Shape:  ',array.shape)"
      ]
    },
    {
      "cell_type": "code",
      "execution_count": 12,
      "metadata": {
        "colab": {
          "base_uri": "https://localhost:8080/"
        },
        "id": "80EVHkP6Db77",
        "outputId": "40fda451-25a7-44fd-da98-cfb2c82e9547"
      },
      "outputs": [
        {
          "name": "stdout",
          "output_type": "stream",
          "text": [
            "[list([1, 2, 3]) list([4, 5, 6]) list([1, 2])]\n"
          ]
        },
        {
          "name": "stderr",
          "output_type": "stream",
          "text": [
            "/tmp/ipykernel_14539/3562371677.py:1: VisibleDeprecationWarning: Creating an ndarray from ragged nested sequences (which is a list-or-tuple of lists-or-tuples-or ndarrays with different lengths or shapes) is deprecated. If you meant to do this, you must specify 'dtype=object' when creating the ndarray.\n",
            "  array = np.array([[1, 2, 3], [4, 5, 6],[1,2]])\n"
          ]
        }
      ],
      "source": [
        "array = np.array([[1, 2, 3], [4, 5, 6],[1,2]])\n",
        "print(array)"
      ]
    },
    {
      "cell_type": "code",
      "execution_count": 13,
      "metadata": {
        "colab": {
          "base_uri": "https://localhost:8080/"
        },
        "id": "NmYZTWAMDlsi",
        "outputId": "bb766485-7cef-465d-8be3-62df5d6fb8fa"
      },
      "outputs": [
        {
          "name": "stdout",
          "output_type": "stream",
          "text": [
            "[[[ 1  2  3]\n",
            "  [ 4  5  6]]\n",
            "\n",
            " [[-1 -2 -3]\n",
            "  [-4 -5 -6]]\n",
            "\n",
            " [[ 1  2  3]\n",
            "  [ 4  5  6]]\n",
            "\n",
            " [[ 1  2  3]\n",
            "  [ 4  5  6]]]\n",
            "Shape:   (4, 2, 3)\n"
          ]
        }
      ],
      "source": [
        "array = np.array([[[1, 2, 3], [4, 5, 6]], [[-1, -2, -3], [-4, -5, -6]], \n",
        "                  [[1, 2, 3], [4, 5, 6]], [[1, 2, 3], [4, 5, 6]]])\n",
        "print(array)\n",
        "print('Shape:  ',array.shape)"
      ]
    },
    {
      "cell_type": "markdown",
      "metadata": {
        "id": "xI1KkLKCYkIz"
      },
      "source": [
        "# Arrays"
      ]
    },
    {
      "cell_type": "code",
      "execution_count": 14,
      "metadata": {
        "colab": {
          "base_uri": "https://localhost:8080/"
        },
        "id": "jj92m1ypYlgE",
        "outputId": "88166896-4fe2-4a41-f2e4-f93ec84b1769"
      },
      "outputs": [
        {
          "name": "stdout",
          "output_type": "stream",
          "text": [
            "[0 1 2 3]\n",
            "[-1  1  2  3]\n",
            "[-1  1  2  3]\n"
          ]
        }
      ],
      "source": [
        "array = np.array([0,1,2,3])\n",
        "print(array)\n",
        "array_2 = array\n",
        "array_2[0] = -1\n",
        "print(array_2)\n",
        "print(array)"
      ]
    },
    {
      "cell_type": "markdown",
      "metadata": {
        "id": "LiTHiBqbY9EZ"
      },
      "source": [
        "## Atributo"
      ]
    },
    {
      "cell_type": "code",
      "execution_count": null,
      "metadata": {
        "colab": {
          "base_uri": "https://localhost:8080/"
        },
        "id": "RJzNG0TqY0Dn",
        "outputId": "3a337fd1-847a-46c8-d545-c86920092b60"
      },
      "outputs": [
        {
          "name": "stdout",
          "output_type": "stream",
          "text": [
            "[0 1 2 3]\n",
            "[-1  1  2  3]\n",
            "[0 1 2 3]\n"
          ]
        }
      ],
      "source": [
        "array = np.array([0,1,2,3])\n",
        "print(array)\n",
        "array_2 = np.copy(array)\n",
        "array_2[0] = -1\n",
        "print(array_2)\n",
        "print(array)"
      ]
    },
    {
      "cell_type": "code",
      "execution_count": 18,
      "metadata": {
        "colab": {
          "base_uri": "https://localhost:8080/"
        },
        "id": "KYjvXXIpY4Sq",
        "outputId": "332d048a-e79f-4e6f-b72a-a49af7fd52fc"
      },
      "outputs": [
        {
          "name": "stdout",
          "output_type": "stream",
          "text": [
            "[0 1 2 3]\n",
            "[-6]\n",
            "[-6  1  2  3]\n"
          ]
        }
      ],
      "source": [
        "array = np.array([0,1,2,3])\n",
        "print(array)\n",
        "array_2 = array[0:1]\n",
        "array_2[0] = -6\n",
        "print(array_2)\n",
        "print(array)"
      ]
    },
    {
      "cell_type": "markdown",
      "metadata": {
        "id": "D4VP5vmIQJKu"
      },
      "source": [
        "# Operaciones"
      ]
    },
    {
      "cell_type": "code",
      "execution_count": 19,
      "metadata": {
        "colab": {
          "base_uri": "https://localhost:8080/"
        },
        "id": "bbpbOpPLQLgn",
        "outputId": "4ed99432-427d-4833-9af8-fc8b6d3ceae2"
      },
      "outputs": [
        {
          "data": {
            "text/plain": [
              "array([-2,  0,  2,  4])"
            ]
          },
          "execution_count": 19,
          "metadata": {},
          "output_type": "execute_result"
        }
      ],
      "source": [
        "array = [-1,0,1,2]\n",
        "array = np.array(array)\n",
        "array*2"
      ]
    },
    {
      "cell_type": "code",
      "execution_count": null,
      "metadata": {
        "colab": {
          "base_uri": "https://localhost:8080/"
        },
        "id": "DJ3rPXUKQSy0",
        "outputId": "5f35fe4a-6a97-40bf-c9d0-66963a317641"
      },
      "outputs": [
        {
          "data": {
            "text/plain": [
              "array([1, 0, 1, 4])"
            ]
          },
          "execution_count": 68,
          "metadata": {},
          "output_type": "execute_result"
        }
      ],
      "source": [
        "array = [-1,0,1,2]\n",
        "array = np.array(array)\n",
        "array**2"
      ]
    },
    {
      "cell_type": "code",
      "execution_count": null,
      "metadata": {
        "colab": {
          "base_uri": "https://localhost:8080/"
        },
        "id": "ERUZIFT-QUM9",
        "outputId": "40c9a6c8-5cb7-40ab-c815-ad8ae7a198bd"
      },
      "outputs": [
        {
          "data": {
            "text/plain": [
              "array([1, 2, 3, 4])"
            ]
          },
          "execution_count": 69,
          "metadata": {},
          "output_type": "execute_result"
        }
      ],
      "source": [
        "array = [-1,0,1,2]\n",
        "array = np.array(array)\n",
        "array+2"
      ]
    },
    {
      "cell_type": "code",
      "execution_count": 20,
      "metadata": {
        "colab": {
          "base_uri": "https://localhost:8080/"
        },
        "id": "rJpPxKouQWQf",
        "outputId": "2be8262c-fe0e-4e05-ff0a-3dcf3947c638"
      },
      "outputs": [
        {
          "data": {
            "text/plain": [
              "array([ 1,  0, -1, -2])"
            ]
          },
          "execution_count": 20,
          "metadata": {},
          "output_type": "execute_result"
        }
      ],
      "source": [
        "array = [-1,0,1,2]\n",
        "array = np.array(array)\n",
        "-array"
      ]
    },
    {
      "cell_type": "markdown",
      "metadata": {
        "id": "aSbITTBYQgwE"
      },
      "source": [
        "# Comparaciones"
      ]
    },
    {
      "cell_type": "code",
      "execution_count": 21,
      "metadata": {
        "colab": {
          "base_uri": "https://localhost:8080/"
        },
        "id": "xXS_s5TMQiwZ",
        "outputId": "f0d15295-c647-4c65-d471-6a74e19e4f2f"
      },
      "outputs": [
        {
          "name": "stdout",
          "output_type": "stream",
          "text": [
            "(array([0, 3, 4]),)\n"
          ]
        }
      ],
      "source": [
        "a = np.array([1,2,3,4,5])\n",
        "b = np.array([1,3,2,4,5])\n",
        "print(np.where(a == b))"
      ]
    },
    {
      "cell_type": "markdown",
      "metadata": {
        "id": "a9o2tjMtQwEQ"
      },
      "source": [
        "# Multiplicacion de matrices"
      ]
    },
    {
      "cell_type": "code",
      "execution_count": 22,
      "metadata": {
        "colab": {
          "base_uri": "https://localhost:8080/"
        },
        "id": "KAXkKcwPQx6i",
        "outputId": "b643f69f-1d5d-4164-df86-33b560641d69"
      },
      "outputs": [
        {
          "name": "stdout",
          "output_type": "stream",
          "text": [
            "[[ 36  42  48]\n",
            " [ 81  96 111]\n",
            " [126 150 174]]\n"
          ]
        }
      ],
      "source": [
        "a = np.array([[1,2,3],\n",
        "              [4,5,6],\n",
        "              [7,8,9]])\n",
        "b = np.array([[2,3,4],\n",
        "              [5,6,7],\n",
        "              [8,9,10]])\n",
        "o = a@b\n",
        "print(o)"
      ]
    },
    {
      "cell_type": "markdown",
      "metadata": {
        "id": "RkJ2wqasA9p7"
      },
      "source": [
        "\n",
        "#np.zeros \n",
        "Crea un array de ceros con una forma y tipo de datos especificados.  \n",
        "Nota que la sintaxis es Filas x Columnas (rows, columns)"
      ]
    },
    {
      "cell_type": "code",
      "execution_count": 23,
      "metadata": {
        "colab": {
          "base_uri": "https://localhost:8080/"
        },
        "id": "Kc6V7CoJBA5-",
        "outputId": "f1d47016-2b37-4cfe-c62f-07ba36e456f6"
      },
      "outputs": [
        {
          "name": "stdout",
          "output_type": "stream",
          "text": [
            "[[0. 0. 0.]\n",
            " [0. 0. 0.]]\n"
          ]
        }
      ],
      "source": [
        "# Crear un array de 2x3 de ceros\n",
        "array = np.zeros((2, 3))\n",
        "print(array)"
      ]
    },
    {
      "cell_type": "markdown",
      "metadata": {
        "id": "rF86jWc7BkAa"
      },
      "source": [
        "#np.ones\n",
        "Crea un array de unos con una forma y tipo de datos especificados."
      ]
    },
    {
      "cell_type": "code",
      "execution_count": null,
      "metadata": {
        "id": "3NOwdAZXBkh3"
      },
      "outputs": [],
      "source": [
        "# Crear un array de 2x3 de unos\n",
        "array = np.ones((2, 3))\n",
        "print(array)"
      ]
    },
    {
      "cell_type": "markdown",
      "metadata": {
        "id": "qBDYFS1IBzsU"
      },
      "source": [
        "#np.arange\n",
        "Genera un array con un rango específico de números, similar a la función range de Python."
      ]
    },
    {
      "cell_type": "code",
      "execution_count": 24,
      "metadata": {
        "id": "DLLC3kOABsXB"
      },
      "outputs": [
        {
          "name": "stdout",
          "output_type": "stream",
          "text": [
            "[0 1 2 3 4 5 6 7 8 9]\n"
          ]
        }
      ],
      "source": [
        "# Crear un array con los números del 0 al 9\n",
        "array = np.arange(10)\n",
        "print(array)"
      ]
    },
    {
      "cell_type": "markdown",
      "metadata": {
        "id": "y4Wv8KzTB3sC"
      },
      "source": [
        "np.linspace: Genera un array con un número específico de elementos equidistantes en un intervalo especificado."
      ]
    },
    {
      "cell_type": "code",
      "execution_count": 26,
      "metadata": {
        "id": "EkxtNxRnB6zZ"
      },
      "outputs": [
        {
          "name": "stdout",
          "output_type": "stream",
          "text": [
            "[0.         0.22222222 0.44444444 0.66666667 0.88888889 1.11111111\n",
            " 1.33333333 1.55555556 1.77777778 2.        ]\n"
          ]
        }
      ],
      "source": [
        "# Crear un array con 10 elementos equidistantes entre 0 y 1\n",
        "array = np.linspace(0, 2, 10)\n",
        "print(array)\n"
      ]
    },
    {
      "cell_type": "markdown",
      "metadata": {
        "id": "dIvtymRPB8pw"
      },
      "source": [
        "#np.reshape \n",
        "Cambia la forma de un array existente sin cambiar sus elementos."
      ]
    },
    {
      "cell_type": "code",
      "execution_count": 32,
      "metadata": {
        "colab": {
          "base_uri": "https://localhost:8080/"
        },
        "id": "QRwZ3e5JCAI3",
        "outputId": "897ec650-4dc5-41ee-8b86-16ac54dbf1e6"
      },
      "outputs": [
        {
          "name": "stdout",
          "output_type": "stream",
          "text": [
            "Array original: [0 1 2 3 4 5 6 7 8 9]\n",
            "Array reshaped: [[0 1 2 3 4]\n",
            " [5 6 7 8 9]]\n",
            "Array reshaped: [[0 1 2 3 4]\n",
            " [5 6 7 8 9]]\n"
          ]
        }
      ],
      "source": [
        "# Crear un array de 1D con los números del 0 al 9\n",
        "array = np.arange(10)\n",
        "print(\"Array original:\", array)\n",
        "\n",
        "# Cambiar la forma del array a 2x5\n",
        "array = np.reshape(array, (2, 5))\n",
        "print(\"Array reshaped:\", array)\n",
        "\n",
        "# Cambiar la forma del array a 2x5\n",
        "array = np.reshape(array, (2, -1))\n",
        "print(\"Array reshaped:\", array)"
      ]
    },
    {
      "cell_type": "code",
      "execution_count": 33,
      "metadata": {
        "colab": {
          "base_uri": "https://localhost:8080/"
        },
        "id": "XPUEQz-MLkmm",
        "outputId": "4eb4a0f7-27bb-4743-941d-4a5f398cea55"
      },
      "outputs": [
        {
          "name": "stdout",
          "output_type": "stream",
          "text": [
            "Array reshaped: [0 1 2 3 4 5 6 7 8 9]\n"
          ]
        }
      ],
      "source": [
        "# Lo vuleve a hacer flat\n",
        "array = np.arange(10)\n",
        "array = np.reshape(array, (2, 5))\n",
        "array = np.reshape(array, (-1))\n",
        "print(\"Array reshaped:\", array)"
      ]
    },
    {
      "cell_type": "markdown",
      "metadata": {
        "id": "o32DfmNmCDsc"
      },
      "source": [
        "#np.dot\n",
        "Calcula el producto punto entre dos arrays, es decir, la suma de los productos de los elementos correspondientes."
      ]
    },
    {
      "cell_type": "code",
      "execution_count": 34,
      "metadata": {
        "id": "JRWIwkGLCHxC"
      },
      "outputs": [
        {
          "name": "stdout",
          "output_type": "stream",
          "text": [
            "32\n"
          ]
        }
      ],
      "source": [
        "# Crear dos arrays de 1D\n",
        "array1 = np.array([1, 2, 3])\n",
        "array2 = np.array([4, 5, 6])\n",
        "\n",
        "# Calcular el producto punto de los arrays\n",
        "result = np.dot(array1, array2)\n",
        "print(result)"
      ]
    },
    {
      "cell_type": "markdown",
      "metadata": {
        "id": "9p9GBaxyCK-d"
      },
      "source": [
        "#np.transpose\n",
        "Transpone un array, intercambiando"
      ]
    },
    {
      "cell_type": "code",
      "execution_count": 35,
      "metadata": {
        "id": "5cmkTTq-CTVM"
      },
      "outputs": [
        {
          "name": "stdout",
          "output_type": "stream",
          "text": [
            "Array original: [[1 2 3]\n",
            " [4 5 6]]\n",
            "Array transpuesto: [[1 4]\n",
            " [2 5]\n",
            " [3 6]]\n"
          ]
        }
      ],
      "source": [
        "# Crear un array de 2x3\n",
        "array = np.array([[1, 2, 3], [4, 5, 6]])\n",
        "print(\"Array original:\", array)\n",
        "\n",
        "# Transponer el array\n",
        "array = np.transpose(array)\n",
        "print(\"Array transpuesto:\", array)"
      ]
    },
    {
      "cell_type": "markdown",
      "metadata": {
        "id": "Y-1sFgN6CV_1"
      },
      "source": [
        "# np.sum \n",
        "Calcula la suma de todos los elementos de un array o la suma de los elementos a lo largo de un eje especificado."
      ]
    },
    {
      "cell_type": "code",
      "execution_count": null,
      "metadata": {
        "colab": {
          "base_uri": "https://localhost:8080/"
        },
        "id": "AhkuuQImCcpd",
        "outputId": "7b6f9a7f-b645-4645-f41e-4eb3806227f3"
      },
      "outputs": [
        {
          "name": "stdout",
          "output_type": "stream",
          "text": [
            "15\n"
          ]
        }
      ],
      "source": [
        "# Crear un array de 1D\n",
        "array = np.array([1, 2, 3, 4, 5])\n",
        "\n",
        "# Calcular la suma de todos los elementos del array\n",
        "result = np.sum(array)\n",
        "print(result)"
      ]
    },
    {
      "cell_type": "code",
      "execution_count": null,
      "metadata": {
        "colab": {
          "base_uri": "https://localhost:8080/"
        },
        "id": "QBrPSJx2CrHF",
        "outputId": "2f4752c5-3499-4971-fd2f-947416d3e9a6"
      },
      "outputs": [
        {
          "name": "stdout",
          "output_type": "stream",
          "text": [
            "[[1 2 3]\n",
            " [4 5 6]]\n",
            "Columna:  21\n"
          ]
        }
      ],
      "source": [
        "# Crear un array de 2D\n",
        "array = np.array([[1, 2, 3], [4, 5, 6]])\n",
        "print(array)\n",
        "result = np.sum(array)\n",
        "print('Columna: ',result)"
      ]
    },
    {
      "cell_type": "code",
      "execution_count": null,
      "metadata": {
        "colab": {
          "base_uri": "https://localhost:8080/"
        },
        "id": "FvP-vn5FI-xN",
        "outputId": "bbd09503-76b9-4470-d65f-25a0440367c9"
      },
      "outputs": [
        {
          "name": "stdout",
          "output_type": "stream",
          "text": [
            "[[1 2 3]\n",
            " [4 5 6]]\n",
            "Columna:  [5 7 9]\n"
          ]
        }
      ],
      "source": [
        "# La operación se realizará a lo largo de las columnas \n",
        "# (es decir, sumar todos los elementos de cada fila)\n",
        "array = np.array([[1, 2, 3], [4, 5, 6]])\n",
        "print(array)\n",
        "result = np.sum(array, axis=0)\n",
        "print('Columna: ',result)"
      ]
    },
    {
      "cell_type": "code",
      "execution_count": null,
      "metadata": {
        "colab": {
          "base_uri": "https://localhost:8080/"
        },
        "id": "THxEHXARIatx",
        "outputId": "553dda17-aba9-4f23-d094-743026a164f5"
      },
      "outputs": [
        {
          "name": "stdout",
          "output_type": "stream",
          "text": [
            "[[1 2 3]\n",
            " [4 5 6]]\n",
            "Fila:  [ 6 15]\n"
          ]
        }
      ],
      "source": [
        "# La operación se realizará a lo largo de las filas \n",
        "# (es decir, sumar todos los elementos de cada columna)\n",
        "array = np.array([[1, 2, 3], [4, 5, 6]])\n",
        "print(array)\n",
        "result = np.sum(array, axis=1)\n",
        "print('Fila: ',result)"
      ]
    },
    {
      "cell_type": "markdown",
      "metadata": {
        "id": "_NWaOM-NCewi"
      },
      "source": [
        "# np.mean\n",
        "Calcula la media de todos los elementos de un array o la media a lo largo de un eje especificado.\n"
      ]
    },
    {
      "cell_type": "code",
      "execution_count": null,
      "metadata": {
        "colab": {
          "base_uri": "https://localhost:8080/"
        },
        "id": "EQgyeMlfCgGx",
        "outputId": "dc240c00-fd1b-4d6c-ebff-e61296959587"
      },
      "outputs": [
        {
          "name": "stdout",
          "output_type": "stream",
          "text": [
            "[[1 2 3]\n",
            " [4 5 6]]\n",
            "Todos:  3.5\n",
            "Fila:  [2. 5.]\n",
            "Columna:  [2.5 3.5 4.5]\n"
          ]
        }
      ],
      "source": [
        "# Crear un array de 2D\n",
        "array = np.array([[1, 2, 3], [4, 5, 6]])\n",
        "print(array)\n",
        "\n",
        "# Calcular la media sobre todos los elemntos\n",
        "result = np.mean(array)\n",
        "print('Todos: ',result)\n",
        "\n",
        "# Calcular la suma de todos los elementos de cada columna\n",
        "result = np.mean(array, axis=0)\n",
        "print('Columna: ',result)\n",
        "\n",
        "# Calcular la suma de todos los elementos de cada fila\n",
        "result = np.mean(array, axis=1)\n",
        "print('Fila: ',result)\n"
      ]
    },
    {
      "cell_type": "markdown",
      "metadata": {
        "id": "o6fQAlTEJ-PG"
      },
      "source": [
        "# Varias dimensiones"
      ]
    },
    {
      "cell_type": "code",
      "execution_count": null,
      "metadata": {
        "id": "RztDwR45LklX"
      },
      "outputs": [],
      "source": [
        "def explore_axis(v:np.array,axis:int):\n",
        "    w = np.sum(v, axis=axis)\n",
        "    print(f'axis={axis}  \\n {w}')\n",
        "    print(f'New Shape:   {w.shape}')\n",
        "    print(f'Original Shape:   {v.shape}')"
      ]
    },
    {
      "cell_type": "code",
      "execution_count": null,
      "metadata": {
        "colab": {
          "base_uri": "https://localhost:8080/"
        },
        "id": "D_OQTwE5Jnr6",
        "outputId": "df0a138e-533b-4d3c-830b-55b2938f4b0f"
      },
      "outputs": [
        {
          "name": "stdout",
          "output_type": "stream",
          "text": [
            "Shape:  (4, 2, 3)\n",
            "[[[ 1  2  3]\n",
            "  [-1 -2 -3]]\n",
            "\n",
            " [[-4 -5 -6]\n",
            "  [ 4  5  6]]\n",
            "\n",
            " [[ 1  1  1]\n",
            "  [ 0  0  0]]\n",
            "\n",
            " [[-1 -1 -1]\n",
            "  [ 0  0  0]]]\n"
          ]
        }
      ],
      "source": [
        "array = np.array([[[1, 2, 3], [-1, -2, -3]], \n",
        "                  [[-4, -5, -6], [4, 5, 6]], \n",
        "                  [[1, 1, 1], [0, 0, 0]], \n",
        "                  [[-1, -1, -1], [0, 0, 0]]\n",
        "                  ])\n",
        "v = array\n",
        "print(f'Shape:  {array.shape}')\n",
        "print(array)"
      ]
    },
    {
      "cell_type": "code",
      "execution_count": null,
      "metadata": {
        "colab": {
          "base_uri": "https://localhost:8080/"
        },
        "id": "VuNjb8CzKth1",
        "outputId": "3292c67f-2e0e-4678-9030-331d9918a5ab"
      },
      "outputs": [
        {
          "name": "stdout",
          "output_type": "stream",
          "text": [
            "axis=0  \n",
            " [[-3 -3 -3]\n",
            " [ 3  3  3]]\n",
            "New Shape:   (2, 3)\n",
            "Original Shape:   (4, 2, 3)\n"
          ]
        }
      ],
      "source": [
        "explore_axis(v,0)"
      ]
    },
    {
      "cell_type": "code",
      "execution_count": null,
      "metadata": {
        "colab": {
          "base_uri": "https://localhost:8080/"
        },
        "id": "wKnCjDfTKyXe",
        "outputId": "78113b5f-fd17-438e-a3d7-77105223f00c"
      },
      "outputs": [
        {
          "name": "stdout",
          "output_type": "stream",
          "text": [
            "axis=1  \n",
            " [[ 0  0  0]\n",
            " [ 0  0  0]\n",
            " [ 1  1  1]\n",
            " [-1 -1 -1]]\n",
            "New Shape:   (4, 3)\n",
            "Original Shape:   (4, 2, 3)\n"
          ]
        }
      ],
      "source": [
        "explore_axis(v,1)"
      ]
    },
    {
      "cell_type": "code",
      "execution_count": null,
      "metadata": {
        "colab": {
          "base_uri": "https://localhost:8080/"
        },
        "id": "XRLWPMkHK2tg",
        "outputId": "952b0132-59bc-4791-b112-afe45d18b5a5"
      },
      "outputs": [
        {
          "name": "stdout",
          "output_type": "stream",
          "text": [
            "axis=2  \n",
            " [[  6  -6]\n",
            " [-15  15]\n",
            " [  3   0]\n",
            " [ -3   0]]\n",
            "New Shape:   (4, 2)\n",
            "Original Shape:   (4, 2, 3)\n"
          ]
        }
      ],
      "source": [
        "explore_axis(v,2)"
      ]
    },
    {
      "cell_type": "code",
      "execution_count": null,
      "metadata": {
        "colab": {
          "base_uri": "https://localhost:8080/"
        },
        "id": "Q4AMzVEOM6oU",
        "outputId": "8d0dfd88-96c2-48b4-d167-06be00e63053"
      },
      "outputs": [
        {
          "name": "stdout",
          "output_type": "stream",
          "text": [
            "axis=None  \n",
            " 0\n",
            "New Shape:   ()\n",
            "Original Shape:   (4, 2, 3)\n"
          ]
        }
      ],
      "source": [
        "explore_axis(v,None)"
      ]
    },
    {
      "cell_type": "markdown",
      "metadata": {
        "id": "zXlkiXpmKDWW"
      },
      "source": [
        "# Numpy nan"
      ]
    },
    {
      "cell_type": "code",
      "execution_count": null,
      "metadata": {
        "colab": {
          "base_uri": "https://localhost:8080/"
        },
        "id": "nlpB_ndwKFAu",
        "outputId": "5d0cb9db-a2ed-4f83-de4a-198ca1451ece"
      },
      "outputs": [
        {
          "data": {
            "text/plain": [
              "nan"
            ]
          },
          "execution_count": 8,
          "metadata": {},
          "output_type": "execute_result"
        }
      ],
      "source": [
        "np.nan"
      ]
    },
    {
      "cell_type": "code",
      "execution_count": null,
      "metadata": {
        "colab": {
          "base_uri": "https://localhost:8080/"
        },
        "id": "DJZHuGf0KGsk",
        "outputId": "e3432651-0315-44ee-e266-f153082c7fe2"
      },
      "outputs": [
        {
          "data": {
            "text/plain": [
              "float"
            ]
          },
          "execution_count": 9,
          "metadata": {},
          "output_type": "execute_result"
        }
      ],
      "source": [
        "type(np.nan)"
      ]
    },
    {
      "cell_type": "code",
      "execution_count": null,
      "metadata": {
        "colab": {
          "base_uri": "https://localhost:8080/"
        },
        "id": "CWx3WO0CKIsj",
        "outputId": "e6177a7a-3078-4d07-9dc1-2c5380bb7c64"
      },
      "outputs": [
        {
          "data": {
            "text/plain": [
              "array([False, False, False,  True])"
            ]
          },
          "execution_count": 23,
          "metadata": {},
          "output_type": "execute_result"
        }
      ],
      "source": [
        "array = np.array([1,2,3, np.nan])\n",
        "np.isnan(array)"
      ]
    },
    {
      "cell_type": "code",
      "execution_count": null,
      "metadata": {
        "colab": {
          "base_uri": "https://localhost:8080/"
        },
        "id": "Oi9kkColLXwv",
        "outputId": "2c21cd5e-ac4a-41e8-9c35-82e42c0204f4"
      },
      "outputs": [
        {
          "data": {
            "text/plain": [
              "array([nan])"
            ]
          },
          "execution_count": 24,
          "metadata": {},
          "output_type": "execute_result"
        }
      ],
      "source": [
        "array = np.array([1,2,3, np.nan])\n",
        "array[np.isnan(array)]"
      ]
    },
    {
      "cell_type": "code",
      "execution_count": null,
      "metadata": {
        "colab": {
          "base_uri": "https://localhost:8080/"
        },
        "id": "1pabclaxMgWX",
        "outputId": "590b7220-b263-4780-a5d6-565e59fd43a9"
      },
      "outputs": [
        {
          "data": {
            "text/plain": [
              "nan"
            ]
          },
          "execution_count": 39,
          "metadata": {},
          "output_type": "execute_result"
        }
      ],
      "source": [
        "# Nan en operaciones\n",
        "array = np.array([1,2,3, np.nan])\n",
        "np.sum(array)"
      ]
    },
    {
      "cell_type": "code",
      "execution_count": null,
      "metadata": {
        "colab": {
          "base_uri": "https://localhost:8080/"
        },
        "id": "6vMUjG0NMv__",
        "outputId": "1dbc84e0-c1c3-47d9-8851-7d6486db6884"
      },
      "outputs": [
        {
          "data": {
            "text/plain": [
              "6.0"
            ]
          },
          "execution_count": 40,
          "metadata": {},
          "output_type": "execute_result"
        }
      ],
      "source": [
        "# Nan en operaciones\n",
        "array = np.array([1,2,3, np.nan])\n",
        "np.nansum(array)"
      ]
    },
    {
      "cell_type": "code",
      "execution_count": null,
      "metadata": {
        "colab": {
          "base_uri": "https://localhost:8080/"
        },
        "id": "FkvgJNEiMzG0",
        "outputId": "28a020c9-4c49-4db7-fae5-4b7a8da6417b"
      },
      "outputs": [
        {
          "data": {
            "text/plain": [
              "2.0"
            ]
          },
          "execution_count": 41,
          "metadata": {},
          "output_type": "execute_result"
        }
      ],
      "source": [
        "# Nan en operaciones: No toma encuenta el nan\n",
        "array = np.array([1,2,3, np.nan])\n",
        "np.nanmean(array)"
      ]
    },
    {
      "cell_type": "code",
      "execution_count": null,
      "metadata": {
        "colab": {
          "base_uri": "https://localhost:8080/"
        },
        "id": "kA27L0A_OGuh",
        "outputId": "8bc45050-2f39-43d8-fa04-73598deb01af"
      },
      "outputs": [
        {
          "data": {
            "text/plain": [
              "2.0"
            ]
          },
          "execution_count": 54,
          "metadata": {},
          "output_type": "execute_result"
        }
      ],
      "source": [
        "# Nan en operaciones: No toma encuenta el nan\n",
        "array = np.array([1,2,3, np.nan])\n",
        "np.mean(array[~np.isnan(array)])"
      ]
    },
    {
      "cell_type": "markdown",
      "metadata": {
        "id": "NY8GnpQ6N5jS"
      },
      "source": [
        "# Otros tipos de numeros en numpy"
      ]
    },
    {
      "cell_type": "markdown",
      "metadata": {
        "id": "w-BjFJFTNA-8"
      },
      "source": [
        "Otros tipos de numeros en numpy https://numpy.org/devdocs/reference/constants.html "
      ]
    },
    {
      "cell_type": "markdown",
      "metadata": {
        "id": "NumsuiQ4N2vG"
      },
      "source": [
        "# np.inf\n"
      ]
    },
    {
      "cell_type": "code",
      "execution_count": null,
      "metadata": {
        "colab": {
          "base_uri": "https://localhost:8080/"
        },
        "id": "BzW5rUrGNEEk",
        "outputId": "1c33f31b-42ae-4817-db32-3a4c811b7c64"
      },
      "outputs": [
        {
          "data": {
            "text/plain": [
              "float"
            ]
          },
          "execution_count": 43,
          "metadata": {},
          "output_type": "execute_result"
        }
      ],
      "source": [
        "type(np.inf)"
      ]
    },
    {
      "cell_type": "code",
      "execution_count": null,
      "metadata": {
        "colab": {
          "base_uri": "https://localhost:8080/"
        },
        "id": "uEQNtkEiNXQ4",
        "outputId": "cfa878f8-989c-4dea-e62e-ae9e4584b7c5"
      },
      "outputs": [
        {
          "name": "stdout",
          "output_type": "stream",
          "text": [
            "nan\n"
          ]
        },
        {
          "data": {
            "text/plain": [
              "float"
            ]
          },
          "execution_count": 49,
          "metadata": {},
          "output_type": "execute_result"
        }
      ],
      "source": [
        "print(np.inf - np.inf)\n",
        "type(np.inf - np.inf)"
      ]
    },
    {
      "cell_type": "code",
      "execution_count": null,
      "metadata": {
        "colab": {
          "base_uri": "https://localhost:8080/"
        },
        "id": "Msw79lNaNJWt",
        "outputId": "1ede6d31-59d0-4da3-af72-eb7b21d8fbe0"
      },
      "outputs": [
        {
          "data": {
            "text/plain": [
              "inf"
            ]
          },
          "execution_count": 44,
          "metadata": {},
          "output_type": "execute_result"
        }
      ],
      "source": [
        "array = np.array([1,2,3, np.inf])\n",
        "np.mean(array)"
      ]
    },
    {
      "cell_type": "code",
      "execution_count": null,
      "metadata": {
        "colab": {
          "base_uri": "https://localhost:8080/"
        },
        "id": "4H5GEQfjNOP6",
        "outputId": "cbd53990-f336-4ea7-c6a1-df8fff59c3d1"
      },
      "outputs": [
        {
          "data": {
            "text/plain": [
              "-inf"
            ]
          },
          "execution_count": 46,
          "metadata": {},
          "output_type": "execute_result"
        }
      ],
      "source": [
        "array = np.array([-np.inf,2,3])\n",
        "np.mean(array)"
      ]
    },
    {
      "cell_type": "code",
      "execution_count": null,
      "metadata": {
        "colab": {
          "base_uri": "https://localhost:8080/"
        },
        "id": "5_-LTG1qNkW_",
        "outputId": "0a7a4f7c-cfd8-4b3c-8801-beaa5d5ef4fe"
      },
      "outputs": [
        {
          "data": {
            "text/plain": [
              "-inf"
            ]
          },
          "execution_count": 51,
          "metadata": {},
          "output_type": "execute_result"
        }
      ],
      "source": [
        "array = np.array([-np.inf,2,3])\n",
        "np.mean(array)"
      ]
    },
    {
      "cell_type": "code",
      "execution_count": null,
      "metadata": {
        "colab": {
          "base_uri": "https://localhost:8080/"
        },
        "id": "LqMf_eHqNwSe",
        "outputId": "eb767d49-b8e1-4a41-ebaf-8dbc579c2f5a"
      },
      "outputs": [
        {
          "data": {
            "text/plain": [
              "5.0"
            ]
          },
          "execution_count": 53,
          "metadata": {},
          "output_type": "execute_result"
        }
      ],
      "source": [
        "array = np.array([-np.inf,2,3])\n",
        "np.sum(array[np.isfinite(array)])"
      ]
    },
    {
      "cell_type": "markdown",
      "metadata": {
        "id": "EKQsYNXAKTww"
      },
      "source": [
        "# Numpy strings"
      ]
    },
    {
      "cell_type": "code",
      "execution_count": null,
      "metadata": {
        "colab": {
          "base_uri": "https://localhost:8080/"
        },
        "id": "kqASGeuCKakl",
        "outputId": "8875244f-b09a-490d-c127-00aaab4ed01a"
      },
      "outputs": [
        {
          "name": "stdout",
          "output_type": "stream",
          "text": [
            "['hello' 'snake' '1']\n"
          ]
        }
      ],
      "source": [
        "array = np.array(['hello','snake','plate'])\n",
        "print(array)"
      ]
    },
    {
      "cell_type": "code",
      "execution_count": null,
      "metadata": {
        "colab": {
          "base_uri": "https://localhost:8080/"
        },
        "id": "28WLptVHKjEe",
        "outputId": "8bc3b4b0-ae9b-4184-d7c6-52aa5d167a7b"
      },
      "outputs": [
        {
          "name": "stdout",
          "output_type": "stream",
          "text": [
            "['hello' 'snake' '-123']\n"
          ]
        }
      ],
      "source": [
        "array = np.array(['hello','snake',-123])\n",
        "print(array)"
      ]
    },
    {
      "cell_type": "code",
      "execution_count": null,
      "metadata": {
        "colab": {
          "base_uri": "https://localhost:8080/"
        },
        "id": "9rdawHoSKV8y",
        "outputId": "d60abe89-d706-49a0-80e9-201b5696f48e"
      },
      "outputs": [
        {
          "name": "stdout",
          "output_type": "stream",
          "text": [
            "['hello' 'snake' 'plate']\n"
          ]
        }
      ],
      "source": [
        "array = np.array(['hello','snake','plate'], dtype=str)\n",
        "print(array)"
      ]
    },
    {
      "cell_type": "code",
      "execution_count": null,
      "metadata": {
        "colab": {
          "base_uri": "https://localhost:8080/",
          "height": 187
        },
        "id": "1rP-tzagKoZn",
        "outputId": "0e21a82e-3aec-4e33-c26c-9f27dd431143"
      },
      "outputs": [
        {
          "ename": "ValueError",
          "evalue": "ignored",
          "output_type": "error",
          "traceback": [
            "\u001b[0;31m---------------------------------------------------------------------------\u001b[0m",
            "\u001b[0;31mValueError\u001b[0m                                Traceback (most recent call last)",
            "\u001b[0;32m<ipython-input-14-ba64521b26c8>\u001b[0m in \u001b[0;36m<module>\u001b[0;34m\u001b[0m\n\u001b[0;32m----> 1\u001b[0;31m \u001b[0marray\u001b[0m \u001b[0;34m=\u001b[0m \u001b[0mnp\u001b[0m\u001b[0;34m.\u001b[0m\u001b[0marray\u001b[0m\u001b[0;34m(\u001b[0m\u001b[0;34m[\u001b[0m\u001b[0;34m'hello'\u001b[0m\u001b[0;34m,\u001b[0m\u001b[0;34m'snake'\u001b[0m\u001b[0;34m,\u001b[0m\u001b[0;34m'plate'\u001b[0m\u001b[0;34m]\u001b[0m\u001b[0;34m,\u001b[0m \u001b[0mdtype\u001b[0m\u001b[0;34m=\u001b[0m\u001b[0mfloat\u001b[0m\u001b[0;34m)\u001b[0m\u001b[0;34m\u001b[0m\u001b[0;34m\u001b[0m\u001b[0m\n\u001b[0m\u001b[1;32m      2\u001b[0m \u001b[0mprint\u001b[0m\u001b[0;34m(\u001b[0m\u001b[0marray\u001b[0m\u001b[0;34m)\u001b[0m\u001b[0;34m\u001b[0m\u001b[0;34m\u001b[0m\u001b[0m\n",
            "\u001b[0;31mValueError\u001b[0m: could not convert string to float: 'hello'"
          ]
        }
      ],
      "source": [
        "array = np.array(['hello','snake','plate'], dtype=float)\n",
        "print(array)"
      ]
    },
    {
      "cell_type": "code",
      "execution_count": null,
      "metadata": {
        "colab": {
          "base_uri": "https://localhost:8080/",
          "height": 273
        },
        "id": "fbT23pzZKrz9",
        "outputId": "7d18627f-a77a-4cbe-ee3c-363953959680"
      },
      "outputs": [
        {
          "name": "stdout",
          "output_type": "stream",
          "text": [
            "['1' 'snake' 'plate' 'nan']\n",
            "nan\n",
            "<class 'numpy.str_'>\n"
          ]
        },
        {
          "ename": "TypeError",
          "evalue": "ignored",
          "output_type": "error",
          "traceback": [
            "\u001b[0;31m---------------------------------------------------------------------------\u001b[0m",
            "\u001b[0;31mTypeError\u001b[0m                                 Traceback (most recent call last)",
            "\u001b[0;32m<ipython-input-38-d0bf6647c286>\u001b[0m in \u001b[0;36m<module>\u001b[0;34m\u001b[0m\n\u001b[1;32m      3\u001b[0m \u001b[0mprint\u001b[0m\u001b[0;34m(\u001b[0m\u001b[0marray\u001b[0m\u001b[0;34m[\u001b[0m\u001b[0;34m-\u001b[0m\u001b[0;36m1\u001b[0m\u001b[0;34m]\u001b[0m\u001b[0;34m)\u001b[0m\u001b[0;34m\u001b[0m\u001b[0;34m\u001b[0m\u001b[0m\n\u001b[1;32m      4\u001b[0m \u001b[0mprint\u001b[0m\u001b[0;34m(\u001b[0m\u001b[0mtype\u001b[0m\u001b[0;34m(\u001b[0m\u001b[0marray\u001b[0m\u001b[0;34m[\u001b[0m\u001b[0;34m-\u001b[0m\u001b[0;36m1\u001b[0m\u001b[0;34m]\u001b[0m\u001b[0;34m)\u001b[0m\u001b[0;34m)\u001b[0m\u001b[0;34m\u001b[0m\u001b[0;34m\u001b[0m\u001b[0m\n\u001b[0;32m----> 5\u001b[0;31m \u001b[0mprint\u001b[0m\u001b[0;34m(\u001b[0m\u001b[0mnp\u001b[0m\u001b[0;34m.\u001b[0m\u001b[0misnan\u001b[0m\u001b[0;34m(\u001b[0m\u001b[0marray\u001b[0m\u001b[0;34m)\u001b[0m\u001b[0;34m)\u001b[0m\u001b[0;34m\u001b[0m\u001b[0;34m\u001b[0m\u001b[0m\n\u001b[0m",
            "\u001b[0;31mTypeError\u001b[0m: ufunc 'isnan' not supported for the input types, and the inputs could not be safely coerced to any supported types according to the casting rule ''safe''"
          ]
        }
      ],
      "source": [
        "array = np.array([1,'snake','plate', np.nan])\n",
        "print(array)\n",
        "print(array[-1])\n",
        "print(type(array[-1]))\n",
        "print(np.isnan(array))"
      ]
    },
    {
      "cell_type": "code",
      "execution_count": null,
      "metadata": {
        "colab": {
          "base_uri": "https://localhost:8080/",
          "height": 204
        },
        "id": "5-PJ8UziLFfJ",
        "outputId": "c09ec632-f1e6-41a6-8aa1-2bf5ea4c4c2e"
      },
      "outputs": [
        {
          "ename": "TypeError",
          "evalue": "ignored",
          "output_type": "error",
          "traceback": [
            "\u001b[0;31m---------------------------------------------------------------------------\u001b[0m",
            "\u001b[0;31mTypeError\u001b[0m                                 Traceback (most recent call last)",
            "\u001b[0;32m<ipython-input-22-1f5c56d0a318>\u001b[0m in \u001b[0;36m<module>\u001b[0;34m\u001b[0m\n\u001b[1;32m      1\u001b[0m \u001b[0marray\u001b[0m \u001b[0;34m=\u001b[0m \u001b[0mnp\u001b[0m\u001b[0;34m.\u001b[0m\u001b[0marray\u001b[0m\u001b[0;34m(\u001b[0m\u001b[0;34m[\u001b[0m\u001b[0;36m1\u001b[0m\u001b[0;34m,\u001b[0m\u001b[0;34m'snake'\u001b[0m\u001b[0;34m,\u001b[0m\u001b[0;34m'plate'\u001b[0m\u001b[0;34m,\u001b[0m \u001b[0mnp\u001b[0m\u001b[0;34m.\u001b[0m\u001b[0mnan\u001b[0m\u001b[0;34m]\u001b[0m\u001b[0;34m)\u001b[0m\u001b[0;34m\u001b[0m\u001b[0;34m\u001b[0m\u001b[0m\n\u001b[0;32m----> 2\u001b[0;31m \u001b[0mnp\u001b[0m\u001b[0;34m.\u001b[0m\u001b[0misnan\u001b[0m\u001b[0;34m(\u001b[0m\u001b[0marray\u001b[0m\u001b[0;34m)\u001b[0m\u001b[0;34m\u001b[0m\u001b[0;34m\u001b[0m\u001b[0m\n\u001b[0m",
            "\u001b[0;31mTypeError\u001b[0m: ufunc 'isnan' not supported for the input types, and the inputs could not be safely coerced to any supported types according to the casting rule ''safe''"
          ]
        }
      ],
      "source": [
        "array = np.array([1,'snake','plate', np.nan])\n",
        "np.isnan(array)"
      ]
    },
    {
      "cell_type": "markdown",
      "metadata": {
        "id": "9ZzozR64P396"
      },
      "source": [
        "# Booleans y casting"
      ]
    },
    {
      "cell_type": "code",
      "execution_count": null,
      "metadata": {
        "colab": {
          "base_uri": "https://localhost:8080/"
        },
        "id": "cD8B_NW4P6dW",
        "outputId": "b0279926-18b5-47a3-b9d3-c7138ca70ebf"
      },
      "outputs": [
        {
          "data": {
            "text/plain": [
              "array([ True, False])"
            ]
          },
          "execution_count": 65,
          "metadata": {},
          "output_type": "execute_result"
        }
      ],
      "source": [
        "np.array([True, False])"
      ]
    },
    {
      "cell_type": "code",
      "execution_count": null,
      "metadata": {
        "colab": {
          "base_uri": "https://localhost:8080/"
        },
        "id": "KuFhoIRvPxKq",
        "outputId": "28b6a49d-66a9-4b17-afc3-25ed36585784"
      },
      "outputs": [
        {
          "data": {
            "text/plain": [
              "array([1, 0])"
            ]
          },
          "execution_count": 64,
          "metadata": {},
          "output_type": "execute_result"
        }
      ],
      "source": [
        "np.array([True, False], dtype=int)"
      ]
    },
    {
      "cell_type": "code",
      "execution_count": null,
      "metadata": {
        "colab": {
          "base_uri": "https://localhost:8080/"
        },
        "id": "-Hd-rHZHP8xE",
        "outputId": "289898db-3f8b-4656-80ab-92c76c708d03"
      },
      "outputs": [
        {
          "data": {
            "text/plain": [
              "array([1., 0.])"
            ]
          },
          "execution_count": 66,
          "metadata": {},
          "output_type": "execute_result"
        }
      ],
      "source": [
        "np.array([True, False], dtype=float)"
      ]
    },
    {
      "cell_type": "markdown",
      "metadata": {
        "id": "toXb8TmQQ4PZ"
      },
      "source": [
        "# Funciones de Numpy"
      ]
    },
    {
      "cell_type": "code",
      "execution_count": null,
      "metadata": {
        "colab": {
          "base_uri": "https://localhost:8080/"
        },
        "id": "CLMX6-HuQ57l",
        "outputId": "cc1a141e-17c0-4f49-cbea-fd1585b874f2"
      },
      "outputs": [
        {
          "name": "stdout",
          "output_type": "stream",
          "text": [
            "Cosine of the given array of angles =  [-9.99998732e-01  7.96326711e-04  9.99994927e-01]\n"
          ]
        }
      ],
      "source": [
        "angles = np.array([3.14, 3.14/2, 6.28])\n",
        "cosine_of_angles = np.cos(angles)\n",
        "print('Cosine of the given array of angles = ', cosine_of_angles)"
      ]
    },
    {
      "cell_type": "markdown",
      "metadata": {
        "id": "nJ6SCTL5RiQg"
      },
      "source": [
        "# Imagenes"
      ]
    },
    {
      "cell_type": "code",
      "execution_count": null,
      "metadata": {
        "colab": {
          "base_uri": "https://localhost:8080/"
        },
        "id": "YkjlfNTyT_x6",
        "outputId": "79d864cf-5745-44b1-f005-eda15224c0f1"
      },
      "outputs": [
        {
          "name": "stdout",
          "output_type": "stream",
          "text": [
            "Homer.png    Spy-x-Family-se-vuelve-el-anime-mas-popular-en-China.jpg\n",
            "sample_data\n"
          ]
        }
      ],
      "source": [
        "import matplotlib.pyplot as plt\n",
        "import os"
      ]
    },
    {
      "cell_type": "code",
      "execution_count": null,
      "metadata": {
        "colab": {
          "base_uri": "https://localhost:8080/"
        },
        "id": "AReXtVaiUDfp",
        "outputId": "b74ff433-7b1c-4c8a-c892-6d6469617947"
      },
      "outputs": [
        {
          "data": {
            "text/plain": [
              "0"
            ]
          },
          "execution_count": 105,
          "metadata": {},
          "output_type": "execute_result"
        }
      ],
      "source": [
        "a = 'https://i.pinimg.com/originals/18/1c/ab/181cab12f0d3d4168ddac0edfbd1f157.jpg'\n",
        "os.system(f'curl -O {a}')"
      ]
    },
    {
      "cell_type": "code",
      "execution_count": null,
      "metadata": {
        "colab": {
          "base_uri": "https://localhost:8080/"
        },
        "id": "t59ZN-gEUG6N",
        "outputId": "b4b30637-526d-4c54-ead3-1f9fbe645916"
      },
      "outputs": [
        {
          "name": "stdout",
          "output_type": "stream",
          "text": [
            " 181cab12f0d3d4168ddac0edfbd1f157.jpg\n",
            " Homer.png\n",
            "'latest?cb=20200929153859'\n",
            " sample_data\n",
            " Spy-x-Family-se-vuelve-el-anime-mas-popular-en-China.jpg\n"
          ]
        }
      ],
      "source": [
        "!ls"
      ]
    },
    {
      "cell_type": "code",
      "execution_count": null,
      "metadata": {
        "colab": {
          "base_uri": "https://localhost:8080/",
          "height": 269
        },
        "id": "YdwUhsuiRkid",
        "outputId": "daa593a1-e864-4474-f1de-52e8b480f457"
      },
      "outputs": [
        {
          "data": {
            "image/png": "[encoded data removed]",
            "text/plain": [
              "<Figure size 432x288 with 1 Axes>"
            ]
          },
          "metadata": {
            "needs_background": "light"
          },
          "output_type": "display_data"
        }
      ],
      "source": [
        "import matplotlib.pyplot as plt\n",
        "import os\n",
        "imagen=plt.imread('181cab12f0d3d4168ddac0edfbd1f157.jpg')\n",
        "plt.imshow(imagen)\n",
        "plt.show()"
      ]
    },
    {
      "cell_type": "markdown",
      "metadata": {
        "id": "2zFXP9crZkSb"
      },
      "source": [
        "La ultima dimension representa los canales de color"
      ]
    },
    {
      "cell_type": "code",
      "execution_count": null,
      "metadata": {
        "colab": {
          "base_uri": "https://localhost:8080/"
        },
        "id": "_39_TrvxSdx_",
        "outputId": "8a159273-923f-44e3-bbf0-a9039dcd38d0"
      },
      "outputs": [
        {
          "name": "stdout",
          "output_type": "stream",
          "text": [
            "(787, 828, 3)\n"
          ]
        },
        {
          "data": {
            "text/plain": [
              "array([[[5, 3, 4],\n",
              "        [5, 3, 6],\n",
              "        [1, 0, 4],\n",
              "        ...,\n",
              "        [3, 4, 6],\n",
              "        [1, 1, 3],\n",
              "        [2, 0, 3]],\n",
              "\n",
              "       [[6, 4, 7],\n",
              "        [2, 0, 3],\n",
              "        [1, 0, 5],\n",
              "        ...,\n",
              "        [2, 3, 5],\n",
              "        [0, 0, 2],\n",
              "        [0, 0, 2]],\n",
              "\n",
              "       [[6, 4, 7],\n",
              "        [0, 0, 2],\n",
              "        [4, 3, 8],\n",
              "        ...,\n",
              "        [0, 1, 3],\n",
              "        [0, 0, 2],\n",
              "        [0, 0, 2]],\n",
              "\n",
              "       ...,\n",
              "\n",
              "       [[1, 1, 1],\n",
              "        [2, 2, 2],\n",
              "        [1, 1, 1],\n",
              "        ...,\n",
              "        [1, 0, 0],\n",
              "        [1, 0, 0],\n",
              "        [1, 0, 0]],\n",
              "\n",
              "       [[0, 0, 0],\n",
              "        [1, 1, 1],\n",
              "        [1, 1, 1],\n",
              "        ...,\n",
              "        [1, 0, 0],\n",
              "        [1, 0, 0],\n",
              "        [1, 0, 0]],\n",
              "\n",
              "       [[0, 0, 0],\n",
              "        [1, 1, 1],\n",
              "        [0, 0, 0],\n",
              "        ...,\n",
              "        [1, 0, 0],\n",
              "        [1, 0, 0],\n",
              "        [1, 0, 0]]], dtype=uint8)"
            ]
          },
          "execution_count": 125,
          "metadata": {},
          "output_type": "execute_result"
        }
      ],
      "source": [
        "imagen = np.array(imagen)\n",
        "print(imagen.shape)\n",
        "imagen"
      ]
    },
    {
      "cell_type": "code",
      "execution_count": null,
      "metadata": {
        "colab": {
          "base_uri": "https://localhost:8080/",
          "height": 269
        },
        "id": "a9zMvToKSpo2",
        "outputId": "cee912a1-76bd-4b6a-b8fc-638d6aa5812e"
      },
      "outputs": [
        {
          "data": {
            "image/png": "[encoded data removed]",
            "text/plain": [
              "<Figure size 432x288 with 1 Axes>"
            ]
          },
          "metadata": {
            "needs_background": "light"
          },
          "output_type": "display_data"
        }
      ],
      "source": [
        "plt.imshow(imagen)\n",
        "plt.show()"
      ]
    },
    {
      "cell_type": "code",
      "execution_count": null,
      "metadata": {
        "colab": {
          "base_uri": "https://localhost:8080/"
        },
        "id": "2gzzL82gXH5g",
        "outputId": "86845f24-8682-457a-fb7e-844a6b6333ec"
      },
      "outputs": [
        {
          "data": {
            "text/plain": [
              "(787, 828)"
            ]
          },
          "execution_count": 126,
          "metadata": {},
          "output_type": "execute_result"
        }
      ],
      "source": [
        "imagen[:,:,0].shape"
      ]
    },
    {
      "cell_type": "code",
      "execution_count": null,
      "metadata": {
        "colab": {
          "base_uri": "https://localhost:8080/"
        },
        "id": "UvDvqEZeXzPi",
        "outputId": "904a2868-63bc-43df-f9b0-23085d0fe35c"
      },
      "outputs": [
        {
          "data": {
            "text/plain": [
              "array([[5, 5, 1, ..., 3, 1, 2],\n",
              "       [6, 2, 1, ..., 2, 0, 0],\n",
              "       [6, 0, 4, ..., 0, 0, 0],\n",
              "       ...,\n",
              "       [1, 2, 1, ..., 1, 1, 1],\n",
              "       [0, 1, 1, ..., 1, 1, 1],\n",
              "       [0, 1, 0, ..., 1, 1, 1]], dtype=uint8)"
            ]
          },
          "execution_count": 133,
          "metadata": {},
          "output_type": "execute_result"
        }
      ],
      "source": [
        "imagen[:,:,0]"
      ]
    },
    {
      "cell_type": "code",
      "execution_count": null,
      "metadata": {
        "colab": {
          "base_uri": "https://localhost:8080/"
        },
        "id": "vlTm1KSWXz5s",
        "outputId": "0c9ab0a5-5ca6-4d43-eaf0-8301800c73dc"
      },
      "outputs": [
        {
          "data": {
            "text/plain": [
              "array([[3, 3, 0, ..., 4, 1, 0],\n",
              "       [4, 0, 0, ..., 3, 0, 0],\n",
              "       [4, 0, 3, ..., 1, 0, 0],\n",
              "       ...,\n",
              "       [1, 2, 1, ..., 0, 0, 0],\n",
              "       [0, 1, 1, ..., 0, 0, 0],\n",
              "       [0, 1, 0, ..., 0, 0, 0]], dtype=uint8)"
            ]
          },
          "execution_count": 134,
          "metadata": {},
          "output_type": "execute_result"
        }
      ],
      "source": [
        "imagen[:,:,1]"
      ]
    },
    {
      "cell_type": "code",
      "execution_count": null,
      "metadata": {
        "colab": {
          "base_uri": "https://localhost:8080/",
          "height": 269
        },
        "id": "M4Mvw6bQTJb4",
        "outputId": "63b826c4-b905-479e-c13c-ea083e233d70"
      },
      "outputs": [
        {
          "data": {
            "image/png": "[encoded data removed]",
            "text/plain": [
              "<Figure size 432x288 with 1 Axes>"
            ]
          },
          "metadata": {
            "needs_background": "light"
          },
          "output_type": "display_data"
        }
      ],
      "source": [
        "plt.imshow(imagen[:,:,0])\n",
        "plt.show()"
      ]
    },
    {
      "cell_type": "markdown",
      "metadata": {
        "id": "beQMAE9MZMtQ"
      },
      "source": [
        "## RGB"
      ]
    },
    {
      "cell_type": "code",
      "execution_count": null,
      "metadata": {
        "colab": {
          "base_uri": "https://localhost:8080/",
          "height": 269
        },
        "id": "KMLvfNiiYGxM",
        "outputId": "6b1644bf-aa22-46e3-f522-ef6e2fa36197"
      },
      "outputs": [
        {
          "data": {
            "image/png": "[encoded data removed]",
            "text/plain": [
              "<Figure size 432x288 with 1 Axes>"
            ]
          },
          "metadata": {
            "needs_background": "light"
          },
          "output_type": "display_data"
        }
      ],
      "source": [
        "# Red\n",
        "imagen_dos = imagen.copy() \n",
        "imagen_dos[:,:,1] = 0\n",
        "imagen_dos[:,:,2] = 0\n",
        "plt.imshow(imagen_dos)\n",
        "plt.show()"
      ]
    },
    {
      "cell_type": "code",
      "execution_count": null,
      "metadata": {
        "colab": {
          "base_uri": "https://localhost:8080/",
          "height": 269
        },
        "id": "0QSOHbanZSjB",
        "outputId": "8ffc6f7a-f025-42f0-8ca5-461a7c069bd0"
      },
      "outputs": [
        {
          "data": {
            "image/png": "[encoded data removed]",
            "text/plain": [
              "<Figure size 432x288 with 1 Axes>"
            ]
          },
          "metadata": {
            "needs_background": "light"
          },
          "output_type": "display_data"
        }
      ],
      "source": [
        "# Green\n",
        "imagen_dos = imagen.copy() \n",
        "imagen_dos[:,:,0] = 0\n",
        "imagen_dos[:,:,2] = 0\n",
        "plt.imshow(imagen_dos)\n",
        "plt.show()"
      ]
    },
    {
      "cell_type": "code",
      "execution_count": null,
      "metadata": {
        "colab": {
          "base_uri": "https://localhost:8080/",
          "height": 269
        },
        "id": "Te2h-jACZYkp",
        "outputId": "dbbe637d-4d39-48d8-9fcb-355644196d56"
      },
      "outputs": [
        {
          "data": {
            "image/png": "[encoded data removed]",
            "text/plain": [
              "<Figure size 432x288 with 1 Axes>"
            ]
          },
          "metadata": {
            "needs_background": "light"
          },
          "output_type": "display_data"
        }
      ],
      "source": [
        "# BLue\n",
        "imagen_dos = imagen.copy() \n",
        "imagen_dos[:,:,0] = 0\n",
        "imagen_dos[:,:,1] = 0\n",
        "plt.imshow(imagen_dos)\n",
        "plt.show()"
      ]
    }
  ],
  "metadata": {
    "colab": {
      "collapsed_sections": [
        "LiTHiBqbY9EZ",
        "RkJ2wqasA9p7",
        "rF86jWc7BkAa",
        "qBDYFS1IBzsU",
        "dIvtymRPB8pw",
        "o32DfmNmCDsc",
        "9p9GBaxyCK-d",
        "Y-1sFgN6CV_1",
        "_NWaOM-NCewi"
      ],
      "provenance": []
    },
    "kernelspec": {
      "display_name": "Python 3",
      "name": "python3"
    },
    "language_info": {
      "codemirror_mode": {
        "name": "ipython",
        "version": 3
      },
      "file_extension": ".py",
      "mimetype": "text/x-python",
      "name": "python",
      "nbconvert_exporter": "python",
      "pygments_lexer": "ipython3",
      "version": "3.11.7"
    }
  },
  "nbformat": 4,
  "nbformat_minor": 0
}
