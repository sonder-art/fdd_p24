{
 "cells": [
  {
   "cell_type": "code",
   "execution_count": 61,
   "metadata": {},
   "outputs": [],
   "source": [
    "#!pip install polars\n",
    "#por alguna razón cagué mi pyenv y tuve que instalar polars ngl"
   ]
  },
  {
   "cell_type": "code",
   "execution_count": 62,
   "metadata": {},
   "outputs": [],
   "source": [
    "import polars as pl\n",
    "import numpy as np\n",
    "import random\n",
    "from datetime import datetime, timedelta"
   ]
  },
  {
   "cell_type": "markdown",
   "metadata": {},
   "source": [
    "# Descripcion"
   ]
  },
  {
   "cell_type": "markdown",
   "metadata": {},
   "source": [
    "Los datos son notificaciones de dispositivos GPS en Mexico. En promedio generan notificaciones automatizadas cada 5 minutos si el carro esta encendido, y 30 si esta apagado.  \n",
    "\n",
    "Cada notificacion esta acompannada de un evento de lo que esta ocurriendo, y trae la latitud y longitud.  \n",
    "\n",
    "El objetico es predecir si un vehiculo esta siendo robado de acuerdo a sus notificaciones, por lo que el primer paso seria limpiar datos y hacer ingenieria de variables.\n",
    "\n",
    "Trata de hacerlo **lazy** si puedes."
   ]
  },
  {
   "cell_type": "code",
   "execution_count": 63,
   "metadata": {},
   "outputs": [],
   "source": [
    "def generate_dummy_data(num_cars, start_time, end_time, working_hours_interval, non_working_hours_interval):\n",
    "    data = []\n",
    "\n",
    "    # Define the latitude and longitude ranges for Mexico\n",
    "    min_latitude, max_latitude = 14.5388, 32.7186\n",
    "    min_longitude, max_longitude = -118.4662, -86.7104\n",
    "\n",
    "    for car_id in range(num_cars):\n",
    "        current_time = start_time\n",
    "\n",
    "        # Generate random initial latitude and longitude for each car\n",
    "        latitude = random.uniform(min_latitude, max_latitude)\n",
    "        longitude = random.uniform(min_longitude, max_longitude)\n",
    "\n",
    "        while current_time < end_time:\n",
    "            if current_time.weekday() < 5 and 9 <= current_time.hour < 17:\n",
    "                # Working hours (Monday to Friday, 9 AM to 5 PM)\n",
    "                interval = working_hours_interval\n",
    "            else:\n",
    "                # Non-working hours\n",
    "                interval = non_working_hours_interval\n",
    "\n",
    "            # Generate notification with 99% probability\n",
    "            if random.random() < 0.99:\n",
    "                notification = random.choice([\"low_fuel\", \"tire_pressure\", \"engine_check\", None])\n",
    "                data.append((f\"car_{car_id}\", current_time.isoformat(), latitude, longitude, notification))\n",
    "\n",
    "            # Generate additional notifications between intervals\n",
    "            while True:\n",
    "                additional_interval = random.expovariate(1 / (interval / 2))\n",
    "                additional_time = current_time + timedelta(minutes=additional_interval)\n",
    "                if additional_time >= current_time + timedelta(minutes=interval):\n",
    "                    break\n",
    "                notification = random.choice([\"low_fuel\", \"tire_pressure\", \"engine_check\", None])\n",
    "                data.append((f\"car_{car_id}\", additional_time.isoformat(), latitude, longitude, notification))\n",
    "\n",
    "            # Update latitude and longitude for car movement\n",
    "            latitude += random.uniform(-0.01, 0.01)\n",
    "            longitude += random.uniform(-0.01, 0.01)\n",
    "\n",
    "            # Check if the car is among the 1% that can have 100 notifications within 5 minutes\n",
    "            if random.random() < 0.01:\n",
    "                burst_start_time = current_time + timedelta(minutes=random.uniform(0, interval))\n",
    "                burst_end_time = burst_start_time + timedelta(minutes=5)\n",
    "                while current_time < burst_end_time:\n",
    "                    notification = random.choice([\"low_fuel\", \"tire_pressure\", \"engine_check\", None])\n",
    "                    data.append((f\"car_{car_id}\", current_time.isoformat(), latitude, longitude, notification))\n",
    "                    current_time += timedelta(seconds=random.uniform(1, 10))\n",
    "\n",
    "            current_time += timedelta(minutes=interval)\n",
    "\n",
    "    # Create a Polars DataFrame from the generated data\n",
    "    df = pl.DataFrame(\n",
    "        {\n",
    "            \"car_id\": [record[0] for record in data],\n",
    "            \"timestamp\": [record[1] for record in data],\n",
    "            \"latitude\": [record[2] for record in data],\n",
    "            \"longitude\": [record[3] for record in data],\n",
    "            \"notification\": [record[4] for record in data],\n",
    "        }\n",
    "    )\n",
    "\n",
    "    return df.lazy()"
   ]
  },
  {
   "cell_type": "code",
   "execution_count": 64,
   "metadata": {},
   "outputs": [
    {
     "name": "stdout",
     "output_type": "stream",
     "text": [
      "naive plan: (run LazyFrame.explain(optimized=True) to see the optimized plan)\n",
      "\n",
      "SLICE[offset: 0, len: 5]\n",
      "  DF [\"car_id\", \"timestamp\", \"latitude\", \"longitude\"]; PROJECT */5 COLUMNS; SELECTION: \"None\"\n"
     ]
    }
   ],
   "source": [
    "num_cars = 100\n",
    "start_time = datetime(2023, 1, 1, 0, 0, 0)  # Start of the week\n",
    "end_time = start_time + timedelta(weeks=1)  # End of the week\n",
    "working_hours_interval = 5  # Interval of 5 minutes during working hours\n",
    "non_working_hours_interval = 30  # Interval of 30 minutes during non-working hours\n",
    "\n",
    "# Generate the dummy data\n",
    "data = generate_dummy_data(num_cars, start_time, end_time, working_hours_interval, non_working_hours_interval)\n",
    "\n",
    "# Print the first few rows of the generated data\n",
    "print(data.head())"
   ]
  },
  {
   "cell_type": "code",
   "execution_count": 65,
   "metadata": {},
   "outputs": [
    {
     "data": {
      "text/html": [
       "<div><style>\n",
       ".dataframe > thead > tr,\n",
       ".dataframe > tbody > tr {\n",
       "  text-align: right;\n",
       "  white-space: pre-wrap;\n",
       "}\n",
       "</style>\n",
       "<small>shape: (625_770, 5)</small><table border=\"1\" class=\"dataframe\"><thead><tr><th>car_id</th><th>timestamp</th><th>latitude</th><th>longitude</th><th>notification</th></tr><tr><td>str</td><td>str</td><td>f64</td><td>f64</td><td>str</td></tr></thead><tbody><tr><td>&quot;car_0&quot;</td><td>&quot;2023-01-01T00:00:00&quot;</td><td>28.391706</td><td>-113.255354</td><td>null</td></tr><tr><td>&quot;car_0&quot;</td><td>&quot;2023-01-01T00:09:49.308818&quot;</td><td>28.391706</td><td>-113.255354</td><td>null</td></tr><tr><td>&quot;car_0&quot;</td><td>&quot;2023-01-01T00:16:37.313807&quot;</td><td>28.391706</td><td>-113.255354</td><td>&quot;engine_check&quot;</td></tr><tr><td>&quot;car_0&quot;</td><td>&quot;2023-01-01T00:06:56.759156&quot;</td><td>28.391706</td><td>-113.255354</td><td>&quot;tire_pressure&quot;</td></tr><tr><td>&quot;car_0&quot;</td><td>&quot;2023-01-01T00:04:08.035599&quot;</td><td>28.391706</td><td>-113.255354</td><td>null</td></tr><tr><td>&hellip;</td><td>&hellip;</td><td>&hellip;</td><td>&hellip;</td><td>&hellip;</td></tr><tr><td>&quot;car_99&quot;</td><td>&quot;2023-01-07T23:39:45.357321&quot;</td><td>26.241385</td><td>-110.521235</td><td>&quot;tire_pressure&quot;</td></tr><tr><td>&quot;car_99&quot;</td><td>&quot;2023-01-07T23:36:26.126236&quot;</td><td>26.241385</td><td>-110.521235</td><td>null</td></tr><tr><td>&quot;car_99&quot;</td><td>&quot;2023-01-07T23:33:45.966442&quot;</td><td>26.241385</td><td>-110.521235</td><td>&quot;low_fuel&quot;</td></tr><tr><td>&quot;car_99&quot;</td><td>&quot;2023-01-07T23:37:20.414254&quot;</td><td>26.241385</td><td>-110.521235</td><td>null</td></tr><tr><td>&quot;car_99&quot;</td><td>&quot;2023-01-07T23:45:07.804093&quot;</td><td>26.241385</td><td>-110.521235</td><td>&quot;low_fuel&quot;</td></tr></tbody></table></div>"
      ],
      "text/plain": [
       "shape: (625_770, 5)\n",
       "┌────────┬────────────────────────────┬───────────┬─────────────┬───────────────┐\n",
       "│ car_id ┆ timestamp                  ┆ latitude  ┆ longitude   ┆ notification  │\n",
       "│ ---    ┆ ---                        ┆ ---       ┆ ---         ┆ ---           │\n",
       "│ str    ┆ str                        ┆ f64       ┆ f64         ┆ str           │\n",
       "╞════════╪════════════════════════════╪═══════════╪═════════════╪═══════════════╡\n",
       "│ car_0  ┆ 2023-01-01T00:00:00        ┆ 28.391706 ┆ -113.255354 ┆ null          │\n",
       "│ car_0  ┆ 2023-01-01T00:09:49.308818 ┆ 28.391706 ┆ -113.255354 ┆ null          │\n",
       "│ car_0  ┆ 2023-01-01T00:16:37.313807 ┆ 28.391706 ┆ -113.255354 ┆ engine_check  │\n",
       "│ car_0  ┆ 2023-01-01T00:06:56.759156 ┆ 28.391706 ┆ -113.255354 ┆ tire_pressure │\n",
       "│ car_0  ┆ 2023-01-01T00:04:08.035599 ┆ 28.391706 ┆ -113.255354 ┆ null          │\n",
       "│ …      ┆ …                          ┆ …         ┆ …           ┆ …             │\n",
       "│ car_99 ┆ 2023-01-07T23:39:45.357321 ┆ 26.241385 ┆ -110.521235 ┆ tire_pressure │\n",
       "│ car_99 ┆ 2023-01-07T23:36:26.126236 ┆ 26.241385 ┆ -110.521235 ┆ null          │\n",
       "│ car_99 ┆ 2023-01-07T23:33:45.966442 ┆ 26.241385 ┆ -110.521235 ┆ low_fuel      │\n",
       "│ car_99 ┆ 2023-01-07T23:37:20.414254 ┆ 26.241385 ┆ -110.521235 ┆ null          │\n",
       "│ car_99 ┆ 2023-01-07T23:45:07.804093 ┆ 26.241385 ┆ -110.521235 ┆ low_fuel      │\n",
       "└────────┴────────────────────────────┴───────────┴─────────────┴───────────────┘"
      ]
     },
     "execution_count": 65,
     "metadata": {},
     "output_type": "execute_result"
    }
   ],
   "source": [
    "data.collect()\n",
    "\n"
   ]
  },
  {
   "cell_type": "markdown",
   "metadata": {},
   "source": [
    "## Limpieza de datos"
   ]
  },
  {
   "cell_type": "markdown",
   "metadata": {},
   "source": [
    "### Timestamp"
   ]
  },
  {
   "cell_type": "markdown",
   "metadata": {},
   "source": [
    "Convierte el `timestamp` que actualmente es string a formato de tiempo en polars"
   ]
  },
  {
   "cell_type": "code",
   "execution_count": 66,
   "metadata": {},
   "outputs": [
    {
     "name": "stdout",
     "output_type": "stream",
     "text": [
      "shape: (625_770, 5)\n",
      "┌────────┬────────────────────────────┬───────────┬─────────────┬───────────────┐\n",
      "│ car_id ┆ timestamp                  ┆ latitude  ┆ longitude   ┆ notification  │\n",
      "│ ---    ┆ ---                        ┆ ---       ┆ ---         ┆ ---           │\n",
      "│ str    ┆ str                        ┆ f64       ┆ f64         ┆ str           │\n",
      "╞════════╪════════════════════════════╪═══════════╪═════════════╪═══════════════╡\n",
      "│ car_0  ┆ 2023-01-01T00:00:00.000000 ┆ 28.391706 ┆ -113.255354 ┆ null          │\n",
      "│ car_0  ┆ 2023-01-01T00:09:49.308818 ┆ 28.391706 ┆ -113.255354 ┆ null          │\n",
      "│ car_0  ┆ 2023-01-01T00:16:37.313807 ┆ 28.391706 ┆ -113.255354 ┆ engine_check  │\n",
      "│ car_0  ┆ 2023-01-01T00:06:56.759156 ┆ 28.391706 ┆ -113.255354 ┆ tire_pressure │\n",
      "│ car_0  ┆ 2023-01-01T00:04:08.035599 ┆ 28.391706 ┆ -113.255354 ┆ null          │\n",
      "│ …      ┆ …                          ┆ …         ┆ …           ┆ …             │\n",
      "│ car_99 ┆ 2023-01-07T23:39:45.357321 ┆ 26.241385 ┆ -110.521235 ┆ tire_pressure │\n",
      "│ car_99 ┆ 2023-01-07T23:36:26.126236 ┆ 26.241385 ┆ -110.521235 ┆ null          │\n",
      "│ car_99 ┆ 2023-01-07T23:33:45.966442 ┆ 26.241385 ┆ -110.521235 ┆ low_fuel      │\n",
      "│ car_99 ┆ 2023-01-07T23:37:20.414254 ┆ 26.241385 ┆ -110.521235 ┆ null          │\n",
      "│ car_99 ┆ 2023-01-07T23:45:07.804093 ┆ 26.241385 ┆ -110.521235 ┆ low_fuel      │\n",
      "└────────┴────────────────────────────┴───────────┴─────────────┴───────────────┘\n"
     ]
    },
    {
     "name": "stderr",
     "output_type": "stream",
     "text": [
      "C:\\Users\\Admin\\AppData\\Local\\Temp\\ipykernel_29836\\3340590239.py:10: ChronoFormatWarning: Detected the pattern `.%f` in the chrono format string. This pattern should not be used to parse values after a decimal point. Use `%.f` instead. See the full specification: https://docs.rs/chrono/latest/chrono/format/strftime\n",
      "  data = data.with_columns(pl.col(\"timestamp\").str.strptime(pl.Datetime, \"%Y-%m-%dT%H:%M:%S.%f\"))\n"
     ]
    },
    {
     "name": "stdout",
     "output_type": "stream",
     "text": [
      "shape: (625_770, 5)\n",
      "┌────────┬───────────────────────────────┬───────────┬─────────────┬───────────────┐\n",
      "│ car_id ┆ timestamp                     ┆ latitude  ┆ longitude   ┆ notification  │\n",
      "│ ---    ┆ ---                           ┆ ---       ┆ ---         ┆ ---           │\n",
      "│ str    ┆ datetime[ns]                  ┆ f64       ┆ f64         ┆ str           │\n",
      "╞════════╪═══════════════════════════════╪═══════════╪═════════════╪═══════════════╡\n",
      "│ car_0  ┆ 2023-01-01 00:00:00           ┆ 28.391706 ┆ -113.255354 ┆ null          │\n",
      "│ car_0  ┆ 2023-01-01 00:09:49.000308818 ┆ 28.391706 ┆ -113.255354 ┆ null          │\n",
      "│ car_0  ┆ 2023-01-01 00:16:37.000313807 ┆ 28.391706 ┆ -113.255354 ┆ engine_check  │\n",
      "│ car_0  ┆ 2023-01-01 00:06:56.000759156 ┆ 28.391706 ┆ -113.255354 ┆ tire_pressure │\n",
      "│ car_0  ┆ 2023-01-01 00:04:08.000035599 ┆ 28.391706 ┆ -113.255354 ┆ null          │\n",
      "│ …      ┆ …                             ┆ …         ┆ …           ┆ …             │\n",
      "│ car_99 ┆ 2023-01-07 23:39:45.000357321 ┆ 26.241385 ┆ -110.521235 ┆ tire_pressure │\n",
      "│ car_99 ┆ 2023-01-07 23:36:26.000126236 ┆ 26.241385 ┆ -110.521235 ┆ null          │\n",
      "│ car_99 ┆ 2023-01-07 23:33:45.000966442 ┆ 26.241385 ┆ -110.521235 ┆ low_fuel      │\n",
      "│ car_99 ┆ 2023-01-07 23:37:20.000414254 ┆ 26.241385 ┆ -110.521235 ┆ null          │\n",
      "│ car_99 ┆ 2023-01-07 23:45:07.000804093 ┆ 26.241385 ┆ -110.521235 ┆ low_fuel      │\n",
      "└────────┴───────────────────────────────┴───────────┴─────────────┴───────────────┘\n"
     ]
    }
   ],
   "source": [
    "data = data.with_columns(\n",
    "    pl.when(pl.col(\"timestamp\").str.contains(r\"\\.\"))\n",
    "    .then(pl.col(\"timestamp\"))\n",
    "    .otherwise(pl.col(\"timestamp\") + \".000000\")\n",
    "    .alias(\"timestamp\")\n",
    ")\n",
    "\n",
    "print(data.collect())\n",
    "\n",
    "data = data.with_columns(pl.col(\"timestamp\").str.strptime(pl.Datetime, \"%Y-%m-%dT%H:%M:%S.%f\"))\n",
    "print(data.collect())"
   ]
  },
  {
   "cell_type": "code",
   "execution_count": null,
   "metadata": {},
   "outputs": [],
   "source": []
  },
  {
   "cell_type": "markdown",
   "metadata": {},
   "source": [
    "### Ingenieria de variables"
   ]
  },
  {
   "cell_type": "markdown",
   "metadata": {},
   "source": [
    "Dado que va a entrar a un modelo de machine learning es necesario que todas las variables sean numericas, y esten en formnato tidy. Cada observacion en una fila, y cada variable en una columna. Por lo tanto se decidio crear estadisticos y agregar los datos a intervalos uniformes de `x` minutos.  \n",
    "\n",
    "Por ejemplo, colapsar toda la informacion que ocurrion en el intervalo, como el numero de notificaciones en esos 5 minutos, el promedio entre notificaciones, y el tipo de notificaciones."
   ]
  },
  {
   "cell_type": "markdown",
   "metadata": {},
   "source": [
    "Existen varias formas de hacer esto, puedes hacerlo con `group_by` primero para crear las nuevas variables, o `group_by` (`rolling`, `dynamic`) usando operaciones sobre listas. Utiliza claude o chat_gpt"
   ]
  },
  {
   "cell_type": "markdown",
   "metadata": {},
   "source": [
    "1. Crea una nueva variable que compute la diferencia de tiempo entre notificaciones del mismo vehiculo. Piensa como lo vas a hacer. Llama a esta variable `notification_time`\n",
    "   \n"
   ]
  },
  {
   "cell_type": "code",
   "execution_count": 67,
   "metadata": {},
   "outputs": [],
   "source": [
    "data = (data\n",
    "    .sort(['car_id', 'timestamp'])\n",
    "    .with_columns([\n",
    "        pl.col('timestamp').diff().over('car_id').fill_null(pl.duration(nanoseconds=0)).alias('notification_time')]))"
   ]
  },
  {
   "cell_type": "code",
   "execution_count": 68,
   "metadata": {},
   "outputs": [
    {
     "data": {
      "text/html": [
       "<div><style>\n",
       ".dataframe > thead > tr,\n",
       ".dataframe > tbody > tr {\n",
       "  text-align: right;\n",
       "  white-space: pre-wrap;\n",
       "}\n",
       "</style>\n",
       "<small>shape: (625_770, 6)</small><table border=\"1\" class=\"dataframe\"><thead><tr><th>car_id</th><th>timestamp</th><th>latitude</th><th>longitude</th><th>notification</th><th>notification_time</th></tr><tr><td>str</td><td>datetime[ns]</td><td>f64</td><td>f64</td><td>str</td><td>duration[ns]</td></tr></thead><tbody><tr><td>&quot;car_0&quot;</td><td>2023-01-01 00:00:00</td><td>28.391706</td><td>-113.255354</td><td>null</td><td>0ns</td></tr><tr><td>&quot;car_0&quot;</td><td>2023-01-01 00:00:08.000409243</td><td>28.391706</td><td>-113.255354</td><td>&quot;engine_check&quot;</td><td>8s 409243ns</td></tr><tr><td>&quot;car_0&quot;</td><td>2023-01-01 00:00:34.000411138</td><td>28.391706</td><td>-113.255354</td><td>null</td><td>26s 1895ns</td></tr><tr><td>&quot;car_0&quot;</td><td>2023-01-01 00:01:40.000666523</td><td>28.391706</td><td>-113.255354</td><td>&quot;low_fuel&quot;</td><td>1m 6s 255385ns</td></tr><tr><td>&quot;car_0&quot;</td><td>2023-01-01 00:01:43.000788422</td><td>28.391706</td><td>-113.255354</td><td>null</td><td>3s 121899ns</td></tr><tr><td>&hellip;</td><td>&hellip;</td><td>&hellip;</td><td>&hellip;</td><td>&hellip;</td><td>&hellip;</td></tr><tr><td>&quot;car_99&quot;</td><td>2023-01-07 23:46:09.000163299</td><td>26.241385</td><td>-110.521235</td><td>null</td><td>1m 1s 999359206ns</td></tr><tr><td>&quot;car_99&quot;</td><td>2023-01-07 23:46:09.000312719</td><td>26.241385</td><td>-110.521235</td><td>&quot;tire_pressure&quot;</td><td>149420ns</td></tr><tr><td>&quot;car_99&quot;</td><td>2023-01-07 23:49:28.000346299</td><td>26.241385</td><td>-110.521235</td><td>null</td><td>3m 19s 33580ns</td></tr><tr><td>&quot;car_99&quot;</td><td>2023-01-07 23:54:55.000199630</td><td>26.241385</td><td>-110.521235</td><td>&quot;engine_check&quot;</td><td>5m 26s 999853331ns</td></tr><tr><td>&quot;car_99&quot;</td><td>2023-01-07 23:55:27.000419027</td><td>26.241385</td><td>-110.521235</td><td>null</td><td>32s 219397ns</td></tr></tbody></table></div>"
      ],
      "text/plain": [
       "shape: (625_770, 6)\n",
       "┌────────┬─────────────────────┬───────────┬─────────────┬───────────────┬────────────────────┐\n",
       "│ car_id ┆ timestamp           ┆ latitude  ┆ longitude   ┆ notification  ┆ notification_time  │\n",
       "│ ---    ┆ ---                 ┆ ---       ┆ ---         ┆ ---           ┆ ---                │\n",
       "│ str    ┆ datetime[ns]        ┆ f64       ┆ f64         ┆ str           ┆ duration[ns]       │\n",
       "╞════════╪═════════════════════╪═══════════╪═════════════╪═══════════════╪════════════════════╡\n",
       "│ car_0  ┆ 2023-01-01 00:00:00 ┆ 28.391706 ┆ -113.255354 ┆ null          ┆ 0ns                │\n",
       "│ car_0  ┆ 2023-01-01          ┆ 28.391706 ┆ -113.255354 ┆ engine_check  ┆ 8s 409243ns        │\n",
       "│        ┆ 00:00:08.000409243  ┆           ┆             ┆               ┆                    │\n",
       "│ car_0  ┆ 2023-01-01          ┆ 28.391706 ┆ -113.255354 ┆ null          ┆ 26s 1895ns         │\n",
       "│        ┆ 00:00:34.000411138  ┆           ┆             ┆               ┆                    │\n",
       "│ car_0  ┆ 2023-01-01          ┆ 28.391706 ┆ -113.255354 ┆ low_fuel      ┆ 1m 6s 255385ns     │\n",
       "│        ┆ 00:01:40.000666523  ┆           ┆             ┆               ┆                    │\n",
       "│ car_0  ┆ 2023-01-01          ┆ 28.391706 ┆ -113.255354 ┆ null          ┆ 3s 121899ns        │\n",
       "│        ┆ 00:01:43.000788422  ┆           ┆             ┆               ┆                    │\n",
       "│ …      ┆ …                   ┆ …         ┆ …           ┆ …             ┆ …                  │\n",
       "│ car_99 ┆ 2023-01-07          ┆ 26.241385 ┆ -110.521235 ┆ null          ┆ 1m 1s 999359206ns  │\n",
       "│        ┆ 23:46:09.000163299  ┆           ┆             ┆               ┆                    │\n",
       "│ car_99 ┆ 2023-01-07          ┆ 26.241385 ┆ -110.521235 ┆ tire_pressure ┆ 149420ns           │\n",
       "│        ┆ 23:46:09.000312719  ┆           ┆             ┆               ┆                    │\n",
       "│ car_99 ┆ 2023-01-07          ┆ 26.241385 ┆ -110.521235 ┆ null          ┆ 3m 19s 33580ns     │\n",
       "│        ┆ 23:49:28.000346299  ┆           ┆             ┆               ┆                    │\n",
       "│ car_99 ┆ 2023-01-07          ┆ 26.241385 ┆ -110.521235 ┆ engine_check  ┆ 5m 26s 999853331ns │\n",
       "│        ┆ 23:54:55.000199630  ┆           ┆             ┆               ┆                    │\n",
       "│ car_99 ┆ 2023-01-07          ┆ 26.241385 ┆ -110.521235 ┆ null          ┆ 32s 219397ns       │\n",
       "│        ┆ 23:55:27.000419027  ┆           ┆             ┆               ┆                    │\n",
       "└────────┴─────────────────────┴───────────┴─────────────┴───────────────┴────────────────────┘"
      ]
     },
     "execution_count": 68,
     "metadata": {},
     "output_type": "execute_result"
    }
   ],
   "source": [
    "data.collect()\n"
   ]
  },
  {
   "cell_type": "markdown",
   "metadata": {},
   "source": [
    "2. Crea una nueva variable que compute la distancia que viajo el vehiculo desde la ultima notificacion. Llamala `distance`"
   ]
  },
  {
   "cell_type": "code",
   "execution_count": 69,
   "metadata": {},
   "outputs": [],
   "source": [
    "## TUVE QUE PREGUNTARLE A CHAT PORQUE NO ME SALÍA EL EJERCICIO Y CREO QUE AL FINAL ME SLAEN COMO 0.0\n",
    "## PORQUE ESTÁ POR NOTIFICACIÓN DE LOS COCHES ENTONCES EN LOS ... ESTÁN LAS DEMÁS DISTANCIAS (SOLO QUIERO LA ÚLTIMA)\n",
    "## Y YA EN EL CARRO 99 SI ME SALE UNA DISTANCIA PORQUE PUEDO VER LA ÚLTIMA \n",
    "\n",
    "\n",
    "##Side note: Lo volví a correr y ya me jala bien todo EXCEPTO ESTO PORQUE AHORA TODO ME SALE 0.0 DE DISTANCIA \n",
    "##Hace rato ya estaba bien :((( yo solo soy una mujer que quiere dormir y no puede. \n",
    "\n",
    "##PONGAME LA 2 MAL, ALCH NO SUPE HACERLA. "
   ]
  },
  {
   "cell_type": "code",
   "execution_count": 70,
   "metadata": {},
   "outputs": [
    {
     "name": "stderr",
     "output_type": "stream",
     "text": [
      "C:\\Users\\Admin\\AppData\\Local\\Temp\\ipykernel_29836\\295531222.py:18: DeprecationWarning: `apply` is deprecated. It has been renamed to `map_elements`.\n",
      "  pl.struct([\"prev_latitude\", \"prev_longitude\", \"latitude\", \"longitude\"]).apply(\n"
     ]
    },
    {
     "name": "stdout",
     "output_type": "stream",
     "text": [
      "shape: (352_766, 10)\n",
      "┌────────┬────────────┬───────────┬────────────┬───┬───────────┬───────────┬───────────┬───────────┐\n",
      "│ car_id ┆ timestamp  ┆ latitude  ┆ longitude  ┆ … ┆ prev_lati ┆ prev_long ┆ prev_noti ┆ distance  │\n",
      "│ ---    ┆ ---        ┆ ---       ┆ ---        ┆   ┆ tude      ┆ itude     ┆ fication  ┆ ---       │\n",
      "│ str    ┆ datetime[n ┆ f64       ┆ f64        ┆   ┆ ---       ┆ ---       ┆ ---       ┆ f64       │\n",
      "│        ┆ s]         ┆           ┆            ┆   ┆ f64       ┆ f64       ┆ str       ┆           │\n",
      "╞════════╪════════════╪═══════════╪════════════╪═══╪═══════════╪═══════════╪═══════════╪═══════════╡\n",
      "│ car_0  ┆ 2023-01-01 ┆ 28.391706 ┆ -113.25535 ┆ … ┆ 28.391706 ┆ -113.2553 ┆ engine_ch ┆ 0.0       │\n",
      "│        ┆ 00:05:30.0 ┆           ┆ 4          ┆   ┆           ┆ 54        ┆ eck       ┆           │\n",
      "│        ┆ 00938623   ┆           ┆            ┆   ┆           ┆           ┆           ┆           │\n",
      "│ car_0  ┆ 2023-01-01 ┆ 28.391706 ┆ -113.25535 ┆ … ┆ 28.391706 ┆ -113.2553 ┆ engine_ch ┆ 0.0       │\n",
      "│        ┆ 00:06:56.0 ┆           ┆ 4          ┆   ┆           ┆ 54        ┆ eck       ┆           │\n",
      "│        ┆ 00759156   ┆           ┆            ┆   ┆           ┆           ┆           ┆           │\n",
      "│ car_0  ┆ 2023-01-01 ┆ 28.404833 ┆ -113.25027 ┆ … ┆ 28.391706 ┆ -113.2553 ┆ tire_pres ┆ 1537.6289 │\n",
      "│        ┆ 00:30:00   ┆           ┆ 3          ┆   ┆           ┆ 54        ┆ sure      ┆ 68        │\n",
      "│ car_0  ┆ 2023-01-01 ┆ 28.404833 ┆ -113.25027 ┆ … ┆ 28.404833 ┆ -113.2502 ┆ tire_pres ┆ 0.0       │\n",
      "│        ┆ 00:30:06.0 ┆           ┆ 3          ┆   ┆           ┆ 73        ┆ sure      ┆           │\n",
      "│        ┆ 00755726   ┆           ┆            ┆   ┆           ┆           ┆           ┆           │\n",
      "│ car_0  ┆ 2023-01-01 ┆ 28.404833 ┆ -113.25027 ┆ … ┆ 28.404833 ┆ -113.2502 ┆ low_fuel  ┆ 0.0       │\n",
      "│        ┆ 00:30:14.0 ┆           ┆ 3          ┆   ┆           ┆ 73        ┆           ┆           │\n",
      "│        ┆ 00899087   ┆           ┆            ┆   ┆           ┆           ┆           ┆           │\n",
      "│ …      ┆ …          ┆ …         ┆ …          ┆ … ┆ …         ┆ …         ┆ …         ┆ …         │\n",
      "│ car_99 ┆ 2023-01-07 ┆ 26.241385 ┆ -110.52123 ┆ … ┆ 26.241385 ┆ -110.5212 ┆ low_fuel  ┆ 0.0       │\n",
      "│        ┆ 23:35:46.0 ┆           ┆ 5          ┆   ┆           ┆ 35        ┆           ┆           │\n",
      "│        ┆ 00488855   ┆           ┆            ┆   ┆           ┆           ┆           ┆           │\n",
      "│ car_99 ┆ 2023-01-07 ┆ 26.241385 ┆ -110.52123 ┆ … ┆ 26.241385 ┆ -110.5212 ┆ low_fuel  ┆ 0.0       │\n",
      "│        ┆ 23:38:19.0 ┆           ┆ 5          ┆   ┆           ┆ 35        ┆           ┆           │\n",
      "│        ┆ 00392680   ┆           ┆            ┆   ┆           ┆           ┆           ┆           │\n",
      "│ car_99 ┆ 2023-01-07 ┆ 26.241385 ┆ -110.52123 ┆ … ┆ 26.241385 ┆ -110.5212 ┆ engine_ch ┆ 0.0       │\n",
      "│        ┆ 23:39:24.0 ┆           ┆ 5          ┆   ┆           ┆ 35        ┆ eck       ┆           │\n",
      "│        ┆ 00694166   ┆           ┆            ┆   ┆           ┆           ┆           ┆           │\n",
      "│ car_99 ┆ 2023-01-07 ┆ 26.241385 ┆ -110.52123 ┆ … ┆ 26.241385 ┆ -110.5212 ┆ low_fuel  ┆ 0.0       │\n",
      "│        ┆ 23:39:34.0 ┆           ┆ 5          ┆   ┆           ┆ 35        ┆           ┆           │\n",
      "│        ┆ 00611745   ┆           ┆            ┆   ┆           ┆           ┆           ┆           │\n",
      "│ car_99 ┆ 2023-01-07 ┆ 26.241385 ┆ -110.52123 ┆ … ┆ 26.241385 ┆ -110.5212 ┆ tire_pres ┆ 0.0       │\n",
      "│        ┆ 23:39:45.0 ┆           ┆ 5          ┆   ┆           ┆ 35        ┆ sure      ┆           │\n",
      "│        ┆ 00357321   ┆           ┆            ┆   ┆           ┆           ┆           ┆           │\n",
      "└────────┴────────────┴───────────┴────────────┴───┴───────────┴───────────┴───────────┴───────────┘\n"
     ]
    }
   ],
   "source": [
    "\n",
    "\n",
    "# Define una función para calcular la distancia entre dos puntos geográficos\n",
    "def calculate_distance(lat1, lon1, lat2, lon2):\n",
    "    if None in [lat1, lon1, lat2, lon2]:\n",
    "        return None\n",
    "    return geodesic((lat1, lon1), (lat2, lon2)).meters\n",
    "\n",
    "# Cargar los datos (asegúrate de que tus datos ya están en un DataFrame de Polars llamado 'data')\n",
    "\n",
    "# Crear columnas adicionales con la latitud y longitud de la fila anterior\n",
    "data_2 = data.with_columns([\n",
    "    pl.col(\"latitude\").shift(1).alias(\"prev_latitude\"),\n",
    "    pl.col(\"longitude\").shift(1).alias(\"prev_longitude\"),\n",
    "    pl.col(\"notification\").shift(1).alias(\"prev_notification\"),\n",
    "])\n",
    "\n",
    "# Calcular la distancia desde la última notificación\n",
    "data_2 = data_2.with_columns(\n",
    "    pl.struct([\"prev_latitude\", \"prev_longitude\", \"latitude\", \"longitude\"]).apply(\n",
    "        lambda x: calculate_distance(x[\"prev_latitude\"], x[\"prev_longitude\"], x[\"latitude\"], x[\"longitude\"]),\n",
    "        return_dtype=pl.Float64\n",
    "    ).alias(\"distance\")\n",
    ")\n",
    "\n",
    "# Filtrar las filas que no tienen una notificación previa\n",
    "data_3 = data_2.filter(pl.col(\"prev_notification\").is_not_null() & pl.col(\"notification\").is_not_null())\n",
    "\n",
    "# Mostrar el DataFrame con la nueva columna\n",
    "print(data_3.collect())\n"
   ]
  },
  {
   "cell_type": "code",
   "execution_count": null,
   "metadata": {},
   "outputs": [],
   "source": []
  },
  {
   "cell_type": "markdown",
   "metadata": {},
   "source": [
    "3. Crea intervalos de `x` minutos por carro. Como el numero de notificaciones en esos intervalos no es uniforme tienes que buscar funciones de polars especificas, pero ademas tienen que ser por vehiculo, pues tienen que ser del mismo. Revisa las funciones de `group_by` `dynamic` y `rolling`.\n",
    "   1. Computa la media, mediana, varianza, max y min de `notification_time` los intervalos de `x` minutos\n",
    "   2. Computa la media, mediana, varianza, max y min de `distance`\n"
   ]
  },
  {
   "cell_type": "code",
   "execution_count": 71,
   "metadata": {},
   "outputs": [
    {
     "name": "stdout",
     "output_type": "stream",
     "text": [
      "shape: (137_853, 7)\n",
      "┌────────┬──────────────┬──────────────┬──────────────┬──────────────┬──────────────┬──────────────┐\n",
      "│ car_id ┆ timestamp    ┆ media        ┆ mediana      ┆ varianza     ┆ max          ┆ min          │\n",
      "│ ---    ┆ ---          ┆ ---          ┆ ---          ┆ ---          ┆ ---          ┆ ---          │\n",
      "│ str    ┆ datetime[ns] ┆ duration[ns] ┆ duration[ns] ┆ duration[ns] ┆ duration[ns] ┆ duration[ns] │\n",
      "╞════════╪══════════════╪══════════════╪══════════════╪══════════════╪══════════════╪══════════════╡\n",
      "│ car_0  ┆ 2022-12-31   ┆ 0ns          ┆ 0ns          ┆ null         ┆ 0ns          ┆ 0ns          │\n",
      "│        ┆ 23:55:00     ┆              ┆              ┆              ┆              ┆              │\n",
      "│ car_0  ┆ 2023-01-01   ┆ 35s          ┆ 8s 409243ns  ┆ null         ┆ 2m 17s       ┆ 0ns          │\n",
      "│        ┆ 00:00:00     ┆ 428576514ns  ┆              ┆              ┆ 999892802ns  ┆              │\n",
      "│ car_0  ┆ 2023-01-01   ┆ 1m 25s       ┆ 1m 20s       ┆ null         ┆ 2m 52s       ┆ 8s 24574ns   │\n",
      "│        ┆ 00:05:00     ┆ 250068304ns  ┆ 349491ns     ┆              ┆ 999549662ns  ┆              │\n",
      "│ car_0  ┆ 2023-01-01   ┆ 1m 31s       ┆ 46s          ┆ null         ┆ 5m 39s       ┆ 7s           │\n",
      "│        ┆ 00:15:00     ┆ 72020ns      ┆ 500000335ns  ┆              ┆ 395412ns     ┆ 999879245ns  │\n",
      "│ car_0  ┆ 2023-01-01   ┆ 11m 4s       ┆ 11m 4s       ┆ null         ┆ 11m 4s       ┆ 11m 4s       │\n",
      "│        ┆ 00:25:00     ┆ 999259060ns  ┆ 999259060ns  ┆              ┆ 999259060ns  ┆ 999259060ns  │\n",
      "│ …      ┆ …            ┆ …            ┆ …            ┆ …            ┆ …            ┆ …            │\n",
      "│ car_99 ┆ 2023-01-07   ┆ 44s          ┆ 36s 80409ns  ┆ null         ┆ 2m           ┆ 9s           │\n",
      "│        ┆ 23:35:00     ┆ 999923859ns  ┆              ┆              ┆ 999522413ns  ┆ 999917579ns  │\n",
      "│ car_99 ┆ 2023-01-07   ┆ 44s          ┆ 38s 317008ns ┆ null         ┆ 1m 15s       ┆ 20s          │\n",
      "│        ┆ 23:40:00     ┆ 666848550ns  ┆              ┆              ┆ 852524ns     ┆ 999376120ns  │\n",
      "│ car_99 ┆ 2023-01-07   ┆ 1m 52s       ┆ 2m 4s        ┆ null         ┆ 3m 19s       ┆ 149420ns     │\n",
      "│        ┆ 23:45:00     ┆ 249860831ns  ┆ 999630163ns  ┆              ┆ 33580ns      ┆              │\n",
      "│ car_99 ┆ 2023-01-07   ┆ 5m 26s       ┆ 5m 26s       ┆ null         ┆ 5m 26s       ┆ 5m 26s       │\n",
      "│        ┆ 23:50:00     ┆ 999853331ns  ┆ 999853331ns  ┆              ┆ 999853331ns  ┆ 999853331ns  │\n",
      "│ car_99 ┆ 2023-01-07   ┆ 32s 219397ns ┆ 32s 219397ns ┆ null         ┆ 32s 219397ns ┆ 32s 219397ns │\n",
      "│        ┆ 23:55:00     ┆              ┆              ┆              ┆              ┆              │\n",
      "└────────┴──────────────┴──────────────┴──────────────┴──────────────┴──────────────┴──────────────┘\n"
     ]
    }
   ],
   "source": [
    "# Agrupar por 'car_id' y por intervalos de tiempo en 'timestamp'\n",
    "info_notificacion = data.group_by_dynamic(\n",
    "    group_by=\"car_id\", index_column=\"timestamp\", every=x, period=x, closed=\"both\", include_boundaries=True\n",
    ").agg([\n",
    "    pl.col(\"notification_time\").mean().alias(\"media\"),\n",
    "    pl.col(\"notification_time\").median().alias(\"mediana\"),\n",
    "    pl.col(\"notification_time\").var().alias(\"varianza\"),\n",
    "    pl.col(\"notification_time\").max().alias(\"max\"),\n",
    "    pl.col(\"notification_time\").min().alias(\"min\")\n",
    "])\n",
    "\n",
    "print(info_notificacion.select('car_id', 'timestamp', 'media', 'mediana', 'varianza', 'max', 'min').collect()) ##AQUÍ DEBIO ESTAR BIEN Y ARRIBA NO WTF "
   ]
  },
  {
   "cell_type": "code",
   "execution_count": 73,
   "metadata": {},
   "outputs": [
    {
     "name": "stdout",
     "output_type": "stream",
     "text": [
      "shape: (105_628, 9)\n",
      "┌────────┬────────────┬────────────┬───────────┬───┬───────────┬───────────┬───────────┬───────────┐\n",
      "│ car_id ┆ _lower_bou ┆ _upper_bou ┆ timestamp ┆ … ┆ mediana   ┆ varianza  ┆ max       ┆ min       │\n",
      "│ ---    ┆ ndary      ┆ ndary      ┆ ---       ┆   ┆ ---       ┆ ---       ┆ ---       ┆ ---       │\n",
      "│ str    ┆ ---        ┆ ---        ┆ datetime[ ┆   ┆ f64       ┆ f64       ┆ f64       ┆ f64       │\n",
      "│        ┆ datetime[n ┆ datetime[n ┆ ns]       ┆   ┆           ┆           ┆           ┆           │\n",
      "│        ┆ s]         ┆ s]         ┆           ┆   ┆           ┆           ┆           ┆           │\n",
      "╞════════╪════════════╪════════════╪═══════════╪═══╪═══════════╪═══════════╪═══════════╪═══════════╡\n",
      "│ car_0  ┆ 2023-01-01 ┆ 2023-01-01 ┆ 2023-01-0 ┆ … ┆ 0.0       ┆ 0.0       ┆ 0.0       ┆ 0.0       │\n",
      "│        ┆ 00:05:00   ┆ 00:10:00   ┆ 1         ┆   ┆           ┆           ┆           ┆           │\n",
      "│        ┆            ┆            ┆ 00:05:00  ┆   ┆           ┆           ┆           ┆           │\n",
      "│ car_0  ┆ 2023-01-01 ┆ 2023-01-01 ┆ 2023-01-0 ┆ … ┆ 1537.6289 ┆ null      ┆ 1537.6289 ┆ 1537.6289 │\n",
      "│        ┆ 00:25:00   ┆ 00:30:00   ┆ 1         ┆   ┆ 68        ┆           ┆ 68        ┆ 68        │\n",
      "│        ┆            ┆            ┆ 00:25:00  ┆   ┆           ┆           ┆           ┆           │\n",
      "│ car_0  ┆ 2023-01-01 ┆ 2023-01-01 ┆ 2023-01-0 ┆ … ┆ 0.0       ┆ 147600.96 ┆ 1537.6289 ┆ 0.0       │\n",
      "│        ┆ 00:30:00   ┆ 00:35:00   ┆ 1         ┆   ┆           ┆ 0123      ┆ 68        ┆           │\n",
      "│        ┆            ┆            ┆ 00:30:00  ┆   ┆           ┆           ┆           ┆           │\n",
      "│ car_0  ┆ 2023-01-01 ┆ 2023-01-01 ┆ 2023-01-0 ┆ … ┆ 0.0       ┆ 69036.963 ┆ 864.81237 ┆ 0.0       │\n",
      "│        ┆ 00:35:00   ┆ 00:40:00   ┆ 1         ┆   ┆           ┆ 235       ┆           ┆           │\n",
      "│        ┆            ┆            ┆ 00:35:00  ┆   ┆           ┆           ┆           ┆           │\n",
      "│ car_0  ┆ 2023-01-01 ┆ 2023-01-01 ┆ 2023-01-0 ┆ … ┆ 432.40618 ┆ 373950.21 ┆ 864.81237 ┆ 0.0       │\n",
      "│        ┆ 00:40:00   ┆ 00:45:00   ┆ 1         ┆   ┆ 5         ┆ 7525      ┆           ┆           │\n",
      "│        ┆            ┆            ┆ 00:40:00  ┆   ┆           ┆           ┆           ┆           │\n",
      "│ …      ┆ …          ┆ …          ┆ …         ┆ … ┆ …         ┆ …         ┆ …         ┆ …         │\n",
      "│ car_99 ┆ 2023-01-07 ┆ 2023-01-07 ┆ 2023-01-0 ┆ … ┆ 0.0       ┆ null      ┆ 0.0       ┆ 0.0       │\n",
      "│        ┆ 23:05:00   ┆ 23:10:00   ┆ 7         ┆   ┆           ┆           ┆           ┆           │\n",
      "│        ┆            ┆            ┆ 23:05:00  ┆   ┆           ┆           ┆           ┆           │\n",
      "│ car_99 ┆ 2023-01-07 ┆ 2023-01-07 ┆ 2023-01-0 ┆ … ┆ 0.0       ┆ 0.0       ┆ 0.0       ┆ 0.0       │\n",
      "│        ┆ 23:10:00   ┆ 23:15:00   ┆ 7         ┆   ┆           ┆           ┆           ┆           │\n",
      "│        ┆            ┆            ┆ 23:10:00  ┆   ┆           ┆           ┆           ┆           │\n",
      "│ car_99 ┆ 2023-01-07 ┆ 2023-01-07 ┆ 2023-01-0 ┆ … ┆ 0.0       ┆ null      ┆ 0.0       ┆ 0.0       │\n",
      "│        ┆ 23:15:00   ┆ 23:20:00   ┆ 7         ┆   ┆           ┆           ┆           ┆           │\n",
      "│        ┆            ┆            ┆ 23:15:00  ┆   ┆           ┆           ┆           ┆           │\n",
      "│ car_99 ┆ 2023-01-07 ┆ 2023-01-07 ┆ 2023-01-0 ┆ … ┆ 0.0       ┆ 0.0       ┆ 0.0       ┆ 0.0       │\n",
      "│        ┆ 23:30:00   ┆ 23:35:00   ┆ 7         ┆   ┆           ┆           ┆           ┆           │\n",
      "│        ┆            ┆            ┆ 23:30:00  ┆   ┆           ┆           ┆           ┆           │\n",
      "│ car_99 ┆ 2023-01-07 ┆ 2023-01-07 ┆ 2023-01-0 ┆ … ┆ 0.0       ┆ 0.0       ┆ 0.0       ┆ 0.0       │\n",
      "│        ┆ 23:35:00   ┆ 23:40:00   ┆ 7         ┆   ┆           ┆           ┆           ┆           │\n",
      "│        ┆            ┆            ┆ 23:35:00  ┆   ┆           ┆           ┆           ┆           │\n",
      "└────────┴────────────┴────────────┴───────────┴───┴───────────┴───────────┴───────────┴───────────┘\n"
     ]
    }
   ],
   "source": [
    "\n",
    "def calcular_estadisticas_distancia(data, x):\n",
    "    # Agrupar por 'car_id' y por intervalos de tiempo en 'timestamp'\n",
    "    info_distance = data.group_by_dynamic(\n",
    "        group_by=\"car_id\", index_column=\"timestamp\", every=x, period=x, closed=\"both\", include_boundaries=True\n",
    "    ).agg([\n",
    "        pl.col(\"distance\").mean().alias(\"media\"),\n",
    "        pl.col(\"distance\").median().alias(\"mediana\"),\n",
    "        pl.col(\"distance\").var().alias(\"varianza\"),\n",
    "        pl.col(\"distance\").max().alias(\"max\"),\n",
    "        pl.col(\"distance\").min().alias(\"min\")\n",
    "    ])\n",
    "\n",
    "    return info_distance\n",
    "\n",
    "resultado = calcular_estadisticas_distancia(data_3, \"5m\")\n",
    "\n",
    "print(resultado.collect()) "
   ]
  }
 ],
 "metadata": {
  "kernelspec": {
   "display_name": "itam",
   "language": "python",
   "name": "python3"
  },
  "language_info": {
   "codemirror_mode": {
    "name": "ipython",
    "version": 3
   },
   "file_extension": ".py",
   "mimetype": "text/x-python",
   "name": "python",
   "nbconvert_exporter": "python",
   "pygments_lexer": "ipython3",
   "version": "3.11.9"
  }
 },
 "nbformat": 4,
 "nbformat_minor": 2
}
