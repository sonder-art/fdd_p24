{
 "cells": [
  {
   "cell_type": "code",
   "execution_count": 1,
   "metadata": {},
   "outputs": [],
   "source": [
    "import numpy as np\n",
    "from joblib import Parallel, delayed"
   ]
  },
  {
   "cell_type": "markdown",
   "metadata": {},
   "source": [
    "# For"
   ]
  },
  {
   "cell_type": "code",
   "execution_count": 2,
   "metadata": {},
   "outputs": [
    {
     "name": "stdout",
     "output_type": "stream",
     "text": [
      "49995195.91978855\n"
     ]
    }
   ],
   "source": [
    "# Crear una matriz grande\n",
    "matriz_grande = np.random.rand(10000, 10000)\n",
    "\n",
    "# Inicializar la suma\n",
    "suma = 0\n",
    "\n",
    "# Bucle for para sumar todos los elementos\n",
    "for fila in matriz_grande:\n",
    "    for elemento in fila:\n",
    "        suma += elemento\n",
    "\n",
    "print(suma)\n"
   ]
  },
  {
   "cell_type": "markdown",
   "metadata": {},
   "source": [
    "# Vectorizado"
   ]
  },
  {
   "cell_type": "code",
   "execution_count": 3,
   "metadata": {},
   "outputs": [
    {
     "name": "stdout",
     "output_type": "stream",
     "text": [
      "49999939.76655873\n"
     ]
    }
   ],
   "source": [
    "# Crear una matriz grande\n",
    "matriz_grande = np.random.rand(10000, 10000)\n",
    "\n",
    "# Calcular la suma usando NumPy\n",
    "suma = np.sum(matriz_grande)\n",
    "\n",
    "print(suma)"
   ]
  },
  {
   "cell_type": "markdown",
   "metadata": {},
   "source": [
    "# Paralelizado"
   ]
  },
  {
   "cell_type": "code",
   "execution_count": 4,
   "metadata": {},
   "outputs": [
    {
     "name": "stdout",
     "output_type": "stream",
     "text": [
      "50001780.79464557\n"
     ]
    }
   ],
   "source": [
    "# Crear una matriz grande\n",
    "matriz_grande = np.random.rand(10000, 10000)\n",
    "\n",
    "# Función para sumar una fila\n",
    "def sumar_fila(fila):\n",
    "    return np.sum(fila)\n",
    "\n",
    "# Paralelizar la suma de todas las filas\n",
    "resultados = Parallel(n_jobs=-1)(delayed(sumar_fila)(fila) for fila in matriz_grande)\n",
    "\n",
    "# Sumar los resultados parciales\n",
    "suma_total = np.sum(resultados)\n",
    "\n",
    "print(suma_total)"
   ]
  },
  {
   "cell_type": "code",
   "execution_count": null,
   "metadata": {},
   "outputs": [],
   "source": []
  }
 ],
 "metadata": {
  "kernelspec": {
   "display_name": "fuentes_env",
   "language": "python",
   "name": "python3"
  },
  "language_info": {
   "codemirror_mode": {
    "name": "ipython",
    "version": 3
   },
   "file_extension": ".py",
   "mimetype": "text/x-python",
   "name": "python",
   "nbconvert_exporter": "python",
   "pygments_lexer": "ipython3",
   "version": "3.12.1"
  }
 },
 "nbformat": 4,
 "nbformat_minor": 2
}
